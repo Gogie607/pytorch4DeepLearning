{
 "cells": [
  {
   "cell_type": "markdown",
   "id": "f7859d46-9424-4bb9-b4b2-afd39ee6d68f",
   "metadata": {},
   "source": [
    "<a href=\"https://colab.research.google.com/github/mrdbourke/pytorch-deep-learning/blob/main/00_pytorch_fundamentals.ipynb\" target=\"_parent\"><img src=\"https://colab.research.google.com/assets/colab-badge.svg\" alt=\"Open In Colab\"/></a> \n",
    "\n",
    "[View Source Code](https://github.com/mrdbourke/pytorch-deep-learning/blob/main/00_pytorch_fundamentals.ipynb) | [View Slides](https://github.com/mrdbourke/pytorch-deep-learning/blob/main/slides/00_pytorch_and_deep_learning_fundamentals.pdf) | [Watch Video Walkthrough](https://youtu.be/Z_ikDlimN6A?t=76) "
   ]
  },
  {
   "cell_type": "markdown",
   "id": "3eef5a29-22eb-4a4c-bb2f-91359ae51557",
   "metadata": {},
   "source": [
    "# 00. Pytorch Fundamentals\n",
    "\n",
    "Resource notebook: https://www.learnpytorch.io/00_pytorch_fundamentals/\n",
    "Check out tutorials =https://pytorch.org/tutorials\n",
    "\n",
    "github.com/mrdbourke/pytorch-deep-learning/projects?type=beta\n",
    "\n",
    "Use !nvidia-smi to get gpu info"
   ]
  },
  {
   "cell_type": "code",
   "execution_count": 6,
   "id": "91503ca0-1d0c-4ae9-a343-73cb2d01d220",
   "metadata": {},
   "outputs": [],
   "source": [
    "import torch\n",
    "\n",
    "from torch import nn\n",
    "from torch.utils.data import DataLoader\n",
    "from torchvision import datasets\n",
    "\n",
    "import pandas as pd\n",
    "import numpy as np\n",
    "import matplotlib as mpl\n",
    "import matplotlib.pyplot as plt\n",
    "from torchvision.transforms import ToTensor"
   ]
  },
  {
   "cell_type": "code",
   "execution_count": 7,
   "id": "8bf8e6ae-e997-4b71-b368-d404cdfb6973",
   "metadata": {},
   "outputs": [
    {
     "name": "stdout",
     "output_type": "stream",
     "text": [
      "2.5.0\n",
      "CUDA available: True\n",
      "CUDA version: 12.4\n",
      "NVIDIA GeForce RTX 4070 SUPER\n"
     ]
    }
   ],
   "source": [
    "print (torch.__version__)\n",
    "print(f\"CUDA available: {torch.cuda.is_available()}\")\n",
    "print(f\"CUDA version: {torch.version.cuda}\")\n",
    "print(torch.cuda.get_device_name(0))\n"
   ]
  },
  {
   "cell_type": "code",
   "execution_count": 8,
   "id": "ed398f97-7c44-4fa6-b127-43cd9dde0248",
   "metadata": {},
   "outputs": [
    {
     "name": "stdout",
     "output_type": "stream",
     "text": [
      "Sun Oct 27 13:01:55 2024       \n",
      "+-----------------------------------------------------------------------------------------+\n",
      "| NVIDIA-SMI 565.90                 Driver Version: 565.90         CUDA Version: 12.7     |\n",
      "|-----------------------------------------+------------------------+----------------------+\n",
      "| GPU  Name                  Driver-Model | Bus-Id          Disp.A | Volatile Uncorr. ECC |\n",
      "| Fan  Temp   Perf          Pwr:Usage/Cap |           Memory-Usage | GPU-Util  Compute M. |\n",
      "|                                         |                        |               MIG M. |\n",
      "|=========================================+========================+======================|\n",
      "|   0  NVIDIA GeForce RTX 4070 ...  WDDM  |   00000000:01:00.0  On |                  N/A |\n",
      "|  0%   32C    P8              8W /  220W |     571MiB /  12282MiB |      0%      Default |\n",
      "|                                         |                        |                  N/A |\n",
      "+-----------------------------------------+------------------------+----------------------+\n",
      "                                                                                         \n",
      "+-----------------------------------------------------------------------------------------+\n",
      "| Processes:                                                                              |\n",
      "|  GPU   GI   CI        PID   Type   Process name                              GPU Memory |\n",
      "|        ID   ID                                                               Usage      |\n",
      "|=========================================================================================|\n",
      "|    0   N/A  N/A      2976    C+G   C:\\Windows\\explorer.exe                     N/A      |\n",
      "|    0   N/A  N/A      7292    C+G   ....0_x64__kzh8wxbdkxb8p\\DCv2\\DCv2.exe      N/A      |\n",
      "|    0   N/A  N/A      8180    C+G   ...ekyb3d8bbwe\\PhoneExperienceHost.exe      N/A      |\n",
      "|    0   N/A  N/A      8784    C+G   ...9.0_x64__cv1g1gvanyjgm\\WhatsApp.exe      N/A      |\n",
      "|    0   N/A  N/A      9160    C+G   ....Search_cw5n1h2txyewy\\SearchApp.exe      N/A      |\n",
      "|    0   N/A  N/A     11384    C+G   ....Search_cw5n1h2txyewy\\SearchApp.exe      N/A      |\n",
      "|    0   N/A  N/A     12300    C+G   ...m Files\\JetBrains\\bin\\pycharm64.exe      N/A      |\n",
      "|    0   N/A  N/A     12516    C+G   ...on\\129.0.2792.89\\msedgewebview2.exe      N/A      |\n",
      "|    0   N/A  N/A     13288    C+G   ...crosoft\\Edge\\Application\\msedge.exe      N/A      |\n",
      "|    0   N/A  N/A     13752    C+G   ...siveControlPanel\\SystemSettings.exe      N/A      |\n",
      "|    0   N/A  N/A     14080    C+G   ...t.LockApp_cw5n1h2txyewy\\LockApp.exe      N/A      |\n",
      "|    0   N/A  N/A     14856    C+G   ...ncher\\NVIDIA Omniverse Launcher.exe      N/A      |\n",
      "|    0   N/A  N/A     18588    C+G   ...CBS_cw5n1h2txyewy\\TextInputHost.exe      N/A      |\n",
      "|    0   N/A  N/A     21736    C+G   ...crosoft\\Edge\\Application\\msedge.exe      N/A      |\n",
      "|    0   N/A  N/A     25948    C+G   ...b3d8bbwe\\Microsoft.Media.Player.exe      N/A      |\n",
      "+-----------------------------------------------------------------------------------------+\n"
     ]
    }
   ],
   "source": [
    "!nvidia-smi"
   ]
  },
  {
   "cell_type": "markdown",
   "id": "5fb1e218-dd32-4a94-a307-cc9012b4686e",
   "metadata": {},
   "source": [
    "## Introduction to Tensors\n",
    "'' Creating tensors\n",
    "Pytorch are created using torch.tensor() = https://pytorch.org/docs/stable/tensors.html"
   ]
  },
  {
   "cell_type": "code",
   "execution_count": 9,
   "id": "252f26b1-0b7b-430c-876a-50e5792ac64e",
   "metadata": {},
   "outputs": [
    {
     "data": {
      "text/plain": [
       "tensor(7)"
      ]
     },
     "execution_count": 9,
     "metadata": {},
     "output_type": "execute_result"
    }
   ],
   "source": [
    "# scalar\n",
    "scalar = torch.tensor(7)\n",
    "scalar\n",
    "\n"
   ]
  },
  {
   "cell_type": "code",
   "execution_count": 10,
   "id": "82a484ca-d909-482c-bb73-b3f7d9354e70",
   "metadata": {},
   "outputs": [
    {
     "data": {
      "text/plain": [
       "7"
      ]
     },
     "execution_count": 10,
     "metadata": {},
     "output_type": "execute_result"
    }
   ],
   "source": [
    "scalar.ndim\n",
    "scalar.dtype\n",
    "# get as python int\n",
    "scalar.item()"
   ]
  },
  {
   "cell_type": "code",
   "execution_count": 11,
   "id": "0366ca3b-700c-410b-9c67-ffaf1dfd0356",
   "metadata": {},
   "outputs": [
    {
     "name": "stdout",
     "output_type": "stream",
     "text": [
      "tensor([2, 3])\n"
     ]
    },
    {
     "data": {
      "text/plain": [
       "1"
      ]
     },
     "execution_count": 11,
     "metadata": {},
     "output_type": "execute_result"
    }
   ],
   "source": [
    "#Vector\n",
    "vect = torch.tensor([2,3])\n",
    "print(vect)\n",
    "vect.ndim"
   ]
  },
  {
   "cell_type": "code",
   "execution_count": 12,
   "id": "402f8ca9-5a8c-4d9b-8bf4-28be439fb0f1",
   "metadata": {},
   "outputs": [
    {
     "data": {
      "text/plain": [
       "torch.Size([2])"
      ]
     },
     "execution_count": 12,
     "metadata": {},
     "output_type": "execute_result"
    }
   ],
   "source": [
    "vect.shape  # shape is an attribute, getter .size() is a function"
   ]
  },
  {
   "cell_type": "code",
   "execution_count": 13,
   "id": "d6ce9c64-d62b-4123-bae5-8a6c79a4ce47",
   "metadata": {},
   "outputs": [
    {
     "data": {
      "text/plain": [
       "torch.float32"
      ]
     },
     "execution_count": 13,
     "metadata": {},
     "output_type": "execute_result"
    }
   ],
   "source": [
    "#MATRIX\n",
    "MATRIX=torch.tensor([[1.0,20,],[30.,40.]])\n",
    "MATRIX.dtype"
   ]
  },
  {
   "cell_type": "code",
   "execution_count": 14,
   "id": "a4c33cf3-5ba3-44df-a2c7-a66015fae4cb",
   "metadata": {},
   "outputs": [
    {
     "data": {
      "text/plain": [
       "torch.Size([2, 2])"
      ]
     },
     "execution_count": 14,
     "metadata": {},
     "output_type": "execute_result"
    }
   ],
   "source": [
    "MATRIX\n",
    "MATRIX.shape"
   ]
  },
  {
   "cell_type": "code",
   "execution_count": 15,
   "id": "4419d8f9-0b67-4bc3-9135-7850e0bbfd13",
   "metadata": {},
   "outputs": [
    {
     "data": {
      "text/plain": [
       "2"
      ]
     },
     "execution_count": 15,
     "metadata": {},
     "output_type": "execute_result"
    }
   ],
   "source": [
    "MATRIX.ndim"
   ]
  },
  {
   "cell_type": "markdown",
   "id": "b4e4a50e-b9f1-4f2c-80bb-8a9151d7f2f4",
   "metadata": {},
   "source": [
    "## Chapter 13 time 1.31.35 "
   ]
  },
  {
   "cell_type": "code",
   "execution_count": 16,
   "id": "b84a04c7-8be2-4f3a-98d2-0360dac02f5c",
   "metadata": {},
   "outputs": [
    {
     "name": "stdout",
     "output_type": "stream",
     "text": [
      "tensor([[[1, 2, 3],\n",
      "         [3, 6, 9],\n",
      "         [2, 4, 5]]])\n",
      "3\n",
      "torch.Size([1, 3, 3])\n"
     ]
    }
   ],
   "source": [
    "#TENSOR\n",
    "Tensor = torch.tensor([[\n",
    "    [1,2,3],\n",
    "    [3,6,9],\n",
    "    [2,4,5]]])\n",
    "print(Tensor)\n",
    "print(f\"{Tensor.ndim}\\n{Tensor.shape}\")\n"
   ]
  },
  {
   "cell_type": "code",
   "execution_count": 17,
   "id": "ab5447d6-d6f4-432e-8599-3417157d2935",
   "metadata": {},
   "outputs": [
    {
     "data": {
      "text/plain": [
       "torch.int64"
      ]
     },
     "execution_count": 17,
     "metadata": {},
     "output_type": "execute_result"
    }
   ],
   "source": [
    "Tensor.dtype"
   ]
  },
  {
   "cell_type": "code",
   "execution_count": 18,
   "id": "226d53d2-829c-4141-bd61-725f950c3a09",
   "metadata": {},
   "outputs": [
    {
     "data": {
      "text/plain": [
       "tensor([[1, 2, 3],\n",
       "        [3, 6, 9],\n",
       "        [2, 4, 5]])"
      ]
     },
     "execution_count": 18,
     "metadata": {},
     "output_type": "execute_result"
    }
   ],
   "source": [
    "Tensor[0]"
   ]
  },
  {
   "cell_type": "markdown",
   "id": "d73ae6fc-c807-414b-9f04-53b432b886ad",
   "metadata": {},
   "source": [
    "## Chapter 14  **Random tensors** 1.37.39\n",
    "Why  random tensors?\n",
    "\n",
    "Random tensors are important because, the way most neural networks learn, is that they start with tensors full of random numbers and then adjust those values to better represent the data.\n",
    "`Start with random number -> look at data -> update random numbers  -> look at data -> update random numbers.`\n",
    "\n",
    "\n",
    "**https://pytorch.org/docs/stable/generated/torch.rand.html**"
   ]
  },
  {
   "cell_type": "code",
   "execution_count": 19,
   "id": "70b101ca-029e-4fdd-bcb2-e0d9afd91e2e",
   "metadata": {},
   "outputs": [],
   "source": [
    "# Create arandom tensor of shape/size (3,4)"
   ]
  },
  {
   "cell_type": "code",
   "execution_count": 20,
   "id": "4ffdc77f-f3c2-4aa8-8002-02dd230bb4a6",
   "metadata": {},
   "outputs": [
    {
     "name": "stdout",
     "output_type": "stream",
     "text": [
      "Number of dimensions = 2 \n",
      "tensor([[0.1868, 0.9587, 0.0904, 0.6319],\n",
      "        [0.9205, 0.8649, 0.7430, 0.2185],\n",
      "        [0.9922, 0.4950, 0.4003, 0.1209]])\n"
     ]
    }
   ],
   "source": [
    "random_tensor = torch.rand(3,4)\n",
    "print(f\"Number of dimensions = {random_tensor.ndim} \\n{random_tensor}\")"
   ]
  },
  {
   "cell_type": "code",
   "execution_count": 21,
   "id": "7bb2021a-60b1-4dfe-89ab-6cc1f014cab2",
   "metadata": {
    "scrolled": true
   },
   "outputs": [
    {
     "data": {
      "text/plain": [
       "(torch.Size([224, 224, 3]), 3)"
      ]
     },
     "execution_count": 21,
     "metadata": {},
     "output_type": "execute_result"
    }
   ],
   "source": [
    "# Create a random tensor with similiar shape to an image senser\n",
    "random_image_size_tensor = torch.rand(size=(224,224,3)) #Height, width, color channels\n",
    "random_image_size_tensor.shape, random_image_size_tensor.ndim"
   ]
  },
  {
   "cell_type": "markdown",
   "id": "27e77c88-e7d1-440a-a87a-cb75fae5d2f7",
   "metadata": {},
   "source": [
    "## Chapter 15. Creating tensors with zeros and ones in Pytorch 1.45\n"
   ]
  },
  {
   "cell_type": "markdown",
   "id": "82d580d4-f4c8-4ff3-9675-f722bbc1d66d",
   "metadata": {},
   "source": [
    "#### Zeros and ones"
   ]
  },
  {
   "cell_type": "code",
   "execution_count": 22,
   "id": "5ef09550-6edf-42a3-9e92-8d5d11208d90",
   "metadata": {},
   "outputs": [
    {
     "data": {
      "text/plain": [
       "(tensor([[0., 0., 0., 0.],\n",
       "         [0., 0., 0., 0.],\n",
       "         [0., 0., 0., 0.]]),\n",
       " torch.float32)"
      ]
     },
     "execution_count": 22,
     "metadata": {},
     "output_type": "execute_result"
    }
   ],
   "source": [
    "# all zeros \n",
    "all0s = torch.zeros(3,4)\n",
    "all0s, all0s.dtype"
   ]
  },
  {
   "cell_type": "code",
   "execution_count": 23,
   "id": "419562be-8217-46b3-8246-584818571199",
   "metadata": {},
   "outputs": [
    {
     "data": {
      "text/plain": [
       "(tensor([[1., 1., 1., 1.],\n",
       "         [1., 1., 1., 1.],\n",
       "         [1., 1., 1., 1.]]),\n",
       " torch.float32)"
      ]
     },
     "execution_count": 23,
     "metadata": {},
     "output_type": "execute_result"
    }
   ],
   "source": [
    "# all ones \n",
    "all1s = torch.ones(3,4)\n",
    "all1s, all1s.dtype"
   ]
  },
  {
   "cell_type": "markdown",
   "id": "8eb8a31f-8c1a-497b-bb57-487834361043",
   "metadata": {},
   "source": [
    "### Creating a range of tensors and tensor-like"
   ]
  },
  {
   "cell_type": "code",
   "execution_count": 28,
   "id": "0de0971e-0dd8-491a-85bc-bd5b050445ac",
   "metadata": {},
   "outputs": [
    {
     "data": {
      "text/plain": [
       "(tensor([ 1,  2,  3,  4,  5,  6,  7,  8,  9, 10]),\n",
       " torch.Size([10]),\n",
       " tensor([0.0000, 0.1000, 0.2000, 0.3000, 0.4000, 0.5000, 0.6000, 0.7000, 0.8000,\n",
       "         0.9000]),\n",
       " torch.Size([10]))"
      ]
     },
     "execution_count": 28,
     "metadata": {},
     "output_type": "execute_result"
    }
   ],
   "source": [
    "# Using torch.range\n",
    "#torch.range(0,10) #deprecated\n",
    "ar=torch.arange(1,11)  # arange(start,end) End is excludedLength is end - start\n",
    "ar2=torch.arange(0,1.0, 0.1)  # arange(start,end) End is excludedLength is end - start\n",
    "ar, ar.shape, ar2, ar2.shape"
   ]
  },
  {
   "cell_type": "code",
   "execution_count": 36,
   "id": "12a3beef-0361-41b8-b112-c5f556c516c1",
   "metadata": {},
   "outputs": [
    {
     "data": {
      "text/plain": [
       "(tensor([0, 2, 4, 6, 8]), torch.Size([5]))"
      ]
     },
     "execution_count": 36,
     "metadata": {},
     "output_type": "execute_result"
    }
   ],
   "source": [
    "#named parameters\n",
    "arp=torch.arange(start=0, end=10, step=2)\n",
    "arp, arp.shape"
   ]
  },
  {
   "cell_type": "code",
   "execution_count": 39,
   "id": "2fb19313-f0f2-4984-a55b-1bd5acf72cb0",
   "metadata": {},
   "outputs": [
    {
     "data": {
      "text/plain": [
       "(tensor([0, 0, 0, 0, 0]), torch.Size([5]))"
      ]
     },
     "execution_count": 39,
     "metadata": {},
     "output_type": "execute_result"
    }
   ],
   "source": [
    "# Creating tensors like to create a new tensor with same shape\n",
    "asl0 = torch.zeros_like(arp)\n",
    "asl0, asl0.shape"
   ]
  },
  {
   "cell_type": "markdown",
   "id": "37d410c6-1191-4462-ac52-beff6986ba8b",
   "metadata": {},
   "source": [
    "### Tensor datatypes  short rundown.. \n",
    "see doc if needed= https://pytorch.org/docs/stable/tensors.html\n",
    "\n",
    "Just note that not all math functions work between different datatypes... \n",
    "especially matrix math.  Torch default float is float_32 while numpy is float_64\n",
    "Default int is signed 64 bit\n",
    "Check out complex\n",
    "https://pytorch.org/docs/stable/generated/torch.complex.html"
   ]
  },
  {
   "cell_type": "markdown",
   "id": "a87eaf18-93d0-4b58-a6d7-2ffda93e51a9",
   "metadata": {},
   "source": [
    "### Tensor datatypes\n",
    "**Note:** THe 3 most common errors occuring with datatypes\n",
    "1. Tensors not right datatype\n",
    "2. Tensors not right shape\n",
    "3. Tensors not on the right device (math cannot be done across devices)"
   ]
  },
  {
   "cell_type": "code",
   "execution_count": 45,
   "id": "cefb2d48-9d8a-4dcc-9e38-8ca5d5defe7a",
   "metadata": {},
   "outputs": [
    {
     "data": {
      "text/plain": [
       "tensor(5.2000+3.2000j)"
      ]
     },
     "execution_count": 45,
     "metadata": {},
     "output_type": "execute_result"
    }
   ],
   "source": [
    "# check out complex numbers each part must be a (scalar) tensor\n",
    "# type must half, float or double, both types must be the same\n",
    "comp=torch.complex(real=torch.tensor(5.2), imag=torch.tensor(3.2))\n",
    "comp"
   ]
  },
  {
   "cell_type": "code",
   "execution_count": 55,
   "id": "afdc68fb-a75e-4ef2-95f2-7d354c912795",
   "metadata": {},
   "outputs": [
    {
     "data": {
      "text/plain": [
       "(tensor([3., 6., 9.]), torch.float32, device(type='cpu'))"
      ]
     },
     "execution_count": 55,
     "metadata": {},
     "output_type": "execute_result"
    }
   ],
   "source": [
    "f32_tensor = torch.tensor([3.0,6.0,9.0],\n",
    "                         dtype=None,   # to change type torch.float16 default is 32\n",
    "                         device='cpu', # to change device default is cpu whole bunch allowed\n",
    "                         requires_grad=False) # set true for gradient descent backpropagation\n",
    "f32_tensor, f32_tensor.dtype, f32_tensor.device"
   ]
  },
  {
   "cell_type": "code",
   "execution_count": 63,
   "id": "96c17b29-66e5-4cb2-b90f-c29f3b843983",
   "metadata": {},
   "outputs": [
    {
     "name": "stdout",
     "output_type": "stream",
     "text": [
      "CPU times: total: 0 ns\n",
      "Wall time: 0 ns\n"
     ]
    },
    {
     "data": {
      "text/plain": [
       "(tensor(126.), tensor(126.))"
      ]
     },
     "execution_count": 63,
     "metadata": {},
     "output_type": "execute_result"
    }
   ],
   "source": [
    "%time\n",
    "f32_tensor2 = torch.tensor([3.0,6.0,9.0],\n",
    "                         dtype=None,#torch.float64,   # to change type torch.float16 default is 32\n",
    "                         device='cpu') # to change device default is cpu whole bunch allowed\n",
    "\n",
    "f32_tensor.dot(f32_tensor2),f32_tensor.matmul(f32_tensor2) # same function types must match"
   ]
  },
  {
   "cell_type": "code",
   "execution_count": 65,
   "id": "9ca8c714-6a77-4d79-bea8-e2add7c8db53",
   "metadata": {},
   "outputs": [
    {
     "data": {
      "text/plain": [
       "tensor([[0.2087, 0.3134, 0.2758, 0.0781],\n",
       "        [0.9188, 0.6845, 0.0899, 0.8652],\n",
       "        [0.3959, 0.4991, 0.7455, 0.5616]])"
      ]
     },
     "execution_count": 65,
     "metadata": {},
     "output_type": "execute_result"
    }
   ],
   "source": [
    "# Get tensor details\n",
    "some_tens = torch.rand(3,4)\n",
    "some_tens"
   ]
  },
  {
   "cell_type": "code",
   "execution_count": 68,
   "id": "24297e69-ba40-46ac-b0e6-8915a5d7cd09",
   "metadata": {},
   "outputs": [
    {
     "name": "stdout",
     "output_type": "stream",
     "text": [
      "tensor([[0.2087, 0.3134, 0.2758, 0.0781],\n",
      "        [0.9188, 0.6845, 0.0899, 0.8652],\n",
      "        [0.3959, 0.4991, 0.7455, 0.5616]])\n",
      "Tensor datatype: torch.float32\n",
      "Tensor shape is torch.Size([3, 4])\n",
      "Tensor lives on  cpu\n"
     ]
    }
   ],
   "source": [
    "# get details\n",
    "print(some_tens)\n",
    "print(f\"Tensor datatype: {some_tens.dtype}\")\n",
    "print(f\"Tensor shape is {some_tens.shape}\")\n",
    "print(f\"Tensor lives on {some_tens.device}\")"
   ]
  },
  {
   "cell_type": "markdown",
   "id": "00e5cd5a-66d9-4b4f-8023-7bd8ee3d5478",
   "metadata": {},
   "source": [
    "### Manipulating Tensors (operations) 2.11.51\n",
    "**Note:** Torch has its own built-in funcs  Mul for sure,, check others.\n",
    "Tensor operations include:\n",
    "* Addition (scalar or same shape tensor)\n",
    "* Subtraction\n",
    "* Multiplication (element-wise)  ).mul()\n",
    "* Division\n",
    "* Matrix multiplication (Dot and Cross Products)\n",
    "  "
   ]
  },
  {
   "cell_type": "code",
   "execution_count": 85,
   "id": "9195f57c-0708-46bd-ab69-518c0e92bd59",
   "metadata": {},
   "outputs": [
    {
     "data": {
      "text/plain": [
       "tensor([[11, 12, 13],\n",
       "        [13, 12, 11]])"
      ]
     },
     "execution_count": 85,
     "metadata": {},
     "output_type": "execute_result"
    }
   ],
   "source": [
    "# Addition\n",
    "t =torch.tensor([[1,2,3],[3,2,1]])\n",
    "t+10"
   ]
  },
  {
   "cell_type": "code",
   "execution_count": 86,
   "id": "abd083f2-a65c-4234-ae59-c5f32a55126f",
   "metadata": {},
   "outputs": [
    {
     "data": {
      "text/plain": [
       "tensor([[10, 20, 30],\n",
       "        [30, 20, 10]])"
      ]
     },
     "execution_count": 86,
     "metadata": {},
     "output_type": "execute_result"
    }
   ],
   "source": [
    "t*10"
   ]
  },
  {
   "cell_type": "code",
   "execution_count": 87,
   "id": "4a46f344-3e3b-4e17-ba50-8c72854751a3",
   "metadata": {},
   "outputs": [
    {
     "data": {
      "text/plain": [
       "tensor([[-9, -8, -7],\n",
       "        [-7, -8, -9]])"
      ]
     },
     "execution_count": 87,
     "metadata": {},
     "output_type": "execute_result"
    }
   ],
   "source": [
    "t-10"
   ]
  },
  {
   "cell_type": "code",
   "execution_count": 88,
   "id": "5c93212c-9b4b-4536-a2bf-08fe43f1c19c",
   "metadata": {},
   "outputs": [
    {
     "data": {
      "text/plain": [
       "tensor([[0.1000, 0.2000, 0.3000],\n",
       "        [0.3000, 0.2000, 0.1000]])"
      ]
     },
     "execution_count": 88,
     "metadata": {},
     "output_type": "execute_result"
    }
   ],
   "source": [
    "t/10"
   ]
  },
  {
   "cell_type": "code",
   "execution_count": 92,
   "id": "768fc8ea-d254-4ecc-a5ea-0a4c8fbf4e30",
   "metadata": {},
   "outputs": [
    {
     "name": "stdout",
     "output_type": "stream",
     "text": [
      "t tensor([[1, 2, 3],\n",
      "        [3, 2, 1]])\n",
      "t2 tensor([4, 5, 6])\n",
      "sum tensor([[5, 7, 9],\n",
      "        [7, 7, 7]])\n"
     ]
    }
   ],
   "source": [
    "# multi dimensions but dim 1 must match\n",
    "t2 = torch.tensor([4,5,6])\n",
    "print(f\"t {t}\")\n",
    "print(f\"t2 {t2}\")\n",
    "print(f\"sum {t+t2}\")"
   ]
  },
  {
   "cell_type": "code",
   "execution_count": 93,
   "id": "9eae2531-842c-45ec-9263-08e39fe16783",
   "metadata": {},
   "outputs": [
    {
     "data": {
      "text/plain": [
       "tensor([[3, 3, 3],\n",
       "        [1, 3, 5]])"
      ]
     },
     "execution_count": 93,
     "metadata": {},
     "output_type": "execute_result"
    }
   ],
   "source": [
    "t2-t"
   ]
  },
  {
   "cell_type": "code",
   "execution_count": 94,
   "id": "41e6e41a-0db3-46da-8ff1-d9e5a2c22a91",
   "metadata": {},
   "outputs": [
    {
     "data": {
      "text/plain": [
       "tensor([[ 4, 10, 18],\n",
       "        [12, 10,  6]])"
      ]
     },
     "execution_count": 94,
     "metadata": {},
     "output_type": "execute_result"
    }
   ],
   "source": [
    "t*t2"
   ]
  },
  {
   "cell_type": "code",
   "execution_count": 95,
   "id": "f80bf0c6-2e88-4e30-9be4-5b2c084491b2",
   "metadata": {},
   "outputs": [
    {
     "data": {
      "text/plain": [
       "tensor([[0.2500, 0.4000, 0.5000],\n",
       "        [0.7500, 0.4000, 0.1667]])"
      ]
     },
     "execution_count": 95,
     "metadata": {},
     "output_type": "execute_result"
    }
   ],
   "source": [
    "t/t2"
   ]
  },
  {
   "cell_type": "code",
   "execution_count": 102,
   "id": "18885ac2-0a42-49ae-bf52-c49670e32d01",
   "metadata": {},
   "outputs": [
    {
     "name": "stdout",
     "output_type": "stream",
     "text": [
      "t3 tensor([9, 5, 2]), torch.Size([2, 3])\n",
      "t2 tensor([4, 5, 6])\n",
      "t2 dot t3 = 73\n",
      "t3 dot t2 = 73\n"
     ]
    }
   ],
   "source": [
    "#Dot product produces a scalar only 1D tensors?\n",
    "t3 = torch.tensor([9,5,2])\n",
    "print(f\"t3 {t3}, {t3.shape}\")\n",
    "print(f\"t2 {t2}\")\n",
    "# t[0] * t[0] + t[1] * t[1] +  t[2] * t[2]\n",
    "print(f\"t2 dot t3 = {t2.dot(t3)}\")\n",
    "print(f\"t3 dot t2 = {t3.dot(t2)}\")"
   ]
  },
  {
   "cell_type": "markdown",
   "id": "831b4638-1e0d-4d09-bbff-1fba7db4987c",
   "metadata": {},
   "source": [
    "### Cross product has 2 conditions\n",
    "1. inner dims must match\n",
    "2. result has outter dims"
   ]
  },
  {
   "cell_type": "markdown",
   "id": "78227d97-d804-4b4a-ace5-189e23bc2494",
   "metadata": {},
   "source": [
    "### multiple ways to do cross multiplication\n",
    "A.matmul(B)\n",
    "\n",
    "B.matmul(A)\n",
    "\n",
    "torch.matmul(A,B)\n",
    "\n",
    "A@B\n",
    "\n",
    "torch.mm(A,B)\n",
    "\n",
    "**Remember** cross mult is not cumulative A@B != B@A"
   ]
  },
  {
   "cell_type": "code",
   "execution_count": 109,
   "id": "0d8fe061-5a8e-4d11-b4b0-09e3358ccf33",
   "metadata": {},
   "outputs": [
    {
     "name": "stdout",
     "output_type": "stream",
     "text": [
      "t34d tensor([[0.0452, 0.5018, 0.6996, 0.4808],\n",
      "        [0.8206, 0.4725, 0.7040, 0.5181],\n",
      "        [0.5665, 0.8772, 0.4874, 0.4392]]), torch.Size([3, 4])\n",
      "t34t tensor([[0.0452, 0.8206, 0.5665],\n",
      "        [0.5018, 0.4725, 0.8772],\n",
      "        [0.6996, 0.7040, 0.4874],\n",
      "        [0.4808, 0.5181, 0.4392]]), torch.Size([4, 3])\n"
     ]
    },
    {
     "data": {
      "text/plain": [
       "tensor([[0.9744, 1.0158, 1.0179],\n",
       "        [1.0158, 1.6606, 1.4500],\n",
       "        [1.0179, 1.4500, 1.5208]])"
      ]
     },
     "execution_count": 109,
     "metadata": {},
     "output_type": "execute_result"
    }
   ],
   "source": [
    "# Transpose can help solve shape errors (also squeeze and unsqueeze)\n",
    "t34d = torch.rand(3,4)\n",
    "t34t = t34d.T # transpose swaps dims, turns it on its side\n",
    "print(f\"t34d {t34d}, {t34d.shape}\")\n",
    "print(f\"t34t {t34t}, {t34t.shape}\")\n",
    "t34d.matmul(t34t)"
   ]
  },
  {
   "cell_type": "markdown",
   "id": "035c9cfa-a3e8-4ea5-9c36-2bf5b146ee15",
   "metadata": {},
   "source": [
    "### Check out https://www.mathsisfun.com/\n",
    "\n",
    "and http://matrixmultiplication.xyz/\n",
    "\n",
    "https://www.mathsisfun.com/algebra/matrix-multiplying.html"
   ]
  },
  {
   "cell_type": "markdown",
   "id": "2cc28981-fb9d-4dce-963a-19bca879bddb",
   "metadata": {},
   "source": [
    "## skipping 2:48 to 3:53"
   ]
  },
  {
   "cell_type": "markdown",
   "id": "2ee46879-f82a-4228-9e74-1fa3fec7e751",
   "metadata": {},
   "source": [
    "### Chapter 30 Running tensors on a device (gpu or cuda) 3:53"
   ]
  },
  {
   "cell_type": "markdown",
   "id": "d626fd70-ea8e-40c3-b9ad-826dd8c49cc0",
   "metadata": {},
   "source": [
    "### Device agnostic code"
   ]
  },
  {
   "cell_type": "markdown",
   "id": "efd2297d-2e4e-45b2-8d28-3111da91771a",
   "metadata": {},
   "source": [
    "## 4:20 start new notebook"
   ]
  },
  {
   "cell_type": "markdown",
   "id": "dbac5cc2-cf36-4a13-acef-17577de93c4e",
   "metadata": {},
   "source": [
    "# Using MatPlotLib"
   ]
  },
  {
   "cell_type": "code",
   "execution_count": 17,
   "id": "35a181d1-177d-4c8e-8365-8f71ab1f9f33",
   "metadata": {
    "scrolled": true
   },
   "outputs": [
    {
     "name": "stdout",
     "output_type": "stream",
     "text": [
      "CPU times: total: 0 ns\n",
      "Wall time: 0 ns\n"
     ]
    },
    {
     "data": {
      "image/png": "[encoded data removed]",
      "text/plain": [
       "<Figure size 640x480 with 1 Axes>"
      ]
     },
     "metadata": {},
     "output_type": "display_data"
    }
   ],
   "source": [
    "%matplotlib inline\n",
    "\n",
    "%time\n",
    "import matplotlib.pyplot as plt\n",
    "import numpy as np\n",
    "\n",
    "x = np.linspace(0, 10, 100)\n",
    "y = np.sin(x)\n",
    "\n",
    "plt.plot(x, y)\n",
    "plt.show()"
   ]
  },
  {
   "cell_type": "code",
   "execution_count": null,
   "id": "89433988-1fef-485f-9be5-72c01c0ea96f",
   "metadata": {},
   "outputs": [],
   "source": []
  },
  {
   "cell_type": "code",
   "execution_count": null,
   "id": "3184611d-9f83-4f4a-8c48-2bdba10a7b27",
   "metadata": {},
   "outputs": [],
   "source": []
  }
 ],
 "metadata": {
  "kernelspec": {
   "display_name": "Python 3 (ipykernel)",
   "language": "python",
   "name": "python3"
  },
  "language_info": {
   "codemirror_mode": {
    "name": "ipython",
    "version": 3
   },
   "file_extension": ".py",
   "mimetype": "text/x-python",
   "name": "python",
   "nbconvert_exporter": "python",
   "pygments_lexer": "ipython3",
   "version": "3.12.3"
  }
 },
 "nbformat": 4,
 "nbformat_minor": 5
}
