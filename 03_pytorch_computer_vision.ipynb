{
 "cells": [
  {
   "cell_type": "markdown",
   "id": "96639262-d97e-42c8-9ade-f9e54f6a5661",
   "metadata": {},
   "source": [
    "<a href=\"https://colab.research.google.com/github/mrdbourke/pytorch-deep-learning/blob/main/03_pytorch_computer_vision.ipynb\" target=\"_parent\"><img src=\"https://colab.research.google.com/assets/colab-badge.svg\" alt=\"Open In Colab\"/></a>\n",
    "\n",
    "[View Source Code](https://github.com/mrdbourke/pytorch-deep-learning/blob/main/03_pytorch_computer_vision.ipynb) | [View Slides](https://github.com/mrdbourke/pytorch-deep-learning/blob/main/slides/03_pytorch_computer_vision.pdf) | [Watch Video Walkthrough (Chapter 92)](https://youtu.be/V_xro1bcAuA&t=50445) "
   ]
  },
  {
   "cell_type": "markdown",
   "id": "8a5400eb-653b-46f1-88a6-079b01c4fb7d",
   "metadata": {},
   "source": [
    "# 03. PyTorch Computer Vision\n",
    "\n",
    "[Computer vision](https://en.wikipedia.org/wiki/Computer_vision) is the art of teaching a computer to see.\n",
    "\n",
    "Specifically, we're going to cover:\n",
    "\n",
    "| **Topic** | **Contents** |\n",
    "| ----- | ----- |\n",
    "| **0. Computer vision libraries in PyTorch** | PyTorch has a bunch of built-in helpful computer vision libraries, let's check them out.  |\n",
    "| **1. Load data** | To practice computer vision, we'll start with some images of different pieces of clothing from [FashionMNIST](https://github.com/zalandoresearch/fashion-mnist). |\n",
    "| **2. Prepare data** | We've got some images, let's load them in with a [PyTorch `DataLoader`](https://pytorch.org/docs/stable/data.html) so we can use them with our training loop. |\n",
    "| **3. Model 0: Building a baseline model** | Here we'll create a multi-class classification model to learn patterns in the data, we'll also choose a **loss function**, **optimizer** and build a **training loop**. | \n",
    "| **4. Making predictions and evaluating model 0** | Let's make some predictions with our baseline model and evaluate them. |\n",
    "| **5. Setup device agnostic code for future models** | It's best practice to write device-agnostic code, so let's set it up. |\n",
    "| **6. Model 1: Adding non-linearity** | Experimenting is a large part of machine learning, let's try and improve upon our baseline model by adding non-linear layers. |\n",
    "| **7. Model 2: Convolutional Neural Network (CNN)** | Time to get computer vision specific and introduce the powerful convolutional neural network architecture. |\n",
    "| **8. Comparing our models** | We've built three different models, let's compare them. |\n",
    "| **9. Evaluating our best model** | Let's make some predictions on random images and evaluate our best model. |\n",
    "| **10. Making a confusion matrix** | A confusion matrix is a great way to evaluate a classification model, let's see how we can make one. |\n",
    "| **11. Saving and loading the best performing model** | Since we might want to use our model for later, let's save it and make sure it loads back in correctly. |"
   ]
  },
  {
   "cell_type": "code",
   "execution_count": 1,
   "id": "ae4f7a61-89c4-41ec-9923-7760f2415d7a",
   "metadata": {},
   "outputs": [],
   "source": [
    "\n",
    "from IPython.display import clear_output\n",
    "import torch\n",
    "# example  of timestamp used in youtube\n",
    "#chapter 61 at 8:41:43  hour + 3600 *(min/60) + sec\n",
    "# the video ID I am watching is https://youtu.be/V_xro1bcAuA&t=timestamp\n",
    "def get_timestamp(h:torch.int,m:torch.int,s:torch.int):\n",
    "    return(3600 * h + (60*m) + s)\n",
    "#(8. + (41/60)) * 3600 + 43\n"
   ]
  },
  {
   "cell_type": "markdown",
   "id": "23ff1e7c-b060-4092-b112-71c6b03f7ea3",
   "metadata": {},
   "source": [
    "## 0. Computer vision libraries in PyTorch\n",
    "\n",
    "Before we get started writing code, let's talk about some PyTorch computer vision libraries you should be aware of.\n",
    "\n",
    "| PyTorch module | What does it do? |\n",
    "| ----- | ----- |\n",
    "| [`torchvision`](https://pytorch.org/vision/stable/index.html) | Contains datasets, model architectures and image transformations often used for computer vision problems. |\n",
    "| [`torchvision.datasets`](https://pytorch.org/vision/stable/datasets.html) | Here you'll find many example computer vision datasets for a range of problems from image classification, object detection, image captioning, video classification and more. It also contains [a series of base classes for making custom datasets](https://pytorch.org/vision/stable/datasets.html#base-classes-for-custom-datasets). |\n",
    "| [`torchvision.models`](https://pytorch.org/vision/stable/models.html) | This module contains well-performing and commonly used computer vision model architectures implemented in PyTorch, you can use these with your own problems. | \n",
    "| [`torchvision.transforms`](https://pytorch.org/vision/stable/transforms.html) | Often images need to be transformed (turned into numbers/processed/augmented) before being used with a model, common image transformations are found here. | \n",
    "| [`torch.utils.data.Dataset`](https://pytorch.org/docs/stable/data.html#torch.utils.data.Dataset) | Base dataset class for PyTorch.  | \n",
    "| [`torch.utils.data.DataLoader`](https://pytorch.org/docs/stable/data.html#module-torch.utils.data) | Creates a Python iterable over a dataset (created with `torch.utils.data.Dataset`). |\n",
    "\n",
    "> **Note:** The `torch.utils.data.Dataset` and `torch.utils.data.DataLoader` classes aren't only for computer vision in PyTorch, they are capable of dealing with many different types of data.\n",
    "\n",
    "Now we've covered some of the most important PyTorch computer vision libraries, let's import the relevant dependencies.\n"
   ]
  },
  {
   "cell_type": "code",
   "execution_count": 2,
   "id": "bd73bf1f-f03c-4705-aae6-3362914ea3d5",
   "metadata": {},
   "outputs": [
    {
     "name": "stdout",
     "output_type": "stream",
     "text": [
      "PyTorch version: 2.5.0\n",
      "torchvision version: 0.20.0\n",
      "Cuda version: 12.4\n",
      "Is Cuda available: True\n",
      "Cuda device name: NVIDIA GeForce RTX 4070 SUPER\n"
     ]
    }
   ],
   "source": [
    "#import the basic libraries we use\n",
    "import torch\n",
    "from torch import nn\n",
    "\n",
    "# new torchvision stuff\n",
    "import torchvision\n",
    "from torchvision import datasets, models\n",
    "from torchvision import transforms\n",
    "from torchvision.transforms import ToTensor\n",
    "\n",
    "# matplotlib for visualization\n",
    "import matplotlib.pyplot as plt\n",
    "\n",
    "# Check versions\n",
    "# Note: your PyTorch version shouldn't be lower than 1.10.0 and torchvision version shouldn't be lower than 0.11\n",
    "print(f\"PyTorch version: {torch.__version__}\\ntorchvision version: {torchvision.__version__}\")\n",
    "print(f\"Cuda version: {torch.version.cuda}\")\n",
    "print(f\"Is Cuda available: {torch.cuda.is_available()}\")\n",
    "print(f\"Cuda device name: {torch.cuda.get_device_name(0)}\")"
   ]
  },
  {
   "cell_type": "markdown",
   "id": "5b09c675-8ae8-42af-8967-86cabf668521",
   "metadata": {},
   "source": [
    " **Chapter 93** 14,12.04 51159  94 (14,22,48)  95 (14,27,50) \n",
    " [Chapter 96)](https://youtu.be/V_xro1bcAuA&t=52630)\n"
   ]
  },
  {
   "cell_type": "markdown",
   "id": "0a67d350-0e0f-403b-8174-c71b22a5fd34",
   "metadata": {},
   "source": [
    "## 1. Getting a dataset  \n",
    "To begin working on a computer vision problewm, let's get a dataset.\n",
    "\n",
    "We're going to start with [FashionMNIST](https://pytorch.org/vision/stable/generated/torchvision.datasets.FashionMNIST.html#torchvision.datasets.FashionMNIST)...\n",
    "\n",
    "Later, we'll be building a computer vision neural network to identify the different styles of clothing in these images.\r\n",
    "\r\n",
    "PyTorch has a bunch of common computer vision datasets stored in torchvision.datasets.\r\n",
    "\r\n",
    "Including FashionMNIST in torchvision.datasets.FashionMNIST().\r\n",
    "\r\n",
    "To download it, we provide the following parameters:\r\n",
    "\r\n",
    "root: str - which folder do you want to download the data to?\r\n",
    "train: Bool - do you want the training or test split?\r\n",
    "download: Bool - should the data be downloaded?\r\n",
    "transform: torchvision.transforms - what transformations would you like to do on the data?\r\n",
    "target_transform - you can transform the targets (labels) if you like too.\r\n",
    "Many other datasets in torchvision have these parameter options."
   ]
  },
  {
   "cell_type": "code",
   "execution_count": 3,
   "id": "feb14381-8b86-43a9-8d9c-9f27ce0f69a6",
   "metadata": {},
   "outputs": [],
   "source": [
    "# setup training data\n",
    "from torchvision import datasets\n",
    "train_data = datasets.FashionMNIST(\n",
    "    root='data', #where to put data\n",
    "    train=True,\n",
    "    download=True,\n",
    "    transform=torchvision.transforms.ToTensor(),\n",
    "    target_transform=None\n",
    ")\n",
    "\n",
    "test_data = datasets.FashionMNIST(\n",
    "    root='data',\n",
    "    train=False,\n",
    "    download=True,\n",
    "    transform=torchvision.transforms.ToTensor(),\n",
    "    target_transform=None\n",
    ")\n"
   ]
  },
  {
   "cell_type": "code",
   "execution_count": 4,
   "id": "8b8845ec-9864-4f2d-93eb-0413fa211b2b",
   "metadata": {},
   "outputs": [
    {
     "data": {
      "text/plain": [
       "(60000, 10000)"
      ]
     },
     "execution_count": 4,
     "metadata": {},
     "output_type": "execute_result"
    }
   ],
   "source": [
    "len(train_data), len(test_data                 )"
   ]
  },
  {
   "cell_type": "code",
   "execution_count": 5,
   "id": "e95bcb8f-d696-4cc7-b7d0-dc1dbea774d4",
   "metadata": {},
   "outputs": [
    {
     "data": {
      "text/plain": [
       "(tensor([[[0.0000, 0.0000, 0.0000, 0.0000, 0.0000, 0.0000, 0.0000, 0.0000,\n",
       "           0.0000, 0.0000, 0.0000, 0.0000, 0.0000, 0.0000, 0.0000, 0.0000,\n",
       "           0.0000, 0.0000, 0.0000, 0.0000, 0.0000, 0.0000, 0.0000, 0.0000,\n",
       "           0.0000, 0.0000, 0.0000, 0.0000],\n",
       "          [0.0000, 0.0000, 0.0000, 0.0000, 0.0000, 0.0000, 0.0000, 0.0000,\n",
       "           0.0000, 0.0000, 0.0000, 0.0000, 0.0000, 0.0000, 0.0000, 0.0000,\n",
       "           0.0000, 0.0000, 0.0000, 0.0000, 0.0000, 0.0000, 0.0000, 0.0000,\n",
       "           0.0000, 0.0000, 0.0000, 0.0000],\n",
       "          [0.0000, 0.0000, 0.0000, 0.0000, 0.0000, 0.0000, 0.0000, 0.0000,\n",
       "           0.0000, 0.0000, 0.0000, 0.0000, 0.0000, 0.0000, 0.0000, 0.0000,\n",
       "           0.0000, 0.0000, 0.0000, 0.0000, 0.0000, 0.0000, 0.0000, 0.0000,\n",
       "           0.0000, 0.0000, 0.0000, 0.0000],\n",
       "          [0.0000, 0.0000, 0.0000, 0.0000, 0.0000, 0.0000, 0.0000, 0.0000,\n",
       "           0.0000, 0.0000, 0.0000, 0.0000, 0.0039, 0.0000, 0.0000, 0.0510,\n",
       "           0.2863, 0.0000, 0.0000, 0.0039, 0.0157, 0.0000, 0.0000, 0.0000,\n",
       "           0.0000, 0.0039, 0.0039, 0.0000],\n",
       "          [0.0000, 0.0000, 0.0000, 0.0000, 0.0000, 0.0000, 0.0000, 0.0000,\n",
       "           0.0000, 0.0000, 0.0000, 0.0000, 0.0118, 0.0000, 0.1412, 0.5333,\n",
       "           0.4980, 0.2431, 0.2118, 0.0000, 0.0000, 0.0000, 0.0039, 0.0118,\n",
       "           0.0157, 0.0000, 0.0000, 0.0118],\n",
       "          [0.0000, 0.0000, 0.0000, 0.0000, 0.0000, 0.0000, 0.0000, 0.0000,\n",
       "           0.0000, 0.0000, 0.0000, 0.0000, 0.0235, 0.0000, 0.4000, 0.8000,\n",
       "           0.6902, 0.5255, 0.5647, 0.4824, 0.0902, 0.0000, 0.0000, 0.0000,\n",
       "           0.0000, 0.0471, 0.0392, 0.0000],\n",
       "          [0.0000, 0.0000, 0.0000, 0.0000, 0.0000, 0.0000, 0.0000, 0.0000,\n",
       "           0.0000, 0.0000, 0.0000, 0.0000, 0.0000, 0.0000, 0.6078, 0.9255,\n",
       "           0.8118, 0.6980, 0.4196, 0.6118, 0.6314, 0.4275, 0.2510, 0.0902,\n",
       "           0.3020, 0.5098, 0.2824, 0.0588],\n",
       "          [0.0000, 0.0000, 0.0000, 0.0000, 0.0000, 0.0000, 0.0000, 0.0000,\n",
       "           0.0000, 0.0000, 0.0000, 0.0039, 0.0000, 0.2706, 0.8118, 0.8745,\n",
       "           0.8549, 0.8471, 0.8471, 0.6392, 0.4980, 0.4745, 0.4784, 0.5725,\n",
       "           0.5529, 0.3451, 0.6745, 0.2588],\n",
       "          [0.0000, 0.0000, 0.0000, 0.0000, 0.0000, 0.0000, 0.0000, 0.0000,\n",
       "           0.0000, 0.0039, 0.0039, 0.0039, 0.0000, 0.7843, 0.9098, 0.9098,\n",
       "           0.9137, 0.8980, 0.8745, 0.8745, 0.8431, 0.8353, 0.6431, 0.4980,\n",
       "           0.4824, 0.7686, 0.8980, 0.0000],\n",
       "          [0.0000, 0.0000, 0.0000, 0.0000, 0.0000, 0.0000, 0.0000, 0.0000,\n",
       "           0.0000, 0.0000, 0.0000, 0.0000, 0.0000, 0.7176, 0.8824, 0.8471,\n",
       "           0.8745, 0.8941, 0.9216, 0.8902, 0.8784, 0.8706, 0.8784, 0.8667,\n",
       "           0.8745, 0.9608, 0.6784, 0.0000],\n",
       "          [0.0000, 0.0000, 0.0000, 0.0000, 0.0000, 0.0000, 0.0000, 0.0000,\n",
       "           0.0000, 0.0000, 0.0000, 0.0000, 0.0000, 0.7569, 0.8941, 0.8549,\n",
       "           0.8353, 0.7765, 0.7059, 0.8314, 0.8235, 0.8275, 0.8353, 0.8745,\n",
       "           0.8627, 0.9529, 0.7922, 0.0000],\n",
       "          [0.0000, 0.0000, 0.0000, 0.0000, 0.0000, 0.0000, 0.0000, 0.0000,\n",
       "           0.0000, 0.0039, 0.0118, 0.0000, 0.0471, 0.8588, 0.8627, 0.8314,\n",
       "           0.8549, 0.7529, 0.6627, 0.8902, 0.8157, 0.8549, 0.8784, 0.8314,\n",
       "           0.8863, 0.7725, 0.8196, 0.2039],\n",
       "          [0.0000, 0.0000, 0.0000, 0.0000, 0.0000, 0.0000, 0.0000, 0.0000,\n",
       "           0.0000, 0.0000, 0.0235, 0.0000, 0.3882, 0.9569, 0.8706, 0.8627,\n",
       "           0.8549, 0.7961, 0.7765, 0.8667, 0.8431, 0.8353, 0.8706, 0.8627,\n",
       "           0.9608, 0.4667, 0.6549, 0.2196],\n",
       "          [0.0000, 0.0000, 0.0000, 0.0000, 0.0000, 0.0000, 0.0000, 0.0000,\n",
       "           0.0000, 0.0157, 0.0000, 0.0000, 0.2157, 0.9255, 0.8941, 0.9020,\n",
       "           0.8941, 0.9412, 0.9098, 0.8353, 0.8549, 0.8745, 0.9176, 0.8510,\n",
       "           0.8510, 0.8196, 0.3608, 0.0000],\n",
       "          [0.0000, 0.0000, 0.0039, 0.0157, 0.0235, 0.0275, 0.0078, 0.0000,\n",
       "           0.0000, 0.0000, 0.0000, 0.0000, 0.9294, 0.8863, 0.8510, 0.8745,\n",
       "           0.8706, 0.8588, 0.8706, 0.8667, 0.8471, 0.8745, 0.8980, 0.8431,\n",
       "           0.8549, 1.0000, 0.3020, 0.0000],\n",
       "          [0.0000, 0.0118, 0.0000, 0.0000, 0.0000, 0.0000, 0.0000, 0.0000,\n",
       "           0.0000, 0.2431, 0.5686, 0.8000, 0.8941, 0.8118, 0.8353, 0.8667,\n",
       "           0.8549, 0.8157, 0.8275, 0.8549, 0.8784, 0.8745, 0.8588, 0.8431,\n",
       "           0.8784, 0.9569, 0.6235, 0.0000],\n",
       "          [0.0000, 0.0000, 0.0000, 0.0000, 0.0706, 0.1725, 0.3216, 0.4196,\n",
       "           0.7412, 0.8941, 0.8627, 0.8706, 0.8510, 0.8863, 0.7843, 0.8039,\n",
       "           0.8275, 0.9020, 0.8784, 0.9176, 0.6902, 0.7373, 0.9804, 0.9725,\n",
       "           0.9137, 0.9333, 0.8431, 0.0000],\n",
       "          [0.0000, 0.2235, 0.7333, 0.8157, 0.8784, 0.8667, 0.8784, 0.8157,\n",
       "           0.8000, 0.8392, 0.8157, 0.8196, 0.7843, 0.6235, 0.9608, 0.7569,\n",
       "           0.8078, 0.8745, 1.0000, 1.0000, 0.8667, 0.9176, 0.8667, 0.8275,\n",
       "           0.8627, 0.9098, 0.9647, 0.0000],\n",
       "          [0.0118, 0.7922, 0.8941, 0.8784, 0.8667, 0.8275, 0.8275, 0.8392,\n",
       "           0.8039, 0.8039, 0.8039, 0.8627, 0.9412, 0.3137, 0.5882, 1.0000,\n",
       "           0.8980, 0.8667, 0.7373, 0.6039, 0.7490, 0.8235, 0.8000, 0.8196,\n",
       "           0.8706, 0.8941, 0.8824, 0.0000],\n",
       "          [0.3843, 0.9137, 0.7765, 0.8235, 0.8706, 0.8980, 0.8980, 0.9176,\n",
       "           0.9765, 0.8627, 0.7608, 0.8431, 0.8510, 0.9451, 0.2549, 0.2863,\n",
       "           0.4157, 0.4588, 0.6588, 0.8588, 0.8667, 0.8431, 0.8510, 0.8745,\n",
       "           0.8745, 0.8784, 0.8980, 0.1137],\n",
       "          [0.2941, 0.8000, 0.8314, 0.8000, 0.7569, 0.8039, 0.8275, 0.8824,\n",
       "           0.8471, 0.7255, 0.7725, 0.8078, 0.7765, 0.8353, 0.9412, 0.7647,\n",
       "           0.8902, 0.9608, 0.9373, 0.8745, 0.8549, 0.8314, 0.8196, 0.8706,\n",
       "           0.8627, 0.8667, 0.9020, 0.2627],\n",
       "          [0.1882, 0.7961, 0.7176, 0.7608, 0.8353, 0.7725, 0.7255, 0.7451,\n",
       "           0.7608, 0.7529, 0.7922, 0.8392, 0.8588, 0.8667, 0.8627, 0.9255,\n",
       "           0.8824, 0.8471, 0.7804, 0.8078, 0.7294, 0.7098, 0.6941, 0.6745,\n",
       "           0.7098, 0.8039, 0.8078, 0.4510],\n",
       "          [0.0000, 0.4784, 0.8588, 0.7569, 0.7020, 0.6706, 0.7176, 0.7686,\n",
       "           0.8000, 0.8235, 0.8353, 0.8118, 0.8275, 0.8235, 0.7843, 0.7686,\n",
       "           0.7608, 0.7490, 0.7647, 0.7490, 0.7765, 0.7529, 0.6902, 0.6118,\n",
       "           0.6549, 0.6941, 0.8235, 0.3608],\n",
       "          [0.0000, 0.0000, 0.2902, 0.7412, 0.8314, 0.7490, 0.6863, 0.6745,\n",
       "           0.6863, 0.7098, 0.7255, 0.7373, 0.7412, 0.7373, 0.7569, 0.7765,\n",
       "           0.8000, 0.8196, 0.8235, 0.8235, 0.8275, 0.7373, 0.7373, 0.7608,\n",
       "           0.7529, 0.8471, 0.6667, 0.0000],\n",
       "          [0.0078, 0.0000, 0.0000, 0.0000, 0.2588, 0.7843, 0.8706, 0.9294,\n",
       "           0.9373, 0.9490, 0.9647, 0.9529, 0.9569, 0.8667, 0.8627, 0.7569,\n",
       "           0.7490, 0.7020, 0.7137, 0.7137, 0.7098, 0.6902, 0.6510, 0.6588,\n",
       "           0.3882, 0.2275, 0.0000, 0.0000],\n",
       "          [0.0000, 0.0000, 0.0000, 0.0000, 0.0000, 0.0000, 0.0000, 0.1569,\n",
       "           0.2392, 0.1725, 0.2824, 0.1608, 0.1373, 0.0000, 0.0000, 0.0000,\n",
       "           0.0000, 0.0000, 0.0000, 0.0000, 0.0000, 0.0000, 0.0000, 0.0000,\n",
       "           0.0000, 0.0000, 0.0000, 0.0000],\n",
       "          [0.0000, 0.0000, 0.0000, 0.0000, 0.0000, 0.0000, 0.0000, 0.0000,\n",
       "           0.0000, 0.0000, 0.0000, 0.0000, 0.0000, 0.0000, 0.0000, 0.0000,\n",
       "           0.0000, 0.0000, 0.0000, 0.0000, 0.0000, 0.0000, 0.0000, 0.0000,\n",
       "           0.0000, 0.0000, 0.0000, 0.0000],\n",
       "          [0.0000, 0.0000, 0.0000, 0.0000, 0.0000, 0.0000, 0.0000, 0.0000,\n",
       "           0.0000, 0.0000, 0.0000, 0.0000, 0.0000, 0.0000, 0.0000, 0.0000,\n",
       "           0.0000, 0.0000, 0.0000, 0.0000, 0.0000, 0.0000, 0.0000, 0.0000,\n",
       "           0.0000, 0.0000, 0.0000, 0.0000]]]),\n",
       " 9)"
      ]
     },
     "execution_count": 5,
     "metadata": {},
     "output_type": "execute_result"
    }
   ],
   "source": [
    "image,label = train_data[0]\n",
    "image[:1],label"
   ]
  },
  {
   "cell_type": "code",
   "execution_count": 6,
   "id": "f4f6fa8f-b92b-45d7-9eba-cd2eaee2ebbc",
   "metadata": {},
   "outputs": [
    {
     "data": {
      "text/plain": [
       "['T-shirt/top',\n",
       " 'Trouser',\n",
       " 'Pullover',\n",
       " 'Dress',\n",
       " 'Coat',\n",
       " 'Sandal',\n",
       " 'Shirt',\n",
       " 'Sneaker',\n",
       " 'Bag',\n",
       " 'Ankle boot']"
      ]
     },
     "execution_count": 6,
     "metadata": {},
     "output_type": "execute_result"
    }
   ],
   "source": [
    "class_names = train_data.classes\n",
    "class_names"
   ]
  },
  {
   "cell_type": "code",
   "execution_count": 7,
   "id": "a6da2c8e-3049-4a8e-a353-bb8ac0b7e177",
   "metadata": {},
   "outputs": [
    {
     "data": {
      "text/plain": [
       "{'T-shirt/top': 0,\n",
       " 'Trouser': 1,\n",
       " 'Pullover': 2,\n",
       " 'Dress': 3,\n",
       " 'Coat': 4,\n",
       " 'Sandal': 5,\n",
       " 'Shirt': 6,\n",
       " 'Sneaker': 7,\n",
       " 'Bag': 8,\n",
       " 'Ankle boot': 9}"
      ]
     },
     "execution_count": 7,
     "metadata": {},
     "output_type": "execute_result"
    }
   ],
   "source": [
    "class_to_idx = train_data.class_to_idx\n",
    "class_to_idx"
   ]
  },
  {
   "cell_type": "code",
   "execution_count": 8,
   "id": "2dbf6a0c-d1b9-43ba-bd53-bef80dc061be",
   "metadata": {},
   "outputs": [
    {
     "name": "stdout",
     "output_type": "stream",
     "text": [
      "image.shape torch.Size([1, 28, 28]) ->[color_channel, height, width]\n",
      "Label: Ankle boot\n"
     ]
    }
   ],
   "source": [
    "print(f\"image.shape {image.shape} ->[color_channel, height, width]\")\n",
    "print(f\"Label: {class_names[label]}\")"
   ]
  },
  {
   "cell_type": "markdown",
   "id": "39350f0c-b469-4b5e-9409-9c10660e3599",
   "metadata": {},
   "source": [
    "### 1.2 Visualizing our data | [Chapter 97](https://youtu.be/V_xro1bcAuA&t=53502)\n",
    "\n",
    "Plot image as an image"
   ]
  },
  {
   "cell_type": "code",
   "execution_count": 9,
   "id": "3b3d0108-6e23-4c82-938d-ed58e9310709",
   "metadata": {},
   "outputs": [
    {
     "name": "stdout",
     "output_type": "stream",
     "text": [
      "image shape: torch.Size([1, 28, 28])\n"
     ]
    },
    {
     "data": {
      "text/plain": [
       "Text(0.5, 1.0, 'Ankle boot')"
      ]
     },
     "execution_count": 9,
     "metadata": {},
     "output_type": "execute_result"
    },
    {
     "data": {
      "image/png": "[encoded data removed]",
      "text/plain": [
       "<Figure size 640x480 with 1 Axes>"
      ]
     },
     "metadata": {},
     "output_type": "display_data"
    }
   ],
   "source": [
    "import matplotlib.pyplot as plt\n",
    "image, label = train_data[0]\n",
    "print(f\"image shape: {image.shape}\")\n",
    "plt.imshow(image.squeeze())\n",
    "plt.title(class_names[label])"
   ]
  },
  {
   "cell_type": "code",
   "execution_count": 10,
   "id": "9d6c9780-09c0-4b78-936c-189e8b4c449c",
   "metadata": {},
   "outputs": [
    {
     "data": {
      "text/plain": [
       "(-0.5, 27.5, 27.5, -0.5)"
      ]
     },
     "execution_count": 10,
     "metadata": {},
     "output_type": "execute_result"
    },
    {
     "data": {
      "image/png": "[encoded data removed]",
      "text/plain": [
       "<Figure size 640x480 with 1 Axes>"
      ]
     },
     "metadata": {},
     "output_type": "display_data"
    }
   ],
   "source": [
    "plt.imshow(image.squeeze(), cmap=\"gray\")\n",
    "plt.title(class_names[label])\n",
    "plt.axis(False)"
   ]
  },
  {
   "cell_type": "code",
   "execution_count": 11,
   "id": "394ca12d-c05b-4629-a032-afc47aa3283e",
   "metadata": {},
   "outputs": [
    {
     "data": {
      "image/png": "[encoded data removed]",
      "text/plain": [
       "<Figure size 900x900 with 16 Axes>"
      ]
     },
     "metadata": {},
     "output_type": "display_data"
    }
   ],
   "source": [
    "# plot more images\n",
    "#torch.manual_seed(42)\n",
    "fig = plt.figure(figsize=(9,9))\n",
    "rows, cols = 4,4\n",
    "for i in range(1, rows*cols +1):\n",
    "    random_idx = torch.randint(0,len(train_data), size=[1]).item()\n",
    "    img,label = train_data[random_idx]\n",
    "    fig.add_subplot(rows,cols,i)\n",
    "    plt.imshow(img.squeeze(),cmap=\"gray\")\n",
    "    plt.title(class_names[label])\n",
    "    plt.axis(False)"
   ]
  },
  {
   "cell_type": "markdown",
   "id": "6dfc7dbe-acbc-4a71-9a92-2960f124fe65",
   "metadata": {},
   "source": [
    "## 2. Dataloader overview and understanding mini batches \n",
    "[Chapter 98](https://youtu.be/V_xro1bcAuA&t=54094)\n",
    "\n",
    "Prepare dataloader\n",
    "\n",
    "Right now our data is in the form of a pytorch dataset.\n",
    "Specifically we want to turn our data into batches (or mini-batches).\n",
    "We have a relatively small train dataset but in case we split it into batches for example 32 images at a time. Doing so allows the network to update gradients multiple times per epoch.\n",
    "\n",
    "The other reason is efficiency and memory  available."
   ]
  },
  {
   "cell_type": "code",
   "execution_count": 12,
   "id": "ea9763b8-b6df-44d6-b631-2b58cea3ba39",
   "metadata": {},
   "outputs": [
    {
     "data": {
      "text/plain": [
       "(Dataset FashionMNIST\n",
       "     Number of datapoints: 60000\n",
       "     Root location: data\n",
       "     Split: Train\n",
       "     StandardTransform\n",
       " Transform: ToTensor(),\n",
       " Dataset FashionMNIST\n",
       "     Number of datapoints: 10000\n",
       "     Root location: data\n",
       "     Split: Test\n",
       "     StandardTransform\n",
       " Transform: ToTensor())"
      ]
     },
     "execution_count": 12,
     "metadata": {},
     "output_type": "execute_result"
    }
   ],
   "source": [
    "train_data, test_data"
   ]
  },
  {
   "cell_type": "code",
   "execution_count": 13,
   "id": "4e0b449d-b59a-4931-b624-cbac45ef11eb",
   "metadata": {},
   "outputs": [],
   "source": [
    "from torch.utils.data import DataLoader\n",
    "\n",
    "BATCH_SIZE = 64\n",
    "train_dataloader = DataLoader(dataset=train_data,\n",
    "                     batch_size=BATCH_SIZE,\n",
    "                     shuffle=True) # provides more randomness per batch\n",
    "\n",
    "test_dataloader = DataLoader(dataset=test_data,\n",
    "                     batch_size=BATCH_SIZE,\n",
    "                     shuffle=False) # no real need to shuffle test data\n",
    "\n",
    "#  train_dataloader, test_dataloader"
   ]
  },
  {
   "cell_type": "code",
   "execution_count": 14,
   "id": "418c7cdf-0efe-4925-9d01-e2241b239c23",
   "metadata": {},
   "outputs": [
    {
     "name": "stdout",
     "output_type": "stream",
     "text": [
      "DataLoaders:\n",
      "   Train: <torch.utils.data.dataloader.DataLoader object at 0x00000227BD54EA20>,\n",
      "   Test: <torch.utils.data.dataloader.DataLoader object at 0x00000227BD697A70> \n",
      "Length of train_dataloader: 938 batches of 64 \n",
      "Length of test_dataloader: 157 batches of 64 \n"
     ]
    }
   ],
   "source": [
    "# What did we just create?\n",
    "print(f\"DataLoaders:\\n   Train: {train_dataloader},\\n   Test: {test_dataloader} \")\n",
    "print(f\"Length of train_dataloader: {len(train_dataloader)} batches of {BATCH_SIZE} \")\n",
    "print(f\"Length of test_dataloader: {len(test_dataloader)} batches of {BATCH_SIZE} \")"
   ]
  },
  {
   "cell_type": "code",
   "execution_count": 15,
   "id": "66d6e3b3-a1f8-426f-9c55-71e2d2b7d550",
   "metadata": {},
   "outputs": [
    {
     "data": {
      "text/plain": [
       "(torch.Size([64, 1, 28, 28]), torch.Size([64]))"
      ]
     },
     "execution_count": 15,
     "metadata": {},
     "output_type": "execute_result"
    }
   ],
   "source": [
    "# Check out what is inside training dataloader\n",
    "train_features_batch, train_labels_batch = next(iter(train_dataloader))\n",
    "train_features_batch.shape, train_labels_batch.shape"
   ]
  },
  {
   "cell_type": "code",
   "execution_count": 16,
   "id": "109a45a9-b83f-4a0e-9876-775ae08b9b8d",
   "metadata": {},
   "outputs": [
    {
     "name": "stdout",
     "output_type": "stream",
     "text": [
      "Image size: torch.Size([1, 28, 28])\n",
      "Label: 3, size: torch.Size([])\n"
     ]
    },
    {
     "data": {
      "image/png": "[encoded data removed]",
      "text/plain": [
       "<Figure size 640x480 with 1 Axes>"
      ]
     },
     "metadata": {},
     "output_type": "display_data"
    }
   ],
   "source": [
    "# Show a sample\n",
    "#torch.manual_seed(42)\n",
    "random_idx = torch.randint(0, len(train_features_batch), size=[1]).item()\n",
    "img, label = train_features_batch[random_idx], train_labels_batch[random_idx]\n",
    "plt.imshow(img.squeeze(), cmap=\"gray\")\n",
    "plt.title(class_names[label])\n",
    "plt.axis(False)\n",
    "print(f\"Image size: {img.shape}\")\n",
    "print(f\"Label: {label}, size: {label.shape}\")\n",
    "\n"
   ]
  },
  {
   "cell_type": "markdown",
   "id": "e11704f8-00b9-4b5b-aae3-87360b624c11",
   "metadata": {},
   "source": [
    "## 3.  Model 0: Creating a baseline with 2 linear layers | [chapter 100](https://youtu.be/V_xro1bcAuA&t=55277) \n",
    "A base model is a simple model which you will try to improve upon with subsequent models/experiments.  \n",
    "**MAKE REVISIONS:**  rather than overwritting previous models, create new models with added complexity step by step"
   ]
  },
  {
   "cell_type": "code",
   "execution_count": 17,
   "id": "76d26a6b-6eb2-44c9-885e-53df0adbaedf",
   "metadata": {},
   "outputs": [
    {
     "name": "stdout",
     "output_type": "stream",
     "text": [
      "Shape before flattening: torch.Size([1, 28, 28])\n",
      "Shape after flattening: torch.Size([1, 784])\n"
     ]
    }
   ],
   "source": [
    "# Create a flatten layer  \n",
    "# This will create a flat version of our 28,28 matrix into a single [1,28*28] tensor\n",
    "\n",
    "flatten_model = nn.Flatten()\n",
    "# Get a single sample\n",
    "x = train_features_batch[0]\n",
    "x_flat = flatten_model(x)\n",
    "\n",
    "print(f\"Shape before flattening: {x.shape}\")\n",
    "print(f\"Shape after flattening: {x_flat.shape}\")\n",
    "\n",
    "# we want to send this to a linear layer that can opnly handle a single layer"
   ]
  },
  {
   "cell_type": "code",
   "execution_count": 18,
   "id": "6a8f1617-61e3-4780-8d12-9da1a672f732",
   "metadata": {},
   "outputs": [
    {
     "data": {
      "text/plain": [
       "'cpu'"
      ]
     },
     "execution_count": 18,
     "metadata": {},
     "output_type": "execute_result"
    }
   ],
   "source": [
    "# We need device agnistic code\n",
    "#device = \"cuda\" if torch.cuda.is_available() else \"cpu\"\n",
    "device=\"cpu\"\n",
    "device"
   ]
  },
  {
   "cell_type": "code",
   "execution_count": 19,
   "id": "0d4b30d5-2045-463f-b3a4-45ae2c40a7ce",
   "metadata": {},
   "outputs": [
    {
     "data": {
      "text/plain": [
       "FashionMNISTModel_V0(\n",
       "  (layer_stack): Sequential(\n",
       "    (0): Flatten(start_dim=1, end_dim=-1)\n",
       "    (1): Linear(in_features=784, out_features=16, bias=True)\n",
       "    (2): Linear(in_features=16, out_features=10, bias=True)\n",
       "  )\n",
       ")"
      ]
     },
     "execution_count": 19,
     "metadata": {},
     "output_type": "execute_result"
    }
   ],
   "source": [
    "IN_SHAPE = 784  #28*28 flattened image\n",
    "OUT_SHAPE = len(class_names)\n",
    "HIDDEN_UNITS = 16  # magic number to play with\n",
    "\n",
    "from torch import nn\n",
    "class FashionMNISTModel_V0(nn.Module):\n",
    "    def __init__(self,\n",
    "                input_shape: int,\n",
    "                hidden_shape: int,\n",
    "                output_shape: int):\n",
    "        super().__init__()\n",
    "        self.layer_stack= nn.Sequential(\n",
    "            nn.Flatten(),\n",
    "            nn.Linear(in_features=input_shape,\n",
    "                     out_features=hidden_shape),\n",
    "            \n",
    "            nn.Linear(in_features=hidden_shape,\n",
    "                     out_features=output_shape)\n",
    "        )\n",
    "\n",
    "    def forward(self,x):\n",
    "        return self.layer_stack(x)\n",
    "\n",
    "# setup model with my HParam        \n",
    "model_0 = FashionMNISTModel_V0(IN_SHAPE, HIDDEN_UNITS, OUT_SHAPE).to(device)\n",
    "model_0"
   ]
  },
  {
   "cell_type": "code",
   "execution_count": 20,
   "id": "52b60494-f0ae-46ad-a13a-a6be81e41cc1",
   "metadata": {},
   "outputs": [
    {
     "data": {
      "text/plain": [
       "(tensor([[0.0881, 0.0963, 0.1055, 0.0657, 0.1361, 0.0792, 0.0982, 0.0766, 0.1540,\n",
       "          0.1002]], grad_fn=<SoftmaxBackward0>),\n",
       " 8)"
      ]
     },
     "execution_count": 20,
     "metadata": {},
     "output_type": "execute_result"
    }
   ],
   "source": [
    "dummy_x = torch.rand([1,1,28,28]).to(device)\n",
    "logit = model_0(dummy_x)\n",
    "dummy_probs = torch.softmax(logit,dim=1)\n",
    "#.argmax(dim=1)\n",
    "dummy_pred = torch.argmax(dummy_probs, dim=1)\n",
    "dummy_probs, dummy_pred.item()\n",
    "#correct = torch.eq(y_true, y_pred).sum().item()"
   ]
  },
  {
   "cell_type": "code",
   "execution_count": 21,
   "id": "907d69a5-8312-45f0-959d-cc7ef3c80988",
   "metadata": {},
   "outputs": [
    {
     "data": {
      "text/plain": [
       "OrderedDict([('layer_stack.1.weight',\n",
       "              tensor([[ 0.0207,  0.0207,  0.0342,  ...,  0.0174, -0.0274, -0.0020],\n",
       "                      [-0.0241, -0.0270, -0.0055,  ...,  0.0045,  0.0178,  0.0098],\n",
       "                      [ 0.0153,  0.0220, -0.0001,  ...,  0.0051,  0.0334,  0.0303],\n",
       "                      ...,\n",
       "                      [ 0.0308,  0.0138,  0.0213,  ..., -0.0252,  0.0239,  0.0314],\n",
       "                      [-0.0344,  0.0041,  0.0192,  ..., -0.0066,  0.0239,  0.0095],\n",
       "                      [-0.0242,  0.0349, -0.0093,  ..., -0.0206, -0.0013,  0.0333]])),\n",
       "             ('layer_stack.1.bias',\n",
       "              tensor([ 0.0184, -0.0117,  0.0251, -0.0167, -0.0174, -0.0023, -0.0327, -0.0090,\n",
       "                       0.0103,  0.0200,  0.0337, -0.0351, -0.0203, -0.0160, -0.0127,  0.0038])),\n",
       "             ('layer_stack.2.weight',\n",
       "              tensor([[ 0.1864, -0.0712, -0.1796,  0.0360,  0.2263, -0.0566,  0.2020, -0.0950,\n",
       "                        0.1822, -0.1655, -0.0278, -0.0818, -0.2155,  0.1064,  0.1843,  0.1425],\n",
       "                      [-0.0340,  0.1597,  0.1132, -0.2360, -0.1826,  0.1216, -0.1361,  0.1746,\n",
       "                        0.0602,  0.0125, -0.1056,  0.0895,  0.1252,  0.2116,  0.1613, -0.1694],\n",
       "                      [ 0.2372, -0.1859,  0.1809,  0.1360, -0.2334, -0.0942, -0.0289,  0.1142,\n",
       "                       -0.2048, -0.1845,  0.0005,  0.1257,  0.2249,  0.1334,  0.1632, -0.0412],\n",
       "                      [ 0.1414,  0.2121, -0.2044,  0.1172,  0.0060, -0.1239,  0.0800,  0.2341,\n",
       "                        0.0047, -0.1077,  0.1972,  0.1645,  0.0627,  0.1718, -0.2022,  0.1532],\n",
       "                      [ 0.2263, -0.2273,  0.0540,  0.1362, -0.1641, -0.1301,  0.0370, -0.0473,\n",
       "                       -0.1820, -0.1384,  0.0903,  0.1323,  0.2449,  0.2199,  0.1232, -0.2374],\n",
       "                      [-0.1155,  0.1333,  0.0056, -0.2468,  0.2284, -0.0210,  0.2399,  0.1826,\n",
       "                        0.1395,  0.1713,  0.0178,  0.0688, -0.1847, -0.1481,  0.0471, -0.2035],\n",
       "                      [ 0.1214,  0.1319, -0.0299, -0.2490, -0.1836,  0.1791,  0.0539, -0.0861,\n",
       "                       -0.0127,  0.2439, -0.2438, -0.1619, -0.2153, -0.0532, -0.1203,  0.0904],\n",
       "                      [-0.1607, -0.1471,  0.0470, -0.1101,  0.1734, -0.1643,  0.0760,  0.0795,\n",
       "                        0.1405,  0.2149,  0.0140, -0.1153,  0.1330,  0.2211, -0.1855, -0.1517],\n",
       "                      [-0.0738, -0.0764, -0.1881,  0.0495,  0.0762,  0.1818,  0.1866,  0.1816,\n",
       "                        0.2434, -0.0949, -0.0435, -0.1648,  0.0912, -0.0822, -0.1981, -0.2145],\n",
       "                      [-0.0842,  0.0277,  0.1150,  0.1061, -0.1690, -0.0512, -0.0765, -0.2156,\n",
       "                       -0.0812, -0.1696, -0.0630, -0.1472,  0.1934,  0.2123, -0.2252, -0.0880]])),\n",
       "             ('layer_stack.2.bias',\n",
       "              tensor([-0.0995,  0.1034, -0.0940, -0.2050,  0.1595, -0.0847, -0.0429,  0.0481,\n",
       "                       0.1922, -0.0370]))])"
      ]
     },
     "execution_count": 21,
     "metadata": {},
     "output_type": "execute_result"
    }
   ],
   "source": [
    "#101 15,35,57\n",
    "model_0.state_dict()"
   ]
  },
  {
   "cell_type": "code",
   "execution_count": 22,
   "id": "9d5b1517-019a-4524-ae28-25645e8797f4",
   "metadata": {},
   "outputs": [
    {
     "name": "stdout",
     "output_type": "stream",
     "text": [
      "helper_functions.py already exists, skipping download\n"
     ]
    }
   ],
   "source": [
    "# a nice little tidbit to check and load additional files \n",
    "import requests\n",
    "from pathlib import Path\n",
    "\n",
    "#  download file if needed\n",
    "if Path(\"helper_functions.py\").is_file():\n",
    "      print(\"helper_functions.py already exists, skipping download\")\n",
    "else:\n",
    "  print(\"Downloading helper_functions.py\")\n",
    "  # Note: you need the \"raw\" GitHub URL for this to work\n",
    "  request = requests.get(\"https://raw.githubusercontent.com/mrdbourke/pytorch-deep-learning/main/helper_functions.py\")\n",
    "  with open(\"helper_functions.py\", \"wb\") as f:\n",
    "    f.write(request.content)"
   ]
  },
  {
   "cell_type": "code",
   "execution_count": 23,
   "id": "efe33fe4-d15c-4068-be54-a8633c357c5f",
   "metadata": {},
   "outputs": [],
   "source": [
    "from helper_functions import accuracy_fn\n",
    "\n",
    "# set up loss and optimizer\n",
    "loss_fn = nn.CrossEntropyLoss()\n",
    "optimizer = torch.optim.SGD(params=model_0.parameters(), \n",
    "                           lr=0.1)"
   ]
  },
  {
   "cell_type": "markdown",
   "id": "912098f7-4b74-4a6f-9c8b-edf7d07cdd5e",
   "metadata": {},
   "source": [
    "### 3.2 Creating a function to time our experiments |  [chapter 102](https://youtu.be/V_xro1bcAuA&t=56787) \n",
    "\n",
    "Machine learning is very experimental\n",
    "\n",
    "Two of the main things you'll want to track are:\n",
    "1. Model's performance (loss accuracy values etc)\n",
    "2. How fast it runs"
   ]
  },
  {
   "cell_type": "code",
   "execution_count": 24,
   "id": "151cd8bf-2400-49c2-89db-271bc49cd0b6",
   "metadata": {},
   "outputs": [],
   "source": [
    "from timeit import default_timer as timer\n",
    "def print_train_time(start: float,\n",
    "                     stop: float,\n",
    "                     device: torch.device = None):\n",
    "    \"\"\" Prints difference between start and stop times \n",
    "    return: The time in millseconds of runtime\n",
    "    \"\"\"\n",
    "    total_time_ms = (stop - start) * 1000\n",
    "    print(f\"Train time on device {device}: {total_time_ms:.3f} milliseconds\")\n",
    "    return total_time_ms"
   ]
  },
  {
   "cell_type": "code",
   "execution_count": 25,
   "id": "63d3ac39-cb60-4d5a-bb5e-bd41a06f9e56",
   "metadata": {},
   "outputs": [
    {
     "name": "stdout",
     "output_type": "stream",
     "text": [
      "Train time on device cpu: 0.017 milliseconds\n"
     ]
    },
    {
     "data": {
      "text/plain": [
       "0.016600009985268116"
      ]
     },
     "execution_count": 25,
     "metadata": {},
     "output_type": "execute_result"
    }
   ],
   "source": [
    "start_time = timer()\n",
    "# some code\n",
    "stop_time = timer()\n",
    "print_train_time(start_time, stop_time, device)"
   ]
  },
  {
   "cell_type": "code",
   "execution_count": 26,
   "id": "5ea372d9-1ce1-46ca-b3bd-d8c1344bfdfc",
   "metadata": {},
   "outputs": [],
   "source": [
    "# better Timer than above\n",
    "import time\n",
    "\n",
    "class Timer():\n",
    "    def __init__(self,dev :str = \"unspecified\"):\n",
    "        self.device = dev\n",
    "    \n",
    "    def __enter__(self):\n",
    "        self.start_time = time.time()  # Take the initial snapshot of time\n",
    "        \n",
    "        return self  # Return the instance for optional use in the `with` block\n",
    "\n",
    "    def __exit__(self, exc_type, exc_value, traceback):\n",
    "        self.end_time = time.time()  # Take the snapshot of time when exiting the context\n",
    "        self.elapsed_time = self.end_time - self.start_time  # Calculate elapsed time\n",
    "        print(f\"Elapsed time on {self.device} device: {self.elapsed_time:.4f} seconds\")\n",
    "        # If needed, handle exceptions (return False to propagate exceptions)\n",
    "        return False"
   ]
  },
  {
   "cell_type": "code",
   "execution_count": 27,
   "id": "13075f1b-bb28-4126-8199-d0d82c50e23a",
   "metadata": {},
   "outputs": [
    {
     "name": "stdout",
     "output_type": "stream",
     "text": [
      "Elapsed time on unspecified device: 0.0000 seconds\n",
      "Timed out of loop: 0.0\n"
     ]
    }
   ],
   "source": [
    "with Timer() as t:\n",
    "    for i in range(1,1000):\n",
    "        if i% 1000 == 0:\n",
    "            pass\n",
    "\n",
    "print(f\"Timed out of loop: {t.elapsed_time}\")"
   ]
  },
  {
   "cell_type": "markdown",
   "id": "01367674-fe13-4061-a9a7-8cce9ddc92f4",
   "metadata": {},
   "source": [
    "### 3.3 Creating a training loop for batched data |  [chapter 103](https://youtu.be/V_xro1bcAuA&t=57121)\n",
    "**Note:** the optimizer will update model's parameters once per batch ... i.e. Many times per epoch\n",
    "1. Loop through epochs\n",
    "2. Loop thru training batches, perform training steps, calculate the train loss per batch\n",
    "3. Loop thru testing batches, perform test steps, calculate the loss per batch\n",
    "4. Print out whats' happinin'\n",
    "5. Time it all (for fun)"
   ]
  },
  {
   "cell_type": "code",
   "execution_count": 28,
   "id": "79c876d8-a8bf-478a-a1bc-c6d86ed0fd2c",
   "metadata": {},
   "outputs": [],
   "source": [
    "# assumption is all preparations have been made cuz the timer is running\n",
    "def train_loop(epochs: int):\n",
    "    # create\n",
    "    for epoch in tqdm(range(epochs)):\n",
    "        print(f\"epoch: {epoch}\\n----\")\n",
    "        #Training\n",
    "        train_loss = 0 # add all batch losses, divide by num batches to get average epoch loss\n",
    "        #add a loop to loop thru batches\n",
    "        for batch, (X,targets) in enumerate(train_dataloader):\n",
    "            model_0.train()\n",
    "            # 1. forward pass\n",
    "            train_logits = model_0(X)\n",
    "            train_probs = torch.softmax(train_logits,dim=1)\n",
    "            #.argmax(dim=1)\n",
    "            train_preds = torch.argmax(train_probs, dim=1)\n",
    "            # 2. Calculate the loss (per Batch)\n",
    "            loss = loss_fn(train_logits, targets)\n",
    "            train_loss += loss\n",
    "            # last 3  basic steps\n",
    "            optimizer.zero_grad()\n",
    "            loss.backward()\n",
    "            # step what params\n",
    "            optimizer.step()\n",
    "\n",
    "            #print\n",
    "            if batch % 400 == 0:\n",
    "                print(f\"Looked at {batch * len(X)}/{len(train_dataloader.dataset)} samples\")\n",
    "        # Divide total train loss by length of train dataloader\n",
    "        train_loss /= len(train_dataloader) # num of batches\n",
    "\n",
    "        # Testing\n",
    "        test_loss, test_acc = 0, 0\n",
    "        model_0.eval()\n",
    "        with torch.inference_mode():\n",
    "            for X_test, test_targets in test_dataloader:  # test batches\n",
    "                # 1. forward pass\n",
    "                test_logits = model_0(X_test)\n",
    "\n",
    "                # 2. Calculate the loss (per Batch)\n",
    "                test_loss = loss_fn(test_logits, test_targets)\n",
    "                # last 3 - 5 training steps not needed in test loop\n",
    "                \n",
    "                # Calculate accuracy\n",
    "                # Accuracy needs labels to labels\n",
    "                test_preds = torch.softmax(test_logits,dim=1).argmax(dim=1)\n",
    "                test_acc += accuracy_fn(y_true=test_targets,\n",
    "                                       y_pred= test_preds)\n",
    "\n",
    "            # Calculate test loss average per batch\n",
    "            test_loss /= len(test_dataloader)\n",
    "            # calculate the acc average per batch\n",
    "            test_acc /=len(test_dataloader)\n",
    "\n",
    "        # Print out whats' happinin'\n",
    "        #print(f\"EPOCH: {epoch} | Loss: {train_loss:.4f}, Acc: {acc:.2f}%  | Test loss: {test_loss:.5f}, acc: {test_acc:.2f}%\")\n",
    "        print(f\"EPOCH: {epoch} | Loss: {train_loss:.4f}  | Test loss: {test_loss:.5f}, acc: {test_acc:.2f}%\")\n",
    "        \n",
    "    # Calculate train time\n",
    "    #  My class handles this automatically"
   ]
  },
  {
   "cell_type": "code",
   "execution_count": 29,
   "id": "dacd30cd-55c0-44df-ba59-892830d8b8fe",
   "metadata": {},
   "outputs": [
    {
     "data": {
      "application/vnd.jupyter.widget-view+json": {
       "model_id": "d2c440f029b64f799ea691437c4fff66",
       "version_major": 2,
       "version_minor": 0
      },
      "text/plain": [
       "  0%|          | 0/3 [00:00<?, ?it/s]"
      ]
     },
     "metadata": {},
     "output_type": "display_data"
    },
    {
     "name": "stdout",
     "output_type": "stream",
     "text": [
      "epoch: 0\n",
      "----\n",
      "Looked at 0/60000 samples\n",
      "Looked at 25600/60000 samples\n",
      "Looked at 51200/60000 samples\n",
      "EPOCH: 0 | Loss: 0.6271  | Test loss: 0.00175, acc: 81.47%\n",
      "epoch: 1\n",
      "----\n",
      "Looked at 0/60000 samples\n",
      "Looked at 25600/60000 samples\n",
      "Looked at 51200/60000 samples\n",
      "EPOCH: 1 | Loss: 0.4805  | Test loss: 0.00176, acc: 81.56%\n",
      "epoch: 2\n",
      "----\n",
      "Looked at 0/60000 samples\n",
      "Looked at 25600/60000 samples\n",
      "Looked at 51200/60000 samples\n",
      "EPOCH: 2 | Loss: 0.4532  | Test loss: 0.00215, acc: 82.83%\n",
      "Elapsed time on cpu device: 10.3057 seconds\n"
     ]
    }
   ],
   "source": [
    "# Import tqdm for progress bar\n",
    "from tqdm.auto import tqdm\n",
    "# set seed and start timer\n",
    "torch.manual_seed(42)\n",
    "# set epochs small for faster training time\n",
    "epochs = 3\n",
    "with Timer(device) as timer: #optional parameter for listing device used\n",
    "    train_loop(epochs)\n",
    "total_train_time_model_0 = timer.elapsed_time"
   ]
  },
  {
   "cell_type": "markdown",
   "id": "e6b6732a-c7f6-4fa3-b77f-3949a6430170",
   "metadata": {},
   "source": [
    "## 4. Make prediction and get model_0 results  \n",
    "[Chapter 104](https://youtu.be/V_xro1bcAuA&t=58696)"
   ]
  },
  {
   "cell_type": "code",
   "execution_count": 30,
   "id": "491db210-8138-47d5-83e9-9da580b15dcf",
   "metadata": {},
   "outputs": [],
   "source": [
    "torch.manual_seed(42)\n",
    "def eval_model(model:nn.Module,\n",
    "              data_loader: torch.utils.data.DataLoader,\n",
    "              loss_fn: torch.nn.Module,\n",
    "              accuracy_fn,\n",
    "              device = 'cpu'):\n",
    "    \"\"\"Returns a dictionary containing the results of model predicting on data_loader.\n",
    "    \n",
    "    Args:\n",
    "        model (torch.nn.Module): A PyTorch model capable of making predictions on data_loader.\n",
    "        data_loader (torch.utils.data.DataLoader): The target dataset to predict on.\n",
    "        loss_fn (torch.nn.Module): The loss function of model.\n",
    "        accuracy_fn: An accuracy function to compare the models predictions to the truth labels.\n",
    "    \n",
    "    Returns:\n",
    "        (dict): Results of model making predictions on data_loader.\n",
    "    \"\"\"   \n",
    "    loss, acc = 0, 0\n",
    "    model.to(device)\n",
    "    model.eval()\n",
    "    with torch.inference_mode():\n",
    "        for X, y in tqdm(data_loader):\n",
    "            X, y = X.to(device), y.to(device)\n",
    "            # Make predictions\n",
    "            y_pred = model(X)\n",
    "\n",
    "            # Accumulate the loss and acc values per batch\n",
    "            loss += loss_fn(y_pred, y)\n",
    "             # For accuracy, need the prediction labels (logits -> pred_prob -> pred_labels)\n",
    "            acc += accuracy_fn(y_true=y,\n",
    "                              y_pred=y_pred.argmax(dim=1))\n",
    "            \n",
    "        # Scale loss and acc to get the average per batch\n",
    "        loss /= len(data_loader)\n",
    "        acc /= len(data_loader)\n",
    "\n",
    "        \n",
    "    return {\"model_name\": model.__class__.__name__, # only works when model was created with a class\n",
    "            \"model_loss\": loss.item(),\n",
    "            \"model_acc\": acc,\n",
    "            \"device\" : device }\n",
    "\n"
   ]
  },
  {
   "cell_type": "code",
   "execution_count": 31,
   "id": "ef07da9e-d74f-4cad-8d5b-f259a1c14d1c",
   "metadata": {},
   "outputs": [
    {
     "data": {
      "application/vnd.jupyter.widget-view+json": {
       "model_id": "e9fa736cea0246f0bf17d203f020c83e",
       "version_major": 2,
       "version_minor": 0
      },
      "text/plain": [
       "  0%|          | 0/157 [00:00<?, ?it/s]"
      ]
     },
     "metadata": {},
     "output_type": "display_data"
    },
    {
     "data": {
      "text/plain": [
       "{'model_name': 'FashionMNISTModel_V0',\n",
       " 'model_loss': 0.49337315559387207,\n",
       " 'model_acc': 82.83240445859873,\n",
       " 'device': 'cpu'}"
      ]
     },
     "execution_count": 31,
     "metadata": {},
     "output_type": "execute_result"
    }
   ],
   "source": [
    "# Calculate model_0 results on test dataset\n",
    "# note: loss function should be CrossEntropy for this model\n",
    "model_0_results = eval_model(model=model_0, data_loader=test_dataloader,\n",
    "                            loss_fn=loss_fn, accuracy_fn=accuracy_fn\n",
    ")\n",
    "model_0_results"
   ]
  },
  {
   "cell_type": "markdown",
   "id": "35e34297-29f4-4e00-b86f-d185b9080496",
   "metadata": {},
   "source": [
    "## 5. Setup device-agnostic code \n",
    "\n",
    "[chapter 105](https://youtu.be/V_xro1bcAuA&t=59187) "
   ]
  },
  {
   "cell_type": "code",
   "execution_count": 32,
   "id": "ab6d8c3d-c88f-48c9-b94a-b831ddcd6cb4",
   "metadata": {},
   "outputs": [
    {
     "data": {
      "text/plain": [
       "'cuda'"
      ]
     },
     "execution_count": 32,
     "metadata": {},
     "output_type": "execute_result"
    }
   ],
   "source": [
    "# We need device agnistic code\n",
    "device = \"cuda\" if torch.cuda.is_available() else \"cpu\"\n",
    "#device=\"cpu\"\n",
    "device"
   ]
  },
  {
   "cell_type": "markdown",
   "id": "2ddf9a24-a943-44d2-8a84-b11852fc520e",
   "metadata": {},
   "source": [
    "## 6. Building a better model with non-linearity\n",
    "[chapter 106](https://youtu.be/V_xro1bcAuA&t=59415)\n"
   ]
  },
  {
   "cell_type": "code",
   "execution_count": 33,
   "id": "f0392cc8-c407-4554-9581-90f891fffd93",
   "metadata": {},
   "outputs": [],
   "source": [
    "IN_SHAPE = 784  #28*28 flattened image\n",
    "OUT_SHAPE = len(class_names)\n",
    "HIDDEN_UNITS = 16  # magic number to play with\n",
    "\n",
    "from torch import nn\n",
    "class FashionMNISTModel_V1(nn.Module):\n",
    "    def __init__(self,\n",
    "                input_shape: int,\n",
    "                hidden_shape: int,\n",
    "                output_shape: int):\n",
    "        super().__init__()\n",
    "        self.layer_stack= nn.Sequential(\n",
    "            nn.Flatten(),\n",
    "            nn.Linear(in_features=input_shape,\n",
    "                     out_features=hidden_shape),\n",
    "            #nn.ReLU(),\n",
    "            #nn.Linear(in_features=hidden_shape,\n",
    "            #         out_features=hidden_shape),\n",
    "            nn.ReLU(),\n",
    "            nn.Linear(in_features=hidden_shape,\n",
    "                     out_features=output_shape),\n",
    "            nn.ReLU()\n",
    "\n",
    "\n",
    "        )\n",
    "\n",
    "    def forward(self,x):\n",
    "        return self.layer_stack(x)\n",
    "\n"
   ]
  },
  {
   "cell_type": "code",
   "execution_count": 34,
   "id": "0b2bf659-837d-4f11-a830-a126e6895130",
   "metadata": {},
   "outputs": [
    {
     "data": {
      "text/plain": [
       "FashionMNISTModel_V1(\n",
       "  (layer_stack): Sequential(\n",
       "    (0): Flatten(start_dim=1, end_dim=-1)\n",
       "    (1): Linear(in_features=784, out_features=16, bias=True)\n",
       "    (2): ReLU()\n",
       "    (3): Linear(in_features=16, out_features=10, bias=True)\n",
       "    (4): ReLU()\n",
       "  )\n",
       ")"
      ]
     },
     "execution_count": 34,
     "metadata": {},
     "output_type": "execute_result"
    }
   ],
   "source": [
    "# setup model with my HParam        \n",
    "model_1 = FashionMNISTModel_V1(IN_SHAPE, HIDDEN_UNITS, OUT_SHAPE)\n",
    "model_1"
   ]
  },
  {
   "cell_type": "markdown",
   "id": "44bb5a33-4092-4154-ab49-803ef1c087dd",
   "metadata": {},
   "source": [
    "### 6.1 Setup loss, optimizer and evaluation metrics |[chapter 107](https://youtu.be/V_xro1bcAuA&t=59958)"
   ]
  },
  {
   "cell_type": "code",
   "execution_count": 35,
   "id": "71691dd2-86ea-417f-be3a-f365c3140164",
   "metadata": {},
   "outputs": [],
   "source": [
    "from helper_functions import accuracy_fn\n",
    "\n",
    "# set up loss and optimizer\n",
    "loss_fn_1 = nn.CrossEntropyLoss()\n",
    "optimizer_1 = torch.optim.SGD(params=model_1.parameters(), \n",
    "                           lr=0.1)"
   ]
  },
  {
   "cell_type": "markdown",
   "id": "304d97b2-f0f2-4bc4-b666-ac01c780f2a2",
   "metadata": {},
   "source": [
    "### 6.2 functionalizing train, test loops\n",
    "[chapter 108](https://youtu.be/V_xro1bcAuA&t=60143)"
   ]
  },
  {
   "cell_type": "code",
   "execution_count": 36,
   "id": "abb9fd48-9f8b-40bd-b422-fe6a4689737a",
   "metadata": {},
   "outputs": [],
   "source": [
    "\"\"\"\n",
    "Training loop function\n",
    "\"\"\"\n",
    "def train_step(model:nn.Module,\n",
    "                data_loader: torch.utils.data.DataLoader,\n",
    "                loss_fn: nn.Module,\n",
    "                optimizer: torch.optim.Optimizer,\n",
    "                accuracy_fn,\n",
    "                device: torch.device = device \n",
    "              ):\n",
    "    train_loss, train_acc = 0, 0\n",
    "\n",
    "    # get all data  on device\n",
    "    model.to(device)\n",
    "        \n",
    "    for batch, (X,targets) in enumerate(data_loader):\n",
    "        X ,targets = X.to(device), targets.to(device)\n",
    "\n",
    "        model.train()\n",
    "        # 1. forward pass\n",
    "        train_pred = model(X)\n",
    "        \n",
    "        # 2. Calculate the loss (per Batch)\n",
    "        loss = loss_fn(train_pred, targets)\n",
    "        train_loss += loss\n",
    "        train_acc += accuracy_fn(y_true=targets,\n",
    "                                 y_pred= train_pred.argmax(dim=1))\n",
    "        \n",
    "        \n",
    "        # Optimizer.zero_grad\n",
    "        optimizer.zero_grad()\n",
    "        \n",
    "        # 4. loss backward\n",
    "        loss.backward()\n",
    "        \n",
    "        # 5. Optimizer step\n",
    "        optimizer.step()\n",
    "\n",
    "    # Divide total train loss and accuracy by length of number of batches\n",
    "    train_loss /= len(data_loader) \n",
    "    train_acc /= len(data_loader) \n",
    "    print(f\"Train Loss: {train_loss:.4f}  | Train accuracy: {train_acc:.2f}%\")\n",
    "\n"
   ]
  },
  {
   "cell_type": "markdown",
   "id": "6a3e8746-d361-4575-a221-193febb8812d",
   "metadata": {},
   "source": [
    "### 6.3 functionalizing test loops\n",
    "[chapter 109](https://youtu.be/V_xro1bcAuA&t=60653)"
   ]
  },
  {
   "cell_type": "code",
   "execution_count": 37,
   "id": "3933954a-9274-4ea5-8ab3-53b2379017f9",
   "metadata": {},
   "outputs": [],
   "source": [
    "\"\"\"\n",
    "Test loop function\n",
    "\"\"\"\n",
    "def test_step(model:nn.Module,\n",
    "              data_loader: torch.utils.data.DataLoader,\n",
    "              loss_fn: nn.Module,\n",
    "              accuracy_fn,\n",
    "              device: torch.device = device):\n",
    "    test_loss, test_acc = 0, 0\n",
    "    model.to(device)\n",
    "    model.eval() # put model in eval mode\n",
    "    # turn on inference context manager\n",
    "    with torch.inference_mode():\n",
    "        for X, targets in data_loader:  # test batches\n",
    "            X = X.to(device)\n",
    "            targets = targets.to(device)\n",
    "            # 1. forward pass\n",
    "            test_pred = model(X)\n",
    "\n",
    "            # 2. Calculate the loss and accuracy\n",
    "            test_loss += loss_fn(test_pred, targets)\n",
    "            # Calculate accuracy\n",
    "            test_acc += accuracy_fn(y_true=targets,\n",
    "                y_pred= test_pred.argmax(dim=1) # logits to labels\n",
    "            )\n",
    " \n",
    "        # Adjust metrics and print out\n",
    "        test_loss /= len(data_loader)\n",
    "        test_acc /=len(data_loader)\n",
    "        print(f\"Test loss: {test_loss:.4f}  | Test accuracy: {test_acc:.2f}%\")\n"
   ]
  },
  {
   "cell_type": "markdown",
   "id": "4a9e9d29-c986-4162-8d09-e9d9377a377f",
   "metadata": {},
   "source": [
    "### 6.4 Model 1: Training and testing with our train and test step functions\n",
    "[chapter 110](https://youtu.be/V_xro1bcAuA&t=61050)\n",
    "get_timestamp(16,57,30)"
   ]
  },
  {
   "cell_type": "code",
   "execution_count": 38,
   "id": "505ba4c3-cede-4b2b-9415-e9497778ce2a",
   "metadata": {},
   "outputs": [
    {
     "data": {
      "application/vnd.jupyter.widget-view+json": {
       "model_id": "aabf5e4d7ae14da7933a6c8cb7cfacf6",
       "version_major": 2,
       "version_minor": 0
      },
      "text/plain": [
       "  0%|          | 0/3 [00:00<?, ?it/s]"
      ]
     },
     "metadata": {},
     "output_type": "display_data"
    },
    {
     "name": "stdout",
     "output_type": "stream",
     "text": [
      "Epoch: 0\n",
      "---------\n",
      "Train Loss: 1.1834  | Train accuracy: 62.99%\n",
      "Test loss: 0.9312  | Test accuracy: 70.78%\n",
      "Epoch: 1\n",
      "---------\n",
      "Train Loss: 0.8903  | Train accuracy: 71.28%\n",
      "Test loss: 0.9148  | Test accuracy: 70.38%\n",
      "Epoch: 2\n",
      "---------\n",
      "Train Loss: 0.8554  | Train accuracy: 72.00%\n",
      "Test loss: 0.8699  | Test accuracy: 71.60%\n",
      "Elapsed time on cuda device: 12.0146 seconds\n"
     ]
    }
   ],
   "source": [
    "# Import tqdm for progress bar DOESN't work in notebook for some reason\n",
    "from tqdm.auto import tqdm\n",
    "# Timer class is now implemented in helper_functions\n",
    "from helper_functions import accuracy_fn\n",
    "from helper_functions import get_timer\n",
    "# set seed and start timer\n",
    "torch.manual_seed(42)\n",
    "# set epochs small for faster training time\n",
    "\n",
    "train_dataloader.dataset.data.to(device)\n",
    "#test_dataloader = test_dataloader.to(device)\n",
    "\n",
    "epochs = 3\n",
    "with get_timer(device) as timer: #optional parameter for listing device used\n",
    "    for epoch in tqdm(range(epochs)):\n",
    "        print(f\"Epoch: {epoch}\\n---------\")\n",
    "        train_step(data_loader=train_dataloader, \n",
    "            model=model_1, \n",
    "            loss_fn=loss_fn_1,\n",
    "            optimizer=optimizer_1,\n",
    "            accuracy_fn=accuracy_fn\n",
    "        )\n",
    "        test_step(data_loader=test_dataloader,\n",
    "            model=model_1,\n",
    "            loss_fn=loss_fn_1,\n",
    "            accuracy_fn=accuracy_fn\n",
    "        )\n",
    "total_train_time_model_1 = timer.elapsed_time"
   ]
  },
  {
   "cell_type": "markdown",
   "id": "a1e338ab-3816-4832-8b10-ac1c2d607cb6",
   "metadata": {},
   "source": [
    "### 6.5 Evaluating Model 1 device-agnostic eval_model |[chapter 111](https://youtu.be/V_xro1bcAuA&t=61763)\n",
    "\n",
    "I already fixed this in the original version"
   ]
  },
  {
   "cell_type": "code",
   "execution_count": 39,
   "id": "8195e7b6-e22f-4817-b3b5-d8349458de31",
   "metadata": {},
   "outputs": [
    {
     "data": {
      "application/vnd.jupyter.widget-view+json": {
       "model_id": "4f7ba4875e1b4053b74767a06c8a4454",
       "version_major": 2,
       "version_minor": 0
      },
      "text/plain": [
       "  0%|          | 0/157 [00:00<?, ?it/s]"
      ]
     },
     "metadata": {},
     "output_type": "display_data"
    },
    {
     "name": "stdout",
     "output_type": "stream",
     "text": [
      "{'model_name': 'FashionMNISTModel_V0', 'model_loss': 0.49337321519851685, 'model_acc': 82.83240445859873, 'device': 'cuda'}\n"
     ]
    },
    {
     "data": {
      "application/vnd.jupyter.widget-view+json": {
       "model_id": "9495d33c7d214884943fe46b089877cb",
       "version_major": 2,
       "version_minor": 0
      },
      "text/plain": [
       "  0%|          | 0/157 [00:00<?, ?it/s]"
      ]
     },
     "metadata": {},
     "output_type": "display_data"
    },
    {
     "name": "stdout",
     "output_type": "stream",
     "text": [
      "{'model_name': 'FashionMNISTModel_V1', 'model_loss': 0.8699366450309753, 'model_acc': 71.59633757961784, 'device': 'cuda'}\n"
     ]
    }
   ],
   "source": [
    "# Calculate model_0 results on test dataset\n",
    "# note: loss function should be CrossEntropy for this model\n",
    "model_0_results = eval_model(model=model_0, data_loader=test_dataloader,\n",
    "                            loss_fn=loss_fn, accuracy_fn=accuracy_fn,\n",
    "                             device= device\n",
    ")\n",
    "print(model_0_results)\n",
    "\n",
    "model_1_results = eval_model(model=model_1, data_loader=test_dataloader,\n",
    "                            loss_fn=loss_fn_1, accuracy_fn=accuracy_fn,\n",
    "                             device= device\n",
    ")\n",
    "print(model_1_results)"
   ]
  },
  {
   "cell_type": "code",
   "execution_count": 40,
   "id": "a6d5a12c-a67b-4921-8f09-44088953fee9",
   "metadata": {},
   "outputs": [
    {
     "data": {
      "text/plain": [
       "(10.305715084075928, 12.014638900756836)"
      ]
     },
     "execution_count": 40,
     "metadata": {},
     "output_type": "execute_result"
    }
   ],
   "source": [
    "total_train_time_model_0,total_train_time_model_1\n"
   ]
  },
  {
   "cell_type": "code",
   "execution_count": 41,
   "id": "0eae0007-e3d2-44cc-ba05-67e2f3ce422a",
   "metadata": {},
   "outputs": [
    {
     "name": "stdout",
     "output_type": "stream",
     "text": [
      "Thu Nov 14 12:05:22 2024       \n",
      "+-----------------------------------------------------------------------------------------+\n",
      "| NVIDIA-SMI 565.90                 Driver Version: 565.90         CUDA Version: 12.7     |\n",
      "|-----------------------------------------+------------------------+----------------------+\n",
      "| GPU  Name                  Driver-Model | Bus-Id          Disp.A | Volatile Uncorr. ECC |\n",
      "| Fan  Temp   Perf          Pwr:Usage/Cap |           Memory-Usage | GPU-Util  Compute M. |\n",
      "|                                         |                        |               MIG M. |\n",
      "|=========================================+========================+======================|\n",
      "|   0  NVIDIA GeForce RTX 4070 ...  WDDM  |   00000000:01:00.0  On |                  N/A |\n",
      "|  0%   34C    P8              9W /  220W |    1118MiB /  12282MiB |      3%      Default |\n",
      "|                                         |                        |                  N/A |\n",
      "+-----------------------------------------+------------------------+----------------------+\n",
      "                                                                                         \n",
      "+-----------------------------------------------------------------------------------------+\n",
      "| Processes:                                                                              |\n",
      "|  GPU   GI   CI        PID   Type   Process name                              GPU Memory |\n",
      "|        ID   ID                                                               Usage      |\n",
      "|=========================================================================================|\n",
      "|    0   N/A  N/A      3896    C+G   ....Search_cw5n1h2txyewy\\SearchApp.exe      N/A      |\n",
      "|    0   N/A  N/A      6288    C+G   ...on\\130.0.2849.80\\msedgewebview2.exe      N/A      |\n",
      "|    0   N/A  N/A      8324    C+G   ..._x64__kzf8qxf38zg5c\\Skype\\Skype.exe      N/A      |\n",
      "|    0   N/A  N/A      9296    C+G   ...5.0_x64__cv1g1gvanyjgm\\WhatsApp.exe      N/A      |\n",
      "|    0   N/A  N/A     10288    C+G   ....0_x64__kzh8wxbdkxb8p\\DCv2\\DCv2.exe      N/A      |\n",
      "|    0   N/A  N/A     11184    C+G   ...CBS_cw5n1h2txyewy\\TextInputHost.exe      N/A      |\n",
      "|    0   N/A  N/A     12324    C+G   ...5n1h2txyewy\\ShellExperienceHost.exe      N/A      |\n",
      "|    0   N/A  N/A     13664    C+G   ...t.LockApp_cw5n1h2txyewy\\LockApp.exe      N/A      |\n",
      "|    0   N/A  N/A     13800    C+G   ...ncher\\NVIDIA Omniverse Launcher.exe      N/A      |\n",
      "|    0   N/A  N/A     14960    C+G   ...crosoft\\Edge\\Application\\msedge.exe      N/A      |\n",
      "|    0   N/A  N/A     17136    C+G   ....Search_cw5n1h2txyewy\\SearchApp.exe      N/A      |\n",
      "|    0   N/A  N/A     19536    C+G   ..._x64__kzf8qxf38zg5c\\Skype\\Skype.exe      N/A      |\n",
      "|    0   N/A  N/A     20580    C+G   C:\\Windows\\explorer.exe                     N/A      |\n",
      "|    0   N/A  N/A     21964    C+G   ...crosoft\\Edge\\Application\\msedge.exe      N/A      |\n",
      "|    0   N/A  N/A     22940      C   ...conda3\\envs\\pytorch_env1\\python.exe      N/A      |\n",
      "+-----------------------------------------------------------------------------------------+\n"
     ]
    }
   ],
   "source": [
    "!nvidia-smi\n"
   ]
  },
  {
   "cell_type": "markdown",
   "id": "30090554-8154-4456-ba9e-2bf820907701",
   "metadata": {},
   "source": [
    "## 7. Model 2 Building a convolutional model  [chapter 112](https://youtu.be/V_xro1bcAuA&t=62012)  \n",
    "\n",
    "Time to create a Convolutional Neural Network better know as a CNN (also know as ConvNet).\n",
    "We will duplicate the TinyVGG model depicted on [cnn explainer](https://poloclub.github.io/cnn-explainer/)"
   ]
  },
  {
   "cell_type": "code",
   "execution_count": 42,
   "id": "be66f64d-a49a-4426-9bfa-ca9474a81ab6",
   "metadata": {},
   "outputs": [],
   "source": [
    "# Create device-agnostic code\n",
    "device = 'cuda' if torch.cuda.is_available() else 'cpu'"
   ]
  },
  {
   "cell_type": "code",
   "execution_count": 43,
   "id": "288529c8-479a-41be-939a-f033b12b4689",
   "metadata": {},
   "outputs": [],
   "source": [
    "# Create a convolution neural network\n",
    "class FashionMNISTModel_V2(nn.Module):\n",
    "    \"\"\"\n",
    "    Model archicture copying TinyVGG from:\n",
    "    https://poloclub.github.io/cnn-explainer/\n",
    "    \"\"\"\n",
    "    def __init__(self, input_shape: int, hidden_units:int, output_shape: int):\n",
    "        super().__init__()\n",
    "        self.block_1 = nn.Sequential(\n",
    "            nn.Conv2d( in_channels=input_shape,\n",
    "                     out_channels=hidden_units,\n",
    "                     kernel_size=3,\n",
    "                     stride=1,\n",
    "                     padding=1),\n",
    "            nn.ReLU(),\n",
    "            nn.Conv2d( in_channels=hidden_units,\n",
    "                     out_channels=hidden_units,\n",
    "                     kernel_size=3,\n",
    "                     stride=1,\n",
    "                     padding=1),\n",
    "            nn.ReLU(),\n",
    "            nn.MaxPool2d(kernel_size=2,\n",
    "                         stride=2) # default stride is same as kernel size\n",
    "        )\n",
    "        self.block_2 = nn.Sequential(\n",
    "            nn.Conv2d(hidden_units, hidden_units, 3, padding=1),\n",
    "            nn.ReLU(),\n",
    "            nn.Conv2d(hidden_units, hidden_units, 3, padding=1),\n",
    "            nn.ReLU(),\n",
    "            nn.MaxPool2d(2)\n",
    "        ) \n",
    "\n",
    "        # to figure out the input shape for the linear layer since each layer above shrinks\n",
    "        # the image down, run a test image throught the first 2 layers and multiply the shape values together\n",
    "        self.classifier = nn.Sequential(\n",
    "            nn.Flatten(), # default is dim=1, makes sense when we want to flatten an image but leave the color(zero dim alone)\n",
    "            # Where did this in_features shape come from? \n",
    "            # It's because each layer of our network compresses and changes the shape of our input data.\n",
    "            nn.Linear(in_features=hidden_units*7*7, \n",
    "                      out_features=output_shape)\n",
    "        )\n",
    "\n",
    "    \n",
    "    # change this to fusion code to make gpu go brrr    \n",
    "    def forward(self, x: torch.Tensor):\n",
    "        return self.classifier(self.block_2(self.block_1(x)))\n",
    "        #print(f\"shape being passed to block_1: {x.shape}\")\n",
    "        #x = self.block_1(x)\n",
    "        #print(f\"shape being passed to block_2: {x.shape}\")        \n",
    "        #x = self.block_2(x)\n",
    "        #print(f\"shape being passed to block_3: {x.shape}\")        \n",
    "        #x = self.block_3(x)\n",
    "        #print(f\"shape being passed to classifier: {x.shape}\")\n",
    "        #x = self.classifier(x)\n",
    "        #print(x.shape)\n",
    "        #return x\n"
   ]
  },
  {
   "cell_type": "code",
   "execution_count": 44,
   "id": "eecae10c-e07f-4cef-ad02-d6a58080a2e0",
   "metadata": {},
   "outputs": [
    {
     "data": {
      "text/plain": [
       "FashionMNISTModel_V2(\n",
       "  (block_1): Sequential(\n",
       "    (0): Conv2d(1, 10, kernel_size=(3, 3), stride=(1, 1), padding=(1, 1))\n",
       "    (1): ReLU()\n",
       "    (2): Conv2d(10, 10, kernel_size=(3, 3), stride=(1, 1), padding=(1, 1))\n",
       "    (3): ReLU()\n",
       "    (4): MaxPool2d(kernel_size=2, stride=2, padding=0, dilation=1, ceil_mode=False)\n",
       "  )\n",
       "  (block_2): Sequential(\n",
       "    (0): Conv2d(10, 10, kernel_size=(3, 3), stride=(1, 1), padding=(1, 1))\n",
       "    (1): ReLU()\n",
       "    (2): Conv2d(10, 10, kernel_size=(3, 3), stride=(1, 1), padding=(1, 1))\n",
       "    (3): ReLU()\n",
       "    (4): MaxPool2d(kernel_size=2, stride=2, padding=0, dilation=1, ceil_mode=False)\n",
       "  )\n",
       "  (classifier): Sequential(\n",
       "    (0): Flatten(start_dim=1, end_dim=-1)\n",
       "    (1): Linear(in_features=490, out_features=10, bias=True)\n",
       "  )\n",
       ")"
      ]
     },
     "execution_count": 44,
     "metadata": {},
     "output_type": "execute_result"
    }
   ],
   "source": [
    "\n",
    "torch.manual_seed(42)\n",
    "model_2 = FashionMNISTModel_V2(input_shape=1, \n",
    "    hidden_units=10, \n",
    "    output_shape=len(class_names)).to(device)\n",
    "\n",
    "model_2"
   ]
  },
  {
   "cell_type": "markdown",
   "id": "90c77e7a-357a-4cc4-a335-17dc2fa8779c",
   "metadata": {},
   "source": [
    "Nice!\n",
    "\n",
    "Our biggest model yet!\n",
    "\n",
    "What we've done is a common practice in machine learning.\n",
    "\n",
    "Find a model architecture somewhere and replicate it with code. "
   ]
  },
  {
   "cell_type": "markdown",
   "id": "4311a62b-c323-4158-b408-0cf5c61138a1",
   "metadata": {},
   "source": [
    "### 7.1 Stepping through `nn.Conv2d()`\n",
    "\n",
    "We could start using our model above and see what happens but let's first step through the two new layers we've added:\n",
    "* [`nn.Conv2d()`](https://pytorch.org/docs/stable/generated/torch.nn.Conv2d.html), also known as a convolutional layer.\n",
    "* [`nn.MaxPool2d()`](https://pytorch.org/docs/stable/generated/torch.nn.MaxPool2d.html), also known as a max pooling layer.\n",
    "\n",
    "> **Question:** What does the \"2d\" in `nn.Conv2d()` stand for?\n",
    ">\n",
    "> The 2d is for 2-dimensional data. As in, our images have two dimensions: height and width. Yes, there's color channel dimension but each of the color channel dimensions have two dimensions too: height and width.\n",
    ">\n",
    "> For other dimensional data (such as 1D for text or 3D for 3D objects) there's also `nn.Conv1d()` and `nn.Conv3d()`. \n",
    "\n",
    "To test the layers out, let's create some toy data just like the data used on CNN Explainer."
   ]
  },
  {
   "cell_type": "code",
   "execution_count": 45,
   "id": "3f335a03-86b5-4e88-a6a6-4084a7f87ee4",
   "metadata": {},
   "outputs": [
    {
     "name": "stdout",
     "output_type": "stream",
     "text": [
      "Image batch shape: torch.Size([32, 3, 64, 64]) -> [batch_size, color_channels, height, width]\n",
      "Single image shape: torch.Size([3, 64, 64]) -> [color_channels, height, width]\n",
      "Single image pixel values:\n",
      "tensor([[[ 1.9269,  1.4873,  0.9007,  ...,  1.8446, -1.1845,  1.3835],\n",
      "         [ 1.4451,  0.8564,  2.2181,  ...,  0.3399,  0.7200,  0.4114],\n",
      "         [ 1.9312,  1.0119, -1.4364,  ..., -0.5558,  0.7043,  0.7099],\n",
      "         ...,\n",
      "         [-0.5610, -0.4830,  0.4770,  ..., -0.2713, -0.9537, -0.6737],\n",
      "         [ 0.3076, -0.1277,  0.0366,  ..., -2.0060,  0.2824, -0.8111],\n",
      "         [-1.5486,  0.0485, -0.7712,  ..., -0.1403,  0.9416, -0.0118]],\n",
      "\n",
      "        [[-0.5197,  1.8524,  1.8365,  ...,  0.8935, -1.5114, -0.8515],\n",
      "         [ 2.0818,  1.0677, -1.4277,  ...,  1.6612, -2.6223, -0.4319],\n",
      "         [-0.1010, -0.4388, -1.9775,  ...,  0.2106,  0.2536, -0.7318],\n",
      "         ...,\n",
      "         [ 0.2779,  0.7342, -0.3736,  ..., -0.4601,  0.1815,  0.1850],\n",
      "         [ 0.7205, -0.2833,  0.0937,  ..., -0.1002, -2.3609,  2.2465],\n",
      "         [-1.3242, -0.1973,  0.2920,  ...,  0.5409,  0.6940,  1.8563]],\n",
      "\n",
      "        [[-0.7978,  1.0261,  1.1465,  ...,  1.2134,  0.9354, -0.0780],\n",
      "         [-1.4647, -1.9571,  0.1017,  ..., -1.9986, -0.7409,  0.7011],\n",
      "         [-1.3938,  0.8466, -1.7191,  ..., -1.1867,  0.1320,  0.3407],\n",
      "         ...,\n",
      "         [ 0.8206, -0.3745,  1.2499,  ..., -0.0676,  0.0385,  0.6335],\n",
      "         [-0.5589, -0.3393,  0.2347,  ...,  2.1181,  2.4569,  1.3083],\n",
      "         [-0.4092,  1.5199,  0.2401,  ..., -0.2558,  0.7870,  0.9924]]])\n"
     ]
    }
   ],
   "source": [
    "import torch\n",
    "from torch import nn\n",
    "import matplotlib.pyplot as plt\n",
    "\n",
    "torch.manual_seed(42)\n",
    "\n",
    "# Create sample batch of random numbers with same size as image batch\n",
    "images = torch.randn(size=(32, 3, 64, 64)) # [batch_size, color_channels, height, width]\n",
    "test_image = images[0] # get a single image for testing\n",
    "print(f\"Image batch shape: {images.shape} -> [batch_size, color_channels, height, width]\")\n",
    "print(f\"Single image shape: {test_image.shape} -> [color_channels, height, width]\") \n",
    "print(f\"Single image pixel values:\\n{test_image}\")"
   ]
  },
  {
   "cell_type": "markdown",
   "id": "dfa75bc1-12a8-49a6-9acf-548b8ffdee65",
   "metadata": {},
   "source": [
    "Let's create an example `nn.Conv2d()` with various parameters:\n",
    "* `in_channels` (int) - Number of channels in the input image.\n",
    "* `out_channels` (int) - Number of channels produced by the convolution.\n",
    "* `kernel_size` (int or tuple) - Size of the convolving kernel/filter.\n",
    "* `stride` (int or tuple, optional) - How big of a step the convolving kernel takes at a time. Default: 1.\n",
    "* `padding` (int, tuple, str) - Padding added to all four sides of input. Default: 0.\n",
    "\n",
    "![example of going through the different parameters of a Conv2d layer](https://raw.githubusercontent.com/mrdbourke/pytorch-deep-learning/main/images/03-conv2d-layer.gif)\n",
    "\n",
    "*Example of what happens when you change the hyperparameters of a `nn.Conv2d()` layer.*"
   ]
  },
  {
   "cell_type": "code",
   "execution_count": 46,
   "id": "7e6ac917-5829-42ec-af54-cd3de112c567",
   "metadata": {},
   "outputs": [
    {
     "data": {
      "text/plain": [
       "(torch.Size([3, 64, 64]), torch.Size([10, 62, 62]))"
      ]
     },
     "execution_count": 46,
     "metadata": {},
     "output_type": "execute_result"
    }
   ],
   "source": [
    "torch.manual_seed(42)\n",
    "\n",
    "#Create a CNN with the same dimensionas TinyVGG\n",
    "\n",
    "conv_layer = nn.Conv2d(in_channels=3,\n",
    "                      out_channels=10,\n",
    "                      kernel_size=3,\n",
    "                      stride=1,\n",
    "                      padding=0) # also try using \"valid\" or \"same\" here \n",
    "out =conv_layer(test_image)\n",
    "test_image.shape, out.shape"
   ]
  },
  {
   "cell_type": "code",
   "execution_count": null,
   "id": "7ef28932-49c3-4816-b92b-0c6e58a299ab",
   "metadata": {},
   "outputs": [],
   "source": []
  },
  {
   "cell_type": "code",
   "execution_count": 47,
   "id": "d2f661ba-0ceb-4d64-ab66-3619a1d45a90",
   "metadata": {},
   "outputs": [
    {
     "data": {
      "text/plain": [
       "OrderedDict([('weight',\n",
       "              tensor([[[[ 0.1471,  0.1597, -0.0451],\n",
       "                        [ 0.1768, -0.0422,  0.0388],\n",
       "                        [-0.0937,  0.1130,  0.1697]],\n",
       "              \n",
       "                       [[-0.1412,  0.1673,  0.0360],\n",
       "                        [ 0.1422,  0.0261,  0.0928],\n",
       "                        [-0.0272,  0.1484,  0.0284]],\n",
       "              \n",
       "                       [[-0.0898,  0.0491, -0.0887],\n",
       "                        [-0.0226, -0.0782,  0.1277],\n",
       "                        [-0.1519, -0.0887, -0.0543]]],\n",
       "              \n",
       "              \n",
       "                      [[[-0.1157,  0.0182, -0.1901],\n",
       "                        [ 0.1738, -0.1635,  0.1486],\n",
       "                        [ 0.0320, -0.0625,  0.1189]],\n",
       "              \n",
       "                       [[ 0.0300,  0.1555,  0.0210],\n",
       "                        [-0.0607,  0.0517, -0.0522],\n",
       "                        [ 0.0810,  0.1718,  0.1112]],\n",
       "              \n",
       "                       [[-0.0841,  0.1111,  0.0344],\n",
       "                        [ 0.0977, -0.1173, -0.1905],\n",
       "                        [-0.0744, -0.1476,  0.1579]]],\n",
       "              \n",
       "              \n",
       "                      [[[ 0.0554,  0.0797,  0.0609],\n",
       "                        [-0.0033,  0.1506, -0.1367],\n",
       "                        [ 0.0121, -0.1314,  0.0593]],\n",
       "              \n",
       "                       [[-0.0663,  0.0590, -0.0401],\n",
       "                        [ 0.1596, -0.1141, -0.1148],\n",
       "                        [-0.1148,  0.1731,  0.0641]],\n",
       "              \n",
       "                       [[ 0.1852, -0.1588, -0.1909],\n",
       "                        [-0.1506, -0.1295,  0.0780],\n",
       "                        [ 0.0689,  0.1599, -0.0994]]],\n",
       "              \n",
       "              \n",
       "                      [[[-0.1312,  0.1021, -0.0778],\n",
       "                        [ 0.1168, -0.0457,  0.1101],\n",
       "                        [-0.1495, -0.0971,  0.0587]],\n",
       "              \n",
       "                       [[ 0.0407, -0.0491,  0.1147],\n",
       "                        [ 0.1308, -0.1396, -0.1027],\n",
       "                        [ 0.1762, -0.0649, -0.0682]],\n",
       "              \n",
       "                       [[-0.1862, -0.1102,  0.0481],\n",
       "                        [-0.0254, -0.1397,  0.0045],\n",
       "                        [-0.1315, -0.1633, -0.1060]]],\n",
       "              \n",
       "              \n",
       "                      [[[-0.1684, -0.1225,  0.1924],\n",
       "                        [ 0.0363,  0.0593, -0.1795],\n",
       "                        [-0.1264, -0.0641,  0.0301]],\n",
       "              \n",
       "                       [[-0.1693, -0.0829, -0.1152],\n",
       "                        [ 0.0005, -0.0716, -0.0133],\n",
       "                        [-0.1304, -0.1321, -0.1123]],\n",
       "              \n",
       "                       [[-0.0659, -0.1519,  0.1614],\n",
       "                        [-0.0382,  0.1656,  0.0600],\n",
       "                        [-0.1630,  0.1332, -0.0530]]],\n",
       "              \n",
       "              \n",
       "                      [[[-0.0738, -0.1597, -0.1913],\n",
       "                        [ 0.0551, -0.0420,  0.0749],\n",
       "                        [-0.1579,  0.1429, -0.1413]],\n",
       "              \n",
       "                       [[-0.0332,  0.0402,  0.0994],\n",
       "                        [ 0.1554,  0.1753, -0.1526],\n",
       "                        [ 0.0484, -0.0828, -0.0211]],\n",
       "              \n",
       "                       [[-0.1440,  0.1753, -0.1412],\n",
       "                        [ 0.1029,  0.0676,  0.0625],\n",
       "                        [-0.1040,  0.1749,  0.0423]]],\n",
       "              \n",
       "              \n",
       "                      [[[ 0.0248, -0.1696,  0.0808],\n",
       "                        [-0.0289, -0.0882,  0.1653],\n",
       "                        [ 0.0429, -0.1065, -0.0974]],\n",
       "              \n",
       "                       [[-0.0092,  0.1075, -0.0492],\n",
       "                        [-0.1098, -0.0659, -0.1438],\n",
       "                        [ 0.0686,  0.1490, -0.1812]],\n",
       "              \n",
       "                       [[ 0.0447,  0.0994,  0.0349],\n",
       "                        [-0.0685,  0.1004,  0.1011],\n",
       "                        [ 0.0720, -0.0338, -0.0510]]],\n",
       "              \n",
       "              \n",
       "                      [[[ 0.0206, -0.0340, -0.0574],\n",
       "                        [ 0.1230,  0.1654, -0.0191],\n",
       "                        [-0.0431,  0.0028, -0.0115]],\n",
       "              \n",
       "                       [[ 0.0463,  0.0539, -0.1748],\n",
       "                        [-0.0710,  0.1621,  0.0750],\n",
       "                        [-0.0096, -0.1160, -0.1177]],\n",
       "              \n",
       "                       [[-0.1724, -0.0627,  0.0650],\n",
       "                        [ 0.1227,  0.0889, -0.1701],\n",
       "                        [-0.1157, -0.0304,  0.1862]]],\n",
       "              \n",
       "              \n",
       "                      [[[ 0.0278, -0.0498,  0.0796],\n",
       "                        [-0.0733, -0.1246,  0.1405],\n",
       "                        [-0.0875, -0.0386, -0.1915]],\n",
       "              \n",
       "                       [[ 0.1288,  0.1458,  0.0701],\n",
       "                        [-0.1342, -0.1899, -0.1563],\n",
       "                        [ 0.1435,  0.0924,  0.1619]],\n",
       "              \n",
       "                       [[ 0.1008,  0.0487, -0.0019],\n",
       "                        [-0.1464, -0.1649, -0.1800],\n",
       "                        [ 0.0788, -0.0945, -0.0387]]],\n",
       "              \n",
       "              \n",
       "                      [[[-0.1108, -0.0351, -0.1355],\n",
       "                        [-0.1257,  0.0638, -0.0572],\n",
       "                        [ 0.1188, -0.0617, -0.1412]],\n",
       "              \n",
       "                       [[-0.0340, -0.0933, -0.0589],\n",
       "                        [-0.1832,  0.1077, -0.1340],\n",
       "                        [ 0.0967,  0.0873,  0.1375]],\n",
       "              \n",
       "                       [[-0.1476,  0.1384, -0.0910],\n",
       "                        [ 0.0714,  0.1807, -0.0271],\n",
       "                        [-0.0015, -0.0443, -0.1607]]]])),\n",
       "             ('bias',\n",
       "              tensor([ 0.0924, -0.1910,  0.1195,  0.1440,  0.1820, -0.0454, -0.1581,  0.0433,\n",
       "                       0.1063, -0.1915]))])"
      ]
     },
     "execution_count": 47,
     "metadata": {},
     "output_type": "execute_result"
    }
   ],
   "source": [
    "conv_layer.state_dict()"
   ]
  },
  {
   "cell_type": "code",
   "execution_count": 48,
   "id": "bc747868-fa7c-40c6-8c16-66dee2bfad49",
   "metadata": {},
   "outputs": [
    {
     "name": "stdout",
     "output_type": "stream",
     "text": [
      "conv_layer weight shape: \n",
      "torch.Size([10, 3, 3, 3]) -> [out_channels=10, in_channels=3, kernel_size=5, kernel_size=5]\n",
      "\n",
      "conv_layer bias shape: \n",
      "torch.Size([10]) -> [out_channels=10]\n"
     ]
    }
   ],
   "source": [
    "# Get shapes of weight and bias tensors within conv_layer_2\n",
    "print(f\"conv_layer weight shape: \\n{conv_layer.weight.shape} -> [out_channels=10, in_channels=3, kernel_size=5, kernel_size=5]\")\n",
    "print(f\"\\nconv_layer bias shape: \\n{conv_layer.bias.shape} -> [out_channels=10]\")"
   ]
  },
  {
   "cell_type": "markdown",
   "id": "7f454c6f-f2b0-4140-9315-888166872731",
   "metadata": {},
   "source": [
    "### 7.2 Stepping through `nn.MaxPool2d()` [chapter 115](https://youtu.be/V_xro1bcAuA&t=64606)  \n",
    "\n",
    "Now let's check out what happens when we move data through `nn.MaxPool2d()`."
   ]
  },
  {
   "cell_type": "code",
   "execution_count": 49,
   "id": "e604f590-019e-4ef4-8366-d9e3367b19b9",
   "metadata": {},
   "outputs": [
    {
     "name": "stdout",
     "output_type": "stream",
     "text": [
      "Test image original shape: torch.Size([3, 64, 64])\n",
      "Test image with unsqueezed dimension: torch.Size([1, 3, 64, 64])\n",
      "Shape after going through conv_layer(): torch.Size([1, 10, 62, 62])\n",
      "Shape after passing through the maxPool layer: torch.Size([1, 10, 31, 31])\n"
     ]
    }
   ],
   "source": [
    "# Print out original image shape without and with unsqueezed dimension\n",
    "print(f\"Test image original shape: {test_image.shape}\")\n",
    "print(f\"Test image with unsqueezed dimension: {test_image.unsqueeze(dim=0).shape}\")\n",
    "\n",
    "# newer versions of Conv2d accept either a batch of images or a single image# Create a sample nn.MaxPoo2d() layer\n",
    "max_pool_layer = nn.MaxPool2d(kernel_size=2)\n",
    "\n",
    "# Pass data through just the conv_layer\n",
    "test_image_through_conv = conv_layer(test_image.unsqueeze(dim=0))\n",
    "print(f\"Shape after going through conv_layer(): {test_image_through_conv.shape}\")\n",
    "\n",
    "# now pass the data thru the maxpool layer\n",
    "test_image_through_conv_and_max_pool = max_pool_layer(test_image_through_conv)\n",
    "print(f\"Shape after passing through the maxPool layer: {test_image_through_conv_and_max_pool.shape}\")"
   ]
  },
  {
   "cell_type": "markdown",
   "id": "aee31e2d-c6eb-4163-855f-30f5e54c4803",
   "metadata": {},
   "source": [
    "Notice the change in the shapes of what's happening in and out of a `nn.MaxPool2d()` layer.\n",
    "\n",
    "The `kernel_size` of the `nn.MaxPool2d()` layer will affect the size of the output shape.\n",
    "\n",
    "In our case, the shape halves from a `62x62` image to `31x31` image.\n",
    "\n",
    "Let's see this work with a smaller tensor."
   ]
  },
  {
   "cell_type": "code",
   "execution_count": 50,
   "id": "5743e843-eb56-489e-be1e-edd044558969",
   "metadata": {},
   "outputs": [
    {
     "name": "stdout",
     "output_type": "stream",
     "text": [
      "Random_tensor:\n",
      "tensor([[[[0.3367, 0.1288],\n",
      "          [0.2345, 0.2303]]]])\n",
      "Random_tensor shape :torch.Size([1, 1, 2, 2])\n",
      "\n",
      "Max pool tensor:\n",
      "tensor([[[[0.3367]]]]) <- this is the maximum value from random_tensor\n",
      "Max pool tensor shape: torch.Size([1, 1, 1, 1])\n"
     ]
    }
   ],
   "source": [
    "torch.manual_seed(42)\n",
    "# Create a random tensor with similiar number of dimension to our images\n",
    "random_tensor = torch.randn(size=(1,1,2,2))\n",
    "print(f\"Random_tensor:\\n{random_tensor}\")\n",
    "print(f\"Random_tensor shape :{random_tensor.shape}\")\n",
    "\n",
    "# Pass the random tensor through the max pool layer\n",
    "max_pool_tensor = max_pool_layer(random_tensor)\n",
    "print(f\"\\nMax pool tensor:\\n{max_pool_tensor} <- this is the maximum value from random_tensor\")\n",
    "print(f\"Max pool tensor shape: {max_pool_tensor.shape}\")"
   ]
  },
  {
   "cell_type": "markdown",
   "id": "d63b2559-2f80-4d81-b759-709ebab3a2e0",
   "metadata": {},
   "source": [
    "### 7.3 Setup a loss function and optimizer for `model_2` | [chapter 117](https://youtu.be/V_xro1bcAuA&t=66383)\n",
    "\n",
    "We've stepped through the layers in our first CNN enough.\n",
    "\n",
    "But remember, if something still isn't clear, try starting small.\n",
    "\n",
    "Pick a single layer of a model, pass some data through it and see what happens.\n",
    "\n",
    "Now it's time to move forward and get to training!\n",
    "\n",
    "Let's setup a loss function and an optimizer.\n",
    "\n",
    "We'll use the functions as before, `nn.CrossEntropyLoss()` as the loss function (since we're working with multi-class classification data).\n",
    "\n",
    "And `torch.optim.SGD()` as the optimizer to optimize `model_2.parameters()` with a learning rate of `0.1`."
   ]
  },
  {
   "cell_type": "code",
   "execution_count": 51,
   "id": "46f6a45d-fcd4-4e00-8ed6-eb0300e7e651",
   "metadata": {},
   "outputs": [],
   "source": [
    "# Setup loss function/eval metrics/optimizer\n",
    "from tqdm.auto import tqdm\n",
    "# Timer class is now implemented in helper_functions\n",
    "from helper_functions import accuracy_fn,get_timer\n",
    "# Setup loss and optimizer\n",
    "loss_fn_2 = nn.CrossEntropyLoss()\n",
    "optimizer_2 = torch.optim.SGD(params=model_2.parameters(), \n",
    "                             lr=0.1)"
   ]
  },
  {
   "cell_type": "code",
   "execution_count": 52,
   "id": "a3dd288a-bf16-4c26-9525-8ef7cf693861",
   "metadata": {},
   "outputs": [
    {
     "data": {
      "text/plain": [
       "device(type='cuda', index=0)"
      ]
     },
     "execution_count": 52,
     "metadata": {},
     "output_type": "execute_result"
    }
   ],
   "source": [
    "list(model_2.parameters())[0].device"
   ]
  },
  {
   "cell_type": "code",
   "execution_count": 53,
   "id": "06cceada-a0cc-464e-9ba0-55e9915612f3",
   "metadata": {},
   "outputs": [
    {
     "name": "stdout",
     "output_type": "stream",
     "text": [
      "image_v2.shape: torch.Size([1, 28, 28])\n",
      "model is loaded on cuda:0\n",
      "image_v2 is on cpu\n"
     ]
    }
   ],
   "source": [
    "image_v2,label = train_data[2]\n",
    "print(f\"image_v2.shape: {image_v2.shape}\")\n",
    "print(f\"model is loaded on {list(model_2.parameters())[0].device}\")\n",
    "print(f\"image_v2 is on {image_v2.device}\")\n",
    "\n",
    "#test_image.to(device)\n",
    "pred = model_2 (image_v2.unsqueeze(dim=0).to(device))\n",
    "#print (f\"\\n{pred}\")\n",
    "#plt.imshow(pred[0].detach().to('cpu'), cmap=\"gray\")\n",
    "#plt.title(class_names[label])"
   ]
  },
  {
   "cell_type": "code",
   "execution_count": 54,
   "id": "19377337-d43c-412e-a2c8-34dedb21e8af",
   "metadata": {},
   "outputs": [
    {
     "name": "stdout",
     "output_type": "stream",
     "text": [
      "tensor([[ 0.0331, -0.0580,  0.0459, -0.0272, -0.0128,  0.0179, -0.0063, -0.0118,\n",
      "          0.0302,  0.0110]], device='cuda:0', grad_fn=<AddmmBackward0>) 0\n"
     ]
    }
   ],
   "source": [
    "#print (model_2.image_block_1.shape)\n",
    "#plt.imshow(model_2.image_block_1[9].to('cpu'), cmap=\"gray\")\n",
    "\n",
    "#print (model_2.image_block_2.shape)\n",
    "#plt.imshow(model_2.image_block_2[0].to('cpu'), cmap=\"gray\")\n",
    "\n",
    "#print (model_2.image_classifier.shape)\n",
    "#plt.imshow(model_2.image_classifier.to('cpu'), cmap=\"gray\")\n",
    "\n",
    "print(pred,label)\n",
    "\n",
    "#plt.title(class_names[label])"
   ]
  },
  {
   "cell_type": "markdown",
   "id": "4fcdeeeb-05b9-472a-926a-8db0cccf7751",
   "metadata": {},
   "source": [
    "### 7.3 Using train and test step functions to train model | [chapter 118](https://youtu.be/V_xro1bcAuA&t=66542)"
   ]
  },
  {
   "cell_type": "code",
   "execution_count": 55,
   "id": "211447a5-d05f-4ede-8a6c-bd79ab071e54",
   "metadata": {},
   "outputs": [
    {
     "data": {
      "application/vnd.jupyter.widget-view+json": {
       "model_id": "bcebd4d5aa434074bed35ca8f6af402f",
       "version_major": 2,
       "version_minor": 0
      },
      "text/plain": [
       "  0%|          | 0/3 [00:00<?, ?it/s]"
      ]
     },
     "metadata": {},
     "output_type": "display_data"
    },
    {
     "name": "stdout",
     "output_type": "stream",
     "text": [
      "Epoch: 0\n",
      "---------\n",
      "Train Loss: 0.7264  | Train accuracy: 73.42%\n",
      "Test loss: 0.5066  | Test accuracy: 81.94%\n",
      "Epoch: 1\n",
      "---------\n",
      "Train Loss: 0.3859  | Train accuracy: 86.09%\n",
      "Test loss: 0.3744  | Test accuracy: 87.06%\n",
      "Epoch: 2\n",
      "---------\n",
      "Train Loss: 0.3439  | Train accuracy: 87.67%\n",
      "Test loss: 0.3599  | Test accuracy: 86.89%\n",
      "Elapsed time on cuda device: 14.3578 seconds\n",
      "Total train time 14.357758283615112 on device; cuda\n"
     ]
    }
   ],
   "source": [
    "\n",
    "# set seed and start timer\n",
    "#torch.manual_seed(42)\n",
    "\n",
    "#train_dataloader.dataset.data.to(device)\n",
    "\n",
    "model_2.to(device)\n",
    "epochs = 3\n",
    "with get_timer(device) as timer: #optional parameter for listing device used\n",
    "    for epoch in tqdm(range(epochs)):\n",
    "        print(f\"Epoch: {epoch}\\n---------\")\n",
    "        train_step(data_loader=train_dataloader, \n",
    "            model=model_2, \n",
    "            loss_fn=loss_fn_2,\n",
    "            optimizer=optimizer_2,\n",
    "            accuracy_fn=accuracy_fn\n",
    "        )\n",
    "        test_step(data_loader=test_dataloader,\n",
    "            model=model_2,\n",
    "            loss_fn=loss_fn_2,\n",
    "            accuracy_fn=accuracy_fn\n",
    "        )\n",
    "total_train_time_model_2 = timer.elapsed_time\n",
    "print (f\"Total train time {total_train_time_model_2} on device; {device}\")"
   ]
  },
  {
   "cell_type": "code",
   "execution_count": 56,
   "id": "929b958d-7cbc-4d8b-8c67-13e488159364",
   "metadata": {},
   "outputs": [
    {
     "data": {
      "application/vnd.jupyter.widget-view+json": {
       "model_id": "14efc9f409b14ad2a74163a6a369ec6f",
       "version_major": 2,
       "version_minor": 0
      },
      "text/plain": [
       "  0%|          | 0/157 [00:00<?, ?it/s]"
      ]
     },
     "metadata": {},
     "output_type": "display_data"
    },
    {
     "name": "stdout",
     "output_type": "stream",
     "text": [
      "{'model_name': 'FashionMNISTModel_V2', 'model_loss': 0.35992810130119324, 'model_acc': 86.89291401273886, 'device': 'cuda'}\n"
     ]
    }
   ],
   "source": [
    "\n",
    "# Get results for model 2\n",
    "model_2_results = eval_model(model=model_2, data_loader=test_dataloader,\n",
    "                             loss_fn=loss_fn_2, accuracy_fn=accuracy_fn,\n",
    "                             device=device\n",
    ")\n",
    "print( model_2_results)"
   ]
  },
  {
   "cell_type": "code",
   "execution_count": 57,
   "id": "6fd8ae02-c8b8-4da6-baae-0fe2c2e20847",
   "metadata": {},
   "outputs": [
    {
     "name": "stdout",
     "output_type": "stream",
     "text": [
      "{'model_name': 'FashionMNISTModel_V0', 'model_loss': 0.49337321519851685, 'model_acc': 82.83240445859873, 'device': 'cuda'}\n",
      "{'model_name': 'FashionMNISTModel_V1', 'model_loss': 0.8699366450309753, 'model_acc': 71.59633757961784, 'device': 'cuda'}\n",
      "{'model_name': 'FashionMNISTModel_V2', 'model_loss': 0.35992810130119324, 'model_acc': 86.89291401273886, 'device': 'cuda'}\n"
     ]
    }
   ],
   "source": [
    "print( model_0_results)\n",
    "print( model_1_results)\n",
    "print( model_2_results)"
   ]
  },
  {
   "cell_type": "markdown",
   "id": "52cdf56d-56bf-4db0-afd4-cc4e9f828f11",
   "metadata": {},
   "source": [
    "### 7.4 Comparing results of our modelling experiments | [chapter 119](https://youtu.be/V_xro1bcAuA&t=67017)\n"
   ]
  },
  {
   "cell_type": "code",
   "execution_count": 58,
   "id": "454b9893-f874-436f-8f76-f099521f25ee",
   "metadata": {},
   "outputs": [
    {
     "data": {
      "text/html": [
       "<div>\n",
       "<style scoped>\n",
       "    .dataframe tbody tr th:only-of-type {\n",
       "        vertical-align: middle;\n",
       "    }\n",
       "\n",
       "    .dataframe tbody tr th {\n",
       "        vertical-align: top;\n",
       "    }\n",
       "\n",
       "    .dataframe thead th {\n",
       "        text-align: right;\n",
       "    }\n",
       "</style>\n",
       "<table border=\"1\" class=\"dataframe\">\n",
       "  <thead>\n",
       "    <tr style=\"text-align: right;\">\n",
       "      <th></th>\n",
       "      <th>model_name</th>\n",
       "      <th>model_loss</th>\n",
       "      <th>model_acc</th>\n",
       "      <th>device</th>\n",
       "    </tr>\n",
       "  </thead>\n",
       "  <tbody>\n",
       "    <tr>\n",
       "      <th>0</th>\n",
       "      <td>FashionMNISTModel_V0</td>\n",
       "      <td>0.493373</td>\n",
       "      <td>82.832404</td>\n",
       "      <td>cuda</td>\n",
       "    </tr>\n",
       "    <tr>\n",
       "      <th>1</th>\n",
       "      <td>FashionMNISTModel_V1</td>\n",
       "      <td>0.869937</td>\n",
       "      <td>71.596338</td>\n",
       "      <td>cuda</td>\n",
       "    </tr>\n",
       "    <tr>\n",
       "      <th>2</th>\n",
       "      <td>FashionMNISTModel_V2</td>\n",
       "      <td>0.359928</td>\n",
       "      <td>86.892914</td>\n",
       "      <td>cuda</td>\n",
       "    </tr>\n",
       "  </tbody>\n",
       "</table>\n",
       "</div>"
      ],
      "text/plain": [
       "             model_name  model_loss  model_acc device\n",
       "0  FashionMNISTModel_V0    0.493373  82.832404   cuda\n",
       "1  FashionMNISTModel_V1    0.869937  71.596338   cuda\n",
       "2  FashionMNISTModel_V2    0.359928  86.892914   cuda"
      ]
     },
     "execution_count": 58,
     "metadata": {},
     "output_type": "execute_result"
    }
   ],
   "source": [
    "import pandas as pd\n",
    "compare_results = pd.DataFrame([model_0_results,\n",
    "                               model_1_results,\n",
    "                               model_2_results])\n",
    "compare_results"
   ]
  },
  {
   "cell_type": "code",
   "execution_count": 59,
   "id": "5d25b5ee-d9ec-45ca-aeed-b9f12b5f18be",
   "metadata": {},
   "outputs": [
    {
     "data": {
      "text/html": [
       "<div>\n",
       "<style scoped>\n",
       "    .dataframe tbody tr th:only-of-type {\n",
       "        vertical-align: middle;\n",
       "    }\n",
       "\n",
       "    .dataframe tbody tr th {\n",
       "        vertical-align: top;\n",
       "    }\n",
       "\n",
       "    .dataframe thead th {\n",
       "        text-align: right;\n",
       "    }\n",
       "</style>\n",
       "<table border=\"1\" class=\"dataframe\">\n",
       "  <thead>\n",
       "    <tr style=\"text-align: right;\">\n",
       "      <th></th>\n",
       "      <th>model_name</th>\n",
       "      <th>model_loss</th>\n",
       "      <th>model_acc</th>\n",
       "      <th>device</th>\n",
       "      <th>training_time</th>\n",
       "    </tr>\n",
       "  </thead>\n",
       "  <tbody>\n",
       "    <tr>\n",
       "      <th>0</th>\n",
       "      <td>FashionMNISTModel_V0</td>\n",
       "      <td>0.493373</td>\n",
       "      <td>82.832404</td>\n",
       "      <td>cuda</td>\n",
       "      <td>10.305715</td>\n",
       "    </tr>\n",
       "    <tr>\n",
       "      <th>1</th>\n",
       "      <td>FashionMNISTModel_V1</td>\n",
       "      <td>0.869937</td>\n",
       "      <td>71.596338</td>\n",
       "      <td>cuda</td>\n",
       "      <td>12.014639</td>\n",
       "    </tr>\n",
       "    <tr>\n",
       "      <th>2</th>\n",
       "      <td>FashionMNISTModel_V2</td>\n",
       "      <td>0.359928</td>\n",
       "      <td>86.892914</td>\n",
       "      <td>cuda</td>\n",
       "      <td>14.357758</td>\n",
       "    </tr>\n",
       "  </tbody>\n",
       "</table>\n",
       "</div>"
      ],
      "text/plain": [
       "             model_name  model_loss  model_acc device  training_time\n",
       "0  FashionMNISTModel_V0    0.493373  82.832404   cuda      10.305715\n",
       "1  FashionMNISTModel_V1    0.869937  71.596338   cuda      12.014639\n",
       "2  FashionMNISTModel_V2    0.359928  86.892914   cuda      14.357758"
      ]
     },
     "execution_count": 59,
     "metadata": {},
     "output_type": "execute_result"
    }
   ],
   "source": [
    "# Add training time to result comparision\n",
    "compare_results[\"training_time\"] = [total_train_time_model_0,\n",
    "                                   total_train_time_model_1,\n",
    "                                   total_train_time_model_2]\n",
    "compare_results"
   ]
  },
  {
   "cell_type": "code",
   "execution_count": 60,
   "id": "8b852977-7534-4640-a251-21011dce6a7a",
   "metadata": {},
   "outputs": [
    {
     "data": {
      "image/png": "[encoded data removed]",
      "text/plain": [
       "<Figure size 640x480 with 1 Axes>"
      ]
     },
     "metadata": {},
     "output_type": "display_data"
    }
   ],
   "source": [
    "# visualize our model results\n",
    "compare_results.set_index('model_name')['model_acc'].plot(kind=\"barh\")\n",
    "plt.xlabel(\"accuracy (%)\")\n",
    "plt.ylabel(\"model\");"
   ]
  },
  {
   "cell_type": "markdown",
   "id": "953e4c6a-3887-4757-86b3-65ad91038aba",
   "metadata": {},
   "source": [
    "## 9. Making Predictions on random test samples with the best trained model | [Chapter 120](https://youtu.be/V_xro1bcAuA&t=67463) \n"
   ]
  },
  {
   "cell_type": "code",
   "execution_count": 61,
   "id": "9a94c01f-1383-44d9-9391-e70ec6770f04",
   "metadata": {},
   "outputs": [],
   "source": [
    "def make_predictions(model: torch.nn.Module,\n",
    "                    data: list,\n",
    "                    device: torch.device = device):\n",
    "    pred_probs = []\n",
    "    model.to(device)\n",
    "    model.eval()\n",
    "    with torch.inference_mode():\n",
    "        for sample in data:\n",
    "            # prepare sample (add a batch dimension and pass to device)\n",
    "            sample = torch.unsqueeze(sample,dim=0).to(device)\n",
    "\n",
    "            # Forward pass\n",
    "            pred_logit = model(sample)\n",
    "\n",
    "            # Get prediction probablilty\n",
    "            pred_prob = torch.softmax(pred_logit.squeeze(),dim=0)\n",
    "\n",
    "            # Get pred_prob off the gpu for further calculations\n",
    "            pred_probs.append(pred_prob.cpu())\n",
    "\n",
    "    # Stack the pred_probs to turn list into a tensor\n",
    "    return torch.stack(pred_probs)\n"
   ]
  },
  {
   "cell_type": "code",
   "execution_count": 62,
   "id": "830fab70-7c42-4636-bd16-d09ca999fc32",
   "metadata": {},
   "outputs": [
    {
     "data": {
      "text/plain": [
       "torch.Size([1, 28, 28])"
      ]
     },
     "execution_count": 62,
     "metadata": {},
     "output_type": "execute_result"
    }
   ],
   "source": [
    "import random\n",
    "#random.seed(42)\n",
    "test_samples = []\n",
    "test_labels = []\n",
    "for sample, label in random.sample(list(test_data),k=9):\n",
    "    test_samples.append(sample)\n",
    "    test_labels.append(label)\n",
    "\n",
    "#view the first sample shape\n",
    "test_samples[0].shape"
   ]
  },
  {
   "cell_type": "code",
   "execution_count": 63,
   "id": "f40a5f0c-ff73-4cda-a8fb-f3554514b198",
   "metadata": {},
   "outputs": [
    {
     "data": {
      "text/plain": [
       "Text(0.5, 1.0, 'Sandal')"
      ]
     },
     "execution_count": 63,
     "metadata": {},
     "output_type": "execute_result"
    },
    {
     "data": {
      "image/png": "[encoded data removed]",
      "text/plain": [
       "<Figure size 640x480 with 1 Axes>"
      ]
     },
     "metadata": {},
     "output_type": "display_data"
    }
   ],
   "source": [
    "plt.imshow(test_samples[0].squeeze(), cmap=\"gray\")\n",
    "plt.title(class_names[test_labels[0]])"
   ]
  },
  {
   "cell_type": "code",
   "execution_count": 64,
   "id": "71381798-0b85-4166-9b91-9f30d40f5c37",
   "metadata": {},
   "outputs": [
    {
     "data": {
      "text/plain": [
       "tensor([[9.4565e-05, 1.9187e-06, 1.1317e-04, 4.5653e-06, 7.7565e-06, 9.9727e-01,\n",
       "         6.8336e-05, 6.1182e-04, 1.7601e-03, 6.8801e-05],\n",
       "        [4.7047e-03, 1.3399e-03, 6.4965e-01, 9.2763e-03, 2.9593e-01, 2.4549e-06,\n",
       "         3.4480e-02, 2.7922e-05, 4.5696e-03, 1.7666e-05],\n",
       "        [2.4427e-03, 1.6273e-04, 2.3283e-01, 9.8124e-05, 3.2788e-01, 3.5180e-05,\n",
       "         4.2717e-01, 2.6506e-04, 8.7679e-03, 3.4677e-04],\n",
       "        [9.9400e-04, 6.9967e-05, 1.6665e-01, 4.0880e-05, 8.0743e-01, 4.6193e-05,\n",
       "         2.4610e-02, 5.5840e-06, 1.3462e-04, 1.8789e-05]])"
      ]
     },
     "execution_count": 64,
     "metadata": {},
     "output_type": "execute_result"
    }
   ],
   "source": [
    "# Make prediction\n",
    "pred_probs = make_predictions(model=model_2,\n",
    "                             data=test_samples)\n",
    "\n",
    "# View the first 2 prediction probabilities\n",
    "pred_probs[:4]"
   ]
  },
  {
   "cell_type": "code",
   "execution_count": 65,
   "id": "36d2546d-c05b-4138-94ea-c2672a3366e9",
   "metadata": {},
   "outputs": [
    {
     "data": {
      "text/plain": [
       "tensor([5, 2, 6, 4, 1, 1, 8, 5, 9])"
      ]
     },
     "execution_count": 65,
     "metadata": {},
     "output_type": "execute_result"
    }
   ],
   "source": [
    "# convert predictions probabilities to labels\n",
    "pred_classes = pred_probs.argmax(dim=1)\n",
    "pred_classes"
   ]
  },
  {
   "cell_type": "code",
   "execution_count": 66,
   "id": "ce6bddab-191d-4873-983d-52f03f56d5fd",
   "metadata": {},
   "outputs": [
    {
     "data": {
      "text/plain": [
       "[5, 2, 4, 4, 1, 1, 8, 5, 9]"
      ]
     },
     "execution_count": 66,
     "metadata": {},
     "output_type": "execute_result"
    }
   ],
   "source": [
    "test_labels"
   ]
  },
  {
   "cell_type": "markdown",
   "id": "13b22103-983c-4f94-b46a-8e28440bd8aa",
   "metadata": {},
   "source": [
    "### 9.1 Plotting our best model predictions on the test set and evaluating them\n",
    "[Chapter 121](https://youtu.be/V_xro1bcAuA&t=68162)"
   ]
  },
  {
   "cell_type": "code",
   "execution_count": 67,
   "id": "07d95786-838a-4ee5-8d23-2efb29e0ef7e",
   "metadata": {},
   "outputs": [
    {
     "data": {
      "image/png": "[encoded data removed]",
      "text/plain": [
       "<Figure size 900x900 with 9 Axes>"
      ]
     },
     "metadata": {},
     "output_type": "display_data"
    }
   ],
   "source": [
    "plt.figure(figsize=(9,9))\n",
    "nrows = 3\n",
    "ncols = 3\n",
    "for i, sample in enumerate(test_samples):\n",
    "    # Create subplot\n",
    "    plt.subplot(nrows, ncols, i+1)\n",
    "    # Plot the target image\n",
    "    plt.imshow(sample.squeeze(), cmap=\"gray\")\n",
    "\n",
    "    # find the prediction (in text form)\n",
    "    pred_label = class_names[pred_classes[i]]\n",
    "\n",
    "    # Get the truth label (in text form)\n",
    "    truth_label = class_names[test_labels[i]]\n",
    "\n",
    "    # Create a title\n",
    "    title_text = f\"Pred:{pred_label} | Truth: {truth_label}\"\n",
    "\n",
    "    # Check for equality between pred and truth and change color of title text\n",
    "    if pred_label == truth_label:\n",
    "        plt.title(title_text, fontsize=10, c='g') # Green text if prediction was correct\n",
    "    else:\n",
    "        plt.title(title_text, fontsize=10, c='r') # Red text for incorrect prediction\n",
    "\n",
    "    plt.axis(False)\n",
    "    "
   ]
  },
  {
   "cell_type": "markdown",
   "id": "03fb3c4c-f51d-4d0d-bfbd-d922b44b5afa",
   "metadata": {},
   "source": [
    "## 10. Making a confusion matrix for further prediction evaluation\n",
    "\n",
    "Making predictions across whole test dataset and importing libraries to plot a confusion matrix | [Chapter 122](https://youtu.be/V_xro1bcAuA&t=68653)\n",
    "A confusion matrix is a fantastic way of evaluating your classification model\n",
    "\n",
    "1. Make Predictions with our trained model on the test dataset\n",
    "2. Make a confusion matrix `torchmetrics.ConfusionMatrix`\n",
    "3. Plot the confusion matrix using `mlxtend.plotting.plot_confusion_matrix()`\n",
    "\n",
    "from command promp in correct virtual environment\n",
    "\n",
    "conda install -c conda-forge torchmetrics\n",
    "conda install -c conda-forge mlxtend"
   ]
  },
  {
   "cell_type": "code",
   "execution_count": 68,
   "id": "d75dc5f7-52bb-4569-99af-590cacd8dc1f",
   "metadata": {},
   "outputs": [
    {
     "name": "stdout",
     "output_type": "stream",
     "text": [
      "1.5.1\n"
     ]
    },
    {
     "data": {
      "application/vnd.jupyter.widget-view+json": {
       "model_id": "04289618a0b34fb0a7f04a48a7d2bb1f",
       "version_major": 2,
       "version_minor": 0
      },
      "text/plain": [
       "Making predictions...:   0%|          | 0/157 [00:00<?, ?it/s]"
      ]
     },
     "metadata": {},
     "output_type": "display_data"
    },
    {
     "data": {
      "text/plain": [
       "tensor([9, 2, 1, 1, 6])"
      ]
     },
     "execution_count": 68,
     "metadata": {},
     "output_type": "execute_result"
    }
   ],
   "source": [
    "# Import tqdm.auto   doesn't work in jupyter\n",
    "from tqdm.auto import tqdm\n",
    "import torchmetrics\n",
    "import mlxtend\n",
    "\n",
    "print(torchmetrics.__version__)\n",
    "# 1. Make predictions with traind model\n",
    "y_preds = []\n",
    "model_2.eval()\n",
    "with torch.inference_mode():\n",
    "    for X, y in tqdm(test_dataloader, desc=\"Making predictions...\"):\n",
    "        # Send data to target device\n",
    "        X, y = X.to(device), y.to(device)\n",
    "\n",
    "        # Forward pass\n",
    "        y_logit = model_2(X)\n",
    "        y_pred = torch.softmax(y_logit.squeeze(), dim=0).argmax(dim=1)\n",
    "        y_preds.append(y_pred.cpu())\n",
    "\n",
    "# Concatenate into a tensor\n",
    "#print(y_preds)\n",
    "y_pred_tensor = torch.cat(y_preds)\n",
    "y_pred_tensor[:5]\n",
    "        "
   ]
  },
  {
   "cell_type": "code",
   "execution_count": 69,
   "id": "b77207b5-6836-4ed5-a524-97b3eca10def",
   "metadata": {},
   "outputs": [
    {
     "data": {
      "text/plain": [
       "(tensor([9, 2, 1,  ..., 8, 1, 7]), tensor([9, 2, 1,  ..., 8, 1, 5]))"
      ]
     },
     "execution_count": 69,
     "metadata": {},
     "output_type": "execute_result"
    }
   ],
   "source": [
    "y_pred_tensor,test_data.targets\n"
   ]
  },
  {
   "cell_type": "markdown",
   "id": "3095b12a-8cae-44a9-9ad9-ce07407a255d",
   "metadata": {},
   "source": [
    "[Chapter 123](https://youtu.be/V_xro1bcAuA&t=69574)"
   ]
  },
  {
   "cell_type": "code",
   "execution_count": 70,
   "id": "b3914095-cdd4-424c-a6e0-90db6cce4fec",
   "metadata": {},
   "outputs": [
    {
     "data": {
      "text/plain": [
       "(<Figure size 1000x700 with 1 Axes>,\n",
       " <Axes: xlabel='predicted label', ylabel='true label'>)"
      ]
     },
     "execution_count": 70,
     "metadata": {},
     "output_type": "execute_result"
    },
    {
     "data": {
      "image/png": "[encoded data removed]",
      "text/plain": [
       "<Figure size 1000x700 with 1 Axes>"
      ]
     },
     "metadata": {},
     "output_type": "display_data"
    }
   ],
   "source": [
    "from torchmetrics import ConfusionMatrix\n",
    "from mlxtend.plotting import plot_confusion_matrix\n",
    "\n",
    "# 2. setup Confusion instance and compare predictions to targets\n",
    "confmat = ConfusionMatrix(task=\"multiclass\",num_classes=len(class_names))\n",
    "confmat_tensor = confmat(preds=y_pred_tensor,\n",
    "                        target=test_data.targets)\n",
    "\n",
    "#3.Plot the matrix from mlxtend\n",
    "fig, ax = plot_confusion_matrix(\n",
    "    conf_mat=confmat_tensor.numpy(),\n",
    "    class_names=class_names,\n",
    "    figsize=(10,7)\n",
    ")\n",
    "fig, ax"
   ]
  },
  {
   "cell_type": "markdown",
   "id": "13111899-dfc1-4379-8263-ad1bdc9923ac",
   "metadata": {},
   "source": [
    "## 11. Save and load best performing model. [Chapter 124](https://youtu.be/V_xro1bcAuA&t=69990)"
   ]
  },
  {
   "cell_type": "code",
   "execution_count": 71,
   "id": "124e82f0-71a7-4bb0-8eee-962a32af6959",
   "metadata": {},
   "outputs": [
    {
     "data": {
      "text/plain": [
       "OrderedDict([('block_1.0.weight',\n",
       "              tensor([[[[ 0.3035,  0.3717, -0.0720],\n",
       "                        [ 0.3824,  0.2686,  0.2914],\n",
       "                        [-0.2205,  0.3498,  0.3426]]],\n",
       "              \n",
       "              \n",
       "                      [[[-0.3485,  0.5448,  0.1001],\n",
       "                        [ 0.2753,  0.5389,  0.3003],\n",
       "                        [ 0.0164,  0.5449,  0.0625]]],\n",
       "              \n",
       "              \n",
       "                      [[[-0.1722,  0.0399, -0.1291],\n",
       "                        [-0.3669, -0.4196,  0.1362],\n",
       "                        [-0.5547, -0.4844, -0.2050]]],\n",
       "              \n",
       "              \n",
       "                      [[[-0.3432, -0.3156, -0.5565],\n",
       "                        [ 0.4431, -0.3639,  0.3226],\n",
       "                        [ 0.3571, -0.0423,  0.4187]]],\n",
       "              \n",
       "              \n",
       "                      [[[-0.0829,  0.3368, -0.0314],\n",
       "                        [-0.1606,  0.3313, -0.1321],\n",
       "                        [ 0.1818,  0.5560,  0.2153]]],\n",
       "              \n",
       "              \n",
       "                      [[[-0.1480,  0.1899,  0.0579],\n",
       "                        [ 0.1673, -0.2035, -0.3306],\n",
       "                        [-0.1285, -0.2554,  0.2717]]],\n",
       "              \n",
       "              \n",
       "                      [[[ 0.1795,  0.0953, -0.0244],\n",
       "                        [ 0.0129,  0.1656, -0.3447],\n",
       "                        [ 0.0224, -0.3429,  0.0152]]],\n",
       "              \n",
       "              \n",
       "                      [[[-0.1542,  0.0559, -0.0942],\n",
       "                        [ 0.3088, -0.1854, -0.1934],\n",
       "                        [-0.1552,  0.3969,  0.2194]]],\n",
       "              \n",
       "              \n",
       "                      [[[ 0.3112, -0.3195, -0.4165],\n",
       "                        [-0.1643, -0.1657,  0.0965],\n",
       "                        [ 0.2810,  0.4695, -0.0974]]],\n",
       "              \n",
       "              \n",
       "                      [[[-0.2271,  0.1767, -0.1347],\n",
       "                        [ 0.2022, -0.0793,  0.1904],\n",
       "                        [-0.2590, -0.1683,  0.1016]]]], device='cuda:0')),\n",
       "             ('block_1.0.bias',\n",
       "              tensor([ 0.0739, -0.0112,  0.2395,  0.1193,  0.0226, -0.1817,  0.2357, -0.0370,\n",
       "                      -0.0843, -0.3228], device='cuda:0')),\n",
       "             ('block_1.2.weight',\n",
       "              tensor([[[[ 1.8887e-01,  1.0550e-01, -4.3346e-02],\n",
       "                        [-1.8105e-01, -2.0800e-01, -3.2048e-01],\n",
       "                        [-2.0491e-01, -2.8344e-01, -2.8913e-01]],\n",
       "              \n",
       "                       [[-1.6002e-03,  5.9833e-02, -5.7352e-02],\n",
       "                        [-1.9665e-01, -3.4410e-01, -3.3545e-01],\n",
       "                        [-1.1320e-01, -1.9933e-01, -3.5067e-01]],\n",
       "              \n",
       "                       [[-1.2611e-02, -1.7197e-02,  5.3359e-02],\n",
       "                        [ 1.5759e-01,  2.3024e-01,  1.5879e-01],\n",
       "                        [-1.3177e-03,  4.6047e-02,  7.1440e-02]],\n",
       "              \n",
       "                       [[-1.9420e-01, -1.6927e-02, -1.3777e-01],\n",
       "                        [ 7.3694e-02,  9.4881e-03, -1.1009e-01],\n",
       "                        [ 2.1189e-01,  4.8138e-02,  6.7537e-02]],\n",
       "              \n",
       "                       [[-5.5976e-02, -1.3882e-01, -2.7064e-02],\n",
       "                        [-1.2138e-01, -1.0154e-01, -2.4446e-01],\n",
       "                        [ 1.3265e-01, -1.1136e-01, -8.4537e-02]],\n",
       "              \n",
       "                       [[ 2.2685e-02,  5.5010e-02,  8.5152e-02],\n",
       "                        [ 9.6141e-02, -8.3514e-02,  2.7354e-02],\n",
       "                        [-4.5401e-02, -1.1839e-02, -7.6894e-02]],\n",
       "              \n",
       "                       [[ 1.6792e-01, -8.5445e-02,  5.9941e-03],\n",
       "                        [ 1.7401e-01,  1.2111e-01,  1.3283e-02],\n",
       "                        [ 6.8391e-02,  1.8132e-02, -1.9201e-02]],\n",
       "              \n",
       "                       [[-8.6689e-02,  4.8042e-02, -1.4685e-02],\n",
       "                        [-4.1127e-02,  8.9260e-02,  2.3410e-02],\n",
       "                        [-4.0984e-03, -4.4938e-02,  1.0539e-02]],\n",
       "              \n",
       "                       [[ 6.8112e-02, -1.1418e-02, -5.4853e-02],\n",
       "                        [-1.5946e-02, -6.5021e-02,  3.7201e-02],\n",
       "                        [ 1.5107e-01, -5.0401e-02,  4.6164e-02]],\n",
       "              \n",
       "                       [[ 5.4454e-02,  1.9104e-02, -3.7542e-02],\n",
       "                        [ 5.5017e-02,  5.5394e-02,  3.9416e-02],\n",
       "                        [-1.8523e-02, -2.7913e-02,  1.1277e-02]]],\n",
       "              \n",
       "              \n",
       "                      [[[-7.6164e-02, -1.6141e-01, -6.5375e-02],\n",
       "                        [ 8.4025e-02, -1.0591e-01, -6.7753e-02],\n",
       "                        [ 7.4333e-02,  5.4780e-02,  1.2039e-01]],\n",
       "              \n",
       "                       [[-4.6676e-02, -2.2206e-01, -1.6187e-01],\n",
       "                        [ 4.7927e-02, -5.1800e-02, -6.8031e-02],\n",
       "                        [-1.3832e-03, -1.4495e-02,  7.1886e-03]],\n",
       "              \n",
       "                       [[-4.0602e-03,  8.2211e-02,  1.1879e-01],\n",
       "                        [ 4.5645e-02, -1.0318e-01, -7.2233e-02],\n",
       "                        [-4.1047e-02,  6.5293e-02, -2.2180e-02]],\n",
       "              \n",
       "                       [[ 3.2401e-02,  6.4759e-02,  1.5044e-02],\n",
       "                        [-3.6483e-02,  1.1621e-01,  4.1473e-02],\n",
       "                        [ 3.7689e-02,  2.0929e-02,  1.8682e-01]],\n",
       "              \n",
       "                       [[ 3.6295e-02, -3.5166e-02, -1.5878e-01],\n",
       "                        [-1.0259e-01, -1.0894e-01,  5.1011e-02],\n",
       "                        [ 1.1855e-01,  1.3335e-01,  1.1491e-01]],\n",
       "              \n",
       "                       [[ 2.6827e-02, -1.2412e-03, -7.9843e-02],\n",
       "                        [-9.0619e-02, -9.8411e-02,  4.3492e-02],\n",
       "                        [-5.1820e-02, -2.1240e-02, -6.0339e-02]],\n",
       "              \n",
       "                       [[ 8.1804e-03, -5.7037e-02, -5.8313e-02],\n",
       "                        [ 2.6906e-02, -2.4893e-02,  4.1802e-02],\n",
       "                        [-4.0808e-02, -8.9621e-02, -7.2767e-02]],\n",
       "              \n",
       "                       [[-3.7200e-02, -2.5026e-02, -1.0192e-01],\n",
       "                        [ 8.4163e-02, -6.3430e-02,  6.0539e-02],\n",
       "                        [ 5.9878e-02,  9.1725e-02, -7.5947e-02]],\n",
       "              \n",
       "                       [[ 9.1277e-02, -2.8135e-02,  4.8148e-02],\n",
       "                        [ 1.3823e-01,  1.6263e-02,  2.3526e-02],\n",
       "                        [ 7.4859e-03, -6.7789e-02,  8.1517e-02]],\n",
       "              \n",
       "                       [[-1.0464e-01,  6.5440e-02,  7.8875e-02],\n",
       "                        [ 9.9689e-02, -2.4874e-02, -8.6609e-02],\n",
       "                        [ 2.3702e-02,  5.8230e-02, -1.0493e-01]]],\n",
       "              \n",
       "              \n",
       "                      [[[-2.4363e-02, -6.3611e-02, -9.6727e-03],\n",
       "                        [-5.2664e-02, -4.3939e-02, -3.4745e-02],\n",
       "                        [-1.0647e-01,  8.0633e-02,  8.2424e-02]],\n",
       "              \n",
       "                       [[-1.6578e-02, -1.2050e-02, -4.3070e-02],\n",
       "                        [-9.5727e-02, -1.0280e-01,  3.8838e-02],\n",
       "                        [-6.3943e-02, -7.3181e-02, -1.4140e-02]],\n",
       "              \n",
       "                       [[-3.6473e-02, -3.5536e-02,  1.9503e-03],\n",
       "                        [-2.3682e-02, -3.8159e-02, -5.2238e-02],\n",
       "                        [-8.5861e-02,  8.8380e-02, -4.2185e-02]],\n",
       "              \n",
       "                       [[ 2.7264e-02, -3.7190e-02,  7.9035e-03],\n",
       "                        [ 9.6367e-02,  4.7128e-02, -9.2756e-02],\n",
       "                        [ 3.4850e-02,  9.3097e-02,  2.1225e-02]],\n",
       "              \n",
       "                       [[ 7.0579e-02,  1.0383e-01, -1.6245e-02],\n",
       "                        [ 2.0904e-02, -7.3817e-02, -2.2459e-02],\n",
       "                        [ 7.0830e-02,  4.6821e-02, -7.4219e-02]],\n",
       "              \n",
       "                       [[-8.4526e-02, -7.2033e-02, -1.0403e-01],\n",
       "                        [-8.1338e-02, -2.6061e-02,  7.1145e-02],\n",
       "                        [ 1.7659e-02, -8.0184e-02, -8.4562e-02]],\n",
       "              \n",
       "                       [[ 5.0852e-02, -7.9986e-02, -1.4525e-02],\n",
       "                        [ 4.8053e-02, -5.1407e-02, -1.4056e-02],\n",
       "                        [-1.0132e-02, -2.5760e-02, -5.3833e-02]],\n",
       "              \n",
       "                       [[-9.3966e-02, -8.5208e-02, -5.6443e-02],\n",
       "                        [ 1.0175e-01, -5.0923e-02, -7.0858e-02],\n",
       "                        [ 2.2870e-02,  2.6663e-02,  5.5540e-02]],\n",
       "              \n",
       "                       [[ 8.0126e-02,  5.8694e-02, -1.0451e-01],\n",
       "                        [ 8.8213e-03,  6.3796e-02, -9.7370e-03],\n",
       "                        [-6.5563e-02,  9.6847e-02, -4.3579e-02]],\n",
       "              \n",
       "                       [[-6.0014e-02, -9.5032e-02,  4.7085e-03],\n",
       "                        [ 4.6710e-02,  2.3334e-02,  2.0845e-02],\n",
       "                        [-7.9941e-02, -9.8440e-02,  1.8562e-03]]],\n",
       "              \n",
       "              \n",
       "                      [[[ 1.5614e-01,  7.6336e-03, -9.9546e-02],\n",
       "                        [ 1.0213e-01,  3.3018e-02,  7.8103e-02],\n",
       "                        [ 2.9082e-02,  1.4110e-01,  1.6664e-01]],\n",
       "              \n",
       "                       [[-1.4905e-01,  6.5000e-02, -1.0576e-01],\n",
       "                        [ 2.0328e-01,  1.4621e-01,  5.0847e-02],\n",
       "                        [ 1.1799e-01, -1.6992e-01, -1.6289e-02]],\n",
       "              \n",
       "                       [[ 3.4687e-03, -2.0868e-01, -1.4103e-01],\n",
       "                        [-1.1285e-01, -4.8136e-02, -8.1556e-03],\n",
       "                        [-4.1128e-02, -1.8174e-01, -1.3026e-01]],\n",
       "              \n",
       "                       [[ 1.1883e-01,  1.6637e-01,  1.4750e-01],\n",
       "                        [-2.2057e-01, -9.6355e-02, -8.3770e-02],\n",
       "                        [-2.0512e-01, -1.7808e-01, -3.4190e-01]],\n",
       "              \n",
       "                       [[-7.4085e-02, -3.9207e-02, -5.7615e-02],\n",
       "                        [ 1.2896e-01, -9.3504e-03, -5.3169e-02],\n",
       "                        [ 8.8683e-02, -4.4129e-02,  9.3951e-02]],\n",
       "              \n",
       "                       [[-5.1916e-02, -4.4962e-02,  3.8059e-02],\n",
       "                        [-7.0707e-02, -7.0391e-02, -5.6095e-03],\n",
       "                        [-3.8860e-02, -7.8893e-02,  6.0697e-02]],\n",
       "              \n",
       "                       [[ 1.3809e-01,  2.5127e-02,  1.5239e-02],\n",
       "                        [-8.1442e-02,  9.3137e-03,  1.5969e-02],\n",
       "                        [ 1.7414e-01,  7.7247e-02,  4.4813e-04]],\n",
       "              \n",
       "                       [[-6.4868e-03, -1.4122e-01,  4.4321e-02],\n",
       "                        [-1.3773e-01, -1.0690e-01, -1.0786e-01],\n",
       "                        [-4.9792e-03, -5.9687e-02,  1.1816e-02]],\n",
       "              \n",
       "                       [[ 4.4569e-02, -1.8659e-03,  6.6220e-03],\n",
       "                        [-1.4979e-01, -2.2353e-01, -8.5270e-02],\n",
       "                        [ 3.0356e-02, -1.3640e-01, -8.4036e-02]],\n",
       "              \n",
       "                       [[-1.0392e-01, -8.6297e-02,  2.0340e-02],\n",
       "                        [ 2.8120e-02,  2.2355e-02, -2.8768e-02],\n",
       "                        [ 9.7266e-02,  1.5256e-02, -6.2312e-02]]],\n",
       "              \n",
       "              \n",
       "                      [[[-4.4683e-02,  8.8331e-02,  1.4382e-01],\n",
       "                        [-1.3702e-01,  6.3278e-02,  7.4406e-03],\n",
       "                        [-2.1795e-01, -1.6553e-01,  3.4954e-02]],\n",
       "              \n",
       "                       [[ 1.1365e-01,  1.9345e-01,  1.2347e-01],\n",
       "                        [ 6.1472e-02,  1.3548e-02, -4.6471e-02],\n",
       "                        [-7.0727e-02, -1.6971e-01, -1.7126e-01]],\n",
       "              \n",
       "                       [[-5.3762e-02,  7.1147e-03,  3.8512e-02],\n",
       "                        [-4.7508e-02, -6.2426e-02,  1.0523e-02],\n",
       "                        [-7.0548e-02, -5.5469e-02,  6.4293e-02]],\n",
       "              \n",
       "                       [[-1.2447e-02,  8.7936e-02,  8.2460e-02],\n",
       "                        [ 1.0778e-02, -2.6696e-03, -4.8399e-03],\n",
       "                        [-1.4000e-02, -4.4735e-02, -2.8808e-02]],\n",
       "              \n",
       "                       [[ 2.9935e-02,  1.6074e-01,  3.0111e-02],\n",
       "                        [-8.8532e-02, -3.4736e-02, -5.7499e-02],\n",
       "                        [-1.0457e-01, -1.9590e-02, -1.7765e-02]],\n",
       "              \n",
       "                       [[ 4.8160e-02, -7.7569e-02, -5.6416e-02],\n",
       "                        [-2.3270e-02, -1.9364e-02,  8.7199e-03],\n",
       "                        [-9.6827e-02,  3.2626e-02, -8.0221e-02]],\n",
       "              \n",
       "                       [[-1.0514e-01, -9.4798e-02,  1.0498e-01],\n",
       "                        [-9.9447e-02,  8.5102e-02,  6.1975e-03],\n",
       "                        [-4.4096e-03,  7.4018e-02, -1.5440e-02]],\n",
       "              \n",
       "                       [[ 6.6197e-02,  7.9872e-02, -8.3416e-02],\n",
       "                        [ 3.3827e-02,  1.9331e-02,  2.7152e-02],\n",
       "                        [ 1.1134e-02,  2.4269e-02, -5.6254e-02]],\n",
       "              \n",
       "                       [[-1.1516e-02,  1.0243e-01,  8.0523e-02],\n",
       "                        [-4.8188e-03, -9.8914e-02,  1.2225e-02],\n",
       "                        [-7.2681e-02,  9.1144e-02, -6.1343e-02]],\n",
       "              \n",
       "                       [[-7.6169e-03, -2.3428e-02,  1.8771e-02],\n",
       "                        [ 9.9187e-02,  1.0038e-02,  6.1072e-02],\n",
       "                        [ 8.1826e-02,  8.5081e-02, -3.6390e-02]]],\n",
       "              \n",
       "              \n",
       "                      [[[ 1.2879e-01,  1.5310e-01,  1.1017e-01],\n",
       "                        [ 1.4620e-01,  3.1066e-02, -2.9085e-02],\n",
       "                        [ 1.8956e-03, -1.1661e-01, -8.3900e-02]],\n",
       "              \n",
       "                       [[ 2.6607e-01,  1.8794e-01,  1.8522e-01],\n",
       "                        [ 1.1548e-01, -6.7310e-02, -7.6137e-02],\n",
       "                        [-1.3485e-01, -2.9872e-01, -2.1567e-01]],\n",
       "              \n",
       "                       [[-7.7584e-02, -8.4009e-02, -6.1285e-02],\n",
       "                        [-8.6303e-02, -5.5771e-02,  4.7574e-02],\n",
       "                        [ 1.1221e-01, -3.6057e-03,  1.1117e-02]],\n",
       "              \n",
       "                       [[ 3.7487e-02, -1.0009e-01, -8.1901e-02],\n",
       "                        [ 8.0506e-03, -1.1737e-01, -2.0042e-02],\n",
       "                        [ 3.0332e-02,  7.3012e-03, -1.0743e-02]],\n",
       "              \n",
       "                       [[ 7.2560e-02,  9.7037e-02,  7.7722e-02],\n",
       "                        [ 6.5897e-02,  4.5537e-03,  5.0718e-02],\n",
       "                        [-1.4793e-01, -1.6889e-01, -2.1785e-01]],\n",
       "              \n",
       "                       [[-8.3304e-02, -8.6593e-03, -9.2646e-02],\n",
       "                        [ 7.3151e-02,  1.1939e-02, -5.6930e-02],\n",
       "                        [ 5.5244e-02, -9.9510e-02, -4.0528e-02]],\n",
       "              \n",
       "                       [[-2.2824e-02, -5.3341e-02, -2.8105e-02],\n",
       "                        [ 2.0924e-02,  1.2663e-01,  1.1984e-01],\n",
       "                        [ 1.3251e-01,  3.3216e-03, -5.1446e-02]],\n",
       "              \n",
       "                       [[ 8.6890e-02,  2.6526e-02, -6.7664e-03],\n",
       "                        [ 3.5620e-03, -8.8187e-02, -4.0032e-02],\n",
       "                        [ 9.6971e-02, -3.8543e-02, -2.3644e-02]],\n",
       "              \n",
       "                       [[-8.8187e-02, -5.2450e-02, -1.0871e-02],\n",
       "                        [-6.1413e-02,  5.0848e-04,  5.3789e-02],\n",
       "                        [-9.9743e-02,  4.5048e-02, -7.8688e-02]],\n",
       "              \n",
       "                       [[-5.1474e-02,  4.0469e-02,  8.3772e-02],\n",
       "                        [-2.8817e-02, -4.3247e-02, -9.5308e-02],\n",
       "                        [-5.4343e-02, -9.2296e-02, -2.4131e-02]]],\n",
       "              \n",
       "              \n",
       "                      [[[ 2.7238e-01, -8.9539e-02, -4.1960e-02],\n",
       "                        [ 3.0673e-01, -4.4285e-02, -2.9310e-01],\n",
       "                        [ 1.4239e-01,  6.0743e-02, -2.0436e-01]],\n",
       "              \n",
       "                       [[ 1.4969e-01,  8.2257e-02, -2.8974e-01],\n",
       "                        [ 2.6008e-01, -2.4268e-02, -2.9349e-01],\n",
       "                        [ 1.7479e-01, -2.1570e-02, -2.9672e-01]],\n",
       "              \n",
       "                       [[-2.1177e-01, -1.2513e-01, -1.3505e-01],\n",
       "                        [-1.0443e-01, -2.5511e-01,  3.1025e-02],\n",
       "                        [-7.9338e-02, -1.1306e-01,  4.9093e-02]],\n",
       "              \n",
       "                       [[-1.7434e-01, -9.7575e-03,  9.2629e-03],\n",
       "                        [-7.1933e-02, -2.0080e-03,  3.0004e-01],\n",
       "                        [ 3.0431e-02, -1.8502e-01,  1.7431e-01]],\n",
       "              \n",
       "                       [[ 1.1251e-01, -1.2809e-02, -3.0860e-01],\n",
       "                        [ 1.3022e-01,  1.2214e-01, -2.4268e-01],\n",
       "                        [-3.1944e-02,  1.0526e-01, -2.4100e-01]],\n",
       "              \n",
       "                       [[ 9.6139e-02, -9.0739e-02, -3.3615e-02],\n",
       "                        [-1.0149e-01, -4.1303e-02,  3.2299e-02],\n",
       "                        [ 1.0152e-01,  1.7415e-02,  1.0251e-01]],\n",
       "              \n",
       "                       [[ 2.0074e-02,  9.9376e-02,  9.4809e-02],\n",
       "                        [ 1.6246e-01,  1.1056e-02,  1.2529e-01],\n",
       "                        [ 1.0130e-01,  3.5157e-02, -3.8913e-02]],\n",
       "              \n",
       "                       [[-1.2719e-01,  2.4083e-02, -6.4040e-02],\n",
       "                        [ 7.5825e-03,  4.3906e-02, -6.9926e-02],\n",
       "                        [-6.9674e-03, -2.2841e-02,  6.9703e-02]],\n",
       "              \n",
       "                       [[ 3.9833e-02, -1.9488e-01,  5.7120e-02],\n",
       "                        [ 2.8925e-02,  4.5745e-04, -8.6921e-02],\n",
       "                        [-2.5067e-02, -6.8151e-02, -5.4515e-02]],\n",
       "              \n",
       "                       [[ 5.9432e-02,  3.8359e-02,  8.3467e-02],\n",
       "                        [-3.9415e-02,  3.5530e-02,  3.7481e-02],\n",
       "                        [-8.7694e-02, -1.0218e-01, -5.4753e-02]]],\n",
       "              \n",
       "              \n",
       "                      [[[ 1.1542e-01, -1.3385e-01, -1.2911e-01],\n",
       "                        [ 1.0013e-01,  1.1513e-01,  1.2493e-01],\n",
       "                        [-2.1069e-02,  2.9405e-02,  8.5575e-02]],\n",
       "              \n",
       "                       [[ 7.7416e-02,  4.7049e-02, -5.8618e-02],\n",
       "                        [ 6.4064e-02,  1.0288e-01, -1.0349e-01],\n",
       "                        [ 2.7833e-02,  1.3727e-01, -2.8317e-02]],\n",
       "              \n",
       "                       [[-1.4217e-01, -6.7115e-02, -2.9137e-02],\n",
       "                        [-6.4049e-02, -1.6046e-01, -4.8533e-02],\n",
       "                        [ 2.2252e-03, -1.7296e-01, -4.1143e-02]],\n",
       "              \n",
       "                       [[ 3.9267e-02, -1.3108e-01,  2.0111e-01],\n",
       "                        [-1.6477e-01, -1.5150e-01,  3.2887e-02],\n",
       "                        [-8.3588e-02, -1.6335e-01,  1.5531e-02]],\n",
       "              \n",
       "                       [[ 1.3198e-02, -1.2265e-01, -1.1841e-01],\n",
       "                        [ 1.7942e-01,  1.2149e-01,  4.9618e-02],\n",
       "                        [-6.5611e-02, -1.4300e-02, -2.5832e-02]],\n",
       "              \n",
       "                       [[-2.0188e-02, -7.3133e-02,  8.2321e-03],\n",
       "                        [ 1.0763e-02, -1.3806e-02,  1.4009e-02],\n",
       "                        [-4.2130e-02,  2.6858e-02,  3.8167e-02]],\n",
       "              \n",
       "                       [[-2.7604e-03, -8.4065e-02,  1.0275e-01],\n",
       "                        [ 5.1751e-02, -1.7719e-02,  6.2427e-02],\n",
       "                        [-9.1518e-03,  9.5343e-02,  3.3629e-02]],\n",
       "              \n",
       "                       [[-1.4702e-01,  9.4188e-03, -8.8820e-02],\n",
       "                        [-1.2360e-01, -7.0336e-02, -8.2783e-02],\n",
       "                        [ 1.0518e-01, -5.2563e-02,  5.6719e-03]],\n",
       "              \n",
       "                       [[-1.1378e-01, -4.3246e-02, -1.1636e-01],\n",
       "                        [-1.5496e-01, -8.2504e-02, -1.3220e-02],\n",
       "                        [ 5.7587e-02, -9.5389e-02, -9.9869e-02]],\n",
       "              \n",
       "                       [[ 2.0304e-02,  2.8606e-02,  4.0498e-02],\n",
       "                        [ 5.7927e-02, -2.3957e-02,  5.8560e-02],\n",
       "                        [ 7.7758e-02, -2.7427e-02,  7.4904e-02]]],\n",
       "              \n",
       "              \n",
       "                      [[[ 1.8127e-01,  4.4689e-02, -1.3655e-01],\n",
       "                        [ 5.1145e-02, -4.4888e-03, -6.9891e-02],\n",
       "                        [ 2.1824e-01,  4.9621e-02, -1.1332e-02]],\n",
       "              \n",
       "                       [[-6.4165e-02,  6.6345e-02, -2.0958e-01],\n",
       "                        [ 1.3554e-02, -9.9896e-03, -2.7339e-01],\n",
       "                        [ 2.5828e-01, -3.1647e-02, -9.7283e-02]],\n",
       "              \n",
       "                       [[-1.2124e-01, -2.9413e-01, -7.1755e-02],\n",
       "                        [-1.8601e-01, -2.4595e-01, -1.4793e-01],\n",
       "                        [-1.1264e-01, -1.8933e-01, -8.4637e-03]],\n",
       "              \n",
       "                       [[-6.1800e-02, -1.6883e-02,  3.0230e-01],\n",
       "                        [-2.1233e-02, -9.5466e-02,  1.1424e-01],\n",
       "                        [ 5.3197e-02, -1.0991e-01,  7.7338e-02]],\n",
       "              \n",
       "                       [[ 5.4384e-02,  8.3990e-02, -2.3019e-02],\n",
       "                        [ 2.4869e-01,  1.2768e-01, -2.3437e-01],\n",
       "                        [ 1.5303e-01, -3.5711e-02, -1.7629e-01]],\n",
       "              \n",
       "                       [[ 8.7860e-02,  8.1755e-02,  3.1584e-02],\n",
       "                        [ 6.5614e-03, -8.8828e-02, -1.1965e-02],\n",
       "                        [ 1.0204e-01,  2.6414e-02,  8.0832e-03]],\n",
       "              \n",
       "                       [[ 3.3956e-02, -1.3888e-02,  1.3422e-01],\n",
       "                        [ 5.0088e-02,  1.0195e-01, -1.5732e-02],\n",
       "                        [ 1.6014e-01,  1.4059e-01,  3.6382e-02]],\n",
       "              \n",
       "                       [[ 1.4656e-03,  2.5013e-02,  1.7743e-01],\n",
       "                        [ 2.7743e-02, -6.3038e-02, -9.9941e-02],\n",
       "                        [ 2.7195e-04, -2.8434e-02, -3.3955e-02]],\n",
       "              \n",
       "                       [[-1.3311e-02, -1.1691e-01,  4.1167e-02],\n",
       "                        [-2.8368e-02, -1.5872e-01, -3.5719e-02],\n",
       "                        [-1.9074e-02, -1.1676e-01,  4.4102e-02]],\n",
       "              \n",
       "                       [[ 5.5812e-02,  9.5196e-02,  3.7680e-04],\n",
       "                        [ 2.1316e-02,  3.6606e-02, -9.9849e-02],\n",
       "                        [ 9.4224e-03, -6.9612e-03, -5.9145e-02]]],\n",
       "              \n",
       "              \n",
       "                      [[[-1.5831e-01,  1.4583e-01,  3.1053e-01],\n",
       "                        [-1.3362e-01,  4.2067e-02,  9.2298e-02],\n",
       "                        [-2.2140e-01, -7.8018e-02,  3.9765e-02]],\n",
       "              \n",
       "                       [[-1.5231e-01, -4.1917e-02,  2.5907e-01],\n",
       "                        [-2.8586e-01, -2.8941e-02,  2.8256e-01],\n",
       "                        [-2.3549e-01, -6.8901e-02,  1.7930e-01]],\n",
       "              \n",
       "                       [[-5.5473e-04,  1.7805e-02,  8.5638e-02],\n",
       "                        [ 1.3189e-02, -3.2045e-02, -6.8550e-02],\n",
       "                        [ 1.8748e-02, -5.3737e-03, -4.3285e-02]],\n",
       "              \n",
       "                       [[ 3.9655e-02,  1.0462e-02, -4.5713e-02],\n",
       "                        [-4.2131e-02, -3.3127e-02, -7.0965e-02],\n",
       "                        [ 3.2732e-02, -9.2268e-02, -4.3506e-03]],\n",
       "              \n",
       "                       [[-2.1040e-01, -1.0250e-01,  4.2823e-02],\n",
       "                        [-1.0711e-01, -1.0039e-01,  6.4382e-02],\n",
       "                        [-5.7252e-02,  1.6759e-02,  1.2097e-01]],\n",
       "              \n",
       "                       [[-9.9939e-02, -7.5154e-02, -3.9394e-02],\n",
       "                        [ 8.7291e-02,  1.1013e-02, -7.8697e-02],\n",
       "                        [ 9.1250e-04, -8.1800e-02, -2.2907e-02]],\n",
       "              \n",
       "                       [[ 1.5589e-03,  7.6880e-02,  1.3651e-02],\n",
       "                        [-2.9005e-03,  3.3971e-03, -3.6358e-02],\n",
       "                        [ 2.5779e-02,  1.0724e-02,  1.8343e-02]],\n",
       "              \n",
       "                       [[-4.7021e-02,  9.2224e-02, -1.5726e-02],\n",
       "                        [-3.9795e-02,  6.3468e-02,  8.0863e-02],\n",
       "                        [ 1.0708e-01,  2.9310e-02, -3.9592e-02]],\n",
       "              \n",
       "                       [[ 5.2893e-02,  9.1443e-02, -8.9772e-02],\n",
       "                        [-2.8798e-03, -6.5325e-02,  1.7547e-02],\n",
       "                        [ 7.1636e-02, -1.6940e-02, -1.2238e-02]],\n",
       "              \n",
       "                       [[ 4.7435e-02, -1.7682e-02, -8.8479e-02],\n",
       "                        [ 8.4328e-02, -5.3028e-02, -1.1551e-02],\n",
       "                        [ 9.9404e-03, -6.3318e-03, -9.9143e-02]]]], device='cuda:0')),\n",
       "             ('block_1.2.bias',\n",
       "              tensor([ 0.5396, -0.0169, -0.0649,  0.1549, -0.0716, -0.0396,  0.1076,  0.1230,\n",
       "                       0.1201,  0.0205], device='cuda:0')),\n",
       "             ('block_2.0.weight',\n",
       "              tensor([[[[ 3.2305e-02, -9.6475e-02, -4.9790e-02],\n",
       "                        [-4.0009e-02, -4.4641e-03,  7.9415e-02],\n",
       "                        [-1.0239e-01,  3.7113e-02,  4.9711e-02]],\n",
       "              \n",
       "                       [[ 4.8201e-02, -9.3225e-02, -2.2078e-02],\n",
       "                        [-8.1747e-02, -5.0579e-02,  9.3202e-02],\n",
       "                        [-1.5404e-03,  5.8374e-02, -3.2838e-02]],\n",
       "              \n",
       "                       [[ 1.6039e-02, -6.3760e-02,  5.2645e-02],\n",
       "                        [-4.6121e-02, -2.6424e-02, -9.1465e-02],\n",
       "                        [ 3.3969e-04,  1.0008e-01,  5.1168e-02]],\n",
       "              \n",
       "                       [[-1.2162e-01,  1.0881e-02, -4.5559e-03],\n",
       "                        [-1.5874e-01,  8.3419e-02, -1.1849e-02],\n",
       "                        [-2.9469e-02, -6.1534e-02, -5.1344e-02]],\n",
       "              \n",
       "                       [[ 1.3330e-02,  6.4788e-02,  2.7489e-02],\n",
       "                        [-5.2968e-02,  1.3434e-01, -1.3451e-02],\n",
       "                        [-7.7392e-02, -2.2712e-02,  1.0913e-01]],\n",
       "              \n",
       "                       [[ 1.6094e-02,  1.5481e-02, -3.8804e-02],\n",
       "                        [-1.4159e-02, -6.1873e-02, -9.9778e-02],\n",
       "                        [ 7.5267e-02,  9.1691e-02,  8.0751e-02]],\n",
       "              \n",
       "                       [[-6.3555e-02,  9.3760e-02, -6.5180e-02],\n",
       "                        [ 1.1236e-01,  1.1088e-01,  1.3108e-01],\n",
       "                        [ 1.6988e-01,  3.9065e-02,  9.9687e-03]],\n",
       "              \n",
       "                       [[-8.5743e-03, -1.0646e-02,  4.3647e-02],\n",
       "                        [-9.7784e-02,  2.5419e-02, -9.9173e-02],\n",
       "                        [-6.5302e-02, -5.7211e-02, -2.9754e-02]],\n",
       "              \n",
       "                       [[-7.3655e-02, -6.8653e-02,  8.6143e-03],\n",
       "                        [ 9.7283e-02,  1.2679e-01,  1.0168e-01],\n",
       "                        [ 1.2710e-02, -1.2315e-01,  3.8189e-02]],\n",
       "              \n",
       "                       [[ 1.3617e-01, -2.1647e-02,  6.6755e-02],\n",
       "                        [ 1.6574e-01,  7.7281e-02, -2.1240e-02],\n",
       "                        [ 1.2813e-01,  9.0891e-02,  1.1574e-01]]],\n",
       "              \n",
       "              \n",
       "                      [[[-2.2944e-01, -5.6318e-02, -3.6555e-01],\n",
       "                        [ 1.7595e-02, -1.6236e-02,  4.1312e-02],\n",
       "                        [ 4.9470e-02,  2.3757e-01,  8.3749e-02]],\n",
       "              \n",
       "                       [[ 9.4855e-02, -8.4096e-02, -1.4534e-01],\n",
       "                        [-8.1418e-02, -2.4045e-02, -1.3970e-01],\n",
       "                        [ 6.1311e-02, -6.7199e-02,  3.0076e-02]],\n",
       "              \n",
       "                       [[ 6.3022e-02,  3.7342e-02, -5.3573e-02],\n",
       "                        [-8.6155e-02,  3.9557e-03, -6.1838e-02],\n",
       "                        [ 8.6661e-02, -1.0131e-01,  4.7087e-02]],\n",
       "              \n",
       "                       [[ 3.8394e-01,  1.9219e-01, -7.0296e-04],\n",
       "                        [ 2.0148e-01,  3.2210e-01, -2.2187e-01],\n",
       "                        [-1.2602e-02, -8.0946e-02, -6.1618e-01]],\n",
       "              \n",
       "                       [[-1.0943e-01,  1.0804e-02, -3.9592e-02],\n",
       "                        [-7.2444e-02,  5.0103e-02, -2.5621e-02],\n",
       "                        [ 3.7810e-02, -1.1269e-01, -7.1810e-02]],\n",
       "              \n",
       "                       [[-2.0780e-01, -1.8663e-01, -6.5778e-02],\n",
       "                        [ 1.9876e-01,  1.8116e-01, -1.1162e-01],\n",
       "                        [ 2.4755e-01,  9.0155e-03, -1.9628e-01]],\n",
       "              \n",
       "                       [[-4.6205e-02, -6.7760e-02,  1.4506e-01],\n",
       "                        [-8.0218e-02,  6.4030e-02, -4.5353e-02],\n",
       "                        [ 1.7715e-01,  7.7462e-02, -2.1206e-01]],\n",
       "              \n",
       "                       [[ 1.6572e-01, -3.7951e-02,  1.3295e-01],\n",
       "                        [ 1.1735e-01,  2.5079e-01, -1.3218e-01],\n",
       "                        [ 3.5322e-02, -5.1928e-02, -2.9203e-01]],\n",
       "              \n",
       "                       [[ 2.8667e-02,  2.5938e-02,  1.1221e-01],\n",
       "                        [-1.8684e-02,  2.8140e-01, -7.2604e-02],\n",
       "                        [ 1.7393e-01, -2.8108e-02, -3.3728e-01]],\n",
       "              \n",
       "                       [[-9.2997e-03, -1.8659e-01, -6.9950e-02],\n",
       "                        [-2.3310e-02, -2.2716e-01, -4.6647e-02],\n",
       "                        [-8.5315e-02, -3.2647e-02,  1.1598e-01]]],\n",
       "              \n",
       "              \n",
       "                      [[[-1.9124e-02,  5.4872e-02,  7.1555e-02],\n",
       "                        [-8.1371e-02, -1.1141e-01, -9.3833e-02],\n",
       "                        [-5.8365e-02, -5.0720e-02, -7.1736e-03]],\n",
       "              \n",
       "                       [[-2.5847e-02, -5.4690e-02, -3.5062e-02],\n",
       "                        [-5.0953e-02,  9.5933e-02, -3.1705e-02],\n",
       "                        [-9.1923e-02,  3.2028e-02, -6.1399e-03]],\n",
       "              \n",
       "                       [[ 8.0696e-02,  6.5860e-02,  9.6805e-02],\n",
       "                        [-7.7208e-02,  6.7757e-02,  8.8469e-02],\n",
       "                        [-5.2052e-02,  9.6887e-02,  7.9018e-02]],\n",
       "              \n",
       "                       [[-1.0205e-01, -6.4288e-02,  3.8539e-02],\n",
       "                        [-1.5643e-01, -1.9625e-03,  1.1861e-01],\n",
       "                        [-1.4543e-01,  1.5070e-02, -4.4349e-02]],\n",
       "              \n",
       "                       [[ 7.1446e-02,  6.0798e-02,  3.5229e-02],\n",
       "                        [-7.8881e-02,  5.0345e-02,  3.4754e-02],\n",
       "                        [ 1.1151e-02,  3.6265e-02,  7.6554e-02]],\n",
       "              \n",
       "                       [[-7.3753e-02, -8.9031e-02,  2.1929e-02],\n",
       "                        [-1.8967e-02,  4.8271e-02, -3.7011e-02],\n",
       "                        [-2.1575e-02,  8.6945e-03, -1.8790e-02]],\n",
       "              \n",
       "                       [[ 2.8342e-02, -3.7460e-02, -1.5855e-01],\n",
       "                        [-4.6230e-02, -6.8124e-02, -5.0762e-02],\n",
       "                        [-4.8347e-02, -1.1954e-01, -9.7960e-02]],\n",
       "              \n",
       "                       [[-6.3049e-02, -1.3736e-01,  1.1032e-01],\n",
       "                        [-6.1012e-02,  3.8351e-02,  5.4587e-02],\n",
       "                        [-1.3934e-01,  1.3790e-03,  9.6935e-02]],\n",
       "              \n",
       "                       [[-1.0528e-01, -1.2815e-01,  6.5412e-02],\n",
       "                        [ 6.1064e-02, -7.1592e-02,  2.8905e-02],\n",
       "                        [-5.7962e-02, -1.1275e-01, -5.9973e-02]],\n",
       "              \n",
       "                       [[-2.1005e-02,  1.1020e-01,  9.2378e-02],\n",
       "                        [-7.8543e-02,  2.0215e-01,  1.1184e-01],\n",
       "                        [ 9.9691e-02,  1.1083e-01,  7.6688e-02]]],\n",
       "              \n",
       "              \n",
       "                      [[[-7.1008e-02, -2.8685e-02, -1.9441e-02],\n",
       "                        [-5.6069e-02, -6.9558e-02,  7.9520e-02],\n",
       "                        [ 5.1413e-02, -9.8754e-02,  3.5532e-02]],\n",
       "              \n",
       "                       [[ 3.6632e-02,  8.9867e-02,  4.6858e-02],\n",
       "                        [ 9.3553e-02, -3.7259e-02,  6.7000e-02],\n",
       "                        [ 8.3009e-02, -9.7427e-02, -8.8801e-02]],\n",
       "              \n",
       "                       [[ 2.1339e-02,  5.7553e-02, -5.2390e-02],\n",
       "                        [ 1.1604e-02, -1.5323e-04,  2.6682e-02],\n",
       "                        [-5.6644e-02,  5.9455e-02,  7.0099e-02]],\n",
       "              \n",
       "                       [[-1.1787e-01,  2.6730e-02,  3.8490e-02],\n",
       "                        [-6.6209e-02,  7.7556e-02, -3.2033e-03],\n",
       "                        [-1.2349e-01,  8.6417e-02, -9.8126e-02]],\n",
       "              \n",
       "                       [[-9.0470e-03,  3.4681e-02, -5.4251e-02],\n",
       "                        [ 2.2521e-02, -5.4394e-02,  2.4407e-02],\n",
       "                        [-4.8340e-03,  7.2054e-03, -1.1030e-01]],\n",
       "              \n",
       "                       [[-9.4787e-02,  7.3728e-02,  1.3018e-01],\n",
       "                        [-1.0779e-01,  3.7035e-02, -6.7416e-02],\n",
       "                        [-4.7489e-02,  4.9659e-02,  3.5813e-02]],\n",
       "              \n",
       "                       [[-1.1002e-01,  8.1304e-02,  5.4887e-02],\n",
       "                        [-4.5290e-02,  1.1124e-01, -5.7984e-02],\n",
       "                        [-7.1842e-02, -4.6819e-02, -7.5448e-03]],\n",
       "              \n",
       "                       [[ 5.0438e-03,  3.8124e-02, -2.3923e-02],\n",
       "                        [-1.1992e-01,  2.9813e-02, -1.0521e-01],\n",
       "                        [-1.0056e-01, -6.4528e-03, -8.1355e-02]],\n",
       "              \n",
       "                       [[-1.2925e-02,  2.6970e-02,  8.3143e-02],\n",
       "                        [-8.4241e-02, -5.5614e-02,  5.4652e-02],\n",
       "                        [-5.7221e-02, -6.2660e-03, -8.9502e-02]],\n",
       "              \n",
       "                       [[ 7.7681e-02, -8.5586e-02,  5.6432e-02],\n",
       "                        [ 1.0879e-01, -8.0850e-02, -4.0245e-02],\n",
       "                        [-1.3644e-02,  9.5592e-02,  1.0503e-01]]],\n",
       "              \n",
       "              \n",
       "                      [[[-6.0468e-03,  1.2925e-01, -4.7968e-02],\n",
       "                        [-8.9876e-02,  1.3122e-01,  9.0570e-02],\n",
       "                        [ 1.4004e-01,  8.1428e-02,  1.3547e-01]],\n",
       "              \n",
       "                       [[ 6.0629e-02,  7.6031e-02, -1.2744e-01],\n",
       "                        [ 9.5014e-02, -6.3542e-02,  7.6886e-02],\n",
       "                        [-8.4653e-03, -6.5247e-02,  3.3157e-02]],\n",
       "              \n",
       "                       [[-2.1460e-02, -9.4718e-02, -3.8245e-02],\n",
       "                        [ 1.0846e-02,  8.2022e-02, -3.2443e-02],\n",
       "                        [ 6.2612e-02,  1.3228e-02,  3.5806e-03]],\n",
       "              \n",
       "                       [[ 1.1391e-01, -7.6331e-02, -2.0456e-01],\n",
       "                        [ 5.7895e-02, -1.2742e-01, -1.9724e-01],\n",
       "                        [ 5.9422e-02, -5.3963e-02, -1.4991e-01]],\n",
       "              \n",
       "                       [[-1.0541e-02, -9.2371e-03, -6.4330e-02],\n",
       "                        [ 6.0141e-04, -2.8967e-02,  6.9869e-03],\n",
       "                        [ 2.0359e-02, -6.4108e-02, -6.4081e-02]],\n",
       "              \n",
       "                       [[ 4.9642e-02, -4.5336e-02,  1.1229e-02],\n",
       "                        [ 6.6007e-05,  2.1806e-02, -1.1252e-02],\n",
       "                        [ 1.0236e-01, -2.3177e-02, -1.2275e-01]],\n",
       "              \n",
       "                       [[ 1.6592e-01, -3.6523e-02, -1.0041e-01],\n",
       "                        [ 3.5449e-02,  2.9136e-02, -1.1258e-01],\n",
       "                        [ 1.1473e-01,  1.5951e-01,  2.5886e-02]],\n",
       "              \n",
       "                       [[ 1.7455e-01, -1.0250e-01, -6.6757e-02],\n",
       "                        [ 1.3371e-01,  4.6459e-02, -1.9659e-01],\n",
       "                        [ 7.1780e-02, -4.0936e-02, -9.2612e-02]],\n",
       "              \n",
       "                       [[ 7.9313e-02, -7.0082e-02, -1.9928e-01],\n",
       "                        [-6.4895e-03,  7.7305e-02, -3.0151e-02],\n",
       "                        [-5.3765e-02,  2.5547e-02, -3.3783e-02]],\n",
       "              \n",
       "                       [[-1.1986e-01,  4.4357e-03,  6.9738e-02],\n",
       "                        [ 1.1489e-03, -1.2575e-01, -5.1850e-03],\n",
       "                        [ 4.3966e-02,  4.7343e-02, -7.8148e-02]]],\n",
       "              \n",
       "              \n",
       "                      [[[-8.3609e-02,  1.6408e-01,  5.8657e-02],\n",
       "                        [ 1.6958e-02,  6.2690e-02, -2.5358e-02],\n",
       "                        [ 1.7648e-01,  9.1003e-02,  7.2740e-02]],\n",
       "              \n",
       "                       [[ 7.8709e-02,  1.0372e-02,  1.4735e-02],\n",
       "                        [-3.3804e-02,  6.4909e-02, -9.0429e-02],\n",
       "                        [ 3.3519e-02, -2.0968e-02,  4.8839e-02]],\n",
       "              \n",
       "                       [[-4.8228e-04, -3.9024e-02, -1.1352e-02],\n",
       "                        [ 5.6903e-02, -7.3215e-02, -6.6576e-02],\n",
       "                        [-2.3633e-02, -3.8227e-02,  4.1406e-02]],\n",
       "              \n",
       "                       [[-3.5946e-02, -5.8591e-02,  6.2468e-02],\n",
       "                        [-1.7429e-01, -1.2141e-01, -4.3290e-02],\n",
       "                        [-2.4397e-01, -1.2410e-01,  1.2220e-02]],\n",
       "              \n",
       "                       [[-1.2893e-01,  7.6025e-03,  1.9460e-02],\n",
       "                        [ 5.0844e-02,  5.2709e-02, -4.9920e-02],\n",
       "                        [-1.3412e-02, -1.0236e-01,  7.1489e-03]],\n",
       "              \n",
       "                       [[-1.3158e-01,  1.5332e-02, -3.6153e-02],\n",
       "                        [-2.6220e-02, -3.0413e-02, -1.2892e-01],\n",
       "                        [ 4.0682e-02, -2.6223e-02, -1.7481e-02]],\n",
       "              \n",
       "                       [[-6.1304e-02,  3.9778e-02,  1.0581e-01],\n",
       "                        [-4.4052e-02,  6.9336e-02,  8.6086e-02],\n",
       "                        [ 7.7708e-03,  1.7434e-02,  1.7383e-01]],\n",
       "              \n",
       "                       [[ 1.8322e-02,  5.3743e-03, -1.0350e-01],\n",
       "                        [-1.0625e-01, -8.3416e-03,  3.7983e-03],\n",
       "                        [-1.4759e-01,  3.6806e-02,  1.0957e-01]],\n",
       "              \n",
       "                       [[-1.4997e-01, -3.5863e-02,  1.2314e-02],\n",
       "                        [-1.6874e-01, -3.0299e-04,  5.1110e-02],\n",
       "                        [-1.3524e-01, -4.4820e-02,  8.0640e-02]],\n",
       "              \n",
       "                       [[ 1.1355e-01, -2.9788e-02,  2.2800e-01],\n",
       "                        [ 1.3279e-02,  9.2500e-03,  1.6113e-01],\n",
       "                        [ 6.1969e-03, -2.1178e-02,  7.5029e-02]]],\n",
       "              \n",
       "              \n",
       "                      [[[-1.0500e-01, -2.5969e-03,  5.0380e-02],\n",
       "                        [-1.1365e-01, -1.1313e-01, -8.7065e-02],\n",
       "                        [-4.9041e-02, -1.7201e-01, -1.3631e-01]],\n",
       "              \n",
       "                       [[-1.0874e-01,  4.5747e-02,  5.9264e-02],\n",
       "                        [ 9.8370e-02, -2.5400e-02,  3.8561e-03],\n",
       "                        [ 2.4864e-02,  3.0541e-02,  7.4834e-02]],\n",
       "              \n",
       "                       [[-2.2721e-03,  4.9434e-03,  1.3361e-02],\n",
       "                        [ 3.9246e-02, -3.1819e-02, -6.2738e-02],\n",
       "                        [ 2.4927e-02, -1.2325e-02, -4.7682e-02]],\n",
       "              \n",
       "                       [[-1.6835e-02, -7.8698e-02, -1.6884e-01],\n",
       "                        [-7.3976e-03,  4.9946e-02, -1.8890e-01],\n",
       "                        [ 1.0725e-01,  9.8014e-02,  7.7838e-02]],\n",
       "              \n",
       "                       [[-3.5088e-02, -1.9606e-02,  2.5309e-02],\n",
       "                        [ 5.3281e-02, -6.9952e-02,  5.3782e-02],\n",
       "                        [ 1.8495e-02, -5.8630e-02,  2.3295e-02]],\n",
       "              \n",
       "                       [[-9.0086e-02, -6.8959e-02, -6.0637e-02],\n",
       "                        [-7.9411e-02, -5.1583e-03, -1.3536e-01],\n",
       "                        [ 1.0017e-01, -1.3222e-01, -1.7975e-02]],\n",
       "              \n",
       "                       [[ 8.2996e-02,  1.6748e-01, -2.4335e-01],\n",
       "                        [ 1.1176e-01,  9.7359e-02, -1.2990e-01],\n",
       "                        [ 1.3933e-01,  4.0989e-02, -2.2302e-01]],\n",
       "              \n",
       "                       [[-5.6007e-02,  1.1656e-01, -2.1570e-01],\n",
       "                        [ 1.2184e-02,  7.5204e-02,  2.9872e-02],\n",
       "                        [ 5.5837e-02,  1.2232e-02, -3.8149e-02]],\n",
       "              \n",
       "                       [[ 7.0941e-02,  1.0017e-01, -1.2591e-01],\n",
       "                        [ 6.9013e-02,  1.6949e-01, -2.6720e-01],\n",
       "                        [ 1.6239e-01,  1.0683e-01, -3.8094e-02]],\n",
       "              \n",
       "                       [[ 1.2044e-02, -4.8055e-02, -4.1174e-03],\n",
       "                        [ 3.6281e-02, -1.1684e-01, -1.8325e-01],\n",
       "                        [ 1.2204e-01,  8.3685e-02, -4.1455e-02]]],\n",
       "              \n",
       "              \n",
       "                      [[[ 1.4762e-01, -2.1953e-01, -1.3888e-01],\n",
       "                        [ 1.4965e-01, -2.6901e-01, -1.2636e-01],\n",
       "                        [ 1.1924e-01, -2.8833e-01,  1.2142e-02]],\n",
       "              \n",
       "                       [[-1.6143e-01, -9.9345e-02, -9.2451e-02],\n",
       "                        [ 4.1638e-02, -6.4659e-02,  1.3415e-01],\n",
       "                        [-1.0874e-01,  1.6728e-02, -1.1069e-01]],\n",
       "              \n",
       "                       [[ 5.6212e-02, -4.4533e-02,  2.0731e-06],\n",
       "                        [-1.9561e-02,  6.8179e-02,  3.4225e-02],\n",
       "                        [-9.2881e-02,  9.6840e-03, -7.2695e-02]],\n",
       "              \n",
       "                       [[-1.2689e-03, -1.0125e-01, -7.0859e-02],\n",
       "                        [-1.7009e-01,  4.1950e-01,  3.3985e-01],\n",
       "                        [-3.8834e-01,  1.5497e-01,  6.4833e-02]],\n",
       "              \n",
       "                       [[ 5.5450e-02, -3.1261e-01,  4.4137e-02],\n",
       "                        [ 1.0886e-02, -1.2994e-01,  1.0103e-02],\n",
       "                        [ 7.1210e-02,  9.8329e-02,  1.4689e-02]],\n",
       "              \n",
       "                       [[ 5.3373e-02, -2.7179e-01, -5.3238e-02],\n",
       "                        [-1.0551e-01, -9.1922e-03, -2.0897e-02],\n",
       "                        [-8.1575e-02,  1.7560e-01,  9.7774e-02]],\n",
       "              \n",
       "                       [[-1.4311e-01,  7.3466e-03, -5.8603e-02],\n",
       "                        [-3.2804e-01,  1.6909e-01,  1.5753e-01],\n",
       "                        [-5.9698e-01,  1.0496e-02, -2.0614e-02]],\n",
       "              \n",
       "                       [[-8.1297e-02, -8.2245e-02,  8.0339e-02],\n",
       "                        [-1.2725e-01,  1.7382e-01,  3.2293e-01],\n",
       "                        [-3.2806e-01,  1.2369e-01,  1.0612e-01]],\n",
       "              \n",
       "                       [[-1.8176e-01,  7.4509e-02, -2.5838e-02],\n",
       "                        [-4.3911e-01,  3.5848e-01,  2.5828e-01],\n",
       "                        [-4.5254e-01,  6.2658e-02, -1.8806e-02]],\n",
       "              \n",
       "                       [[-1.0253e-01, -5.6265e-02, -1.3275e-01],\n",
       "                        [-5.1944e-02,  1.5508e-01,  2.2455e-02],\n",
       "                        [-1.2063e-01, -4.1631e-02, -9.9527e-02]]],\n",
       "              \n",
       "              \n",
       "                      [[[ 1.6326e-01,  7.4217e-02,  8.4057e-02],\n",
       "                        [ 3.4759e-01,  5.4093e-01,  3.1577e-01],\n",
       "                        [ 1.7143e-01,  8.2543e-02, -7.0484e-02]],\n",
       "              \n",
       "                       [[-1.4470e-02, -4.1289e-02,  4.3004e-02],\n",
       "                        [ 8.8960e-02,  2.0240e-01,  1.4228e-01],\n",
       "                        [ 1.3541e-02,  5.4366e-02,  5.1909e-02]],\n",
       "              \n",
       "                       [[-2.8557e-04,  2.2462e-02,  1.0006e-01],\n",
       "                        [ 1.0281e-01, -4.3837e-02,  9.5140e-02],\n",
       "                        [ 3.8818e-02, -1.1853e-02,  9.2080e-02]],\n",
       "              \n",
       "                       [[-1.8066e-01, -2.5354e-02,  2.0458e-01],\n",
       "                        [ 9.7688e-02, -5.6034e-01, -2.4225e-01],\n",
       "                        [ 4.0985e-01, -1.1192e-02,  3.9377e-01]],\n",
       "              \n",
       "                       [[-2.2814e-02,  1.3760e-01, -7.0119e-03],\n",
       "                        [ 1.4239e-02,  5.3075e-02, -1.0096e-01],\n",
       "                        [-5.3427e-02, -5.9296e-02,  3.5412e-02]],\n",
       "              \n",
       "                       [[ 1.1002e-01,  2.4810e-01, -6.4704e-02],\n",
       "                        [-5.5518e-02, -1.7921e-02,  7.6395e-02],\n",
       "                        [-4.9253e-02, -1.2690e-01,  6.3302e-02]],\n",
       "              \n",
       "                       [[ 3.9626e-02, -1.3274e-01,  8.5670e-02],\n",
       "                        [ 3.9641e-01, -3.1900e-01, -3.9340e-01],\n",
       "                        [ 1.2898e-01, -3.0408e-01, -1.7376e-01]],\n",
       "              \n",
       "                       [[-7.8349e-03, -4.1989e-02,  4.2126e-02],\n",
       "                        [ 2.0246e-01, -3.9228e-01, -1.7176e-01],\n",
       "                        [ 2.9304e-01, -8.2948e-02,  8.1682e-02]],\n",
       "              \n",
       "                       [[ 7.5835e-02, -1.3522e-01,  8.6484e-02],\n",
       "                        [ 2.5396e-01, -3.3829e-01, -3.1754e-01],\n",
       "                        [ 3.3691e-01, -1.9808e-01, -6.8243e-02]],\n",
       "              \n",
       "                       [[-2.2403e-01, -4.2236e-02,  1.3291e-01],\n",
       "                        [-2.3174e-01,  6.5368e-02,  1.1376e-01],\n",
       "                        [-2.7734e-01, -1.1223e-01,  3.5253e-02]]],\n",
       "              \n",
       "              \n",
       "                      [[[-1.1263e-01,  2.9405e-02, -1.4188e-02],\n",
       "                        [ 8.0880e-02,  7.1978e-02, -8.6049e-02],\n",
       "                        [ 1.4714e-01, -4.2370e-02, -4.4655e-02]],\n",
       "              \n",
       "                       [[ 5.8556e-02,  1.8967e-02, -1.3614e-02],\n",
       "                        [-3.8517e-02, -5.6033e-02,  9.7602e-02],\n",
       "                        [ 3.5811e-03, -1.5055e-02, -1.2132e-02]],\n",
       "              \n",
       "                       [[ 7.7674e-02, -5.3742e-02, -3.6147e-02],\n",
       "                        [ 7.1416e-02,  5.9371e-02, -5.1849e-02],\n",
       "                        [-1.0427e-01,  1.9557e-02,  5.5427e-02]],\n",
       "              \n",
       "                       [[ 1.0392e-01,  6.8510e-02, -2.1801e-01],\n",
       "                        [ 6.3658e-03, -1.5327e-02,  1.5386e-01],\n",
       "                        [ 4.1927e-02,  9.4921e-02,  2.1741e-01]],\n",
       "              \n",
       "                       [[-7.0244e-02, -1.1176e-01, -7.8911e-02],\n",
       "                        [ 1.0366e-01,  1.0952e-02, -1.0393e-01],\n",
       "                        [ 5.6182e-02,  9.1562e-02, -1.2788e-01]],\n",
       "              \n",
       "                       [[ 6.4961e-02,  8.2321e-03,  3.4232e-02],\n",
       "                        [ 1.2092e-01,  7.3475e-02,  2.3462e-03],\n",
       "                        [ 4.4277e-02,  8.0932e-03, -4.9474e-02]],\n",
       "              \n",
       "                       [[-1.2638e-01,  7.3698e-02, -8.5539e-02],\n",
       "                        [-8.9250e-02,  3.9457e-02,  3.1421e-02],\n",
       "                        [-1.5211e-01, -1.4746e-01, -1.1258e-04]],\n",
       "              \n",
       "                       [[ 1.0161e-01,  8.3007e-02, -9.6528e-02],\n",
       "                        [-5.2015e-02,  4.6693e-03,  1.3234e-01],\n",
       "                        [-9.2172e-02,  7.4920e-02,  1.2497e-01]],\n",
       "              \n",
       "                       [[-1.2668e-01,  3.9795e-02, -6.1202e-02],\n",
       "                        [-1.5358e-01,  9.0014e-02,  6.8848e-02],\n",
       "                        [ 1.2582e-02, -1.0776e-01,  4.6887e-02]],\n",
       "              \n",
       "                       [[-1.5688e-01, -1.6602e-01, -5.5572e-02],\n",
       "                        [ 4.1474e-02,  1.8055e-02, -1.2320e-01],\n",
       "                        [-8.3080e-03, -3.7950e-02, -3.0947e-03]]]], device='cuda:0')),\n",
       "             ('block_2.0.bias',\n",
       "              tensor([-0.1240,  0.2384, -0.0749, -0.0938, -0.1000,  0.1546,  0.1029,  0.3805,\n",
       "                       0.4978, -0.0147], device='cuda:0')),\n",
       "             ('block_2.2.weight',\n",
       "              tensor([[[[-4.8622e-02, -4.1472e-02,  6.4448e-02],\n",
       "                        [-8.7826e-02,  7.6952e-02,  8.0181e-02],\n",
       "                        [ 1.8466e-02,  2.0377e-02,  9.0894e-02]],\n",
       "              \n",
       "                       [[-1.2540e-02, -1.6132e-01,  3.8270e-02],\n",
       "                        [-1.8660e-01,  1.8638e-01, -1.1097e-01],\n",
       "                        [ 3.3573e-02,  4.2328e-01, -3.1385e-01]],\n",
       "              \n",
       "                       [[-7.3061e-02, -4.2675e-02,  9.2166e-02],\n",
       "                        [-1.6483e-01,  4.7730e-02,  2.4832e-02],\n",
       "                        [-9.0790e-02,  6.6553e-02, -8.0834e-02]],\n",
       "              \n",
       "                       [[-7.2063e-02,  1.1896e-01, -6.7542e-02],\n",
       "                        [-6.5323e-02,  3.2364e-02, -3.8733e-02],\n",
       "                        [-1.9142e-02, -3.8375e-02,  3.7035e-02]],\n",
       "              \n",
       "                       [[-6.2731e-02, -6.5064e-02, -1.6139e-01],\n",
       "                        [ 6.1725e-03, -3.5969e-02, -2.4471e-01],\n",
       "                        [-3.9300e-02, -7.8251e-03, -3.2857e-01]],\n",
       "              \n",
       "                       [[ 2.6703e-03,  5.7569e-02,  1.5132e-01],\n",
       "                        [ 8.4593e-03,  1.1134e-01,  8.4688e-02],\n",
       "                        [-4.6692e-02,  1.7646e-02, -5.4186e-02]],\n",
       "              \n",
       "                       [[-1.7534e-01, -8.1003e-02, -1.5631e-01],\n",
       "                        [-1.1754e-01,  8.7789e-02,  1.2371e-01],\n",
       "                        [-5.0899e-02,  1.3889e-01,  7.1838e-02]],\n",
       "              \n",
       "                       [[-6.7717e-02,  1.6903e-01, -7.6058e-02],\n",
       "                        [-9.7183e-02,  2.1667e-01, -5.9159e-01],\n",
       "                        [ 1.3807e-01,  2.6203e-01, -3.1776e-01]],\n",
       "              \n",
       "                       [[ 1.5292e-01, -2.0483e-01, -1.5296e-01],\n",
       "                        [-2.7578e-01, -3.5382e-01,  4.0591e-01],\n",
       "                        [-1.0927e-01, -1.3614e-01, -2.4755e-02]],\n",
       "              \n",
       "                       [[ 1.5403e-02,  9.6887e-02,  1.2828e-01],\n",
       "                        [ 4.0942e-02, -1.6478e-01, -1.3482e-01],\n",
       "                        [ 1.5590e-01,  7.5899e-02, -5.9258e-02]]],\n",
       "              \n",
       "              \n",
       "                      [[[ 1.0121e-01,  3.7994e-02, -8.4433e-02],\n",
       "                        [-5.9687e-03,  9.3613e-02, -9.1837e-02],\n",
       "                        [ 1.6972e-01,  3.5287e-02,  7.7969e-03]],\n",
       "              \n",
       "                       [[ 7.1574e-02, -1.5977e-01,  4.2476e-02],\n",
       "                        [ 2.2556e-01, -2.6974e-01,  4.9457e-02],\n",
       "                        [-3.6553e-02, -3.0619e-01, -5.2869e-03]],\n",
       "              \n",
       "                       [[ 3.7989e-02, -4.2826e-02,  6.1452e-05],\n",
       "                        [ 6.4293e-02, -9.2540e-02, -7.3734e-02],\n",
       "                        [-1.7247e-02, -8.2589e-02, -2.7416e-02]],\n",
       "              \n",
       "                       [[-7.4151e-02,  4.2761e-02,  6.8612e-02],\n",
       "                        [ 2.1762e-02, -8.7353e-02, -8.1391e-02],\n",
       "                        [-1.9070e-02,  2.2903e-02,  2.2352e-02]],\n",
       "              \n",
       "                       [[-5.0385e-02,  2.6436e-02,  5.9547e-02],\n",
       "                        [-4.0903e-03, -1.0029e-01,  5.1631e-02],\n",
       "                        [ 7.0932e-02, -1.5958e-01, -9.0047e-02]],\n",
       "              \n",
       "                       [[ 2.6660e-02, -5.3427e-03,  1.2608e-02],\n",
       "                        [-3.9330e-02, -1.0307e-01, -7.9177e-03],\n",
       "                        [ 3.3561e-02,  5.7402e-02,  7.5069e-04]],\n",
       "              \n",
       "                       [[ 1.9679e-02, -6.7935e-03,  2.7789e-01],\n",
       "                        [-1.3482e-01, -1.0944e-02,  1.3169e-01],\n",
       "                        [-7.0029e-02,  2.0653e-02, -3.9819e-02]],\n",
       "              \n",
       "                       [[ 1.0441e-01,  3.9489e-02,  1.3539e-02],\n",
       "                        [-5.9621e-02, -3.0157e-01,  2.1532e-01],\n",
       "                        [ 1.1918e-02, -4.6166e-01,  3.3604e-01]],\n",
       "              \n",
       "                       [[-2.4016e-01, -1.5222e-01, -6.1546e-02],\n",
       "                        [ 4.8394e-02,  7.1145e-02, -3.5889e-01],\n",
       "                        [ 1.1149e-01,  3.9585e-01, -2.0920e-01]],\n",
       "              \n",
       "                       [[-7.9112e-02,  1.8407e-01,  1.8044e-01],\n",
       "                        [-1.9564e-01, -6.7665e-02,  1.7298e-01],\n",
       "                        [-1.1975e-01, -1.5236e-01,  3.3873e-02]]],\n",
       "              \n",
       "              \n",
       "                      [[[ 9.0628e-02, -4.2821e-03, -2.2680e-02],\n",
       "                        [-4.1319e-02, -2.0671e-02,  4.7165e-02],\n",
       "                        [-1.4249e-03,  8.9284e-02, -1.0750e-02]],\n",
       "              \n",
       "                       [[-3.5659e-01, -2.4747e-01, -3.6751e-01],\n",
       "                        [-3.2909e-01, -2.3703e-01, -2.5203e-01],\n",
       "                        [-2.9185e-01, -2.1779e-01, -2.8606e-01]],\n",
       "              \n",
       "                       [[ 4.2033e-02,  5.6320e-02,  2.2002e-02],\n",
       "                        [ 3.6160e-02,  1.2357e-01,  9.6980e-02],\n",
       "                        [ 4.6150e-02,  1.0467e-02,  7.8635e-02]],\n",
       "              \n",
       "                       [[-8.3101e-02,  7.7091e-02,  5.4688e-02],\n",
       "                        [ 6.6682e-02, -8.0875e-03, -7.9580e-02],\n",
       "                        [ 7.3662e-02, -4.6484e-02,  2.5976e-02]],\n",
       "              \n",
       "                       [[ 5.9708e-02, -9.8508e-02,  6.9759e-03],\n",
       "                        [-3.7449e-02,  7.4815e-02, -6.7149e-02],\n",
       "                        [ 6.3995e-02,  6.5730e-02,  5.8100e-02]],\n",
       "              \n",
       "                       [[ 9.2573e-02,  3.2817e-03, -1.1972e-01],\n",
       "                        [ 8.4848e-02,  1.5900e-02, -6.9078e-03],\n",
       "                        [-8.4132e-02, -9.5861e-03, -5.1408e-02]],\n",
       "              \n",
       "                       [[-3.3201e-03, -1.0886e-02, -4.5470e-03],\n",
       "                        [-3.4343e-02, -1.5028e-01, -1.2774e-01],\n",
       "                        [-1.5384e-01, -1.3504e-01, -9.7599e-03]],\n",
       "              \n",
       "                       [[-6.2047e-02,  1.5373e-03, -1.2018e-01],\n",
       "                        [-2.0315e-01, -1.2986e-01, -5.8563e-02],\n",
       "                        [-6.2240e-02, -9.3563e-02, -1.8943e-01]],\n",
       "              \n",
       "                       [[-1.4642e-01, -1.1739e-01, -4.5710e-03],\n",
       "                        [-8.4687e-02, -2.2318e-03, -2.6269e-02],\n",
       "                        [-6.1286e-02,  3.6362e-02, -6.4864e-02]],\n",
       "              \n",
       "                       [[ 8.3907e-03, -2.8124e-02, -9.1025e-02],\n",
       "                        [ 1.6850e-02,  3.0502e-02, -5.3887e-02],\n",
       "                        [ 6.0844e-02, -9.7939e-02, -1.0572e-01]]],\n",
       "              \n",
       "              \n",
       "                      [[[-7.1235e-02, -2.3675e-02, -2.9450e-02],\n",
       "                        [ 2.9659e-03,  6.3087e-02, -8.7934e-02],\n",
       "                        [ 2.1558e-02,  7.6907e-03,  6.3469e-02]],\n",
       "              \n",
       "                       [[ 1.1762e-01, -1.3902e-01, -1.2050e-01],\n",
       "                        [-7.0260e-03, -1.7614e-01,  1.5617e-02],\n",
       "                        [-1.0587e-01, -2.3308e-01,  1.5781e-01]],\n",
       "              \n",
       "                       [[ 7.3627e-03, -1.1674e-01, -4.6300e-02],\n",
       "                        [-1.1188e-02, -9.0595e-02,  3.4615e-02],\n",
       "                        [-1.1423e-01, -9.3632e-03, -1.4051e-01]],\n",
       "              \n",
       "                       [[-9.0534e-02, -1.7527e-02,  3.1769e-02],\n",
       "                        [ 7.5240e-02,  2.7299e-02, -1.3459e-02],\n",
       "                        [-6.1304e-03, -4.2976e-02,  2.5956e-03]],\n",
       "              \n",
       "                       [[-3.8780e-02,  1.8539e-03,  4.3719e-02],\n",
       "                        [-8.7334e-02, -8.2464e-02, -8.3962e-02],\n",
       "                        [-5.3695e-03, -1.6590e-01,  1.9540e-02]],\n",
       "              \n",
       "                       [[-1.4060e-01,  9.0040e-02,  1.4609e-01],\n",
       "                        [-1.3908e-01, -7.8953e-02,  9.5727e-02],\n",
       "                        [-6.2603e-02,  4.2462e-02, -8.8707e-03]],\n",
       "              \n",
       "                       [[-4.8057e-02, -1.5948e-01, -1.2821e-01],\n",
       "                        [-8.8322e-02, -4.4141e-02, -7.8686e-02],\n",
       "                        [-1.4076e-01, -1.7512e-01, -1.1923e-01]],\n",
       "              \n",
       "                       [[-2.4301e-01, -1.4260e-01,  2.2538e-01],\n",
       "                        [-2.0818e-01, -1.9826e-01,  3.2836e-01],\n",
       "                        [-2.6449e-01, -2.1987e-01,  1.1809e-01]],\n",
       "              \n",
       "                       [[ 5.4984e-02, -7.7541e-02,  2.0767e-02],\n",
       "                        [ 1.5785e-01,  7.5273e-02, -3.5896e-01],\n",
       "                        [ 1.8911e-01,  1.8511e-01, -1.6645e-01]],\n",
       "              \n",
       "                       [[-4.5157e-03,  1.0480e-01,  6.7661e-02],\n",
       "                        [-7.3344e-03, -1.3333e-01, -9.6713e-02],\n",
       "                        [-1.1955e-01, -8.4259e-02, -1.6016e-01]]],\n",
       "              \n",
       "              \n",
       "                      [[[-6.1481e-02, -5.2531e-02, -9.8573e-02],\n",
       "                        [ 2.1730e-02,  1.2496e-02, -6.2737e-02],\n",
       "                        [ 8.9510e-02, -4.0824e-02, -3.2486e-02]],\n",
       "              \n",
       "                       [[ 1.0661e-01,  5.3295e-02, -9.2342e-02],\n",
       "                        [-9.7791e-02, -1.3479e-01, -5.7143e-02],\n",
       "                        [ 3.5232e-02, -7.9234e-02, -1.3636e-01]],\n",
       "              \n",
       "                       [[-1.0002e-01, -9.2467e-02, -3.3928e-02],\n",
       "                        [ 4.3122e-04, -4.7767e-02, -8.3879e-02],\n",
       "                        [ 9.7630e-03, -8.4220e-02, -8.3643e-02]],\n",
       "              \n",
       "                       [[-8.7350e-02, -2.8570e-02,  9.1716e-02],\n",
       "                        [ 3.8706e-02, -1.2362e-02,  2.0530e-02],\n",
       "                        [ 3.8489e-02,  6.1694e-04, -8.6754e-02]],\n",
       "              \n",
       "                       [[-5.3986e-02, -4.2053e-02, -1.0357e-02],\n",
       "                        [-7.9847e-02, -1.3843e-02, -4.4221e-02],\n",
       "                        [ 1.4145e-01,  8.0025e-02,  5.4117e-02]],\n",
       "              \n",
       "                       [[ 1.0476e-02, -3.5697e-02,  3.9545e-02],\n",
       "                        [-6.8664e-02, -4.3180e-02, -1.0371e-02],\n",
       "                        [-2.2316e-02, -1.0084e-01,  5.5623e-02]],\n",
       "              \n",
       "                       [[ 1.6086e-01, -6.5074e-02,  1.6550e-02],\n",
       "                        [ 3.5540e-02, -4.8236e-02, -1.2471e-02],\n",
       "                        [ 1.4859e-01, -5.9874e-02, -9.0438e-02]],\n",
       "              \n",
       "                       [[-5.9349e-02,  3.4394e-02,  3.7200e-03],\n",
       "                        [-2.9717e-02, -3.7064e-02, -8.5386e-02],\n",
       "                        [-8.5978e-02, -8.2594e-02, -4.2530e-02]],\n",
       "              \n",
       "                       [[-6.0912e-02,  7.9698e-02, -6.2325e-02],\n",
       "                        [-3.2142e-02,  2.2012e-02, -6.1431e-04],\n",
       "                        [ 7.0168e-02,  8.2368e-03, -6.3902e-02]],\n",
       "              \n",
       "                       [[-9.2776e-02,  5.9788e-03, -2.3903e-02],\n",
       "                        [ 9.3804e-02,  9.1360e-02,  1.8707e-02],\n",
       "                        [ 7.9061e-02, -5.7212e-02,  8.6362e-02]]],\n",
       "              \n",
       "              \n",
       "                      [[[ 1.2097e-01, -2.7639e-02, -9.5193e-02],\n",
       "                        [-3.4755e-02, -5.1319e-02, -4.3531e-02],\n",
       "                        [-1.1556e-01, -1.2498e-02, -6.2707e-02]],\n",
       "              \n",
       "                       [[-1.5176e-01, -7.0596e-02, -2.1373e-01],\n",
       "                        [-5.1538e-01, -1.6166e-01,  2.0955e-01],\n",
       "                        [ 2.6239e-01,  3.7891e-01,  1.9529e-01]],\n",
       "              \n",
       "                       [[ 7.1884e-02, -9.7239e-02, -7.9596e-02],\n",
       "                        [ 2.0093e-02, -9.2882e-02, -9.2262e-02],\n",
       "                        [-1.0828e-01, -1.0761e-01,  7.4709e-02]],\n",
       "              \n",
       "                       [[ 5.9098e-02, -6.9356e-02, -9.4260e-02],\n",
       "                        [-8.7413e-02, -1.0137e-01, -6.9436e-02],\n",
       "                        [ 3.1466e-02, -2.9480e-02, -8.2048e-02]],\n",
       "              \n",
       "                       [[ 6.7242e-02, -6.2002e-02, -1.2627e-01],\n",
       "                        [ 1.8135e-02, -5.7528e-02,  1.4716e-02],\n",
       "                        [ 8.6630e-02, -5.3455e-02, -4.6222e-02]],\n",
       "              \n",
       "                       [[ 1.9449e-02, -1.4040e-01,  8.8694e-02],\n",
       "                        [-1.0778e-01, -2.3215e-02, -1.1585e-01],\n",
       "                        [-1.0177e-01, -3.8491e-02,  3.4047e-02]],\n",
       "              \n",
       "                       [[-1.3147e-02,  5.0578e-02,  1.1389e-02],\n",
       "                        [-5.4338e-02, -2.3548e-02,  3.5522e-02],\n",
       "                        [-7.8412e-02, -2.1710e-01, -7.1538e-02]],\n",
       "              \n",
       "                       [[ 1.9362e-01, -3.8927e-02,  2.9711e-01],\n",
       "                        [ 2.1062e-01,  8.8679e-02,  2.1067e-01],\n",
       "                        [-3.5996e-01, -2.0560e-01, -2.5549e-02]],\n",
       "              \n",
       "                       [[ 9.4667e-02, -1.5406e-01, -1.6755e-01],\n",
       "                        [-2.5934e-01, -9.9271e-02, -2.1535e-01],\n",
       "                        [-2.8408e-01, -1.9975e-01, -2.2530e-01]],\n",
       "              \n",
       "                       [[ 4.4254e-02,  1.2660e-01,  5.0895e-02],\n",
       "                        [-1.1128e-01, -8.0678e-02,  1.2190e-01],\n",
       "                        [-2.9274e-02,  1.0397e-02, -3.4064e-02]]],\n",
       "              \n",
       "              \n",
       "                      [[[ 5.9262e-02, -3.0772e-02,  1.1249e-01],\n",
       "                        [ 9.1759e-02, -2.4762e-02, -1.2340e-02],\n",
       "                        [ 8.1571e-02, -8.6632e-02,  7.8625e-02]],\n",
       "              \n",
       "                       [[-3.9998e-02, -1.4150e-01, -1.6049e-01],\n",
       "                        [-3.0090e-01, -2.2062e-01, -3.2660e-01],\n",
       "                        [-9.2637e-02,  1.1077e-01,  4.5572e-02]],\n",
       "              \n",
       "                       [[-3.2398e-02, -1.1449e-01, -5.4268e-02],\n",
       "                        [-7.5110e-03,  7.3267e-03, -4.1785e-02],\n",
       "                        [ 5.6004e-02, -9.3748e-02, -6.5484e-02]],\n",
       "              \n",
       "                       [[ 7.5260e-02,  7.1427e-02,  1.8544e-02],\n",
       "                        [-2.9038e-02,  1.0897e-01,  1.9147e-02],\n",
       "                        [-2.2465e-02, -3.1981e-02, -1.7974e-02]],\n",
       "              \n",
       "                       [[ 9.9544e-02,  3.4437e-02, -1.0388e-01],\n",
       "                        [-4.0020e-03,  1.1308e-01, -1.6841e-01],\n",
       "                        [-1.6544e-01, -4.9604e-02, -1.3795e-01]],\n",
       "              \n",
       "                       [[ 4.6029e-02, -1.6263e-01,  2.9335e-02],\n",
       "                        [ 5.7493e-02, -9.6624e-02, -7.8086e-02],\n",
       "                        [ 1.4732e-01, -9.3898e-02, -3.2697e-02]],\n",
       "              \n",
       "                       [[ 1.6095e-01, -2.6163e-01, -1.1149e-01],\n",
       "                        [ 2.0136e-01,  1.4336e-01,  6.2275e-03],\n",
       "                        [ 5.7888e-02,  5.9878e-02,  1.0452e-01]],\n",
       "              \n",
       "                       [[-1.8949e-01, -1.7416e-01, -3.5267e-03],\n",
       "                        [-7.4055e-02, -2.2165e-01, -2.1951e-01],\n",
       "                        [ 2.7127e-01,  1.5859e-01, -9.0067e-02]],\n",
       "              \n",
       "                       [[ 2.2184e-01,  5.2213e-01,  2.4798e-02],\n",
       "                        [-3.4140e-01, -2.9351e-02,  3.1410e-01],\n",
       "                        [-8.7788e-02, -5.2309e-01,  8.1414e-02]],\n",
       "              \n",
       "                       [[ 6.0288e-04, -1.0991e-01,  1.2471e-01],\n",
       "                        [ 1.5811e-02, -6.4084e-02, -2.1013e-01],\n",
       "                        [ 7.8504e-02,  2.8772e-02,  2.0858e-01]]],\n",
       "              \n",
       "              \n",
       "                      [[[ 7.5925e-02, -3.2198e-02,  9.4587e-02],\n",
       "                        [-3.7787e-02,  1.7199e-02, -7.6198e-02],\n",
       "                        [-3.4007e-03,  4.1670e-02,  4.2547e-02]],\n",
       "              \n",
       "                       [[-1.3551e-01, -1.8200e-01, -7.5843e-02],\n",
       "                        [-5.3892e-02, -1.0425e-01, -1.9411e-01],\n",
       "                        [-1.0870e-01, -1.2781e-01, -5.7768e-02]],\n",
       "              \n",
       "                       [[-1.8350e-03, -4.0856e-03, -9.2008e-03],\n",
       "                        [ 5.0170e-02, -3.7182e-03,  8.2437e-02],\n",
       "                        [ 4.6749e-02, -8.6449e-02, -1.0192e-02]],\n",
       "              \n",
       "                       [[-8.9338e-02, -8.0738e-02,  2.0677e-02],\n",
       "                        [ 2.3944e-02, -8.7994e-03,  1.0077e-01],\n",
       "                        [-5.6618e-02, -4.3743e-02, -1.6671e-02]],\n",
       "              \n",
       "                       [[ 6.7491e-04, -8.9637e-03,  9.4766e-02],\n",
       "                        [-4.3886e-02, -5.4878e-02,  9.4592e-03],\n",
       "                        [ 8.0993e-02,  2.5837e-02,  5.7642e-02]],\n",
       "              \n",
       "                       [[ 1.7353e-02,  8.4632e-02,  5.3147e-02],\n",
       "                        [ 8.0764e-02, -1.1585e-02, -9.0299e-02],\n",
       "                        [-4.2754e-02,  4.1893e-02,  7.5441e-02]],\n",
       "              \n",
       "                       [[-9.4840e-02,  4.1628e-02, -2.8604e-02],\n",
       "                        [-5.0068e-02, -4.0214e-02, -6.0642e-02],\n",
       "                        [ 5.0317e-02, -4.1142e-02,  2.1192e-02]],\n",
       "              \n",
       "                       [[-1.3193e-01, -9.2985e-02, -3.7257e-02],\n",
       "                        [ 3.5013e-02,  1.0385e-02, -3.3893e-02],\n",
       "                        [-1.6204e-01, -5.0876e-02, -1.4003e-01]],\n",
       "              \n",
       "                       [[-9.7984e-02, -4.4410e-03, -8.3440e-02],\n",
       "                        [ 9.6280e-02, -8.1748e-02,  1.3684e-02],\n",
       "                        [ 7.7682e-02, -9.0009e-02,  4.7610e-02]],\n",
       "              \n",
       "                       [[-9.8637e-03,  6.0655e-02,  1.0655e-01],\n",
       "                        [-4.1858e-02, -4.0035e-02,  8.7717e-02],\n",
       "                        [ 1.1353e-02, -8.8299e-03,  8.0693e-02]]],\n",
       "              \n",
       "              \n",
       "                      [[[-6.5704e-02,  1.7891e-02,  8.9720e-02],\n",
       "                        [ 6.2033e-02, -8.3922e-02,  1.4448e-02],\n",
       "                        [-1.1195e-01, -6.4257e-02,  8.8508e-02]],\n",
       "              \n",
       "                       [[ 6.9104e-02,  4.8666e-02,  1.6506e-01],\n",
       "                        [ 4.7551e-02, -3.9058e-01, -2.0138e-01],\n",
       "                        [-1.8153e-01, -3.0192e-01, -2.1269e-01]],\n",
       "              \n",
       "                       [[ 2.6536e-04,  4.0216e-02, -1.9919e-01],\n",
       "                        [-4.6763e-02, -9.1321e-02, -1.2169e-01],\n",
       "                        [-1.1185e-02, -1.1450e-01, -1.2421e-01]],\n",
       "              \n",
       "                       [[ 8.6882e-02,  5.6189e-03, -3.9671e-02],\n",
       "                        [-3.8037e-04,  7.3995e-02, -8.3104e-02],\n",
       "                        [-6.6612e-02, -7.8706e-02, -4.2180e-03]],\n",
       "              \n",
       "                       [[ 9.5042e-02, -2.3519e-01,  1.4338e-01],\n",
       "                        [ 1.0647e-01,  1.2487e-01, -6.8048e-03],\n",
       "                        [ 4.2411e-02, -5.3702e-02, -7.5680e-02]],\n",
       "              \n",
       "                       [[ 1.6333e-01, -1.7056e-01,  1.4894e-01],\n",
       "                        [-7.0079e-02, -1.3719e-01,  2.5012e-01],\n",
       "                        [ 1.4440e-01, -9.3937e-02, -2.4155e-02]],\n",
       "              \n",
       "                       [[-1.6349e-01, -3.3231e-01,  1.5865e-01],\n",
       "                        [-5.8000e-02, -2.6911e-01, -8.4810e-03],\n",
       "                        [ 5.3408e-02, -1.1599e-01,  3.0008e-02]],\n",
       "              \n",
       "                       [[-5.2681e-02, -1.4733e-01, -3.3442e-01],\n",
       "                        [-3.1600e-02, -4.4298e-01, -3.3151e-01],\n",
       "                        [-1.1562e-01, -2.0953e-01,  9.4123e-03]],\n",
       "              \n",
       "                       [[ 1.6593e-01, -9.1335e-03,  1.6725e-02],\n",
       "                        [-9.4638e-02,  6.1378e-01,  3.6896e-01],\n",
       "                        [-1.6726e-01,  9.2793e-02,  4.0393e-02]],\n",
       "              \n",
       "                       [[ 1.9744e-02,  2.7483e-02, -3.5349e-02],\n",
       "                        [-5.1813e-02, -1.3236e-01,  4.0087e-02],\n",
       "                        [-4.4527e-02,  5.6094e-02, -2.8760e-02]]],\n",
       "              \n",
       "              \n",
       "                      [[[ 3.6312e-02, -2.4383e-02, -1.0834e-01],\n",
       "                        [ 3.9173e-02,  6.6394e-02, -1.4857e-01],\n",
       "                        [ 1.1152e-01,  1.3885e-01,  2.6516e-02]],\n",
       "              \n",
       "                       [[ 3.6782e-02, -4.9468e-02, -9.0736e-02],\n",
       "                        [-1.4725e-01, -1.0096e-01,  4.9186e-02],\n",
       "                        [-1.2788e-01, -2.2848e-01,  3.2866e-01]],\n",
       "              \n",
       "                       [[-3.0349e-02,  6.8629e-02,  5.7544e-02],\n",
       "                        [ 9.0672e-02,  1.0296e-01,  3.1368e-02],\n",
       "                        [ 1.2147e-01, -2.5562e-02,  7.4557e-02]],\n",
       "              \n",
       "                       [[ 3.6071e-02,  3.8790e-02, -6.3400e-02],\n",
       "                        [ 7.8893e-02,  8.5774e-02, -1.2232e-01],\n",
       "                        [ 9.2892e-02, -8.3282e-02, -1.0713e-01]],\n",
       "              \n",
       "                       [[-9.1442e-02,  3.1746e-02, -1.1392e-01],\n",
       "                        [-4.4694e-02, -5.2128e-02,  1.1807e-02],\n",
       "                        [-1.0731e-01, -4.8341e-02,  1.1225e-02]],\n",
       "              \n",
       "                       [[ 2.5765e-02, -1.3786e-01,  1.0034e-02],\n",
       "                        [-9.9614e-02, -1.8653e-01, -5.4332e-02],\n",
       "                        [-1.3235e-01, -4.0651e-03, -9.8152e-02]],\n",
       "              \n",
       "                       [[-7.1030e-02, -1.0127e-01, -1.1547e-01],\n",
       "                        [ 3.0722e-02, -1.2230e-01,  7.0481e-02],\n",
       "                        [-3.9580e-02, -9.3345e-02, -4.8577e-03]],\n",
       "              \n",
       "                       [[-3.9190e-01, -1.6372e-02, -1.3354e-01],\n",
       "                        [ 1.5605e-01,  3.5371e-01,  2.3491e-01],\n",
       "                        [ 1.1615e-01,  1.0604e-01,  7.6489e-02]],\n",
       "              \n",
       "                       [[ 1.9910e-01, -2.1062e-01, -1.9686e-01],\n",
       "                        [-2.6133e-01, -1.9414e-01, -3.4259e-01],\n",
       "                        [-6.9963e-02, -7.5223e-02, -1.1571e-01]],\n",
       "              \n",
       "                       [[-7.4047e-02, -3.1393e-02, -3.2503e-02],\n",
       "                        [-5.8108e-02,  9.4385e-02,  1.5666e-01],\n",
       "                        [-1.0721e-01,  8.1814e-02,  1.1645e-01]]]], device='cuda:0')),\n",
       "             ('block_2.2.bias',\n",
       "              tensor([ 0.2292, -0.0762, -0.2501,  0.0224, -0.1697,  0.1982, -0.0092, -0.1038,\n",
       "                       0.0894, -0.0320], device='cuda:0')),\n",
       "             ('classifier.1.weight',\n",
       "              tensor([[ 0.0442,  0.0370,  0.0914,  ...,  0.0877,  0.0307, -0.0246],\n",
       "                      [-0.0041,  0.0147,  0.0053,  ...,  0.1115,  0.0516,  0.0291],\n",
       "                      [ 0.1000,  0.1982, -0.0579,  ...,  0.0832, -0.1243, -0.0332],\n",
       "                      ...,\n",
       "                      [-0.0355, -0.0624, -0.0399,  ...,  0.0088, -0.0036, -0.0177],\n",
       "                      [ 0.0389,  0.0788, -0.0527,  ...,  0.0458,  0.0036, -0.0483],\n",
       "                      [-0.0513, -0.0629, -0.0661,  ..., -0.0462, -0.0421,  0.0079]],\n",
       "                     device='cuda:0')),\n",
       "             ('classifier.1.bias',\n",
       "              tensor([ 0.1465, -0.1754,  0.2546, -0.0303, -0.3668, -0.0501,  0.1749, -0.0787,\n",
       "                       0.1737, -0.0853], device='cuda:0'))])"
      ]
     },
     "execution_count": 71,
     "metadata": {},
     "output_type": "execute_result"
    }
   ],
   "source": [
    "model_2.state_dict()"
   ]
  },
  {
   "cell_type": "code",
   "execution_count": 72,
   "id": "504a5fb7-b4ab-4c50-8321-4627fe4e64eb",
   "metadata": {},
   "outputs": [
    {
     "name": "stdout",
     "output_type": "stream",
     "text": [
      "Saving the model to: models\\03_pytorch_computer_vision_model_2.pth\n"
     ]
    }
   ],
   "source": [
    "from pathlib import Path\n",
    "\n",
    "# 1. Create models directory   (already exists... do I need to do this step?)\n",
    "MODEL_PATH = Path(\"models\")\n",
    "MODEL_PATH.mkdir(parents=True, exist_ok=True)\n",
    "\n",
    "# 2. Create the model save path\n",
    "MODEL_NAME = \"03_pytorch_computer_vision_model_2.pth\"\n",
    "MODEL_SAVE_PATH = MODEL_PATH / MODEL_NAME\n",
    "\n",
    "# 3. Save the models state_dict\n",
    "print(f\"Saving the model to: {MODEL_SAVE_PATH}\")\n",
    "\n",
    "# only saves the models learned parameters, rebuilding the matrix required the code above\n",
    "# Things I need, model class (loss_fn and optimizers need be the same?)\n",
    "torch.save(obj=model_2.state_dict(),\n",
    "          f=MODEL_SAVE_PATH)\n",
    "# a measly 34.8 KB (35.634 bytes) file compare that to the gpts models"
   ]
  },
  {
   "cell_type": "code",
   "execution_count": 73,
   "id": "42e12003-4e63-47ae-be0a-d30d4dd1131c",
   "metadata": {},
   "outputs": [
    {
     "name": "stdout",
     "output_type": "stream",
     "text": [
      " Volume in drive C is Windows\n",
      " Volume Serial Number is C6A3-7E19\n",
      "\n",
      " Directory of C:\\Users\\Ronald\\Documents\\pytorch4DeepLearning\n",
      "\n",
      "\n",
      " Directory of C:\\Users\\Ronald\\Documents\\pytorch4DeepLearning\\models\n",
      "\n",
      "14/11/2024  12:05            35.634 03_pytorch_computer_vision_model_2.pth\n",
      "               1 File(s)         35.634 bytes\n",
      "               0 Dir(s)  855.692.206.080 bytes free\n"
     ]
    },
    {
     "name": "stderr",
     "output_type": "stream",
     "text": [
      "File Not Found\n"
     ]
    }
   ],
   "source": [
    "# Check the saved file path\n",
    "# Linux\n",
    "#!ls -l models/\\03_pytorch_computer_vision_model_2.pth\n",
    "#Windows\n",
    "!dir -l models\\\\\\03_pytorch_computer_vision_model_2.pth"
   ]
  },
  {
   "cell_type": "markdown",
   "id": "af540dbc-701d-468f-a448-1f8347f542c8",
   "metadata": {},
   "source": [
    "### 11.1 Loading it back in   DON'T lose or change the class definition "
   ]
  },
  {
   "cell_type": "code",
   "execution_count": 74,
   "id": "2f4774ad-eb4b-40e7-baa2-36d22b5eb499",
   "metadata": {},
   "outputs": [
    {
     "data": {
      "text/plain": [
       "FashionMNISTModel_V2(\n",
       "  (block_1): Sequential(\n",
       "    (0): Conv2d(1, 10, kernel_size=(3, 3), stride=(1, 1), padding=(1, 1))\n",
       "    (1): ReLU()\n",
       "    (2): Conv2d(10, 10, kernel_size=(3, 3), stride=(1, 1), padding=(1, 1))\n",
       "    (3): ReLU()\n",
       "    (4): MaxPool2d(kernel_size=2, stride=2, padding=0, dilation=1, ceil_mode=False)\n",
       "  )\n",
       "  (block_2): Sequential(\n",
       "    (0): Conv2d(10, 10, kernel_size=(3, 3), stride=(1, 1), padding=(1, 1))\n",
       "    (1): ReLU()\n",
       "    (2): Conv2d(10, 10, kernel_size=(3, 3), stride=(1, 1), padding=(1, 1))\n",
       "    (3): ReLU()\n",
       "    (4): MaxPool2d(kernel_size=2, stride=2, padding=0, dilation=1, ceil_mode=False)\n",
       "  )\n",
       "  (classifier): Sequential(\n",
       "    (0): Flatten(start_dim=1, end_dim=-1)\n",
       "    (1): Linear(in_features=490, out_features=10, bias=True)\n",
       "  )\n",
       ")"
      ]
     },
     "execution_count": 74,
     "metadata": {},
     "output_type": "execute_result"
    }
   ],
   "source": [
    "model_2_reloaded = FashionMNISTModel_V2(input_shape=1,\n",
    "                                       hidden_units=10,\n",
    "                                       output_shape=len(class_names))\n",
    "\n",
    "# load in the saved state_dict\n",
    "model_2_reloaded.load_state_dict(torch.load(f=MODEL_SAVE_PATH,\n",
    "                                           weights_only=True))\n",
    "# default is weights_only = False which is unsafe, \n",
    "# any arbitrary code can be loaded and executed\n",
    "# This limits the functions that could be executed during unpickling. \n",
    "# Arbitrary objects will no longer be allowed to be loaded via this mode \n",
    "# unless they are explicitly allowlisted by the user \n",
    "# via `torch.serialization.add_safe_globals`. \n",
    "# We recommend you start setting `weights_only=True` for any use case \n",
    "# where you don't have full control of the loaded file. \n",
    "model_2_reloaded.to(device)"
   ]
  },
  {
   "cell_type": "code",
   "execution_count": 75,
   "id": "2aebe863-dfe6-4ad5-a281-c8d922a02d8a",
   "metadata": {},
   "outputs": [
    {
     "data": {
      "text/plain": [
       "{'model_name': 'FashionMNISTModel_V2',\n",
       " 'model_loss': 0.35992810130119324,\n",
       " 'model_acc': 86.89291401273886,\n",
       " 'device': 'cuda'}"
      ]
     },
     "execution_count": 75,
     "metadata": {},
     "output_type": "execute_result"
    }
   ],
   "source": [
    "# use model as above evaluating\n",
    "model_2_results"
   ]
  },
  {
   "cell_type": "code",
   "execution_count": 76,
   "id": "fbab1003-2f7c-46d9-ac8b-6d71ef8accbe",
   "metadata": {},
   "outputs": [
    {
     "data": {
      "application/vnd.jupyter.widget-view+json": {
       "model_id": "2dd4d2c5055b4b14ab80b1eee402704e",
       "version_major": 2,
       "version_minor": 0
      },
      "text/plain": [
       "  0%|          | 0/157 [00:00<?, ?it/s]"
      ]
     },
     "metadata": {},
     "output_type": "display_data"
    },
    {
     "data": {
      "text/plain": [
       "{'model_name': 'FashionMNISTModel_V2',\n",
       " 'model_loss': 0.35992810130119324,\n",
       " 'model_acc': 86.89291401273886,\n",
       " 'device': 'cuda'}"
      ]
     },
     "execution_count": 76,
     "metadata": {},
     "output_type": "execute_result"
    }
   ],
   "source": [
    "\n",
    "torch.manual_seed(42)\n",
    "torch.cuda.manual_seed(42)\n",
    "model_2_reloaded_results = eval_model(\n",
    "    model=model_2_reloaded,\n",
    "    data_loader=test_dataloader,\n",
    "    loss_fn=loss_fn,\n",
    "    accuracy_fn=accuracy_fn,\n",
    "    device=device\n",
    ")\n",
    "model_2_reloaded_results"
   ]
  },
  {
   "cell_type": "markdown",
   "id": "e1d9a70d-055c-4a36-92d9-3e85280f5140",
   "metadata": {},
   "source": [
    "We can find out if two tensors are close to each other using `torch.isclose()` and passing in a tolerance level of closeness via the parameters `atol` (absolute tolerance) and `rtol` (relative tolerance).\n",
    "\n",
    "If our model's results are close, the output of `torch.isclose()` should be true."
   ]
  },
  {
   "cell_type": "code",
   "execution_count": 77,
   "id": "9e5fd0c0-459a-4f87-a608-22c803d32f9d",
   "metadata": {},
   "outputs": [
    {
     "data": {
      "text/plain": [
       "tensor(False)"
      ]
     },
     "execution_count": 77,
     "metadata": {},
     "output_type": "execute_result"
    }
   ],
   "source": [
    "# Check to see it the results are close to each other (if they are far off, there may be an error)\n",
    "torch.isclose(torch.tensor(model_0_results[\"model_loss\"]),\n",
    "             torch.tensor(model_2_reloaded_results[\"model_loss\"]),\n",
    "             atol=1e-08, # absolute tolerance, if needed, the default may be fine\n",
    "             rtol=0.0001 # relative error, again if needed to loosen up \"closeness\"\n",
    "             )"
   ]
  },
  {
   "cell_type": "markdown",
   "id": "efa8be20-eced-4fe5-808c-0770bb5b185a",
   "metadata": {},
   "source": [
    "## Exercises\n",
    "### Pytorch computer vision summary and extra-curriculum | [Chapter 125](https://youtu.be/V_xro1bcAuA&t=70678)\n"
   ]
  },
  {
   "cell_type": "markdown",
   "id": "efc31664-4b81-45ee-ac55-1f3d656de355",
   "metadata": {},
   "source": [
    "Check the deeo_learning_main notebook 3 for details or \n",
    "\n",
    "**Resources:**\n",
    "* [Exercise template notebook for 03](https://github.com/mrdbourke/pytorch-deep-learning/blob/main/extras/exercises/03_pytorch_computer_vision_exercises.ipynb)\n",
    "* [Example solutions notebook for 03](https://github.com/mrdbourke/pytorch-deep-learning/blob/main/extras/solutions/03_pytorch_computer_vision_exercise_solutions.ipynb) (try the exercises *before* looking at this)\n",
    "\n",
    "Things to try:\n",
    "1. "
   ]
  },
  {
   "cell_type": "code",
   "execution_count": 78,
   "id": "ebea02f7-833d-43cb-b93b-33df97788bcc",
   "metadata": {},
   "outputs": [
    {
     "data": {
      "text/plain": [
       "'1.26.0'"
      ]
     },
     "execution_count": 78,
     "metadata": {},
     "output_type": "execute_result"
    }
   ],
   "source": [
    "import torch\n",
    "torch.__version__\n",
    "import numpy\n",
    "numpy.__version__\n"
   ]
  },
  {
   "cell_type": "code",
   "execution_count": 79,
   "id": "c298ca32-f158-4132-99f7-a259a642e99f",
   "metadata": {},
   "outputs": [],
   "source": [
    "import os\n",
    "from os.path import exists\n",
    "import torch\n",
    "import torch.nn as nn\n",
    "from torch.nn.functional import log_softmax, pad\n",
    "import math\n",
    "import copy\n",
    "import time\n",
    "from torch.optim.lr_scheduler import LambdaLR\n",
    "import pandas as pd\n",
    "import altair as alt\n",
    "#from torchtext.data.functional import to_map_style_dataset\n",
    "from torch.utils.data import DataLoader\n",
    "from torchtext.vocab import build_vocab_from_iterator\n",
    "import torchtext.datasets as datasets\n",
    "import spacy\n",
    "import GPUtil\n",
    "import warnings\n",
    "from torch.utils.data.distributed import DistributedSampler\n",
    "import torch.distributed as dist\n",
    "import torch.multiprocessing as mp\n",
    "from torch.nn.parallel import DistributedDataParallel as DDP\n",
    "\n",
    "\n",
    "# Set to False to skip notebook execution (e.g. for debugging)\n",
    "warnings.filterwarnings(\"ignore\")\n",
    "RUN_EXAMPLES = True"
   ]
  },
  {
   "cell_type": "code",
   "execution_count": null,
   "id": "47296cfa-c8e4-41b8-8dfa-0b19431d4925",
   "metadata": {},
   "outputs": [],
   "source": []
  }
 ],
 "metadata": {
  "kernelspec": {
   "display_name": "Python 3 (ipykernel)",
   "language": "python",
   "name": "python3"
  },
  "language_info": {
   "codemirror_mode": {
    "name": "ipython",
    "version": 3
   },
   "file_extension": ".py",
   "mimetype": "text/x-python",
   "name": "python",
   "nbconvert_exporter": "python",
   "pygments_lexer": "ipython3",
   "version": "3.12.3"
  }
 },
 "nbformat": 4,
 "nbformat_minor": 5
}
