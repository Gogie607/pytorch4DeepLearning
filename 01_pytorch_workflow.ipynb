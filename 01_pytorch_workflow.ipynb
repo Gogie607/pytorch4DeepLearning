{
 "cells": [
  {
   "cell_type": "markdown",
   "id": "e362563e-e86d-42c2-bd25-edd7940466bf",
   "metadata": {},
   "source": [
    "<a href=\"https://colab.research.google.com/github/mrdbourke/pytorch-deep-learning/blob/main/01_pytorch_workflow.ipynb\" target=\"_parent\"><img src=\"https://colab.research.google.com/assets/colab-badge.svg\" alt=\"Open In Colab\"/></a>\n",
    "\n",
    "[View Source Code](https://github.com/mrdbourke/pytorch-deep-learning/blob/main/01_pytorch_workflow.ipynb) | [View Slides](https://github.com/mrdbourke/pytorch-deep-learning/blob/main/slides/01_pytorch_workflow.pdf) | [Watch Video Walkthrough](https://youtu.be/Z_ikDlimN6A?t=15419) "
   ]
  },
  {
   "cell_type": "markdown",
   "id": "2ddea0e2-9894-411d-b721-79f36acd8a14",
   "metadata": {},
   "source": [
    "# 01. PyTorch Workflow\n",
    "\n",
    "Let's explore an end-to-end \n",
    "Creating first model starts at 5:00"
   ]
  },
  {
   "cell_type": "markdown",
   "id": "9b910dcc-efbd-4d70-926a-51cbb074391d",
   "metadata": {},
   "source": [
    "Book version here: https://www.learnpytorch.io/01_pytorch_workflow/\n",
    "\n",
    "# Setup"
   ]
  },
  {
   "cell_type": "code",
   "execution_count": 46,
   "id": "acc84ff0-553c-48fc-93fb-226cf2e65053",
   "metadata": {},
   "outputs": [],
   "source": [
    "what_were_covering = {1: \"data (prepare and load)\",\n",
    "    2: \"build model\",\n",
    "    3: \"fitting the model to data (training)\",\n",
    "    4: \"making predictions and evaluating a model (inference)\",\n",
    "    5: \"saving and loading a model\",\n",
    "    6: \"putting it all together\"\n",
    "}"
   ]
  },
  {
   "cell_type": "markdown",
   "id": "488c5d9d-3525-4cff-b19c-13fc3dba12b7",
   "metadata": {},
   "source": [
    "And now let's import what we'll need for this module.\n",
    "\n",
    "We're going to get torch, torch.nn (nn stands for neural network and this package contains the building blocks for creating neural networks in PyTorch) and matplotlib."
   ]
  },
  {
   "cell_type": "code",
   "execution_count": 2,
   "id": "9c5769a4-e3ca-4309-ab59-e917e105046d",
   "metadata": {},
   "outputs": [
    {
     "name": "stdout",
     "output_type": "stream",
     "text": [
      "Torch ver= 2.5.0, Cuda ver = 12.4\n",
      "CUDA available = True\n",
      "NVIDIA GeForce RTX 4070 SUPER\n"
     ]
    }
   ],
   "source": [
    "import torch\n",
    "from torch import nn # nn contains all of PyTorchs' building blocks ´TONS! of reading!!!´\n",
    "import matplotlib.pyplot as plt\n",
    "\n",
    "# check pytorch version\n",
    "print(f\"Torch ver= {torch.__version__}, Cuda ver = {torch.version.cuda}\") \n",
    "print (f\"CUDA available = {torch.cuda.is_available()}\")\n",
    "print(f\"{torch.cuda.get_device_name(0)}\")"
   ]
  },
  {
   "cell_type": "markdown",
   "id": "0a1ae4d0-b56b-411d-8e6d-4cd770b9e319",
   "metadata": {},
   "source": [
    "## 1. Data preparing and loading)\n",
    "\n",
    "Data cn be almost anything\n",
    "* Excel spreadsheet\n",
    "* Images of any kind\n",
    "* Videos (Youtube has lots of data...)\n",
    "* Audio like songs or podcasts (or my own voice)\n",
    "* DNA\n",
    "* Text\n",
    "\n",
    "Machine learning is a game of two parts:\n",
    "1. Get data into a numerical representation.\n",
    "2.   Pick or build a model to learn patterns in that numerical representation\n",
    "\n",
    "To showcase this, let's create some *known* data using the linear regression formula\n",
    "   Y= mx + b,  x is the dependent variable m is the slope of the line and b (bias) is the offset from the origin.\n",
    "   "
   ]
  },
  {
   "cell_type": "code",
   "execution_count": 3,
   "id": "b7af4b45-c810-4e34-a97d-13a376dda25f",
   "metadata": {},
   "outputs": [],
   "source": [
    "# Create *known* parameters\n",
    "weight = 0.7\n",
    "bias = 0.3\n",
    "\n",
    "# Create\n",
    "start = 0 \n",
    "end = 1\n",
    "step = 0.02\n",
    "X = torch.arange(start, end, step).unsqueeze(dim=1)\n",
    "y = weight * X + bias"
   ]
  },
  {
   "cell_type": "code",
   "execution_count": 4,
   "id": "92fd2baa-abba-4a4d-9ac4-f669d98b3e67",
   "metadata": {},
   "outputs": [
    {
     "data": {
      "text/plain": [
       "(tensor([[0.0000],\n",
       "         [0.0200],\n",
       "         [0.0400],\n",
       "         [0.0600],\n",
       "         [0.0800],\n",
       "         [0.1000],\n",
       "         [0.1200],\n",
       "         [0.1400],\n",
       "         [0.1600],\n",
       "         [0.1800]]),\n",
       " tensor([[0.3000],\n",
       "         [0.3140],\n",
       "         [0.3280],\n",
       "         [0.3420],\n",
       "         [0.3560],\n",
       "         [0.3700],\n",
       "         [0.3840],\n",
       "         [0.3980],\n",
       "         [0.4120],\n",
       "         [0.4260]]),\n",
       " torch.Size([50, 1]))"
      ]
     },
     "execution_count": 4,
     "metadata": {},
     "output_type": "execute_result"
    }
   ],
   "source": [
    "X[:10],y[:10], X.shape"
   ]
  },
  {
   "cell_type": "markdown",
   "id": "582489e2-5abc-4e81-b803-57087e5149bb",
   "metadata": {},
   "source": [
    "### Spliting data into training and test sets. One of the most important concepts in Machine learning\n",
    "The three data sets\n",
    "1. Train data (60 -80%)\n",
    "2. Validation set (pretest)  (10-20%) often but not always used\n",
    "3. Test set (final exam)  (10-20%)\n",
    "\n",
    "Let's create a training and test set"
   ]
  },
  {
   "cell_type": "code",
   "execution_count": 50,
   "id": "bf356daf-0adf-45b3-bf18-7907ec42c88f",
   "metadata": {},
   "outputs": [
    {
     "data": {
      "text/plain": [
       "(40, 40, 10, 10)"
      ]
     },
     "execution_count": 50,
     "metadata": {},
     "output_type": "execute_result"
    }
   ],
   "source": [
    "# Create a train/test split\n",
    "train_split = int( 0.8 * len(X))  # 80% for training\n",
    "X_train, y_train = X[:train_split], y[:train_split] # upto split marker\n",
    "X_test, y_test = X[train_split:], y[train_split:] # split marker  to end\n",
    "\n",
    "len( X_train), len( y_train), len( X_test), len( y_test)"
   ]
  },
  {
   "cell_type": "markdown",
   "id": "78e73843-58c1-4446-b13e-3945f93dfb01",
   "metadata": {},
   "source": [
    "We use a simple splitting approach but https://scikit-learn.org/stable/modules/generated/sklearn.model_selection.train_test_split.html uses a more sophisticated way"
   ]
  },
  {
   "cell_type": "markdown",
   "id": "cc46e732-610f-438f-8226-7c8bc9160ea6",
   "metadata": {},
   "source": [
    "### How can we best visualize our data?\n",
    "This is where the data explorers' motto comes in!\n",
    "Visualize, visualize, visualize\n",
    "\n",
    "Reference = https://matplotlib.org/stable/api/_as_gen/matplotlib.pyplot.scatter.html"
   ]
  },
  {
   "cell_type": "code",
   "execution_count": 51,
   "id": "1560b720-49dd-4b2b-b742-ce42a598a1f8",
   "metadata": {},
   "outputs": [
    {
     "name": "stdout",
     "output_type": "stream",
     "text": [
      "CPU times: total: 0 ns\n",
      "Wall time: 0 ns\n"
     ]
    },
    {
     "data": {
      "image/png": "[encoded data removed]",
      "text/plain": [
       "<Figure size 1000x700 with 1 Axes>"
      ]
     },
     "metadata": {},
     "output_type": "display_data"
    }
   ],
   "source": [
    "### switch to code to execute\n",
    "# plt.plot(X, y)\n",
    "#plt.show()\n",
    "def plot_predictions( train_data= X_train,\n",
    "                     train_labels= y_train,\n",
    "                     test_data=X_test,\n",
    "                     test_labels=y_test,\n",
    "                     predictions=None ):\n",
    "    %matplotlib inline\n",
    "    %time\n",
    "    \"\"\"\n",
    "    Plots trainng data, test data and compares predictions\n",
    "    \"\"\"\n",
    "    plt.figure(figsize=(10, 7))\n",
    "\n",
    "    # Plot training data in blue\n",
    "    plt.scatter(train_data, train_labels, color=\"b\", s=4, label=\"Training data\")\n",
    "\n",
    "    # Plot test data in green\n",
    "    plt.scatter(test_data, test_labels, color=\"g\", s=4, label=\"Test data\")\n",
    "\n",
    "    # Are there predictions?\n",
    "    if predictions is not None:\n",
    "        # Plot predictions in red\n",
    "        plt.scatter(test_data, predictions, color=\"r\", s=4, label=\"Predictions\")\n",
    "    plt.legend(prop={\"size\": 14});\n",
    "\n",
    "plot_predictions()"
   ]
  },
  {
   "cell_type": "markdown",
   "id": "f608100c-5ecc-42a2-8ba4-d2add2b5b1c0",
   "metadata": {},
   "source": [
    "## 2. Build a model   4:53\n",
    "\n",
    "Our first pytorch model!\n",
    "\n",
    "This is very exciting.... let's do it!\n",
    "\n",
    "Because we're going to be building classes thoughtout the course, I'd recommend getting familiar with OOP in Python. To do so you can use the following resource from Real Python: https://realpython.com/python-classes/\n",
    "\n",
    "WHat are model does\n",
    "* Start with random values (weight and bias)\n",
    "* Look at data and adjust them  to better fit the data we created\n",
    "\n",
    "How does it work?\n",
    "Through two main algorithmns\n",
    "1. gradient descent\n",
    "\n",
    "3. Backpropagation\n",
    "\n",
    "Artem Kirsanov\n",
    "   https://youtu.be/SmZmBKc7Lrs\n",
    "\n",
    "3blue1brown\n",
    "      https://youtu.be/IHZwWFHWa-w   https://youtu.be/Ilg3gGewQ5U\n",
    "   \n",
    "   Both these channels are excellent at explaining various math and neuro science topics\n",
    "\n",
    "Using the nn.Parameter to declare these member variables, allows them to be registered  for updates during training phase"
   ]
  },
  {
   "cell_type": "code",
   "execution_count": 52,
   "id": "45c05408-fd85-47f5-b1d2-0716db04d273",
   "metadata": {},
   "outputs": [],
   "source": [
    "# Create linear regression model class\n",
    "class LinearRegressionModel(nn.Module): # <- nearly all classes are based on Module\n",
    "    # Modules can also contain other Modules\n",
    "    def __init__(self):\n",
    "        super().__init__()\n",
    "        self.weight = nn.Parameter(torch.randn(1,\n",
    "                                    dtype=torch.float),\n",
    "                                    requires_grad=True)\n",
    "        \n",
    "        self.bias = nn.Parameter(torch.randn(1,\n",
    "                                    dtype=torch.float),\n",
    "                                    requires_grad=True)\n",
    "                           \n",
    "    # Forward method (required)  to define the computation in the model\n",
    "    def forward(self, X: torch.Tensor) -> torch.Tensor: # x is the input\n",
    "        return self.weight * X + self.bias  # linear regression formula we used\n"
   ]
  },
  {
   "cell_type": "markdown",
   "id": "c52e50fa-7d1c-4db5-bbd8-259446165872",
   "metadata": {},
   "source": [
    "> **Resource:**  If you're unfamiliar with Python class notation, I'd recommend reading [Real Python's Object Orientating programming in Python 3 guide](https://realpython.com/python3-object-oriented-programming/) a few times.  See more of these essential modules and their use cases in the [PyTorch Cheat Sheet:]( https://pytorch.org/tutorials/beginner/ptcheat.html)\n"
   ]
  },
  {
   "cell_type": "markdown",
   "id": "1a046e7f-5a4f-4ed0-a5bc-5b945e4e2b73",
   "metadata": {},
   "source": [
    "### PyTorch model building essentials\n",
    "\n",
    "* [`torch.nn`](https://pytorch.org/docs/stable/nn.html)- contains all of the building blocks for computation graphs (a neural network can be considered a computational graph)\n",
    "* torch.nn.Parameters - what parameters should try to learn, often a Torch layer from torch.nn will set these for us.\n",
    "* torch.nn.Module - THe base class for all neural network modules. If you subclass it, you must override the forward function.\n",
    "* torch.optim - this is where the optimizers in Pytorch live.  THey will help with gradient descent.\n",
    "* def forward() - all nn.Module subclasses require you to override this function, this function tells the model what to do when forward propagating input data\n",
    "* torch.utils.data .. dataset and dataloader - handle downloading online datasets, converting them to usable form, and feeding it in reasonable chunks via batches to the model. Torchvision also allows downloading pretrained models as well.  More on this later  and check the pytorch doc: https://pytorch.org/vision/stable/datasets.html"
   ]
  },
  {
   "cell_type": "markdown",
   "id": "c2c2d93c-4485-4d37-af06-940e841698f3",
   "metadata": {},
   "source": [
    "### Checking the contents of our PyTorch model\n",
    "\n",
    "Now we have created a model, let's sere what is under the hood 5:22\n",
    "\n",
    "We can check out our model params by using .Paramters()"
   ]
  },
  {
   "cell_type": "code",
   "execution_count": 80,
   "id": "19156fff-d7ce-426f-9a63-1cfcf538327d",
   "metadata": {},
   "outputs": [
    {
     "data": {
      "text/plain": [
       "[Parameter containing:\n",
       " tensor([0.3367], requires_grad=True),\n",
       " Parameter containing:\n",
       " tensor([0.1288], requires_grad=True)]"
      ]
     },
     "execution_count": 80,
     "metadata": {},
     "output_type": "execute_result"
    }
   ],
   "source": [
    "# Create a manual seed\n",
    "torch.manual_seed(42)\n",
    "\n",
    "# Create an instance of our model\n",
    "model_0 = LinearRegressionModel()\n",
    "\n",
    "# Check out params\n",
    "list( model_0.parameters())"
   ]
  },
  {
   "cell_type": "markdown",
   "id": "5d2ac945-797e-4d21-8d47-df0c9ceaf004",
   "metadata": {},
   "source": [
    "We can also get the state (what the model contains) of the model using [`.state_dict()`](https://pytorch.org/docs/stable/generated/torch.nn.Module.html#torch.nn.Module.state_dict)."
   ]
  },
  {
   "cell_type": "code",
   "execution_count": 77,
   "id": "2125c74b-7002-4d10-abaa-6260e4c6a1b0",
   "metadata": {},
   "outputs": [],
   "source": [
    "#List named parameters\n",
    "def show_state_dict():\n",
    "    model_0.state_dict()\n",
    "    #y = None\n",
    "    for k,y in model_0.state_dict().items():\n",
    "        print (f\"Name: {k}, value: {y}\")\n",
    "    \n",
    "    print(f\"Goal is to achieve these values thru learning\")\n",
    "    print(f\"Fixed weight: {weight}, fixed bias: {bias}\") \n"
   ]
  },
  {
   "cell_type": "code",
   "execution_count": 55,
   "id": "6a1ccd04-b4b9-49b4-836e-829c243b8768",
   "metadata": {},
   "outputs": [
    {
     "name": "stdout",
     "output_type": "stream",
     "text": [
      "Name: weight, value: tensor([0.3367])\n",
      "Name: bias, value: tensor([0.1288])\n",
      "Goal is to achieve these values thru learning\n",
      "Fixed weight: 0.7, fixed bias: 0.3\n"
     ]
    }
   ],
   "source": [
    "show_state_dict()"
   ]
  },
  {
   "cell_type": "markdown",
   "id": "6537f47d-2c7d-4622-95f3-397a71b1645b",
   "metadata": {},
   "source": [
    "### Making predictions using `torch.inference_mode()`\n",
    "\n",
    "To check our models' predictive power, let's see how well it predicts 'y_test' based on x_test.\n",
    "\n",
    "When we pass data through our model it's going to run it through the forward() method."
   ]
  },
  {
   "cell_type": "code",
   "execution_count": 56,
   "id": "3a3dd1d2-3d97-4bad-838a-4f0351f565ba",
   "metadata": {},
   "outputs": [],
   "source": [
    "# Make predictions with model\n",
    "with torch.inference_mode():\n",
    "    y_preds = model_0(X_test) # looks like an xtor()\n",
    "#y_preds, y_test"
   ]
  },
  {
   "cell_type": "code",
   "execution_count": 57,
   "id": "1902d760-8f36-461d-92f4-8ee26b718001",
   "metadata": {},
   "outputs": [
    {
     "name": "stdout",
     "output_type": "stream",
     "text": [
      "Number of testing samples: 10\n",
      "Number of predictions made: 10\n",
      "Predicted values:\n",
      "tensor([[0.3982],\n",
      "        [0.4049],\n",
      "        [0.4116],\n",
      "        [0.4184],\n",
      "        [0.4251],\n",
      "        [0.4318],\n",
      "        [0.4386],\n",
      "        [0.4453],\n",
      "        [0.4520],\n",
      "        [0.4588]])\n"
     ]
    }
   ],
   "source": [
    "# Check the predictions\n",
    "print(f\"Number of testing samples: {len(X_test)}\") \n",
    "print(f\"Number of predictions made: {len(y_preds)}\")\n",
    "print(f\"Predicted values:\\n{y_preds}\")"
   ]
  },
  {
   "cell_type": "code",
   "execution_count": 58,
   "id": "17efbb2f-810b-40d9-b5f8-f8a458c76920",
   "metadata": {},
   "outputs": [
    {
     "name": "stdout",
     "output_type": "stream",
     "text": [
      "CPU times: total: 0 ns\n",
      "Wall time: 0 ns\n"
     ]
    },
    {
     "data": {
      "image/png": "[encoded data removed]",
      "text/plain": [
       "<Figure size 1000x700 with 1 Axes>"
      ]
     },
     "metadata": {},
     "output_type": "display_data"
    }
   ],
   "source": [
    "plot_predictions(predictions=y_preds)"
   ]
  },
  {
   "cell_type": "code",
   "execution_count": 59,
   "id": "0fdde767-2b98-457a-8d96-74738a97fbbf",
   "metadata": {},
   "outputs": [
    {
     "data": {
      "text/plain": [
       "tensor([[0.4618],\n",
       "        [0.4691],\n",
       "        [0.4764],\n",
       "        [0.4836],\n",
       "        [0.4909],\n",
       "        [0.4982],\n",
       "        [0.5054],\n",
       "        [0.5127],\n",
       "        [0.5200],\n",
       "        [0.5272]])"
      ]
     },
     "execution_count": 59,
     "metadata": {},
     "output_type": "execute_result"
    }
   ],
   "source": [
    "y_test - y_preds"
   ]
  },
  {
   "cell_type": "markdown",
   "id": "10e9cdc3-5140-4a06-8e28-d14fdce674f6",
   "metadata": {},
   "source": [
    "## 3. Train model\n",
    "\n",
    "The whole idea is to tweek the Parameters to better fit the test data\n",
    "\n",
    "One way to measure how good the predictions are, is to use the loss functions\n",
    "\n",
    "* Note: Loss function may also be called cost function or criterion in different areas.\n",
    "\n",
    "Things needed to train\n",
    "\n",
    "* **Loss function** A function to measure the delta between what is guessed to the expected value.\n",
    "* **Optimizer** Takes the loss functions' outputs and uses them to adjust the parameters through Backpropagation.  Optimizer starts at the output and walks thought the model in the reverse directing making calculated adjustments by using gradient descent (first or second derivitive) to determine direction and scale of adjustment.\n",
    "\n",
    "Specifically for PyTorch we need\n",
    "1. A training loop\n",
    "2. A testing loop\n"
   ]
  },
  {
   "cell_type": "code",
   "execution_count": 81,
   "id": "7d5951cb-0536-4b6d-9ce7-a6d23a89f579",
   "metadata": {
    "editable": true,
    "slideshow": {
     "slide_type": ""
    },
    "tags": []
   },
   "outputs": [],
   "source": [
    "# Setup a loss function\n",
    "loss_fcn = nn.L1Loss()\n",
    "\n",
    "# Setup an optimizer\n",
    "optimizer = torch.optim.SGD(model_0.parameters(),\n",
    "                            lr = 0.01\n",
    "                           #, momentum=0.9   # optional adjustment though not explained\n",
    "                           ) #  learning rate the most mportant Hparam\n",
    "\n",
    "# Optional schedulers can be added to dynamically adjust the LR on each epoch\n",
    "#scheduler = torch.optim.lr_scheduler.ReduceLROnPlateau(optimizer, 'min') # called in each loop\n",
    "# scheduler can alo be chained (more than 1 for complex optimizations)\n",
    "# the next 2 step outsde the for loop per Epoch\n",
    "#scheduler1 = ExponentialLR(optimizer, gamma=0.9)\n",
    "#scheduler2 = MultiStepLR(optimizer, milestones=[30,80], gamma=0.1)\n",
    "#scheduler.step()\n",
    "#scheduler1.step()\n",
    "#scheduler2.step()"
   ]
  },
  {
   "cell_type": "markdown",
   "id": "d46c214a-b2ba-4ec3-b752-546dc9836634",
   "metadata": {},
   "source": [
    "### Building a training loop and a test loop\n",
    "\n",
    "couple of things are needed\n",
    "0. Loop through the data\n",
    "1. Forward pass - to make predictions (this moves input data through the model)\n",
    "2. Calculate the loss\n",
    "3. Optimizer zero grad\n",
    "4. Loss backwards - move backwards through the model to calculate the gradients of each parameter with respect to the loss **backpropagation**\n",
    "5. Optimizer step - adjust model params to try to reduce the loss **gradient descent**\n",
    "6. scheduler step (optional) - Learning rate dynamic adjustments."
   ]
  },
  {
   "cell_type": "code",
   "execution_count": 91,
   "id": "1c5be6d5-5d55-4d18-af1a-73cb75cded8d",
   "metadata": {},
   "outputs": [
    {
     "name": "stdout",
     "output_type": "stream",
     "text": [
      "Epoch: 0 | MAE Train Loss: 0.008932482451200485 | MAE Test Loss: 0.005023092031478882\n",
      "Epoch: 10 | MAE Train Loss: 0.008932482451200485 | MAE Test Loss: 0.005023092031478882\n",
      "Epoch: 20 | MAE Train Loss: 0.008932482451200485 | MAE Test Loss: 0.005023092031478882\n",
      "Epoch: 30 | MAE Train Loss: 0.008932482451200485 | MAE Test Loss: 0.005023092031478882\n",
      "Epoch: 40 | MAE Train Loss: 0.008932482451200485 | MAE Test Loss: 0.005023092031478882\n",
      "Epoch: 50 | MAE Train Loss: 0.008932482451200485 | MAE Test Loss: 0.005023092031478882\n",
      "Epoch: 60 | MAE Train Loss: 0.008932482451200485 | MAE Test Loss: 0.005023092031478882\n",
      "Epoch: 70 | MAE Train Loss: 0.008932482451200485 | MAE Test Loss: 0.005023092031478882\n",
      "Epoch: 80 | MAE Train Loss: 0.008932482451200485 | MAE Test Loss: 0.005023092031478882\n",
      "Epoch: 90 | MAE Train Loss: 0.008932482451200485 | MAE Test Loss: 0.005023092031478882\n"
     ]
    }
   ],
   "source": [
    "torch.manual_seed(42)\n",
    "# an Epoch is one loop thru the data...\n",
    "#def train():\n",
    "epochs = 100\n",
    "\n",
    "# Create empty loss lists to track values\n",
    "train_loss_values = []\n",
    "test_loss_values = []\n",
    "epoch_count = []    \n",
    "\n",
    "# 0. Loop thru the data\n",
    "for epoch in range(epochs):\n",
    "\n",
    "    # set to training mode\n",
    "    model_0.train() # activates the gradients for all params that require_grad\n",
    "\n",
    "    # 1.implement forward pass\n",
    "    y_pred = model_0(X_train)\n",
    "\n",
    "    # 2. Calculate the loss\n",
    "    loss = loss_fcn( y_pred, y_train)\n",
    "\n",
    "    # 3. optimizer zero grad\n",
    "    optimizer.zero_grad()\n",
    "\n",
    "    # 4. loss backwards\n",
    "    loss.backward()\n",
    "\n",
    "    # 5. optimizer step\n",
    "    optimizer.step()\n",
    "    # 6. scheduler step\n",
    "    #scheduler.step(loss)\n",
    "    # set to evaluation mode\n",
    "    model_0.eval() \n",
    "\n",
    "    with torch.inference_mode():\n",
    "        # 1 forward pass the test data\n",
    "        test_pred = model_0(X_test)\n",
    "\n",
    "        # 2. Calculate the loss on test data\n",
    "        test_loss = loss_fcn(test_pred, y_test.type(torch.float))\n",
    "\n",
    "        # print out whats's happening\n",
    "        if epoch % 10 == 0:\n",
    "            epoch_count.append(epoch)\n",
    "            train_loss_values.append(loss.detach().numpy())\n",
    "            test_loss_values.append(test_loss.detach().numpy())\n",
    "            print(f\"Epoch: {epoch} | MAE Train Loss: {loss} | MAE Test Loss: {test_loss}\")"
   ]
  },
  {
   "cell_type": "code",
   "execution_count": 92,
   "id": "7c18c153-83dd-44eb-9ca7-d2c0c1656b4b",
   "metadata": {},
   "outputs": [
    {
     "name": "stdout",
     "output_type": "stream",
     "text": [
      "Name: weight, value: tensor([0.6990])\n",
      "Name: bias, value: tensor([0.3093])\n",
      "Goal is to achieve these values thru learning\n",
      "Fixed weight: 0.7, fixed bias: 0.3\n"
     ]
    }
   ],
   "source": [
    "show_state_dict()"
   ]
  },
  {
   "cell_type": "code",
   "execution_count": 93,
   "id": "d4d9da1e-be4c-40b4-8be1-d78b683734a2",
   "metadata": {},
   "outputs": [
    {
     "data": {
      "image/png": "[encoded data removed]",
      "text/plain": [
       "<Figure size 640x480 with 1 Axes>"
      ]
     },
     "metadata": {},
     "output_type": "display_data"
    }
   ],
   "source": [
    "# Plot the loss curves\n",
    "plt.plot(epoch_count, train_loss_values, label=\"Train loss\")\n",
    "plt.plot(epoch_count, test_loss_values, label=\"Test loss\")\n",
    "plt.title(\"Training and test loss curves\")\n",
    "plt.ylabel(\"Loss\")\n",
    "plt.xlabel(\"Epochs\")\n",
    "plt.legend();"
   ]
  },
  {
   "cell_type": "markdown",
   "id": "f58f8a12-9512-4a25-9db3-40b36ee52dca",
   "metadata": {},
   "source": [
    "## 4. Making prediction with a trained PyTorch model (inference)\n",
    "\n",
    "Once you've trained a model, you'll likely want to make predictions with it.\n",
    "\n",
    "We've already seem glimpses of this in the training and testing code above, the steps to do it outside of the training loop are similiar.\n",
    "\n",
    "There are three things to remember when making predictions (also called performing inference) with a PyTorch model:\r\n",
    "1. \r\n",
    "Set the model in evaluation mode (model.eval())2. .\r\n",
    "Make the predictions using the inference mode context manager (with torch.inference_mode(): ..\n",
    "3. ).\r\n",
    "All predictions should be made with objects on the same device (e.g. data and model on GPU only or data and model on CPU on\n",
    "   ly).\r\n",
    "The first two items make sure all helpful calculations and settings PyTorch uses behind the scenes during training but aren't necessary for inference are turned off (this results in faster computation). And the third ensures that you won't run into cross-device errors.\r\n",
    "\r\n",
    "\n"
   ]
  },
  {
   "cell_type": "code",
   "execution_count": 89,
   "id": "5a54719b-1535-410a-a8ed-15cdb5935c40",
   "metadata": {},
   "outputs": [
    {
     "data": {
      "text/plain": [
       "tensor([[0.8685],\n",
       "        [0.8825],\n",
       "        [0.8965],\n",
       "        [0.9105],\n",
       "        [0.9245],\n",
       "        [0.9384],\n",
       "        [0.9524],\n",
       "        [0.9664],\n",
       "        [0.9804],\n",
       "        [0.9944]])"
      ]
     },
     "execution_count": 89,
     "metadata": {},
     "output_type": "execute_result"
    }
   ],
   "source": [
    "# 1. Set to evaluation mode\n",
    "model_0.eval() \n",
    "\n",
    "# 2. Aet up inference mode ith context manager\n",
    "with torch.inference_mode():\n",
    "    # 3. Make sure the calculations are done with the model and data on the same device\n",
    "    # in our case, we haven't setup device-agnostic code yet so our data and model are\n",
    "    # on the CPU by default.\n",
    "    # model_0.to(device)\n",
    "    # X_test = X_test.to(device)\n",
    "    y_preds = model_0(X_test)\n",
    "y_preds"
   ]
  },
  {
   "cell_type": "markdown",
   "id": "82cf5525-6592-40e8-a5f6-3fb479bac5c2",
   "metadata": {},
   "source": [
    "Nice, We've made some predictions. How do they look?"
   ]
  },
  {
   "cell_type": "code",
   "execution_count": 95,
   "id": "d445dfb0-44e9-4abb-8ae8-1aabe0d366e0",
   "metadata": {},
   "outputs": [
    {
     "name": "stdout",
     "output_type": "stream",
     "text": [
      "CPU times: total: 0 ns\n",
      "Wall time: 0 ns\n"
     ]
    },
    {
     "data": {
      "image/png": "[encoded data removed]",
      "text/plain": [
       "<Figure size 1000x700 with 1 Axes>"
      ]
     },
     "metadata": {},
     "output_type": "display_data"
    }
   ],
   "source": [
    "plot_predictions(predictions=y_preds)"
   ]
  },
  {
   "cell_type": "markdown",
   "id": "206399be-e507-4c70-947c-21e4fe73bff8",
   "metadata": {},
   "source": [
    "## 5. Saving and loading a PyTorch model\n",
    "\n",
    "If you've trained a model, chances are that you'll want to save it and export it somewhere.\n",
    "\n",
    "As in, you might train it on Google Colab or your local machine with a GPU but you'd like to now export it to some sort of application where others can use it.\n",
    "\n",
    "Or maybe you'd like to save your progress on a model and come back and load it back later.\n",
    "\n",
    "For saving and loading models in PyTorch, there are three main methods you should be aware of (all of below have been taken from the [PyTorch saving and loading models guide](https://pytorch.org/tutorials/beginner/saving_loading_models.html#saving-loading-model-for-inference)):\n",
    "\n",
    "| PyTorch method | What does it do? | \n",
    "| ----- | ----- |\n",
    "| [`torch.save`](https://pytorch.org/docs/stable/torch.html?highlight=save#torch.save) | Saves a serialized object to disk using Python's [`pickle`](https://docs.python.org/3/library/pickle.html) utility. Models, tensors and various other Python objects like dictionaries can be saved using `torch.save`.  | \n",
    "| [`torch.load`](https://pytorch.org/docs/stable/torch.html?highlight=torch%20load#torch.load) | Uses `pickle`'s unpickling features to deserialize and load pickled Python object files (like models, tensors or dictionaries) into memory. You can also set which device to load the object to (CPU, GPU etc). |\n",
    "| [`torch.nn.Module.load_state_dict`](https://pytorch.org/docs/stable/generated/torch.nn.Module.html?highlight=load_state_dict#torch.nn.Module.load_state_dict)| Loads a model's parameter dictionary (`model.state_dict()`) using a saved `state_dict()` object. |\n",
    "\n",
    "> **Note:** As stated in [Python's `pickle` documentation](https://docs.python.org/3/library/pickle.html), the `pickle` module **is not secure**. That means you should only ever unpickle (load) data you trust. That goes for loading PyTorch models as well. Only ever use saved PyTorch models from sources you trust.r."
   ]
  },
  {
   "cell_type": "markdown",
   "id": "b77d3ba5-a0de-4b2b-bcad-3e72e17ff15e",
   "metadata": {},
   "source": [
    "### Saving a PyTorch model's `state_dict()`\n",
    "\n",
    "The [recommended way](https://pytorch.org/tutorials/beginner/saving_loading_models.html#saving-loading-model-for-inference) for saving and loading a model for inference (making predictions) is by saving and loading a model's `state_dict()`.\n",
    "\n",
    "Let's see how we can do that in a few steps:\n",
    "\n",
    "1. We'll create a directory for saving models to called `models` using Python's `pathlib` module.\n",
    "2. We'll create a file path to save the model to.\n",
    "3. We'll call `torch.save(obj, f)` where `obj` is the target model's `state_dict()` and `f` is the filename of where to save the model.\n",
    "\n",
    "> **Note:** It's common convention for PyTorch saved models or objects to end with `.pt` or `.pth`, like `saved_model_01.pth`.\n"
   ]
  },
  {
   "cell_type": "code",
   "execution_count": 96,
   "id": "1cb05c83-9112-4fad-a9be-4096856653a4",
   "metadata": {},
   "outputs": [
    {
     "name": "stdout",
     "output_type": "stream",
     "text": [
      "Saving the model to: models\\01_pytorch_workflow_model_0.pth\n"
     ]
    }
   ],
   "source": [
    "from pathlib import Path\n",
    "\n",
    "# 1. Create models directory\n",
    "MODEL_PATH = Path(\"models\")\n",
    "MODEL_PATH.mkdir(parents=True, exist_ok=True)\n",
    "\n",
    "# 2. Create the model save path\n",
    "MODEL_NAME = \"01_pytorch_workflow_model_0.pth\"\n",
    "MODEL_SAVE_PATH = MODEL_PATH / MODEL_NAME\n",
    "\n",
    "# 3. Save the models state dict\n",
    "print(f\"Saving the model to: {MODEL_SAVE_PATH}\")\n",
    "\n",
    "# only saves the models learned parameters, rebuilding the matrix requires the code above\n",
    "torch.save(obj=model_0.state_dict(), # only saving the state_dict()\n",
    "           f=MODEL_SAVE_PATH) "
   ]
  },
  {
   "cell_type": "code",
   "execution_count": 110,
   "id": "e724b81f-172f-4ef9-8c79-4e7464bf7eb0",
   "metadata": {},
   "outputs": [
    {
     "name": "stdout",
     "output_type": "stream",
     "text": [
      " Volume in drive C is Windows\n",
      " Volume Serial Number is C6A3-7E19\n",
      "\n",
      " Directory of C:\\Users\\Ronald\\Documents\\pytorch4DeepLearning\n",
      "\n",
      "\n",
      " Directory of C:\\Users\\Ronald\\Documents\\pytorch4DeepLearning\\models\n",
      "\n",
      "28/10/2024  19:56             1.680 01_pytorch_workflow_model_0.pth\n",
      "               1 File(s)          1.680 bytes\n",
      "               0 Dir(s)  870.864.044.032 bytes free\n"
     ]
    },
    {
     "name": "stderr",
     "output_type": "stream",
     "text": [
      "File Not Found\n"
     ]
    }
   ],
   "source": [
    "# Check the saved file path\n",
    "# Linux\n",
    "#!ls -l models/01_pytorch_workflow_model_0.pth\n",
    "#Windows\n",
    "!dir -l models\\\\01_pytorch_workflow_model_0.pth"
   ]
  },
  {
   "cell_type": "markdown",
   "id": "ce18121f-69d6-45ce-bfb9-04ec55810698",
   "metadata": {},
   "source": [
    "### Loading a saved PyTorch model's `state_dict()`\n",
    "\n",
    "Since we've now got a saved model `state_dict()` at `models/01_pytorch_workflow_model_0.pth` we can now load it in using `torch.nn.Module.load_state_dict(torch.load(f))` where `f` is the filepath of our saved model `state_dict()`.\n",
    "\n",
    "Why call `torch.load()` inside `torch.nn.Module.load_state_dict()`? \n",
    "\n",
    "Because we only saved the model's `state_dict()` which is a dictionary of learned parameters and not the *entire* model, we first have to load the `state_dict()` with `torch.load()` and then pass that `state_dict()` to a new instance of our model (which is a subclass of `nn.Module`).\n",
    "\n",
    "Why not save the entire model?\n",
    "\n",
    "[Saving the entire model](https://pytorch.org/tutorials/beginner/saving_loading_models.html#save-load-entire-model) rather than just the `state_dict()` is more intuitive, however, to quote the PyTorch documentation (italics mine):\n",
    "\n",
    "> The disadvantage of this approach *(saving the whole model)* is that the serialized data is bound to the specific classes and the exact directory structure used when the model is saved...\n",
    ">\n",
    "> Because of this, your code can break in various ways when used in other projects or after refactors.\n",
    "\n",
    "So instead, we're using the flexible method of saving and loading just the `state_dict()`, which again is basically a dictionary of model parameters.\n",
    "\n",
    "Let's test it out by creating another instance of `LinearRegressionModel()`, which is a subclass of `torch.nn.Module` and will hence have the in-built method `load_state_dict()`."
   ]
  },
  {
   "cell_type": "code",
   "execution_count": 104,
   "id": "30b9c6c1-4691-4fdf-b7ce-13377cae6413",
   "metadata": {},
   "outputs": [
    {
     "data": {
      "text/plain": [
       "<All keys matched successfully>"
      ]
     },
     "execution_count": 104,
     "metadata": {},
     "output_type": "execute_result"
    }
   ],
   "source": [
    "# Instanciate a new instance of our model\n",
    "loaded_model_0 = LinearRegressionModel()\n",
    "\n",
    "# Load the state dict()\n",
    "loaded_model_0.load_state_dict(torch.load(f=MODEL_SAVE_PATH,weights_only=True))\n",
    "# default is weights_only = False which is unsafe, any arbitrary code can be loaded and executed\n",
    "# This limits the functions that could be executed during unpickling. \n",
    "# Arbitrary objects will no longer be allowed to be loaded via this mode \n",
    "# unless they are explicitly allowlisted by the user \n",
    "# via `torch.serialization.add_safe_globals`. \n",
    "# We recommend you start setting `weights_only=True` for any use case \n",
    "# where you don't have full control of the loaded file. "
   ]
  },
  {
   "cell_type": "markdown",
   "id": "1dae7093-2657-48cc-89e2-45776590d05d",
   "metadata": {},
   "source": [
    "All keys matched successfully indicate the file loaded correctly.\n",
    "\n",
    "So now Let's use"
   ]
  },
  {
   "cell_type": "code",
   "execution_count": 105,
   "id": "15a57b4d-7342-4368-881a-08a84f2de505",
   "metadata": {},
   "outputs": [],
   "source": [
    "# 1. Set to evaluation mode\n",
    "model_0.eval() \n",
    "\n",
    "# 2. Aet up inference mode ith context manager\n",
    "with torch.inference_mode():\n",
    "    loaded_model_preds = model_0(X_test)"
   ]
  },
  {
   "cell_type": "code",
   "execution_count": 106,
   "id": "f4b58a5c-3a83-4e2b-920c-24fc397fdfe9",
   "metadata": {},
   "outputs": [
    {
     "data": {
      "text/plain": [
       "tensor([[True],\n",
       "        [True],\n",
       "        [True],\n",
       "        [True],\n",
       "        [True],\n",
       "        [True],\n",
       "        [True],\n",
       "        [True],\n",
       "        [True],\n",
       "        [True]])"
      ]
     },
     "execution_count": 106,
     "metadata": {},
     "output_type": "execute_result"
    }
   ],
   "source": [
    "y_preds == loaded_model_preds"
   ]
  },
  {
   "cell_type": "markdown",
   "id": "84b13b9f-f809-4894-8f35-2be66f7decc7",
   "metadata": {},
   "source": [
    "Nice! \n",
    "\n",
    "It looks like the loaded model predictions are the same as the previous model predictions (predictions made prior to saving). This indicates our model is saving and loading as expected.\n",
    "\n",
    "> **Note:** There are more methods to save and load PyTorch models but I'll leave these for extra-curriculum and further reading. See the [PyTorch guide for saving and loading models](https://pytorch.org/tutorials/beginner/saving_loading_models.html#saving-and-loading-models) for more. "
   ]
  },
  {
   "cell_type": "markdown",
   "id": "1554c472-fd87-4055-96da-412cbd793d64",
   "metadata": {},
   "source": [
    "## 6. Putting it all together \n",
    "\n",
    "We've covered a fair bit of ground so far. \n",
    "\n",
    "But once you've had some practice, you'll be performing the above steps like dancing down the street.\n",
    "\n",
    "Speaking of practice, let's put everything we've done so far together. \n",
    "\n",
    "Except this time we'll make our code device agnostic (so if there's a GPU available, it'll use it and if not, it will default to the CPU). \n",
    "\n",
    "There'll be far less commentary in this section than above since what we're going to go through has already been covered.\n",
    "\n",
    "We'll start by importing the standard libraries we need.\n",
    "\n",
    "> **Note:** If you're using Google Colab, to setup a GPU, go to Runtime -> Change runtime type -> Hardware acceleration -> GPU. If you do this, it will reset the Colab runtime and you will lose saved variables."
   ]
  },
  {
   "cell_type": "code",
   "execution_count": 112,
   "id": "f6657a39-657a-4da0-9c72-c04e0d7c6659",
   "metadata": {},
   "outputs": [
    {
     "name": "stdout",
     "output_type": "stream",
     "text": [
      "Torch ver= 2.5.0, Cuda ver = 12.4\n",
      "CUDA available = True\n",
      "NVIDIA GeForce RTX 4070 SUPER\n"
     ]
    }
   ],
   "source": [
    "# Import PyTorch and matplotlib\n",
    "import torch\n",
    "from torch import nn # nn contains all of PyTorch's building blocks for neural networks\n",
    "import matplotlib.pyplot as plt\n",
    "\n",
    "# Check PyTorch version I like checking the gpu as well\n",
    "\n",
    "print(f\"Torch ver= {torch.__version__}, Cuda ver = {torch.version.cuda}\") \n",
    "print (f\"CUDA available = {torch.cuda.is_available()}\")\n",
    "print(f\"{torch.cuda.get_device_name(0)}\")"
   ]
  },
  {
   "cell_type": "markdown",
   "id": "c659adca-a0c9-4515-8fbf-f1a502b71b97",
   "metadata": {},
   "source": [
    "Now let's start making our code device agnostic by setting `device=\"cuda\"` if it's available, otherwise it'll default to `device=\"cpu\"`.\n"
   ]
  },
  {
   "cell_type": "code",
   "execution_count": 113,
   "id": "f3aa7baa-bc7c-48c5-ad23-b85746d19c5c",
   "metadata": {},
   "outputs": [
    {
     "name": "stdout",
     "output_type": "stream",
     "text": [
      "Using device: cuda\n"
     ]
    }
   ],
   "source": [
    "# Setup device agnostic code\n",
    "device = \"cuda\" if torch.cuda.is_available() else \"cpu\"\n",
    "print(f\"Using device: {device}\")"
   ]
  },
  {
   "cell_type": "markdown",
   "id": "40503c6c-9b61-4bd0-af96-bfd941370c9f",
   "metadata": {},
   "source": [
    "If you've got access to a GPU, the above should've printed out:\n",
    "\n",
    "```\n",
    "Using device: cuda\n",
    "```\n",
    "Otherwise, you'll be using a CPU for the following computations. This is fine for our small dataset but it will take longer for larger datasets."
   ]
  },
  {
   "cell_type": "markdown",
   "id": "881dc7d3-d30c-4027-935e-c9d7cd34a3f8",
   "metadata": {},
   "source": [
    "### 6.1 Data\n",
    "\n",
    "Let's create some data just like before.\n",
    "\n",
    "First, we'll hard-code some `weight` and `bias` values.\n",
    "\n",
    "Then we'll make a range of numbers between 0 and 1, these will be our `X` values.\n",
    "\n",
    "Finally, we'll use the `X` values, as well as the `weight` and `bias` values to create `y` using the linear regression formula (`y = weight * X + bias`)."
   ]
  },
  {
   "cell_type": "code",
   "execution_count": null,
   "id": "c59ec0a3-3aef-4e74-9dce-57826eadd2ef",
   "metadata": {},
   "outputs": [],
   "source": [
    "# Create weight and bias\n",
    "weight = 0.7\n",
    "bias = 0.3\n",
    "\n",
    "# Create range values\n",
    "start = 0\n",
    "end = 1\n",
    "step = 0.02\n",
    "\n",
    "# Create X and y (features and labels)\n",
    "X = torch.arange(start, end, step).unsqueeze(dim=1) # without unsqueeze, errors will happen later on (shapes within linear layers)\n",
    "y = weight * X + bias \n",
    "X[:10], y[:10]"
   ]
  },
  {
   "cell_type": "code",
   "execution_count": null,
   "id": "3601380b-782f-41e0-8ea9-48adae240aef",
   "metadata": {},
   "outputs": [],
   "source": []
  },
  {
   "cell_type": "code",
   "execution_count": null,
   "id": "29f2efcd-36ba-4ea7-97fd-9b9cfbc10ccd",
   "metadata": {},
   "outputs": [],
   "source": []
  },
  {
   "cell_type": "markdown",
   "id": "43e3765a-1dd9-405d-b6d5-4cf1aaa5ef1d",
   "metadata": {},
   "source": [
    "## Exercises\n",
    "\n",
    "All exercises have been inspired from code throughout the notebook.\n",
    "\n",
    "There is one exercise per major section.\n",
    "\n",
    "You should be able to complete them by referencing their specific section.\n",
    "\n",
    "> **Note:** For all exercises, your code should be device agnostic (meaning it could run on CPU or GPU if it's available).\n",
    "\n",
    "1. Create a straight line dataset using the linear regression formula (`weight * X + bias`).\n",
    "  * Set `weight=0.3` and `bias=0.9` there should be at least 100 datapoints total. \n",
    "  * Split the data into 80% training, 20% testing.\n",
    "  * Plot the training and testing data so it becomes visual.\n",
    "2. Build a PyTorch model by subclassing `nn.Module`. \n",
    "  * Inside should be a randomly initialized `nn.Parameter()` with `requires_grad=True`, one for `weights` and one for `bias`. \n",
    "  * Implement the `forward()` method to compute the linear regression function you used to create the dataset in 1. \n",
    "  * Once you've constructed the model, make an instance of it and check its `state_dict()`.\n",
    "  * **Note:** If you'd like to use `nn.Linear()` instead of `nn.Parameter()` you can.\n",
    "3. Create a loss function and optimizer using `nn.L1Loss()` and `torch.optim.SGD(params, lr)` respectively. \n",
    "  * Set the learning rate of the optimizer to be 0.01 and the parameters to optimize should be the model parameters from the model you created in 2.\n",
    "  * Write a training loop to perform the appropriate training steps for 300 epochs.\n",
    "  * The training loop should test the model on the test dataset every 20 epochs.\n",
    "4. Make predictions with the trained model on the test data.\n",
    "  * Visualize these predictions against the original training and testing data (**note:** you may need to make sure the predictions are *not* on the GPU if you want to use non-CUDA-enabled libraries such as matplotlib to plot).\n",
    "5. Save your trained model's `state_dict()` to file.\n",
    "  * Create a new instance of your model class you made in 2. and load in the `state_dict()` you just saved to it.\n",
    "  * Perform predictions on your test data with the loaded model and confirm they match the original model predictions from 4.\n",
    "\n",
    "> **Resource:** See the [exercises notebooks templates](https://github.com/mrdbourke/pytorch-deep-learning/tree/main/extras/exercises) and [solutions](https://github.com/mrdbourke/pytorch-deep-learning/tree/main/extras/solutions) on the course GitHub.\n",
    "\n",
    "## Extra-curriculum\n",
    "* Listen to [The Unofficial PyTorch Optimization Loop Song](https://youtu.be/Nutpusq_AFw) (to help remember the steps in a PyTorch training/testing loop).\n",
    "* Read [What is `torch.nn`, really?](https://pytorch.org/tutorials/beginner/nn_tutorial.html) by Jeremy Howard for a deeper understanding of how one of the most important modules in PyTorch works. \n",
    "* Spend 10-minutes scrolling through and checking out the [PyTorch documentation cheatsheet](https://pytorch.org/tutorials/beginner/ptcheat.html) for all of the different PyTorch modules you might come across.\n",
    "* Spend 10-minutes reading the [loading and saving documentation on the PyTorch website](https://pytorch.org/tutorials/beginner/saving_loading_models.html) to become more familiar with the different saving and loading options in PyTorch. \n",
    "* Spend 1-2 hours reading/watching the following for an overview of the internals of gradient descent and backpropagation, the two main algorithms that have been working in the background to help our model learn. \n",
    " * [Wikipedia page for gradient descent](https://en.wikipedia.org/wiki/Gradient_descent)\n",
    " * [Gradient Descent Algorithm — a deep dive](https://towardsdatascience.com/gradient-descent-algorithm-a-deep-dive-cf04e8115f21) by Robert Kwiatkowski\n",
    " * [Gradient descent, how neural networks learn video](https://youtu.be/IHZwWFHWa-w) by 3Blue1Brown\n",
    " * [What is backpropagation really doing?](https://youtu.be/Ilg3gGewQ5U) video by 3Blue1Brown\n",
    " * [Backpropagation Wikipedia Page](https://en.wikipedia.org/wiki/Backpropagation)\n"
   ]
  }
 ],
 "metadata": {
  "kernelspec": {
   "display_name": "Python 3 (ipykernel)",
   "language": "python",
   "name": "python3"
  },
  "language_info": {
   "codemirror_mode": {
    "name": "ipython",
    "version": 3
   },
   "file_extension": ".py",
   "mimetype": "text/x-python",
   "name": "python",
   "nbconvert_exporter": "python",
   "pygments_lexer": "ipython3",
   "version": "3.12.3"
  }
 },
 "nbformat": 4,
 "nbformat_minor": 5
}
