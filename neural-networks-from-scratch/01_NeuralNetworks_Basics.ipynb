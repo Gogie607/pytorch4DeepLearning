{
 "cells": [
  {
   "cell_type": "markdown",
   "id": "26cecc41-b65c-4b16-8a8c-0b7c98925a67",
   "metadata": {},
   "source": [
    "# 0 Neural Networks from Scratch | Mathematics and Python Code\n",
    "Taken from the Independent Code Channel\n",
    "[NeuralNetworks from Scratch](https://www.youtube.com/watch?v=pauPCy_s0Ok)\n",
    "\n",
    "This video series recreates several neural networks and codes them out using only python and numpy in Tensorflow/Keras similiar style. From a PyTorch perspective, it creates a nn.Module base class (without the automation) and reproduces Activation functions, loss functions along with back-propagation and gradient descent."
   ]
  },
  {
   "cell_type": "markdown",
   "id": "b2911547-b8fa-44ee-921b-8a1fa6ee8ac2",
   "metadata": {},
   "source": [
    "The mathematics are fully explained including the complicated gradient descent which is taking partial derivitives of the loss with respect to each input parameter. \n",
    "For example, the the derivitive of loss E wrt the output (y) is  dE/dY.  The partial derivitive would be for the weights dE/dW, the bias dE/dB and X (dE/dX).\n",
    "Note: that the partial derivitive dE/dX is actually the dE/dY of the previous layer which allows us to pass this value back to the feeding layer to update its learnable parameters."
   ]
  },
  {
   "cell_type": "code",
   "execution_count": 13,
   "id": "b72d63a7-4021-4ba5-a3c8-c811e528fb91",
   "metadata": {},
   "outputs": [
    {
     "name": "stdout",
     "output_type": "stream",
     "text": [
      "C:\\Users\\Ronald\\anaconda3\\envs\\pytorch_env1\\python.exe\n"
     ]
    }
   ],
   "source": [
    "import sys\n",
    "print(sys.executable)"
   ]
  },
  {
   "cell_type": "markdown",
   "id": "c693fc3e-60d3-48c6-bcd7-bb08620a0488",
   "metadata": {},
   "source": [
    "## 0.1 PyTorch <-> nomenclature\n",
    "Since the author is writing code to implement Tensorflow like objects, I want to be sure I use the naming conventions correctly when switching back to Pytorch.\n",
    "1. What I call a Model, the author is calling it network  so this class definition:\n",
    "   \n",
    "   `network = [\n",
    "   \n",
    "        Dense(2,5),   # pytorch Linear Layer\n",
    "   \n",
    "        Tanh(),       # asymptotic horizontal tangent function\n",
    "   \n",
    "        Dense(5,10).\n",
    "   \n",
    "        Tanh()......\n",
    "\n",
    "   ]`\n",
    "   \n",
    "   Where each of these `Layers` could be defined  as such\n",
    "   \n",
    "   `class MyCustomLayer(Layer):\n",
    "   \n",
    "       def forward(...):\n",
    "   \n",
    "           pass\n",
    "   \n",
    "       def backward(...):\n",
    "   \n",
    "           pass`\n",
    "   \n",
    "   \n",
    "   This concept of the backward function is somewhat different (or hidden in Pytorch whereas the Loss function and the optimizer sort of did this. In any case that is the back-propagation.\n",
    "   For every parameter that is in a module that is defined with requires_grad=True is keeping track of the values during the forward pass and which parameter to update during the back-propagation"
   ]
  },
  {
   "cell_type": "markdown",
   "id": "93ed32a7-b4ec-4e09-aa70-7068bd64183e",
   "metadata": {},
   "source": [
    "## 1. Implementation"
   ]
  },
  {
   "cell_type": "markdown",
   "id": "aca6c0a0-4a9d-41f6-a2a4-613e3738acf5",
   "metadata": {},
   "source": [
    "### 1.1 Design a modular system that is easy to use and easily extensible"
   ]
  },
  {
   "cell_type": "markdown",
   "id": "0b6cc591-a50e-4d50-ba89-beeb78fa8085",
   "metadata": {},
   "source": [
    "Machine learning steps\n",
    "1. Feed inout.  Data flows forward from layer to layer\n",
    "2. Calculate the loss i.e E = (1/2)(y'- y)^2  (r mean squared error?)\n",
    "3. Adjust parameters using gradient descent\n",
    "       w <- w - @(pE/pW) # partial derivitive E wrt W\n",
    "4. Start again"
   ]
  },
  {
   "cell_type": "markdown",
   "id": "37a6513d-f7db-4c77-9820-ff763d8d69f6",
   "metadata": {},
   "source": [
    "           ____________\n",
    "       X-->|  Layer   | ---> Y\n",
    "       <---|    W     | <---   \n",
    "     pE/pX |----------|    pE/pY              \n",
    "                |\n",
    "              pE/pW\n",
    "\n",
    "\n",
    "Using the chain rule: \n",
    "\n",
    "**pE/pW = pE/pY pY/pW**  pe/py is given as the loss, the pY/pw is specific to the mathematical function defined in the forward function. The layer itself can calculate this\n",
    "\n",
    "**pE/pX = pE/pY pY/pX**  Again pE/pY is the loss. pE/pX IS the pE/pY for the previous layer\n"
   ]
  },
  {
   "cell_type": "code",
   "execution_count": 14,
   "id": "ae92d7b9-2b2d-4448-be7b-5f65c371b267",
   "metadata": {},
   "outputs": [],
   "source": [
    "import numpy as np\n",
    "import matplotlib.pyplot as plt"
   ]
  },
  {
   "cell_type": "markdown",
   "id": "922ef582-f3de-43ca-bc0d-9a05e7738994",
   "metadata": {},
   "source": [
    "### 1.2 Create the base layer - a simple base class like nn.Module"
   ]
  },
  {
   "cell_type": "code",
   "execution_count": 15,
   "id": "d3d805b0-d8b5-4ea5-9b1c-7532b43a9ca6",
   "metadata": {},
   "outputs": [],
   "source": [
    "class Layer:\n",
    "    def __init__(self):\n",
    "        self.input = None\n",
    "        delf.output = None\n",
    "#\n",
    "    def forward(self,input):\n",
    "        # TODO: returns output Y\n",
    "        pass\n",
    "#\n",
    "    def backward(self, output_gradient, learning_rate):\n",
    "        \"\"\"\n",
    "        params: output_gradient - partial derived loss wrt this layers output\n",
    "                learning_rate - some constant applied to the output_gradient to adjust the weights\n",
    "        returns: input_gradient  pE/pX  (which in turn becomes the pE/pY of the previous layer\n",
    "         *optionaly passing in and returning an optimizer that encapsulates the gradient descent\n",
    "        \"\"\"\n",
    "        # TODO update parameters and return input gradient (pE/pX)\n",
    "        pass"
   ]
  },
  {
   "cell_type": "markdown",
   "id": "6457b421-16d2-4150-ba0d-4c229864385d",
   "metadata": {},
   "source": [
    "### 1.3 Create the Dense layer - nn.Linear in pytorch"
   ]
  },
  {
   "cell_type": "markdown",
   "id": "2061b335-a208-40e8-8459-f73bc9428da2",
   "metadata": {},
   "source": [
    "The dense layer - or fully connected layer\n",
    "\n",
    "Connects a set of `i` input neurons to a set of `j` output neurons\n",
    "Every input neuron has is connected to each and everyneuron in the output layer.\n",
    "The weights are actually a partial description of the connection rather than the neuron itself.\n",
    "This weight is depicted as W sub j sub i to designate the connection between input neuron i and output neuron j.\n",
    "\n",
    "The inputs are designated as x1, x2, x3....xi\n",
    "\n",
    "The outputs are y1,y2,y3...yj\n",
    "\n",
    "where:\n",
    "\n",
    "Yj is the sum of all input weight products from layer i\n",
    "\n",
    "y1 = X1W11 + X2W12+X3W13 + .... + xiW1i + B1\n",
    "\n",
    "y2 = X1W21 + X2W22 .... etc...\n",
    "\n",
    ".\n",
    "\n",
    ".\n",
    "\n",
    "yj = X1Wj1 + X2Wj2 +...+XiWji + Bj\n",
    "\n",
    "\n",
    "This can better be expressed as:\n",
    "\n",
    "\"|y1|....|W11 W12 ...W1i| |x1|...|b1|\"\n",
    "\n",
    "\"|y2|....|W21 W22 ...W2i| |x2|...|b2|\"\n",
    "\n",
    "\"|: |.=..| :.. :. \\ ..: | | :| + |: |\"\n",
    "\n",
    "\"|: |....| :.. :.. \\ .: | | :|...|: |\"\n",
    "\n",
    "\"|yj|....|Wj1 Wj2 ...Wji| |xi|...|bj|\"\n",
    "\n",
    "* j * 1        X * i       i * 1  j * 1\n",
    "\n",
    "This then turns to a simple equation:\n",
    "\n",
    "* Y = W ° X + B    where ° is the symbol of this sum of product, matrix DOT function\n",
    "\n",
    " "
   ]
  },
  {
   "cell_type": "code",
   "execution_count": 16,
   "id": "88b1b36f-1f59-4860-9f5f-da7c5dfec0c4",
   "metadata": {},
   "outputs": [],
   "source": [
    "# from layer import Layer     # assume class is defined in its own package\n",
    "import numpy as np\n",
    "#\n",
    "class Dense(Layer):\n",
    "    def __init__(self, input_size, output_size):\n",
    "        self.weights = np.random.randn(output_size, input_size)\n",
    "        self.bias = np.random.randn(output_size, 1)\n",
    "#\n",
    "    def forward(self, input):\n",
    "        self.input = input\n",
    "        return np.dot(self.weights, self.inputs) + self.bias\n",
    "#\n",
    "    def backward(self, output_gradient, learning_rate):\n",
    "        # TODO update parameters and return input gradient\n",
    "        pass"
   ]
  },
  {
   "cell_type": "markdown",
   "id": "b7cc3206-96a8-416f-b3c4-7df5d384c6b5",
   "metadata": {},
   "source": [
    "# see video referenced above for full explanation\n",
    "pE/pY  passed in through output_gradient calculated by the loss function\n",
    "        it has the same dimensions as  the output\n",
    "        We will designate this as L where Lj is the jth element\n",
    "\n",
    "* pE/pW = L ° Xt # transformed input matrix\n",
    "\n",
    "pE/pB1 = (L1)(pY1/pB1) + ... + (Lj)(pYj/pB1) \n",
    "     since B1 only shows up in the Y1 = (above)all others are zero so..\n",
    "\n",
    "* pE/pB = pE/pY or L\n",
    "\n",
    "pE/pX1 (L1)(pY1/pX1) + ... + (Lj)(pYj/pB1)   \n",
    "Since the terms for X1 shows up in every equation all weights are factored in so\n",
    "\n",
    "pE/pX = L1(W1i) + L2(W2i) + .... + Lj(Wji) \n",
    "When we plug in the values from the above equation we see that the weight matrix is transposed so...\n",
    "\n",
    "+ pE/pX = Wt ° L  Wt is the transposed weight matrix\n",
    "\n",
    "We now have the equations to implement the backward function\n"
   ]
  },
  {
   "cell_type": "code",
   "execution_count": 17,
   "id": "a482c40a-8a38-4d49-acee-7ed06f429701",
   "metadata": {},
   "outputs": [],
   "source": [
    "# from layer import Layer     # assume class is defined in its own package\n",
    "import numpy as np\n",
    "#\n",
    "class Dense(Layer):\n",
    "    def __init__(self, input_size, output_size):\n",
    "        super().__init__()\n",
    "        self.weights = np.random.randn(output_size, input_size)\n",
    "        self.bias = np.random.randn(output_size, 1)\n",
    "#\n",
    "    def forward(self, input):\n",
    "        self.input = input\n",
    "        return np.dot(self.weights, self.inputs) + self.bias\n",
    "#\n",
    "    def backward(self, output_gradient, learning_rate):\n",
    "        weights_gradients = np.dot(output_gradient, self.input.T) # loss dot transpose(X)\n",
    "        self.weights -= learning_rate * weights_gradients\n",
    "        self.bias -= learning_rate * output_gradient  # just the loss itself\n",
    "        return np.dot(self.weights.T, output_gradient) # transpose weights dot loss\n",
    "    "
   ]
  },
  {
   "cell_type": "markdown",
   "id": "a4d3c401-bf8f-4c36-b10c-4174689b7450",
   "metadata": {},
   "source": [
    "### 1.4 Create the Activation layer base class\n",
    "\n",
    "The activation layer is simply just another layer with a single function\n",
    "It takes the input size and outputs a matrix of the same size\n",
    "The forward function is simle y = F(x)\n",
    "The backward function should simply return pE/pX since it has no paramters of its own"
   ]
  },
  {
   "cell_type": "code",
   "execution_count": 18,
   "id": "59662cc9-8efd-4f5d-9cc9-6cbba31566b7",
   "metadata": {},
   "outputs": [],
   "source": [
    "from layer import Layer\n",
    "#\n",
    "class Activation(Layer):\n",
    "    def __init__(self, activation, activation_prime):\n",
    "        super().__init__()\n",
    "        self.activation = activation\n",
    "        self.activation_prime = activation_prime\n",
    "#\n",
    "    def forward(self, input):\n",
    "        self.input = input\n",
    "        return self.activation(self.input)\n",
    "#\n",
    "    def backward(self, output_gradient, learning_rate):\n",
    "        return np.multiply(output_gradient, self.activation_prime(self.input))"
   ]
  },
  {
   "cell_type": "markdown",
   "id": "c1e26a30-3435-47ae-ac6a-6a0050ae4a63",
   "metadata": {},
   "source": [
    "the activation function is defined as y = f(x)\n",
    "\n",
    "To calculate the output gradient given the loss pE/dY, we just do element-wise multiplication with the derived function activation_prime\n",
    "pE/pX = L * f'(X)  this function is passed in as constructor parameter"
   ]
  },
  {
   "cell_type": "markdown",
   "id": "34e15ae3-5e2b-4079-aa47-b1178ce479c9",
   "metadata": {},
   "source": [
    "### 1.5 Implement the Activation and loss functions"
   ]
  },
  {
   "cell_type": "markdown",
   "id": "82432f37-7fe0-496a-aa08-921af42520d3",
   "metadata": {},
   "source": [
    "* We can create the hyperbolc tanget function and its derivitive"
   ]
  },
  {
   "cell_type": "code",
   "execution_count": 19,
   "id": "d5c57cba-6614-471a-9780-54de3e942a6f",
   "metadata": {},
   "outputs": [],
   "source": [
    "from activation import Activation\n",
    "import numpy as np\n",
    "#\n",
    "class Tanh(Activation):\n",
    "    def __init__(self):\n",
    "        tanh = lambda x: np.tanh(x)\n",
    "        tanh_prime = lambda x: 1-np.tanh(x)** 2\n",
    "        super().__init__(tanh, tanh_prime)\n",
    "    "
   ]
  },
  {
   "cell_type": "markdown",
   "id": "f41087fb-3576-453c-800d-a0c933299ff7",
   "metadata": {},
   "source": [
    "* now we need a loss function\n",
    "\n",
    "L1Loss im pytrch is MAE (Mean Absolute Error)\n",
    "We will use the mean squared error  MSE ( I think in Pytorch this is L1Loss)\n",
    "The function is defined as Err = (1/n) Epsilon((y_pred - y)**2)  of simply sum of all delta Y's squared\n",
    "\n",
    "As we explained earlier Each layer og its pE/pY or loss, by receiving the pE_pX from the following layer.  So we now have to give the finel layer this value and here is where we calculate it. But we need to pass pE/pY and not the actual calculation above.  we need loss_prime  which is:\n",
    "\n",
    "pE/pY = (2/n)(-delta Y)"
   ]
  },
  {
   "cell_type": "code",
   "execution_count": 20,
   "id": "4e33fa7a-7564-4115-8bdd-11a4664ce845",
   "metadata": {},
   "outputs": [],
   "source": [
    "# we could create a loss base class ) in pytorch it is nn.Module derived and \n",
    "# figure out what to do(if anything) during forward\n",
    "\n",
    "#  create Mean Squared error and its derivative\n",
    "import numpy as np\n",
    "def mse(y_true, y_pred):\n",
    "    return np.mean(np.power(y_true - y_pred, 2))\n",
    "#\n",
    "def mse_prime(y_true, y_pred):\n",
    "    return 2 * (y_pred - y_true) / np.size(y_true)\n",
    "    "
   ]
  },
  {
   "cell_type": "markdown",
   "id": "2b8de91e-0547-47e9-af60-85260ab46327",
   "metadata": {},
   "source": [
    "## 2. Solve XOR (Logical Exclusive Or function) or MNIST"
   ]
  },
  {
   "cell_type": "markdown",
   "id": "4a95a491-e598-40ac-bc82-0757cbfd73c7",
   "metadata": {},
   "source": [
    "The XOR function, when mapped out sort of forms an x so there is no linear boundry that can be drawn.\n",
    "\n",
    "Although it is a digital 0,1 gate, the network maps all points in between as well\n",
    "we can use a simple 2 inputs (X1 and X2),  3 hidden units , and a single output (zero or one)"
   ]
  },
  {
   "cell_type": "code",
   "execution_count": 21,
   "id": "034788ba-045e-488a-8fa3-873cce11d778",
   "metadata": {},
   "outputs": [
    {
     "name": "stdout",
     "output_type": "stream",
     "text": [
      "1/200, error = 0.3311\n",
      "11/200, error = 0.1335\n",
      "21/200, error = 0.0652\n",
      "31/200, error = 0.0310\n",
      "41/200, error = 0.0173\n",
      "51/200, error = 0.0112\n",
      "61/200, error = 0.0080\n",
      "71/200, error = 0.0061\n",
      "81/200, error = 0.0049\n",
      "91/200, error = 0.0040\n",
      "101/200, error = 0.0034\n",
      "111/200, error = 0.0029\n",
      "121/200, error = 0.0026\n",
      "131/200, error = 0.0023\n",
      "141/200, error = 0.0021\n",
      "151/200, error = 0.0019\n",
      "161/200, error = 0.0017\n",
      "171/200, error = 0.0016\n",
      "181/200, error = 0.0014\n",
      "191/200, error = 0.0013\n"
     ]
    }
   ],
   "source": [
    "# solving the XOR\n",
    "from dense import Dense\n",
    "from activations import Tanh\n",
    "from losses import mse, mse_prime\n",
    "import numpy as np\n",
    "\n",
    "X = np.reshape([[0,0],[0,1],[1,0],[1,1]], (4,2,1))\n",
    "Y = np.reshape([[0],[1],[1],[0]],(4,1,1))\n",
    "\n",
    "network = [\n",
    "    Dense(2,3),\n",
    "    Tanh(),\n",
    "    Dense(3,1),\n",
    "    Tanh()\n",
    "]\n",
    "\n",
    "epochs = 200\n",
    "learning_rate = 0.1\n",
    "\n",
    "#train \n",
    "for epoch in range(epochs):\n",
    "    error = 0\n",
    "    for x,y in zip(X,Y):\n",
    "        output = x\n",
    "        for layer in network:\n",
    "            output  = layer.forward(output)\n",
    "\n",
    "        # error\n",
    "        error += mse(y, output)\n",
    "\n",
    "        # backward\n",
    "        grad = mse_prime(y, output)\n",
    "        for layer in reversed(network):\n",
    "            grad = layer.backward(grad, learning_rate)\n",
    "    if epoch % 10 ==0:\n",
    "        print(f\"{epoch+1}/{epochs}, error = {error / len(X):.4f}\")"
   ]
  },
  {
   "cell_type": "markdown",
   "id": "cb568ac6-74a5-4a3e-aefe-ad73982a97e8",
   "metadata": {},
   "source": [
    "## 3. Evaulation and Visualization\n",
    "\n",
    "To create an Eval loop using straight python is even easier than using pytorch.\n",
    "Since thee is no underlying control we must do the loops and keep track of some data ourselves, but there is no modes to set and the eval loop is only a small part of the train loop anyway.\n",
    "\n",
    "What we are going to do is:\n",
    "1. write a eval loop (could be a function)\n",
    "2. generate test data\n",
    "3. run the eval and save the results\n",
    "4. plot the data visually"
   ]
  },
  {
   "cell_type": "markdown",
   "id": "c633e814-2c09-4cbe-9373-fbe22b9f2b2c",
   "metadata": {},
   "source": [
    "### 3.1  Create our  evaluation data\n",
    "\n",
    "Since the XOR data set is only the edge points of boolean logic [0,1], our goal in this section is to actually create a boundry plot by plotting all intemediate points between these extremes.\n",
    "1. create 2 arrays (X1 and X2) of range data between 0 and 1. These will be the x and y cordinates\n",
    "2. evaluate the input. The networks return value is the Z coordinate\n"
   ]
  },
  {
   "cell_type": "code",
   "execution_count": 22,
   "id": "ee8a7a8b-ee83-4db6-a2b6-00c3394fba46",
   "metadata": {},
   "outputs": [
    {
     "data": {
      "text/plain": [
       "(2, 1)"
      ]
     },
     "execution_count": 22,
     "metadata": {},
     "output_type": "execute_result"
    }
   ],
   "source": [
    "import torch\n",
    "# Define the range and step for x and y\n",
    "x_eval = np.arange(0,1.1,0.1)\n",
    "y_eval = np.arange(0,1.1,0.1)\n",
    "\n",
    "# Create a meshgrid of x, y coordinates\n",
    "xx,yy = np.meshgrid(x_eval,y_eval)\n",
    "\n",
    "# Combine the x and y coordinates into pairs\n",
    "xor_in = np.column_stack((xx.ravel(), yy.ravel())).reshape(-1, 2, 1)\n",
    "\n",
    "xor_in[0].shape"
   ]
  },
  {
   "cell_type": "markdown",
   "id": "7674ab86-85d8-49f7-963c-8fd13a9ffc64",
   "metadata": {},
   "source": [
    "### 3.2  Create an  evaluation loop\n"
   ]
  },
  {
   "cell_type": "code",
   "execution_count": 23,
   "id": "5559ac7d-6683-4089-aa7f-788cf0d31531",
   "metadata": {},
   "outputs": [],
   "source": [
    "#eval \n",
    "error = 0\n",
    "z_outputs = []\n",
    "for x in xor_in:\n",
    "    output = x\n",
    "    for layer in network:\n",
    "        output  = layer.forward(output)\n",
    "        \n",
    "    z_outputs.append(output[0])\n",
    "    \n",
    "# Convert list to array to have (121, 1) shape\n",
    "z_outputs = np.array(z_outputs)\n",
    "\n",
    "#z_outputs\n",
    "#if epoch % 10 ==0:\n",
    "#    print(f\"{epoch}/{epochs}, error = {error / len(X):.4f}\")"
   ]
  },
  {
   "cell_type": "code",
   "execution_count": 24,
   "id": "84a0b373-ad24-4020-85ce-35901d3e28e4",
   "metadata": {},
   "outputs": [
    {
     "data": {
      "image/png": "[encoded data removed]",
      "text/plain": [
       "<Figure size 640x480 with 1 Axes>"
      ]
     },
     "metadata": {},
     "output_type": "display_data"
    }
   ],
   "source": [
    "# for creating a responsive plot \n",
    "#%matplotlib widget\n",
    "import matplotlib.pyplot as plt\n",
    "from mpl_toolkits.mplot3d import Axes3D\n",
    "#import ipympl\n",
    "# creating 3d plot using matplotlib  \n",
    "# in python \n",
    "  \n",
    "  \n",
    "fig = plt.figure()\n",
    "ax = fig.add_subplot(111, projection='3d')\n",
    "\n",
    "# Extract x, y from xy_coordinates and use z_outputs as z\n",
    "x_vals = xor_in[:, 0, 0]\n",
    "y_vals = xor_in[:, 1, 0]\n",
    "z_vals = z_outputs[:, 0]\n",
    "\n",
    "ax.scatter(x_vals, y_vals, z_vals, c=z_vals, cmap='viridis')\n",
    "ax.set_xlabel(\"X\")\n",
    "ax.set_ylabel(\"Y\")\n",
    "ax.set_zlabel(\"Z\")\n",
    "\n",
    "plt.show()"
   ]
  },
  {
   "cell_type": "code",
   "execution_count": null,
   "id": "ec867433-9dd8-47ea-9319-a5d809271de2",
   "metadata": {},
   "outputs": [],
   "source": []
  }
 ],
 "metadata": {
  "kernelspec": {
   "display_name": "Python 3 (ipykernel)",
   "language": "python",
   "name": "python3"
  },
  "language_info": {
   "codemirror_mode": {
    "name": "ipython",
    "version": 3
   },
   "file_extension": ".py",
   "mimetype": "text/x-python",
   "name": "python",
   "nbconvert_exporter": "python",
   "pygments_lexer": "ipython3",
   "version": "3.12.3"
  }
 },
 "nbformat": 4,
 "nbformat_minor": 5
}
