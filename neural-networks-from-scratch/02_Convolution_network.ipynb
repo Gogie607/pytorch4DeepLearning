{
 "cells": [
  {
   "cell_type": "markdown",
   "id": "0f2eadba-c429-4516-8dc0-95869e5ece55",
   "metadata": {},
   "source": [
    "# 0. Convolutional Networks from Scratch | Mathematics and Python Code\n",
    "Taken from the Independent Code Channel\n",
    "[Convolutional NeuralNetworks from Scratch](https://www.youtube.com/watch?v=Lakz2MoHy6o)\n",
    "\n",
    "This video series recreates several neural networks and codes them out using only python and numpy in Tensorflow/Keras similiar style. From a PyTorch perspective, it creates a nn.Module base class (without the automation) and reproduces Activation functions, loss functions along with back-propagation and gradient descent."
   ]
  },
  {
   "cell_type": "markdown",
   "id": "39982207-b045-466d-ba4a-af2f03532c11",
   "metadata": {},
   "source": [
    "In this book, we will be using what was showed in book 1 to create a CNN from python and numpy using the base classes created in the\n",
    "The goal of this book is:\n",
    "1. Convolution operation\n",
    "2. Convolutional Layer\n",
    "3. Reshape Layer\n",
    "4. Binary Cross Entropy Loss\n",
    "5. Sigmoid activation\n",
    "6. Solving MNIST"
   ]
  },
  {
   "cell_type": "code",
   "execution_count": 1,
   "id": "25be2aee-aa84-48eb-b61d-a08aee234090",
   "metadata": {},
   "outputs": [],
   "source": [
    "# define all our imports here\n",
    "import numpy as np"
   ]
  },
  {
   "cell_type": "markdown",
   "id": "30e13784-ebca-46a4-83fe-c628aad68ba0",
   "metadata": {},
   "source": [
    "## 1. Convolution operation\n",
    "\n",
    "Most of this mat theory on how it functions are not  easily reproducable here.\n",
    "He does a great job using Manin from 3Blue1Brown"
   ]
  },
  {
   "cell_type": "markdown",
   "id": "91b1d7ad-b59f-438a-a375-875f2bd28af7",
   "metadata": {},
   "source": [
    "Given a 2 dimensional input Matrix (usually square) of dim N,N and a smaller 2d kernel of dim (m,m).\n",
    "\n",
    "There are 3 parameters that will needed to be defined that will be used later:\n",
    "1. Kernel size (x,y)  # the size of the sliding window over the input\n",
    "2. padding # additional zero-filled rows and columns allows extracting features from edges\n",
    "3. stride # the step size across and down\n",
    "\n",
    "   All the above paramters play a roll in determining the size of the output matrix\n",
    "The kernel slides across the input matrix and a dot product is calculate.\n",
    "At each stopping position the dot product of overlapping cells will fill in one position in the output matrix.\n",
    "\n",
    "*Example*  we have in this case  for our input (3,3)\n",
    "* kernel_size = (2,2)\n",
    "* padding = 0  The outer offset of the kernel start and end positions\n",
    "* stride  = 1   we step 1 cell right till the end and 1 cell down, then right...\n",
    "  \n",
    "input    kernel \n",
    "\n",
    "1 6 2 |  1 2\n",
    "\n",
    "5 3 1 |  -1 0\n",
    "\n",
    "7 0 4\n",
    "\n",
    "Now the kernel starts aligning its top left corner with the top left corner of the input.\n",
    "\n",
    "1 6  1 2......... the dot product is 1*1 + 6*2 + 5*(-1) + 3*0  \n",
    "\n",
    "5 3  -1 0 ....... = 1 + 12 - 5 = 8 \n",
    "\n",
    "This ends up in the output     8, ?\n",
    "\n",
    "...............................?, ?\n",
    "\n",
    "Kernel slides to the second position overlapping 6 2 and 3,1.\n",
    "The dot product yields 6*1 + 2*2 + 3*(-1) + 1*0  = 6 + 4 - 3  + 0 = 7   this goes into the next cell.  \n",
    "The output looks like  \n",
    "\n",
    "8, 7\n",
    "\n",
    "?, ?\n",
    "\n",
    "\n",
    "we are at the end of the row so we perform a 'carrage return' of the kernel stepping down `stride` cells and back to the left edge. THen we continue this row in the same manner\n",
    "\n",
    "The resulting output matrix is  \n",
    "\n",
    "8, 7\n",
    "\n",
    "4, 5       \n",
    "\n",
    "There is a kernel for depth size of the input  all doing the same so here we get a d,2,2 output shape. Each 2D matrix will be in the shape depending on padding and stride, how many time it can step right and how many times it can step left.\n",
    "\n",
    "for 0 padding and stride of 1 the output size is:\n",
    "\n",
    "**Y-K+1**\n",
    "\n",
    "There is a complex formula for figuring this out, so the easiest way is run the forward pass up to the output layer (usually Dense). Then check the shape and this will be the input shape we need for the next layer"
   ]
  },
  {
   "cell_type": "markdown",
   "id": "ea19d758-454c-4d7d-86a0-30314507f4dd",
   "metadata": {},
   "source": [
    "**Note:**  some implementations may have a virtual kernel (mearly a window) and just takes the highest value within the window. This is how most image apps 'shrink the original' keeping as much detail as possible. In any case, we will do the dot product for this book"
   ]
  },
  {
   "cell_type": "markdown",
   "id": "6a736464-b783-4908-b870-3362775d89e2",
   "metadata": {},
   "source": [
    "### 1.1 Is this convolution?\n",
    "No!  what we did above is called **Cross-correlation**\n",
    "To do Convolution we need to rotate the kernel 180 degrees\n",
    "so when the kernel is rotated, the out matrix would be:\n",
    "\n",
    "7, 5\n",
    "\n",
    "11, 3"
   ]
  },
  {
   "cell_type": "markdown",
   "id": "3065b5e0-af54-4456-bc5e-dce2378d86be",
   "metadata": {},
   "source": [
    "To summarize:\n",
    "1. Cross correlation Corr(I,K) = I ° K.  The real symbol  is a star\n",
    "2. Convolution Conv(I,K) = I ° rot180(K).    The real symbol is asterix "
   ]
  },
  {
   "cell_type": "markdown",
   "id": "990217c8-1bb4-49bb-a1f6-4d29afffe530",
   "metadata": {},
   "source": [
    "## 1,2 Difference between 'valid' and 'full'\n",
    "\n",
    "This is where the padding and stride come in\n",
    "\n",
    "* **valid:**  is described above where the kernel starts with the top left corner aligning with the top left  and ending when bottom rights of kernel and input align   This is equal to `padding` = 0 and `stride` = 1\n",
    "\n",
    "* **full:**    The symbol is a star with full written bebeath it. In this mode, the bottom right of the kernel aligns with top left on input and ends when top left of kernel aligns with bottom right of the input.  In other words, the kernel starts outside of the input and whenever there is a intersection of `I` and `K` the conv/corr will occur. The non overlapping cells have an assumed value of 0.  This additional \"padding\" makes `I` larger which is where the calculation gets difficult.  In effect, it is as if the padding of `K`dim - 1 was given. In our case, the `padding` would be = 1 which makes our 3x3 matrix grow to 5x5.\n",
    "\n",
    "  Each dimension of `I` grows by 2*(`K`dim -1)  or 2X `padding`"
   ]
  },
  {
   "cell_type": "markdown",
   "id": "05884630-f363-442a-b833-e9c49d0137b8",
   "metadata": {},
   "source": [
    "## 2. Convolutional Layer\n",
    "The convolution layer takes as input a 3 dimensional block matrix\n",
    "The 1st dimension `d` is the depth of x,y input matricies. We'll call these 2D vectore **\"Images\"** because they usually are where the dims are the height and width of the image.  This example is als0 using a depth of 3, because of RGB color channels. So a 64X64 color image could be converted into a (3,64,64) shaped numpy array.  The number of kernels is also multiplied by the depth and each one has their own learnable weights.  There also could be multiple kernel layer  each extending the full depth of their respective inputs. Each kernel layer also has an ascociated bias  of same dimension as the kernel, also with learnable parameters. THe resulting output depth will be the same as the number of kernel layers. The **HxW** dimensions will vary, depending on the parameters defining the kernel layer"
   ]
  },
  {
   "cell_type": "markdown",
   "id": "c8961cc1-8ead-4ed5-9f8d-452384d81cc3",
   "metadata": {},
   "source": [
    "### 2.1 Reducing the granularity\n",
    "To simplify the notation   we will consider each block to be a black box Matrix of some pre-determined size. Therefore: \n",
    "\n",
    "* Inputs of depth D are designated X1, X2, ... , Xd\n",
    "* Multiple kernel layer Kn :\n",
    "  \n",
    "    K11, K12, K13, ..., K1n\n",
    "  \n",
    "    K21, K22, K23, ..., K2n\n",
    "  .\n",
    "  \n",
    "  .\n",
    "\n",
    "  .\n",
    "    \n",
    "    Kn1, Kn2, Kn3, ..., Knd\n",
    "\n",
    "* Output Ý1, Y1, Yn each of these represents  a kernel layer1..n"
   ]
  },
  {
   "cell_type": "markdown",
   "id": "81128ff3-3693-4e88-8c64-7c51c30bd17a",
   "metadata": {},
   "source": [
    "### 2.2 Deriving the calculation  Creating the forward propagation\n",
    "The formula can be expressed as follows:\n",
    "\n",
    "Y1 = B1 + X1°K11 + X2°K12 + . . .+ Xn°K1n\n",
    "\n",
    "Y2 = B2 + X1°K21 + X2°K22 + . . .+ Xn°K2n\n",
    "\n",
    ".\n",
    "\n",
    "Yd = Bd + X1°Kd1 + X2°Kd2 + . . .+ Xn°Kdn\n",
    "\n",
    "The Basic formula is:\n",
    "\n",
    "Yi = Bi + Epsilon(j=1..n)Xj star Kij, i = 1...d\n",
    "\n",
    "All of the above can be defined in a single bloc called a convolutional block,  THere can be many of these blocks within a network model"
   ]
  },
  {
   "cell_type": "markdown",
   "id": "c975f25f-8747-466d-879e-17c63261b8f3",
   "metadata": {},
   "source": [
    "[Here](https://www.youtube.com/watch?v=Lakz2MoHy6o&t=466) He goes thru the equation manipulation description where the end equation ends up\n",
    "Y = B + K (dotstar) X   which looks like the same equation for the Dense layer\n",
    "But since the  input elements X, are matricies and not scalars, he made up this imaginary dotstar symbol, But he goes on to say that if the matricies where dimension 1,1, then it would be a simple dot product and thus identical to the formula used in the forward function of the Dense layer.\n",
    "\n",
    "The import signal  from scipy can be found [Here](https://docs.scipy.org/doc/scipy/reference/signal.html).  Lost of cool stuff including the correlation and convolve methods."
   ]
  },
  {
   "cell_type": "code",
   "execution_count": 2,
   "id": "4fd1986b-4a31-489f-b24a-8ff7de296c9e",
   "metadata": {},
   "outputs": [],
   "source": [
    "import numpy as np\n",
    "from layer import Layer\n",
    "from scipy import signal\n",
    "# Note: below he defines the output shape as the easy formula which is \n",
    "#       highly dependent on \"valid\" passed to the correlation function\n",
    "\n",
    "class Convolution(Layer):\n",
    "    def __init__(self, input_shape, kernel_size, depth):\n",
    "        input_depth, input_height, input_width = input_shape\n",
    "        self.depth = depth\n",
    "        self.input_shape = input_shape\n",
    "        self.input_depth = input_depth\n",
    "        self.output_shape = (depth, input_height - kernel_size + 1, input_width - kernel_size + 1)\n",
    "        self.kernels_shape = (depth, input_depth, kernel_size, kernel_size)\n",
    "        self.kernels = np.random.randn(*self.kernels_shape)\n",
    "        self.biases  = np.random.randn(*self.output_shape)\n",
    "\n",
    "    def forward(self, input):\n",
    "        self.input = input\n",
    "        self.output = np.copy(self.biases)\n",
    "        for i in range(self.depth): # output depth\n",
    "            for j in range(self.input_depth): # input depth\n",
    "                # warning the correlation is not communative... orders matter!!! X star K\n",
    "                self.output[i] += signal.correlation2d(self.input[j], self.kernels[i,j], \"valid\")\n",
    "        return self.output\n",
    "\n",
    "    def backward(self, output_gradient, learning_rate):\n",
    "         # TODO: update parameters and return input gradient\n",
    "         pass"
   ]
  },
  {
   "cell_type": "markdown",
   "id": "8bf6f011-841c-4344-be4e-1ab56ff970d4",
   "metadata": {},
   "source": [
    "### 2.3 Creating the backward gradient decent function\n",
    "The description is [Here](https://www.youtube.com/watch?v=Lakz2MoHy6o&t=784).\n",
    "A hefty description of creating the partial derivatives:\n",
    "\n",
    "* pE/pY is the Calculated loss function value we'll call L\n",
    "\n",
    "* pE/pK = Xj star L  (cross correlation between input and output_gradient)\n",
    "\n",
    "* pE/pBi  = Li\n",
    "\n",
    "pE/pX  As with the dense layer, the result is quite interesting. First we are going to a kernel size output_ gradient (2x2) to an input_sized input gradient (3x3).  9 partial derivatives each having a different number of elements in the equation. In this case it is doing a \"full\" correlation (padding=1).  Additionally looking close at the kernel entries when expanded to all pE_Xi.. we see the K entries are reversed to that of a correlation. Simply put, the kernel is rotated 180 degrees which makes this a 'full' convolution. So going from simple form to actual form of the forward function:\n",
    "\n",
    "* pE/pXj = Epsilon[i=1..n] (Li full asterix Kij)  where full asterix = convolution\n",
    "\n",
    "Let's add the backward method and write this to a file"
   ]
  },
  {
   "cell_type": "code",
   "execution_count": 3,
   "id": "8aadcbd8-5ac2-4717-adf4-1fb0c18a9dc9",
   "metadata": {},
   "outputs": [],
   "source": [
    "import numpy as np\n",
    "from layer import Layer\n",
    "from scipy import signal\n",
    "# Note: below he defines the output shape as the easy formula which is \n",
    "#       highly dependent on \"valid\" passed to the correlation function\n",
    "\n",
    "class Convolution(Layer):\n",
    "    def __init__(self, input_shape, kernel_size, depth):\n",
    "        input_depth, input_height, input_width = input_shape\n",
    "        self.depth = depth\n",
    "        self.input_shape = input_shape\n",
    "        self.input_depth = input_depth\n",
    "        self.output_shape = (depth, \n",
    "                             input_height - kernel_size + 1, \n",
    "                             input_width - kernel_size + 1)\n",
    "        self.kernels_shape = (depth, \n",
    "                              input_depth, \n",
    "                              kernel_size, \n",
    "                              kernel_size)\n",
    "        self.kernels = np.random.randn(*self.kernels_shape)\n",
    "        self.biases  = np.random.randn(*self.output_shape)\n",
    "\n",
    "    def forward(self, input):\n",
    "        self.input = input\n",
    "        self.output = np.copy(self.biases)\n",
    "        for i in range(self.depth): # output depth\n",
    "            for j in range(self.input_depth): # input depth\n",
    "                # warning the correlation is not communative... orders matter!!! X star K\n",
    "                self.output[i] += signal.correlation2d(self.input[j], \n",
    "                                                       self.kernels[i,j], \"valid\")\n",
    "        return self.output\n",
    "\n",
    "    def backward(self, output_gradient, learning_rate):\n",
    "        kernel_gradient = np.zeros(self.kernels.shape)\n",
    "        input_gradient = np.zeros(self.input_shape)\n",
    "\n",
    "        for i in range(self.depth):\n",
    "            for j in range(self.input_depth):\n",
    "                kernel_gradient[i, j] = signal.correlation2d(self.input[j],\n",
    "                                                             output_gradient[i], \"valid\")\n",
    "                input_gradient[j] += signal.convolve2d(output_gradient[i], \n",
    "                                                       self.kernels[i,j], \"full\")\n",
    "\n",
    "        self.kernels -= learning_rate * kernel_gradient\n",
    "        self.biases -= learning_rate * output_gradient\n",
    "        return input_gradient           \n",
    "        "
   ]
  },
  {
   "cell_type": "markdown",
   "id": "8a688b0a-73b8-4c2d-a0ea-24f3af2eb9c7",
   "metadata": {},
   "source": [
    "## 3. Reshape Layer  better know as the Flatten activation function in torch\n",
    "\n",
    "film at 27,20"
   ]
  },
  {
   "cell_type": "code",
   "execution_count": 4,
   "id": "9959318e-fa07-46c2-b135-9c8f1db0ba6d",
   "metadata": {},
   "outputs": [],
   "source": [
    "import numpy as np\n",
    "from layer import Layer\n",
    "\n",
    "class Reshape(Layer):\n",
    "    def __init__(self, input_shape, output_shape):\n",
    "        self.input_shape = input_shape\n",
    "        self.output_shape = output_shape\n",
    "\n",
    "    def forward(self, input):\n",
    "        return np.reshape(input, self.output_shape)\n",
    "\n",
    "    def backward(self, output_gradient, learning_rate):\n",
    "        return np.reshape(output_gradient, self.input_shape)"
   ]
  },
  {
   "cell_type": "markdown",
   "id": "5311f2ed-060d-49b6-8bc4-4ce85b20f19e",
   "metadata": {},
   "source": [
    "## 4. Binary Cross Entropy Loss"
   ]
  },
  {
   "attachments": {},
   "cell_type": "markdown",
   "id": "efdf5590-2d6e-45e8-be77-69a105db8d17",
   "metadata": {},
   "source": [
    "Binary Cross Entropy is a loss function used in binary classification models ... when the output of the model is either one thing or another. Multiclass classification models use a Cross Entropy loss where there can be more than two classes. The model output layer usually has the shape of num_classes and by using the `sigmoid` function which calculates the probabilities of the input being  a certain class. The sum of the probabilities always eaquls 1 as is usual with all statistics. Using `argmax`, we can get the index of the vector with the highest probability and use this as our best guess prediction.\n",
    "\n",
    "Given a vector Y* containing the desired output of the neural network. Since we will be making a binary classification, each element in the vector must be either a zer of a 1\n",
    "\n",
    "$Y_i'$ **∈** {0,1}  # y prime sub i, is a member of the following set {0,1}\n",
    "\n",
    "The target vector has the same shape and contains the representaton of the label\n",
    "\n",
    "The formula to compute the loss is:\n",
    "\n",
    "$$\n",
    "E = \\frac{-1}{n} \\sum^n_{i=1} (Y_i' \\cdot log(y_i) + (1-Y_i')\\cdot log(1-Y_i))\n",
    "$$   \n",
    "Be aware of the prime and non prime Yi. Additionally this (1/n) (sum of somethings)  is basically the Average mean\n",
    "\n",
    "* Y' = y_true, and $Y_i$ = y_pred\n",
    "\n",
    "The goal is to compute pE/pYi  \n",
    "\n",
    "##### This is the loss_gradient(see video)\n",
    "\n",
    "$$\n",
    "\\frac{\\partial E}{\\partial Y_i'}  = \\frac{1}{n} \\cdot (\\frac{1-Y_i'}{1-Y_i} - \\frac{Y_i'}{Y_i})\n",
    "$$\n"
   ]
  },
  {
   "cell_type": "code",
   "execution_count": 5,
   "id": "acf7047e-745d-41d0-877b-0bd16d4b089b",
   "metadata": {},
   "outputs": [],
   "source": [
    "import numpy as py\n",
    "# Note that y_true and y_pred are vectors and not scalars\n",
    "# Although y_true is know as a label, a unique index value  0 .. num_classes\n",
    "\n",
    "\"\"\" I use redundant () in the function for clarity \"\"\"\n",
    "\n",
    "# E = (-1/n)Epsilon[i=1..n] (Y*i log(yi) + (1-Y*i)log(1-Yi))\n",
    "def binary_cross_entropy(y_true, y_pred):\n",
    "    # notice the log(y_pred) and the log(1 - y_pred)\n",
    "    # neither of these can be negative since log(-num)  is illegal\n",
    "    return -np.mean(y_true * np.log(y_pred) + (1 - y_true) * np.log(1 - y_pred))\n",
    "\n",
    "# pE/pYi = (1/n)((1-Y*i)/(1-Yi) - (Y*i/Yi)) \n",
    "def binary_cross_entropy_prime(y_true, y_pred):\n",
    "    return ( ((1 - y_true) / (1 - y_pred)) - (y_true / y_pred))"
   ]
  },
  {
   "cell_type": "markdown",
   "id": "53a31397-3f99-44da-83aa-b7ba24f0f0dd",
   "metadata": {},
   "source": [
    "## 5. Sigmoid activation\n",
    "\n",
    "The sigmoid function is defined as:\n",
    "\n",
    "$$\n",
    "\\sigma(x) =  \\frac{1}{1+ e^{-x}} \n",
    "$$\n",
    "\n",
    "Which bounds all the values in `X` nonlinearly into  a  0..1 scale. It resembles the Tanh function shifted up\n",
    "\n",
    "The derivative can be defined by the sigmoid itself\n",
    "\n",
    "$$\n",
    "\\sigma'(x) = \\frac{e^{-x}}{(1 + e^{-x})^2}  = \\sigma(x)\\cdot (1- \\sigma(x))\n",
    "$$"
   ]
  },
  {
   "cell_type": "code",
   "execution_count": 6,
   "id": "49b66c06-2917-47ee-9ac5-30fbeff45d28",
   "metadata": {},
   "outputs": [],
   "source": [
    "import numpy as np\n",
    "from activations import Activation\n",
    "\n",
    "class Sigmoid(Activation):\n",
    "    def __init__(self):\n",
    "        def sigmoid(x):\n",
    "            return 1 / (1 + np.exp(-x))\n",
    "\n",
    "        def sigmoid_prime(x):\n",
    "            s = sigmoid(x)\n",
    "            return s * (1-s)\n",
    "\n",
    "        super().__init__(sigmoid, sigmoid_prime)\n",
    "        "
   ]
  },
  {
   "cell_type": "code",
   "execution_count": 7,
   "id": "99fbe729-6a6f-49ee-9451-b42fa3df43d6",
   "metadata": {},
   "outputs": [
    {
     "data": {
      "image/png": "[encoded data removed]",
      "text/plain": [
       "<Figure size 640x480 with 1 Axes>"
      ]
     },
     "metadata": {},
     "output_type": "display_data"
    }
   ],
   "source": [
    "# PLOT the sigmoid and sigmoid_prime functions\n",
    "import numpy as np\n",
    "import matplotlib.pyplot as plt\n",
    "from activations import Sigmoid\n",
    "\n",
    "x = np.arange(-5,5,0.1,dtype= np.float16)\n",
    "\n",
    "sig = Sigmoid()\n",
    "y_sig = sig.activation(x)\n",
    "y_sig_prime = sig.activation_prime(x)\n",
    "\n",
    "plt.plot(x,y_sig,label=\"Sigmoid\")\n",
    "plt.plot(x,y_sig_prime, label = \"Sigmoid_prime\", linestyle='--')\n",
    "\n",
    "# Adding labels and legend\n",
    "plt.xlabel(\"x\")\n",
    "plt.ylabel(\"y\")\n",
    "plt.legend()\n",
    "\n",
    "# Show the plot\n",
    "plt.show()"
   ]
  },
  {
   "cell_type": "markdown",
   "id": "b41f2c68-b656-4e5b-a38d-dd9b61d04110",
   "metadata": {},
   "source": [
    "## 6. Solving MNIST\n",
    "This is at 30:45 in the video \n",
    "It includes a preprocess function to strip out all the 1's and 0's for speed purposes\n",
    "since this code is not optimized for a GPU.  Additionally, I believe the Binary Cross Entropy  Loss functions are more easier than their Multi-claas counterparts, as well s faster.\n",
    "\n",
    "A great excercise would be to try to implement the CrossEntropy and CrossEntropy_prime function, twiddle with the model a bit and see if I can get the thing fully working.  \n",
    "\n",
    "**MY CHALLENGE TO MYSELF!!!**\n",
    "\n",
    "Also, I could try porting it to PyTorch since he uses keras but I might someday try to do TensorFlow since that is the tool used in GPT2 and other production grade projects. NVIDIA seems to use both.\n",
    "\n",
    "Anyway... on to it. Let's get coding!!!"
   ]
  },
  {
   "cell_type": "code",
   "execution_count": 8,
   "id": "e64eff77-f12b-4ec7-99ce-6aeba24d6ed0",
   "metadata": {},
   "outputs": [],
   "source": [
    "# standard import stuff\n",
    "import numpy as np\n",
    "from keras.datasets import mnist\n",
    "from keras.utils import to_categorical\n",
    "\n",
    "# some visualization stuff\n",
    "import matplotlib.pyplot as plt\n",
    "import pandas as pd"
   ]
  },
  {
   "cell_type": "code",
   "execution_count": 9,
   "id": "879d4281-7f88-430e-af71-f74c52cc06f0",
   "metadata": {},
   "outputs": [],
   "source": [
    "\n",
    "# Calculate accuracy (a classification metric)\n",
    "def accuracy_fn(y_true, y_pred):\n",
    "    \"\"\"Calculates accuracy between truth labels and predictions.\n",
    "\n",
    "    Args:\n",
    "        y_true (torch.Tensor): Truth labels for predictions.\n",
    "        y_pred (torch.Tensor): Predictions to be compared to predictions.\n",
    "\n",
    "    Returns:\n",
    "        [torch.float]: Accuracy value between y_true and y_pred, e.g. 78.45\n",
    "    \"\"\"\n",
    "    correct = np.equal(y_true, y_pred).sum().item()\n",
    "    acc = (correct / len(y_pred)) * 100\n",
    "    return acc\n"
   ]
  },
  {
   "cell_type": "code",
   "execution_count": 10,
   "id": "a91be27c-4c28-4be4-9c5c-3d297f634b68",
   "metadata": {},
   "outputs": [],
   "source": [
    "# function to reduce the MNIST data set to just the one and zero data images\n",
    "# we will be loading the black and white hand-written digits\n",
    "def preprocess_data(x, y, limit):\n",
    "    \"\"\"\n",
    "    params:\n",
    "        x  the image data array\n",
    "        y: the target labels\n",
    "        limit: limit the size of the dataset\n",
    "    \"\"\"\n",
    "    # leaving the datasets intact, just create index array of all the elements we want\n",
    "    zero_index = np.where(y == 0)[0][:limit]\n",
    "    one_index = np.where(y == 1)[0][:limit]\n",
    "    # stack the arrays and shuffle them\n",
    "\n",
    "    # do I need repeatability with a manual seed?\n",
    "    np.random.seed(42)\n",
    "    all_indices = np.hstack((zero_index, one_index))  # video has 2 sets of () because it is a single tuple param\n",
    "    all_indices = np.random.permutation(all_indices)\n",
    "\n",
    "    #Extract only the images we want and do some reshaping\n",
    "    x, y = x[all_indices], y[all_indices]\n",
    "    # print (x.shape)\n",
    "    x = x.reshape(len(x), 1, 28, 28)   # what was the shape before? B,28,28\n",
    "    #print (x.shape)\n",
    "    x = x.astype(\"float32\") / 255   # what did it look like?  was integers\n",
    "    #print (x.shape)\n",
    "\n",
    "    #print (y.shape,y[0]) one scalar per image\n",
    "    y = to_categorical(y) # takes the scalar and makes a vector num_classes long with a 1 in the right inx pos\n",
    "    #print (y.shape,y[0])\n",
    "    y = y.reshape(len(y), 2, 1) \n",
    "    #print (y.shape,y[0])\n",
    "    return x,y\n"
   ]
  },
  {
   "cell_type": "code",
   "execution_count": 11,
   "id": "f853e820-bfb4-4ad9-801e-0aa161f35769",
   "metadata": {},
   "outputs": [],
   "source": [
    "# function to reduce the MNIST data set to just the one and zero data images\n",
    "# we will be loading the black and white hand-written digits\n",
    "\n",
    "\"\"\"\n",
    "The original function was hardcoded for 2 (0 and 1) classes. \n",
    "The attempt is to pass in the number of classes I want and hope\n",
    "I get the right size back\n",
    "\"\"\"\n",
    "\n",
    "def preprocess_multiclass_data(x, y, limit, num_classes=2):\n",
    "    \"\"\"\n",
    "    params:\n",
    "        x  the image data array\n",
    "        y: the target labels\n",
    "        limit: limit the size of the dataset\n",
    "    \"\"\"\n",
    "    all_indices = []\n",
    "    for i in range(num_classes):\n",
    "        idx_arry =  np.where(y == i)[0][:limit]\n",
    "        all_indices.append(idx_arry)\n",
    "\n",
    "    # Stack all indices into a single array\n",
    "    all_indices = np.concatenate(all_indices)\n",
    "\n",
    "    #print (all_indices[:10])\n",
    "\n",
    "    # leaving the datasets intact, just create index array of all the elements we want\n",
    "    #zero_index = np.where(y == 0)[0][:limit]\n",
    "    #one_index = np.where(y == 1)[0][:limit]\n",
    "    # stack the arrays and shuffle them\n",
    "\n",
    "    # do I need repeatability with a manual seed?\n",
    "    np.random.seed(42)\n",
    "    #all_indices = np.hstack((zero_index, one_index))  # video has 2 sets of () because it is a single tuple param\n",
    "    all_indices = np.random.permutation(all_indices)\n",
    "\n",
    "    #Extract only the images we want and do some reshaping\n",
    "    x, y = x[all_indices], y[all_indices]\n",
    "    # print (x.shape)\n",
    "    x = x.reshape(len(x), 1, 28, 28)   # what was the shape before? B,28,28\n",
    "    #print (x.shape)\n",
    "    x = x.astype(\"float32\") / 255   # what did it look like?  was integers\n",
    "    #print (x.shape)\n",
    "\n",
    "    #print (y.shape,y[0]) one scalar per image\n",
    "    y = to_categorical(y) # takes the scalar and makes a vector num_classes long with a 1 in the right inx pos\n",
    "    print (y.shape,y[0])\n",
    "    y = y.reshape(len(y), num_classes, 1) \n",
    "    print (y.shape,y[0])\n",
    "    return x,y\n"
   ]
  },
  {
   "cell_type": "code",
   "execution_count": 12,
   "id": "f858b506-338f-417f-a588-4a736438ddd3",
   "metadata": {},
   "outputs": [
    {
     "name": "stdout",
     "output_type": "stream",
     "text": [
      "(200, 2) [1. 0.]\n",
      "(200, 2, 1) [[1.]\n",
      " [0.]]\n",
      "(200, 2) [1. 0.]\n",
      "(200, 2, 1) [[1.]\n",
      " [0.]]\n"
     ]
    }
   ],
   "source": [
    "# load MNIST from server and limit to 100 images per class since we are not running on a gpu\n",
    "(x_train_dataset, y_train_dataset), (x_test_dataset, y_test_dataset) = mnist.load_data()\n",
    "x_train, y_train = preprocess_multiclass_data(x_train_dataset, y_train_dataset,100)\n",
    "x_test, y_test = preprocess_multiclass_data(x_test_dataset, y_test_dataset,100)\n"
   ]
  },
  {
   "cell_type": "code",
   "execution_count": 13,
   "id": "5079b9d7-5ca1-46aa-834f-5d6929b4de35",
   "metadata": {},
   "outputs": [],
   "source": [
    "# model from scratch specific imports\n",
    "from dense import Dense\n",
    "from convolutional import Convolutional\n",
    "from reshape import Reshape\n",
    "from activations import Tanh, Sigmoid\n",
    "from losses import binary_cross_entropy, binary_cross_entropy_prime"
   ]
  },
  {
   "cell_type": "code",
   "execution_count": 14,
   "id": "c55c427b-e3e4-487c-9310-b7483d66e24f",
   "metadata": {},
   "outputs": [],
   "source": [
    "# Create the model\n",
    "network = [\n",
    "    Convolutional((1,28,28),kernel_size=3,depth=5),\n",
    "    Sigmoid(),\n",
    "    Reshape(input_shape=(5,26,26),\n",
    "            output_shape=(5*26*26,1)),  # column-wise Flattened\n",
    "    Dense(input_size=(5*26*26),output_size=100),\n",
    "    Sigmoid(),\n",
    "    Dense(100,2),\n",
    "    Sigmoid()\n",
    "]"
   ]
  },
  {
   "cell_type": "code",
   "execution_count": 15,
   "id": "c11c2f35-a325-4c96-88ff-fedcae0b7d24",
   "metadata": {},
   "outputs": [
    {
     "name": "stdout",
     "output_type": "stream",
     "text": [
      "Epoch: 0/20, error = 0.7093\n",
      "Epoch: 1/20, error = 0.3258\n",
      "Epoch: 2/20, error = 0.2340\n",
      "Epoch: 3/20, error = 0.1592\n",
      "Epoch: 4/20, error = 0.1274\n",
      "Epoch: 5/20, error = 0.1048\n",
      "Epoch: 6/20, error = 0.0888\n",
      "Epoch: 7/20, error = 0.0770\n",
      "Epoch: 8/20, error = 0.0676\n",
      "Epoch: 9/20, error = 0.0600\n",
      "Epoch: 10/20, error = 0.0536\n",
      "Epoch: 11/20, error = 0.0483\n",
      "Epoch: 12/20, error = 0.0440\n",
      "Epoch: 13/20, error = 0.0405\n",
      "Epoch: 14/20, error = 0.0375\n",
      "Epoch: 15/20, error = 0.0349\n",
      "Epoch: 16/20, error = 0.0327\n",
      "Epoch: 17/20, error = 0.0307\n",
      "Epoch: 18/20, error = 0.0290\n",
      "Epoch: 19/20, error = 0.0274\n"
     ]
    }
   ],
   "source": [
    "# Training loop\n",
    "epochs = 20\n",
    "learning_rate = 0.01\n",
    "for epoch in range(epochs):\n",
    "    error = 0    # optimizer.zero_grad\n",
    "    for x,y in zip(x_train, y_train):  #for image in batch\n",
    "        # forward pass\n",
    "        output = x\n",
    "        for layer in network:\n",
    "            output = layer.forward(output)\n",
    "        #print (output)\n",
    "\n",
    "        # calculate the loss\n",
    "        error += binary_cross_entropy(y_true=y, y_pred=output)\n",
    "        # backward\n",
    "        grad = binary_cross_entropy_prime(y_true=y, y_pred=output)\n",
    "        #grad = grad[0]\n",
    "        for layer in reversed(network):\n",
    "            grad = layer.backward(grad, learning_rate)\n",
    "\n",
    "    error /= len(x_train)\n",
    "    print(f\"Epoch: {epoch}/{epochs}, error = {error:.4f}\")"
   ]
  },
  {
   "cell_type": "code",
   "execution_count": 16,
   "id": "c0f9d9d3-b710-4025-88ee-48e85034e815",
   "metadata": {},
   "outputs": [],
   "source": [
    "# Test\n",
    "test_logits = []\n",
    "test_preds = []\n",
    "test_labels = []\n",
    "#i= 0\n",
    "for x,y in zip(x_test, y_test):  #for image in batch\n",
    "    # forward pass\n",
    "    output = x\n",
    "    for layer in network:\n",
    "        output = layer.forward(output)\n",
    "    test_logits.append(output)\n",
    "    test_preds.append(np.argmax(output))\n",
    "    test_labels.append(np.argmax(y))\n",
    "#    p, tag = test_logits[i], y_test[i]\n",
    "#    print(f\"probs; {(p[0].item()*100):.2f}%, {(p[1].item()*100):.2f}%,\\t actual: {np.argmax(tag)}\")\n",
    "#    i+= 1"
   ]
  },
  {
   "cell_type": "code",
   "execution_count": 17,
   "id": "02f49068-4092-464f-8fb8-153ac9b93abd",
   "metadata": {},
   "outputs": [
    {
     "name": "stdout",
     "output_type": "stream",
     "text": [
      "probs 73.51%, 9.84%,  pred: 0, actual: 0\n",
      "probs 97.23%, 1.15%,  pred: 0, actual: 0\n",
      "probs 98.79%, 0.46%,  pred: 0, actual: 0\n",
      "probs 0.82%, 99.12%,  pred: 1, actual: 1\n",
      "probs 0.78%, 99.07%,  pred: 1, actual: 1\n",
      "probs 0.69%, 99.35%,  pred: 1, actual: 1\n",
      "probs 99.82%, 0.66%,  pred: 0, actual: 0\n",
      "probs 0.62%, 99.33%,  pred: 1, actual: 1\n",
      "probs 9.25%, 94.53%,  pred: 1, actual: 1\n",
      "probs 93.42%, 18.29%,  pred: 0, actual: 0\n",
      "probs 99.59%, 1.15%,  pred: 0, actual: 0\n",
      "probs 0.72%, 98.86%,  pred: 1, actual: 1\n",
      "probs 4.45%, 99.33%,  pred: 1, actual: 1\n",
      "probs 98.41%, 5.20%,  pred: 0, actual: 0\n",
      "probs 0.93%, 98.90%,  pred: 1, actual: 1\n",
      "probs 0.88%, 99.05%,  pred: 1, actual: 1\n",
      "probs 78.23%, 3.99%,  pred: 0, actual: 0\n",
      "probs 0.71%, 99.27%,  pred: 1, actual: 1\n",
      "probs 99.67%, 0.40%,  pred: 0, actual: 0\n",
      "probs 99.60%, 0.07%,  pred: 0, actual: 0\n",
      "probs 3.11%, 88.50%,  pred: 1, actual: 1\n",
      "probs 97.33%, 4.81%,  pred: 0, actual: 0\n",
      "probs 0.93%, 99.36%,  pred: 1, actual: 1\n",
      "probs 99.69%, 0.27%,  pred: 0, actual: 0\n",
      "probs 99.41%, 2.31%,  pred: 0, actual: 0\n",
      "probs 99.98%, 0.04%,  pred: 0, actual: 0\n",
      "probs 99.13%, 1.77%,  pred: 0, actual: 0\n",
      "probs 98.64%, 1.11%,  pred: 0, actual: 0\n",
      "probs 0.64%, 98.25%,  pred: 1, actual: 1\n",
      "probs 0.83%, 98.68%,  pred: 1, actual: 1\n",
      "probs 95.50%, 0.46%,  pred: 0, actual: 0\n",
      "probs 98.04%, 0.96%,  pred: 0, actual: 0\n",
      "probs 98.66%, 1.93%,  pred: 0, actual: 0\n",
      "probs 99.54%, 0.73%,  pred: 0, actual: 0\n",
      "probs 1.66%, 95.63%,  pred: 1, actual: 1\n",
      "probs 2.90%, 93.98%,  pred: 1, actual: 1\n",
      "probs 0.70%, 99.28%,  pred: 1, actual: 1\n",
      "probs 0.63%, 98.88%,  pred: 1, actual: 1\n",
      "probs 0.62%, 99.38%,  pred: 1, actual: 1\n",
      "probs 97.12%, 2.47%,  pred: 0, actual: 0\n",
      "probs 97.71%, 0.85%,  pred: 0, actual: 0\n",
      "probs 0.64%, 99.28%,  pred: 1, actual: 1\n",
      "probs 99.25%, 4.11%,  pred: 0, actual: 0\n",
      "probs 89.04%, 4.94%,  pred: 0, actual: 0\n",
      "probs 0.68%, 99.32%,  pred: 1, actual: 1\n",
      "probs 0.52%, 98.88%,  pred: 1, actual: 1\n",
      "probs 96.50%, 1.65%,  pred: 0, actual: 0\n",
      "probs 99.06%, 0.25%,  pred: 0, actual: 0\n",
      "probs 0.79%, 99.18%,  pred: 1, actual: 1\n",
      "probs 96.05%, 4.30%,  pred: 0, actual: 0\n",
      "probs 1.27%, 96.03%,  pred: 1, actual: 1\n",
      "probs 2.43%, 95.87%,  pred: 1, actual: 1\n",
      "probs 90.80%, 1.59%,  pred: 0, actual: 0\n",
      "probs 1.58%, 89.50%,  pred: 1, actual: 1\n",
      "probs 0.63%, 99.36%,  pred: 1, actual: 1\n",
      "probs 99.42%, 0.88%,  pred: 0, actual: 0\n",
      "probs 0.41%, 98.26%,  pred: 1, actual: 1\n",
      "probs 99.29%, 1.46%,  pred: 0, actual: 0\n",
      "probs 1.47%, 97.97%,  pred: 1, actual: 1\n",
      "probs 99.02%, 0.99%,  pred: 0, actual: 0\n",
      "probs 2.14%, 86.35%,  pred: 1, actual: 1\n",
      "probs 98.81%, 2.80%,  pred: 0, actual: 0\n",
      "probs 90.77%, 0.48%,  pred: 0, actual: 0\n",
      "probs 95.66%, 3.05%,  pred: 0, actual: 0\n",
      "probs 99.74%, 0.10%,  pred: 0, actual: 0\n",
      "probs 0.69%, 99.13%,  pred: 1, actual: 1\n",
      "probs 98.32%, 1.26%,  pred: 0, actual: 0\n",
      "probs 0.56%, 98.93%,  pred: 1, actual: 1\n",
      "probs 99.86%, 0.61%,  pred: 0, actual: 0\n",
      "probs 0.53%, 99.12%,  pred: 1, actual: 1\n",
      "probs 99.93%, 0.45%,  pred: 0, actual: 0\n",
      "probs 0.69%, 99.32%,  pred: 1, actual: 1\n",
      "probs 0.93%, 98.84%,  pred: 1, actual: 1\n",
      "probs 93.88%, 0.74%,  pred: 0, actual: 0\n",
      "probs 3.18%, 92.45%,  pred: 1, actual: 1\n",
      "probs 4.21%, 83.72%,  pred: 1, actual: 1\n",
      "probs 99.63%, 0.38%,  pred: 0, actual: 0\n",
      "probs 0.89%, 98.46%,  pred: 1, actual: 1\n",
      "probs 1.63%, 99.37%,  pred: 1, actual: 1\n",
      "probs 0.51%, 98.86%,  pred: 1, actual: 1\n",
      "probs 95.83%, 4.62%,  pred: 0, actual: 0\n",
      "probs 94.58%, 0.88%,  pred: 0, actual: 0\n",
      "probs 97.79%, 0.35%,  pred: 0, actual: 0\n",
      "probs 0.52%, 99.24%,  pred: 1, actual: 1\n",
      "probs 1.18%, 98.14%,  pred: 1, actual: 1\n",
      "probs 98.75%, 0.80%,  pred: 0, actual: 0\n",
      "probs 0.80%, 99.15%,  pred: 1, actual: 1\n",
      "probs 98.80%, 0.71%,  pred: 0, actual: 0\n",
      "probs 0.86%, 99.01%,  pred: 1, actual: 1\n",
      "probs 98.35%, 0.59%,  pred: 0, actual: 0\n",
      "probs 99.93%, 0.13%,  pred: 0, actual: 0\n",
      "probs 0.93%, 99.25%,  pred: 1, actual: 1\n",
      "probs 0.79%, 98.95%,  pred: 1, actual: 1\n",
      "probs 99.57%, 4.48%,  pred: 0, actual: 0\n",
      "probs 98.84%, 0.38%,  pred: 0, actual: 0\n",
      "probs 0.91%, 99.23%,  pred: 1, actual: 1\n",
      "probs 0.50%, 98.63%,  pred: 1, actual: 1\n",
      "probs 93.66%, 8.10%,  pred: 0, actual: 0\n",
      "probs 87.69%, 1.49%,  pred: 0, actual: 0\n",
      "probs 0.84%, 99.28%,  pred: 1, actual: 1\n",
      "probs 99.32%, 0.51%,  pred: 0, actual: 0\n",
      "probs 98.29%, 3.99%,  pred: 0, actual: 0\n",
      "probs 0.39%, 99.20%,  pred: 1, actual: 1\n",
      "probs 0.83%, 99.07%,  pred: 1, actual: 1\n",
      "probs 0.64%, 99.36%,  pred: 1, actual: 1\n",
      "probs 0.38%, 99.29%,  pred: 1, actual: 1\n",
      "probs 98.69%, 0.79%,  pred: 0, actual: 0\n",
      "probs 99.90%, 0.33%,  pred: 0, actual: 0\n",
      "probs 0.80%, 98.77%,  pred: 1, actual: 1\n",
      "probs 0.62%, 99.37%,  pred: 1, actual: 1\n",
      "probs 0.83%, 99.10%,  pred: 1, actual: 1\n",
      "probs 99.66%, 1.00%,  pred: 0, actual: 0\n",
      "probs 0.54%, 98.76%,  pred: 1, actual: 1\n",
      "probs 0.80%, 99.23%,  pred: 1, actual: 1\n",
      "probs 84.16%, 4.52%,  pred: 0, actual: 0\n",
      "probs 0.84%, 99.28%,  pred: 1, actual: 1\n",
      "probs 98.16%, 0.39%,  pred: 0, actual: 0\n",
      "probs 98.53%, 1.41%,  pred: 0, actual: 0\n",
      "probs 3.09%, 93.47%,  pred: 1, actual: 1\n",
      "probs 99.72%, 0.35%,  pred: 0, actual: 0\n",
      "probs 82.18%, 18.95%,  pred: 0, actual: 0\n",
      "probs 2.68%, 92.68%,  pred: 1, actual: 1\n",
      "probs 1.16%, 97.85%,  pred: 1, actual: 1\n",
      "probs 0.57%, 99.35%,  pred: 1, actual: 1\n",
      "probs 99.79%, 1.98%,  pred: 0, actual: 0\n",
      "probs 96.29%, 4.34%,  pred: 0, actual: 0\n",
      "probs 0.95%, 97.17%,  pred: 1, actual: 1\n",
      "probs 0.63%, 99.37%,  pred: 1, actual: 1\n",
      "probs 99.69%, 0.14%,  pred: 0, actual: 0\n",
      "probs 98.38%, 1.17%,  pred: 0, actual: 0\n",
      "probs 0.76%, 98.66%,  pred: 1, actual: 1\n",
      "probs 93.52%, 3.01%,  pred: 0, actual: 0\n",
      "probs 95.06%, 13.37%,  pred: 0, actual: 0\n",
      "probs 0.82%, 99.05%,  pred: 1, actual: 1\n",
      "probs 99.60%, 2.08%,  pred: 0, actual: 0\n",
      "probs 0.75%, 99.20%,  pred: 1, actual: 1\n",
      "probs 99.91%, 0.39%,  pred: 0, actual: 0\n",
      "probs 0.82%, 99.28%,  pred: 1, actual: 1\n",
      "probs 99.86%, 0.45%,  pred: 0, actual: 0\n",
      "probs 0.44%, 99.06%,  pred: 1, actual: 1\n",
      "probs 0.68%, 99.28%,  pred: 1, actual: 1\n",
      "probs 0.51%, 99.35%,  pred: 1, actual: 1\n",
      "probs 0.84%, 99.33%,  pred: 1, actual: 1\n",
      "probs 95.55%, 2.96%,  pred: 0, actual: 0\n",
      "probs 99.96%, 0.71%,  pred: 0, actual: 0\n",
      "probs 98.78%, 0.97%,  pred: 0, actual: 0\n",
      "probs 99.88%, 1.26%,  pred: 0, actual: 0\n",
      "probs 0.78%, 99.10%,  pred: 1, actual: 1\n",
      "probs 99.85%, 0.61%,  pred: 0, actual: 0\n",
      "probs 98.42%, 0.54%,  pred: 0, actual: 0\n",
      "probs 0.85%, 98.94%,  pred: 1, actual: 1\n",
      "probs 0.40%, 99.17%,  pred: 1, actual: 1\n",
      "probs 94.72%, 1.83%,  pred: 0, actual: 0\n",
      "probs 98.27%, 1.63%,  pred: 0, actual: 0\n",
      "probs 99.90%, 0.13%,  pred: 0, actual: 0\n",
      "probs 81.62%, 29.15%,  pred: 0, actual: 0\n",
      "probs 0.81%, 99.06%,  pred: 1, actual: 1\n",
      "probs 0.47%, 99.52%,  pred: 1, actual: 1\n",
      "probs 99.64%, 0.99%,  pred: 0, actual: 0\n",
      "probs 99.81%, 0.12%,  pred: 0, actual: 0\n",
      "probs 0.69%, 98.53%,  pred: 1, actual: 1\n",
      "probs 3.99%, 88.02%,  pred: 1, actual: 1\n",
      "probs 0.82%, 98.91%,  pred: 1, actual: 1\n",
      "probs 3.27%, 96.26%,  pred: 1, actual: 1\n",
      "probs 96.23%, 8.85%,  pred: 0, actual: 0\n",
      "probs 97.70%, 1.54%,  pred: 0, actual: 0\n",
      "probs 1.14%, 98.95%,  pred: 1, actual: 1\n",
      "probs 99.91%, 0.55%,  pred: 0, actual: 0\n",
      "probs 1.06%, 98.74%,  pred: 1, actual: 1\n",
      "probs 93.64%, 0.93%,  pred: 0, actual: 0\n",
      "probs 96.52%, 0.87%,  pred: 0, actual: 0\n",
      "probs 98.31%, 9.15%,  pred: 0, actual: 0\n",
      "probs 98.27%, 2.43%,  pred: 0, actual: 0\n",
      "probs 99.57%, 2.12%,  pred: 0, actual: 0\n",
      "probs 1.10%, 98.57%,  pred: 1, actual: 1\n",
      "probs 0.77%, 99.04%,  pred: 1, actual: 1\n",
      "probs 0.81%, 98.17%,  pred: 1, actual: 1\n",
      "probs 65.48%, 23.72%,  pred: 0, actual: 0\n",
      "probs 1.12%, 96.72%,  pred: 1, actual: 1\n",
      "probs 0.63%, 99.33%,  pred: 1, actual: 1\n",
      "probs 99.61%, 1.15%,  pred: 0, actual: 0\n",
      "probs 97.74%, 3.77%,  pred: 0, actual: 0\n",
      "probs 3.97%, 94.61%,  pred: 1, actual: 1\n",
      "probs 1.91%, 99.40%,  pred: 1, actual: 1\n",
      "probs 0.84%, 99.01%,  pred: 1, actual: 1\n",
      "probs 0.83%, 98.47%,  pred: 1, actual: 1\n",
      "probs 98.33%, 3.57%,  pred: 0, actual: 0\n",
      "probs 0.87%, 98.93%,  pred: 1, actual: 1\n",
      "probs 99.88%, 0.39%,  pred: 0, actual: 0\n",
      "probs 97.13%, 1.16%,  pred: 0, actual: 0\n",
      "probs 0.94%, 99.08%,  pred: 1, actual: 1\n",
      "probs 0.89%, 99.09%,  pred: 1, actual: 1\n",
      "probs 99.26%, 4.15%,  pred: 0, actual: 0\n",
      "probs 0.36%, 97.38%,  pred: 1, actual: 1\n",
      "probs 98.28%, 1.26%,  pred: 0, actual: 0\n",
      "probs 0.70%, 99.25%,  pred: 1, actual: 1\n",
      "probs 96.38%, 0.87%,  pred: 0, actual: 0\n",
      "probs 96.32%, 1.54%,  pred: 0, actual: 0\n",
      "probs 0.82%, 99.04%,  pred: 1, actual: 1\n",
      "probs 0.64%, 99.32%,  pred: 1, actual: 1\n",
      "\n",
      "=================================\n",
      "Accuracy = 100.0\n",
      "=================================\n",
      "\n"
     ]
    }
   ],
   "source": [
    "for p, pred, tag  in zip(test_logits,test_preds,test_labels):\n",
    "    #p, tag = test_preds[i], y_test[i]\n",
    "    \n",
    "    print (f\"probs {(p[0].item()*100):.2f}%, {(p[1].item()*100):.2f}%,  pred: {pred}, actual: {tag}\")\n",
    "print(\"\\n=================================\")\n",
    "print(f\"Accuracy = {accuracy_fn(test_preds, test_labels)}\")\n",
    "print(\"=================================\\n\")\n",
    "#    print(f\"probs; {(p[0].item()*100):.2f}%, {(p[1].item()*100):.2f}%,\\t actual: {np.argmax(tag)}\")"
   ]
  },
  {
   "cell_type": "code",
   "execution_count": 18,
   "id": "91a52aef-5b44-466d-891a-271972b6f02f",
   "metadata": {},
   "outputs": [
    {
     "data": {
      "text/plain": [
       "100.0"
      ]
     },
     "execution_count": 18,
     "metadata": {},
     "output_type": "execute_result"
    }
   ],
   "source": [
    "accuracy_fn(test_preds, test_labels)"
   ]
  },
  {
   "cell_type": "markdown",
   "id": "52af8e9d-cc2b-45b6-8076-2964b7655969",
   "metadata": {},
   "source": [
    "## 7. Convert our model to multi-class classification\n",
    "Our model works very well classifying hand-written ones and zeros. Lets try to beef it up a little.\n",
    "We for speed purposes, we will add the 'three' to our dataset and see how it goes.  \n",
    "\n",
    "    For the first try, we need to make a few adjustments to the model.\n",
    "1. Change the output layer\n",
    "2. Replace Sigmoid Activation to Softmax which we need to implement\n",
    "we will replace the Sigmoid activation with Softmax.\n",
    "The Binary Cross entropy does well on either or data but we need to update it to handle more classes.\n",
    "\n",
    "The Categorical Cross entropy"
   ]
  },
  {
   "cell_type": "markdown",
   "id": "17e6129a-344b-44ec-91ba-b1b135b70bf4",
   "metadata": {},
   "source": [
    "### 7.1 The softmax function\n",
    "\n",
    "According to Wikipedia:\n",
    "\"The softmax function, also known as softargmax or normalized exponential function converts a vector of K real numbers into a probability distribution of K possible outcomes.\" It maintains the following attributes\n",
    "\n",
    "1, Normalization: Softmax indeed takes raw outputs (logits) and transforms them so they fall between 0 and 1, creating a probability distribution. The sum of the probabilities for each possible class (like rain, sun, and snow in your example) equals 1.\n",
    "\n",
    "2. Relative Magnitudes: The output probabilities are proportional to the original values (logits) before applying Softmax. So a higher logit means a higher probability, but all are scaled in relation to one another.\n",
    "\n",
    "3. Multiclass Distribution: It’s great that you thought of the Softmax in terms of probabilities that add up to 100% across multiple top-level categories, not just two classes. For neural networks, Softmax is applied to a vector of logits—each logit representing a score for one class—and it works the same way to make sure they add up to 1."
   ]
  },
  {
   "cell_type": "markdown",
   "id": "2d93c210-d7df-4d00-b535-ee43054f187b",
   "metadata": {},
   "source": [
    "#### The Softmax function, $\\sigma$ for a vector **z** = ($z_1, z_2,...,z_k$)  is defined as:\n",
    "$$\n",
    " \\sigma(z)_i = \\frac{e^{z_i}}{\\sum^K_{j=1}e^{z_j}}\n",
    "$$\n",
    " \n",
    "where each $𝑧_𝑖$  represents an element of the input vector **𝑧** and 𝐾\n",
    "K is the total number of elements in **𝑧**. This formula ensures that:\n",
    "\n",
    "1. Each output $\\sigma(z)_i$ lies in the range (0,1).\n",
    "\n",
    "2. The sum of all $\\sigma(z)_i$   values equals 1, forming a probability distribution.\n"
   ]
  },
  {
   "cell_type": "code",
   "execution_count": 19,
   "id": "7a2fa79e-4090-4ad7-a130-2342d57e2e54",
   "metadata": {},
   "outputs": [],
   "source": [
    "import numpy as np\n",
    "from layer import Layer\n",
    "\n",
    "# ALthough this is an activation layer,\n",
    "# it cannot subclass Activation\n",
    "\n",
    "class Softmax(Layer):\n",
    "    def forward(self, input):\n",
    "        e_vals = np.exp(input - np.max(input))\n",
    "        self.output = e_vals / np.sum(e_vals)\n",
    "        return self.output\n",
    "\n",
    "    def backward(self, output_gradient, learning_rate):\n",
    "        n = np.size(self.output)\n",
    "        tmp = np.tile(self.output, n)\n",
    "        return np.dot(tmp * (np.identity(n) - np.transpose(tmp)), output_gradient)\n",
    "#        return output_gradient"
   ]
  },
  {
   "cell_type": "markdown",
   "id": "44913f0d-7626-449e-9686-54296d5a460e",
   "metadata": {},
   "source": [
    "### 7.2 The Categorical Cross-Entropy function\n",
    "CE is one of the most important loss functions used in machine learning. In particular,it is used in classification models where there is more than 2 categories.\n",
    "\n",
    "\n",
    "Entropy is defined as:\n",
    "* the level of disorder or randomness inherited in its possible outcome.\n",
    "\n",
    "First define the concept of one-hot encoding: \n",
    "* a **one-hot encoded array** is a zero'd array of 'number of classes' length, with a single element having a value of one to indicate the correct class\n",
    "\n",
    "From a mathematical perspective:\n",
    "\n",
    "\n",
    "given that:\n",
    "1. **True Probability Distribution** $P(x)$: Represents the true class labels as probabilities— usually a **one-hot encoded array** - a zero'd array of 'number of classes' length, with a single element having a value of one to indicate the correct class.\n",
    "   \n",
    "2. **Predicted Distribution** $\\hat P(x)$: The predicted output probabilities fro each class typically obtained from the SoftMax function in the final layer of the network.\n",
    "\n",
    "$$\n",
    "Loss_{CE} = -\\sum^c_{i = 1}p(x_i) \\cdot log(\\hat p(x_i))\n",
    "$$\n",
    " where c is the number of classes. Since all values are between 0 and 1, the value will be negative , so we negate the formula to get postive values. Care must also be taken to avoid a log (0) which equals -inf.\n",
    "\n",
    "To summarize: The cross entropy loss is the sum of all the products  $target_i$ times log($pred_i$)  |\n",
    "[entropy ](https://media.geeksforgeeks.org/wp-content/uploads/20220703123143/cseloss.png)"
   ]
  },
  {
   "cell_type": "code",
   "execution_count": 20,
   "id": "14cee05e-1a27-4e18-82ef-9c8a7bee3291",
   "metadata": {},
   "outputs": [],
   "source": [
    "def cross_entropy(y_true, y_pred):\n",
    "    # Small value to avoid log(0)\n",
    "    epsilon = 1e-12\n",
    "    y_pred = np.clip(y_pred, epsilon, 1. - epsilon)\n",
    "\n",
    "    return -np.sum(y_true * np.log(y_pred))\n"
   ]
  },
  {
   "cell_type": "markdown",
   "id": "7108ed29-69ca-45c2-a22d-c4ce993aaf12",
   "metadata": {},
   "source": [
    "### 7.3 Deriving the Gadient of CCE loss with repect to the predictions.\n",
    "To create the gradient we need the derivative of the loss function w.r.t the predicted probabilities $\\hat y_i$.\n",
    "\n",
    "1. **Identify the target:** We need to find the gradientw.r.t the predicted probabilities $\\hat y_i$.\n",
    "That means we are looking for $\\frac{\\partial Loss_{CE}}{\\partial {\\hat y_i}}$ .\n",
    "2. Apply the chain rule\n",
    "* we apply a negative sign due to the minus in the origian equation\n",
    "* Since each $y_i$ = 0, or 1 the only term that contributes to the sum is where $yi = 1$\n",
    "\n",
    "3. Differentiate $-y_i \\cdot log(\\hat y_i)$  with respect to $\\hat y_i$\n",
    "* We know  $\\frac{d}{d \\hat y_i} log(\\hat y_i) = \\frac{1}{d \\hat y_i}$ , so\n",
    "\n",
    "$$\n",
    "\\frac{\\partial Loss_{CCE}}{\\partial {\\hat y_i}} = - \\frac{y_i}{\\hat y_i}\n",
    "$$\n",
    "Due to the close ties with the softmax function, the output can be simplified to:\n",
    "$ $ "
   ]
  },
  {
   "cell_type": "code",
   "execution_count": 21,
   "id": "80f797a6-299d-4e67-b656-91cdc55ed731",
   "metadata": {},
   "outputs": [],
   "source": [
    "def cross_entropy_prime (y_true, y_pred):\n",
    "    return y_pred - y_true"
   ]
  },
  {
   "cell_type": "code",
   "execution_count": 22,
   "id": "b26cac60-22a6-42a3-8152-b713c0e60a3d",
   "metadata": {},
   "outputs": [
    {
     "data": {
      "image/png": "[encoded data removed]",
      "text/plain": [
       "<Figure size 640x480 with 1 Axes>"
      ]
     },
     "metadata": {},
     "output_type": "display_data"
    }
   ],
   "source": [
    "import numpy as np\n",
    "import matplotlib.pyplot as plt\n",
    "\n",
    "def softmax(x):\n",
    "    e_vals = np.exp(x - np.max(x))  # For numerical stability\n",
    "    return e_vals / np.sum(e_vals)\n",
    "\n",
    "# Create a range of logits for a 3-class system\n",
    "logits = np.linspace(-5, 5, 100)\n",
    "\n",
    "# Set the logits for each class\n",
    "logits_for_classes = np.array([logits, logits + 1, logits - 2]).T\n",
    "\n",
    "# Apply softmax function to the logits for each class\n",
    "softmax_outputs = np.array([softmax(logit) for logit in logits_for_classes])\n",
    "\n",
    "# Plot the output probabilities for each class\n",
    "plt.plot(logits, softmax_outputs[:, 0], label=\"Class 1\")\n",
    "plt.plot(logits, softmax_outputs[:, 1], label=\"Class 2\")\n",
    "plt.plot(logits, softmax_outputs[:, 2], label=\"Class 3\")\n",
    "\n",
    "plt.xlabel(\"Logits\")\n",
    "plt.ylabel(\"Softmax Probability\")\n",
    "plt.title(\"Softmax Function over Logits for Multiple Classes\")\n",
    "plt.legend()\n",
    "plt.grid(True)\n",
    "plt.show()\n",
    "\n"
   ]
  },
  {
   "cell_type": "markdown",
   "id": "9bf10737-d9f0-4776-959d-8c2971d31df1",
   "metadata": {},
   "source": [
    "### 7.4 Modifying the network, reworking data preprocess\n",
    "The preprocess function_multi_class allows a more flexible approach and is ported above for testing on the BCE model"
   ]
  },
  {
   "cell_type": "code",
   "execution_count": 23,
   "id": "1efb9883-f130-4824-a6e1-f85f2a0da269",
   "metadata": {
    "scrolled": true
   },
   "outputs": [
    {
     "name": "stdout",
     "output_type": "stream",
     "text": [
      "(1000, 5) [0. 0. 1. 0. 0.]\n",
      "(1000, 5, 1) [[0.]\n",
      " [0.]\n",
      " [1.]\n",
      " [0.]\n",
      " [0.]]\n",
      "(1000, 5) [0. 0. 1. 0. 0.]\n",
      "(1000, 5, 1) [[0.]\n",
      " [0.]\n",
      " [1.]\n",
      " [0.]\n",
      " [0.]]\n"
     ]
    }
   ],
   "source": [
    "y# load MNIST from server and limit to 100 images per class since we are not running on a gpu\n",
    "num_classes=5\n",
    "limit = 200\n",
    "\n",
    "x_train, y_train = preprocess_multiclass_data(x_train_dataset, y_train_dataset,limit, num_classes=num_classes)\n",
    "x_test, y_test = preprocess_multiclass_data(x_test_dataset, y_test_dataset,limit, num_classes=num_classes)\n",
    "\n"
   ]
  },
  {
   "cell_type": "code",
   "execution_count": 24,
   "id": "f5f73401-e162-45d2-9e9c-078f3b40c352",
   "metadata": {},
   "outputs": [],
   "source": [
    "# model from scratch specific imports\n",
    "from dense import Dense\n",
    "from relu  import ReLU\n",
    "from convolutional import Convolutional\n",
    "from reshape import Reshape\n",
    "from activations import Tanh, Sigmoid\n",
    "from losses import cross_entropy,cross_entropy_prime"
   ]
  },
  {
   "cell_type": "code",
   "execution_count": 66,
   "id": "de3b9dc9-9bc3-4c20-8426-d348d9e109a1",
   "metadata": {},
   "outputs": [],
   "source": [
    "\n",
    "# Create the modelV1 we are going for 5 classes\n",
    "depth = 5\n",
    "networkV1 = [\n",
    "    Convolutional((1,28,28),kernel_size=3,depth=depth),\n",
    "    Sigmoid(),\n",
    "    Reshape(input_shape=(depth,26,26),\n",
    "            output_shape=(depth*26*26,1)),  # column-wise Flattened\n",
    "    Dense(input_size=(depth*26*26),output_size=200),\n",
    "    Sigmoid(),\n",
    "    Dense(200,5),\n",
    "    Softmax()\n",
    "]\n"
   ]
  },
  {
   "cell_type": "code",
   "execution_count": 67,
   "id": "6bf537e8-a25b-42be-a0ed-9df60b49f8a8",
   "metadata": {},
   "outputs": [],
   "source": [
    "total_loss_sum = []"
   ]
  },
  {
   "cell_type": "code",
   "execution_count": 68,
   "id": "639b4956-47a2-40f6-958c-b72563e6764d",
   "metadata": {},
   "outputs": [
    {
     "name": "stdout",
     "output_type": "stream",
     "text": [
      "Epoch: 1/100, error = 5.7705\n",
      "Epoch: 11/100, error = 0.4866\n",
      "Epoch: 21/100, error = 0.2947\n",
      "Epoch: 31/100, error = 0.2110\n",
      "Epoch: 41/100, error = 0.1647\n",
      "Epoch: 51/100, error = 0.1351\n",
      "Epoch: 61/100, error = 0.1156\n",
      "Epoch: 71/100, error = 0.0998\n",
      "Epoch: 81/100, error = 0.0879\n",
      "Epoch: 91/100, error = 0.0793\n",
      "Elapsed time on None device: 294.3160 seconds\n"
     ]
    }
   ],
   "source": [
    "from helper_functions import get_timer\n",
    "# Training loop\n",
    "epochs = 100\n",
    "learning_rate = 0.01\n",
    "loss_history= []\n",
    "with get_timer() as timer:\n",
    "    for epoch in range(epochs):\n",
    "        error = 0    # optimizer.zero_grad\n",
    "        for x,y in zip(x_train, y_train):  #for image in batch\n",
    "            # forward pass\n",
    "            output = x\n",
    "            for layer in networkV1:\n",
    "                output = layer.forward(output)\n",
    "            #print (output)\n",
    "    \n",
    "            # calculate the loss\n",
    "            error += cross_entropy(y_true=y, y_pred=output)\n",
    "            \n",
    "            # backward\n",
    "            grad = cross_entropy_prime(y_true=y, y_pred=output)\n",
    "            #print(grad)\n",
    "            for layer in reversed(networkV1):\n",
    "                grad = layer.backward(grad, learning_rate)\n",
    "    \n",
    "        error /= len(x_train)\n",
    "        loss_history.append(error)\n",
    "        if (epoch%10 == 0):\n",
    "            print(f\"Epoch: {epoch+1}/{epochs}, error = {error:.4f}\")\n",
    "total_train_time_model_1 = timer.elapsed_time"
   ]
  },
  {
   "cell_type": "code",
   "execution_count": 69,
   "id": "b26f53a9-6f95-45f5-93fa-57c38903a36e",
   "metadata": {},
   "outputs": [
    {
     "name": "stdout",
     "output_type": "stream",
     "text": [
      "Total epochs run: 100 \n"
     ]
    }
   ],
   "source": [
    "total_loss_sum\n",
    "total_loss_sum.extend\n",
    "(loss_history)\n",
    "print(f\"Total epochs run: {len(total_loss_sum)} \")"
   ]
  },
  {
   "cell_type": "code",
   "execution_count": 70,
   "id": "9f603638-f35c-4c25-b0c8-d794d4bb3b8a",
   "metadata": {
    "scrolled": true
   },
   "outputs": [
    {
     "name": "stdout",
     "output_type": "stream",
     "text": [
      "Epoch: 1/100, error = 5.7705\n",
      "Epoch: 11/100, error = 0.4866\n",
      "Epoch: 21/100, error = 0.2947\n",
      "Epoch: 31/100, error = 0.2110\n",
      "Epoch: 41/100, error = 0.1647\n",
      "Epoch: 51/100, error = 0.1351\n",
      "Epoch: 61/100, error = 0.1156\n",
      "Epoch: 71/100, error = 0.0998\n",
      "Epoch: 81/100, error = 0.0879\n",
      "Epoch: 91/100, error = 0.0793\n"
     ]
    }
   ],
   "source": [
    "for epoch in range(len(total_loss_sum)):\n",
    "    if epoch%10 == 0:\n",
    "        print(f\"Epoch: {epoch+1}/{len(total_loss_sum)}, error = {total_loss_sum[epoch]:.4f}\")"
   ]
  },
  {
   "cell_type": "markdown",
   "id": "4acba979-68c7-4f10-b9dc-c2515834b9f7",
   "metadata": {},
   "source": [
    "This is the current model running only 100 epochs with a dataset of 200 images per class"
   ]
  },
  {
   "cell_type": "code",
   "execution_count": 71,
   "id": "6c980d8d-b5b5-44ae-b256-3783e1ad3612",
   "metadata": {},
   "outputs": [
    {
     "data": {
      "image/png": "[encoded data removed]",
      "text/plain": [
       "<Figure size 800x600 with 1 Axes>"
      ]
     },
     "metadata": {},
     "output_type": "display_data"
    }
   ],
   "source": [
    "import matplotlib.pyplot as plt\n",
    "\n",
    "def plot_loss(loss_history):\n",
    "    plt.figure(figsize=(8, 6))\n",
    "    plt.plot(loss_history, label=\"Training Loss\")\n",
    "    plt.xlabel(\"Epochs\")\n",
    "    plt.ylabel(\"Loss\")\n",
    "    plt.title(\"Loss Over Epochs\")\n",
    "    plt.legend()\n",
    "    plt.grid(True)\n",
    "    plt.show()\n",
    "\n",
    "plot_loss(total_loss_sum)"
   ]
  },
  {
   "cell_type": "markdown",
   "id": "9ecaa16c-322f-4e3f-86eb-d27e0df7b515",
   "metadata": {},
   "source": [
    "In this model, the second layer was changed to a ReLU and its performance was marginal at 83% test accuracy"
   ]
  },
  {
   "cell_type": "code",
   "execution_count": 64,
   "id": "8c532748-17f7-47fa-9713-7d74ab48b24f",
   "metadata": {},
   "outputs": [
    {
     "data": {
      "image/png": "[encoded data removed]",
      "text/plain": [
       "<Figure size 800x600 with 1 Axes>"
      ]
     },
     "metadata": {},
     "output_type": "display_data"
    }
   ],
   "source": [
    "import matplotlib.pyplot as plt\n",
    "\n",
    "def plot_loss(loss_history):\n",
    "    plt.figure(figsize=(8, 6))\n",
    "    plt.plot(loss_history, label=\"Training Loss\")\n",
    "    plt.xlabel(\"Epochs\")\n",
    "    plt.ylabel(\"Loss\")\n",
    "    plt.title(\"Loss Over Epochs\")\n",
    "    plt.legend()\n",
    "    plt.grid(True)\n",
    "    plt.show()\n",
    "\n",
    "plot_loss(total_loss_sum)"
   ]
  },
  {
   "cell_type": "code",
   "execution_count": 75,
   "id": "7748b938-0a34-44f3-9761-c5a7ccd36453",
   "metadata": {},
   "outputs": [
    {
     "name": "stdout",
     "output_type": "stream",
     "text": [
      "Accuracy = 91.5\n"
     ]
    }
   ],
   "source": [
    "# Test\n",
    "test_logits = []\n",
    "test_preds = []\n",
    "test_labels = []\n",
    "#i= 0\n",
    "for x,y in zip(x_test, y_test):  #for image in batch\n",
    "    # forward pass\n",
    "    output = x\n",
    "    for layer in networkV1:\n",
    "        output = layer.forward(output)\n",
    "    test_logits.append(output)\n",
    "    test_preds.append(np.argmax(output))\n",
    "    test_labels.append(np.argmax(y))\n",
    "#    p, tag = test_logits[i], y_test[i]\n",
    "#    print(f\"probs; {(p[0].item()*100):.2f}%, {(p[1].item()*100):.2f}%,\\t actual: {np.argmax(tag)}\")\n",
    "#    i+= 1\n",
    "print(f\"Accuracy = {accuracy_fn(test_preds, test_labels)}\")"
   ]
  },
  {
   "cell_type": "code",
   "execution_count": null,
   "id": "68c5c554-d6b1-4502-9607-384f28d23e1c",
   "metadata": {},
   "outputs": [],
   "source": [
    "for p, pred, tag  in zip(test_logits,test_preds,test_labels):\n",
    "    #p, tag = test_preds[i], y_test[i]\n",
    "    if (pred==tag):\n",
    "        print (f\"probability for correct label {(p[tag].item()*100):.2f}%,  pred: {pred}, actual: {tag}\")\n",
    "    else:\n",
    "        print (f\"probability for incorrect label {(p[pred].item()*100):.2f}%,  pred: {pred}, actual: {tag}\")\n",
    "print(\"\\n=================================\")\n",
    "print(f\"Accuracy = {accuracy_fn(test_preds, test_labels)}\")\n",
    "print(\"=================================\\n\")\n",
    "#    print(f\"probs; {(p[0].item()*100):.2f}%, {(p[1].item()*100):.2f}%,\\t actual: {np.argmax(tag)}\")"
   ]
  },
  {
   "cell_type": "code",
   "execution_count": null,
   "id": "bfa87046-dd9c-4427-b398-c267ebed9bbf",
   "metadata": {},
   "outputs": [],
   "source": []
  },
  {
   "cell_type": "code",
   "execution_count": null,
   "id": "a9007a0b-5bf7-470a-900e-4a5f5208d250",
   "metadata": {},
   "outputs": [],
   "source": []
  }
 ],
 "metadata": {
  "kernelspec": {
   "display_name": "Python 3 (ipykernel)",
   "language": "python",
   "name": "python3"
  },
  "language_info": {
   "codemirror_mode": {
    "name": "ipython",
    "version": 3
   },
   "file_extension": ".py",
   "mimetype": "text/x-python",
   "name": "python",
   "nbconvert_exporter": "python",
   "pygments_lexer": "ipython3",
   "version": "3.12.3"
  }
 },
 "nbformat": 4,
 "nbformat_minor": 5
}
